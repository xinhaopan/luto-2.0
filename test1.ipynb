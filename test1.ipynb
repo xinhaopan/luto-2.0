{
 "cells": [
  {
   "cell_type": "code",
   "execution_count": 22,
   "outputs": [],
   "source": [
    "import numpy as np\n",
    "import xarray as xr\n",
    "from typing import Union"
   ],
   "metadata": {
    "collapsed": false,
    "ExecuteTime": {
     "end_time": "2025-09-29T03:47:05.850121900Z",
     "start_time": "2025-09-29T03:47:05.573030100Z"
    }
   },
   "id": "99897383d3603a53"
  },
  {
   "cell_type": "code",
   "execution_count": 41,
   "outputs": [
    {
     "data": {
      "text/plain": "<xarray.DataArray 'data' (From water-supply: 2, cell: 168778,\n                          From land-use: 28, To land-use: 9, Cost type: 9)> Size: 3GB\n[765577008 values with dtype=float32]\nCoordinates:\n  * From water-supply  (From water-supply) <U3 24B 'dry' 'irr'\n  * cell               (cell) int64 1MB 0 1 2 3 ... 168774 168775 168776 168777\n  * From land-use      (From land-use) <U27 3kB 'Apples' ... 'Winter oilseeds'\n  * To land-use        (To land-use) <U29 1kB 'BECCS' ... 'Sheep Carbon Plant...\n  * Cost type          (Cost type) <U15 540B 'Establishment c' ... 'Transitio...",
      "text/html": "<div><svg style=\"position: absolute; width: 0; height: 0; overflow: hidden\">\n<defs>\n<symbol id=\"icon-database\" viewBox=\"0 0 32 32\">\n<path d=\"M16 0c-8.837 0-16 2.239-16 5v4c0 2.761 7.163 5 16 5s16-2.239 16-5v-4c0-2.761-7.163-5-16-5z\"></path>\n<path d=\"M16 17c-8.837 0-16-2.239-16-5v6c0 2.761 7.163 5 16 5s16-2.239 16-5v-6c0 2.761-7.163 5-16 5z\"></path>\n<path d=\"M16 26c-8.837 0-16-2.239-16-5v6c0 2.761 7.163 5 16 5s16-2.239 16-5v-6c0 2.761-7.163 5-16 5z\"></path>\n</symbol>\n<symbol id=\"icon-file-text2\" viewBox=\"0 0 32 32\">\n<path d=\"M28.681 7.159c-0.694-0.947-1.662-2.053-2.724-3.116s-2.169-2.030-3.116-2.724c-1.612-1.182-2.393-1.319-2.841-1.319h-15.5c-1.378 0-2.5 1.121-2.5 2.5v27c0 1.378 1.122 2.5 2.5 2.5h23c1.378 0 2.5-1.122 2.5-2.5v-19.5c0-0.448-0.137-1.23-1.319-2.841zM24.543 5.457c0.959 0.959 1.712 1.825 2.268 2.543h-4.811v-4.811c0.718 0.556 1.584 1.309 2.543 2.268zM28 29.5c0 0.271-0.229 0.5-0.5 0.5h-23c-0.271 0-0.5-0.229-0.5-0.5v-27c0-0.271 0.229-0.5 0.5-0.5 0 0 15.499-0 15.5 0v7c0 0.552 0.448 1 1 1h7v19.5z\"></path>\n<path d=\"M23 26h-14c-0.552 0-1-0.448-1-1s0.448-1 1-1h14c0.552 0 1 0.448 1 1s-0.448 1-1 1z\"></path>\n<path d=\"M23 22h-14c-0.552 0-1-0.448-1-1s0.448-1 1-1h14c0.552 0 1 0.448 1 1s-0.448 1-1 1z\"></path>\n<path d=\"M23 18h-14c-0.552 0-1-0.448-1-1s0.448-1 1-1h14c0.552 0 1 0.448 1 1s-0.448 1-1 1z\"></path>\n</symbol>\n</defs>\n</svg>\n<style>/* CSS stylesheet for displaying xarray objects in jupyterlab.\n *\n */\n\n:root {\n  --xr-font-color0: var(--jp-content-font-color0, rgba(0, 0, 0, 1));\n  --xr-font-color2: var(--jp-content-font-color2, rgba(0, 0, 0, 0.54));\n  --xr-font-color3: var(--jp-content-font-color3, rgba(0, 0, 0, 0.38));\n  --xr-border-color: var(--jp-border-color2, #e0e0e0);\n  --xr-disabled-color: var(--jp-layout-color3, #bdbdbd);\n  --xr-background-color: var(--jp-layout-color0, white);\n  --xr-background-color-row-even: var(--jp-layout-color1, white);\n  --xr-background-color-row-odd: var(--jp-layout-color2, #eeeeee);\n}\n\nhtml[theme=dark],\nbody[data-theme=dark],\nbody.vscode-dark {\n  --xr-font-color0: rgba(255, 255, 255, 1);\n  --xr-font-color2: rgba(255, 255, 255, 0.54);\n  --xr-font-color3: rgba(255, 255, 255, 0.38);\n  --xr-border-color: #1F1F1F;\n  --xr-disabled-color: #515151;\n  --xr-background-color: #111111;\n  --xr-background-color-row-even: #111111;\n  --xr-background-color-row-odd: #313131;\n}\n\n.xr-wrap {\n  display: block !important;\n  min-width: 300px;\n  max-width: 700px;\n}\n\n.xr-text-repr-fallback {\n  /* fallback to plain text repr when CSS is not injected (untrusted notebook) */\n  display: none;\n}\n\n.xr-header {\n  padding-top: 6px;\n  padding-bottom: 6px;\n  margin-bottom: 4px;\n  border-bottom: solid 1px var(--xr-border-color);\n}\n\n.xr-header > div,\n.xr-header > ul {\n  display: inline;\n  margin-top: 0;\n  margin-bottom: 0;\n}\n\n.xr-obj-type,\n.xr-array-name {\n  margin-left: 2px;\n  margin-right: 10px;\n}\n\n.xr-obj-type {\n  color: var(--xr-font-color2);\n}\n\n.xr-sections {\n  padding-left: 0 !important;\n  display: grid;\n  grid-template-columns: 150px auto auto 1fr 20px 20px;\n}\n\n.xr-section-item {\n  display: contents;\n}\n\n.xr-section-item input {\n  display: none;\n}\n\n.xr-section-item input + label {\n  color: var(--xr-disabled-color);\n}\n\n.xr-section-item input:enabled + label {\n  cursor: pointer;\n  color: var(--xr-font-color2);\n}\n\n.xr-section-item input:enabled + label:hover {\n  color: var(--xr-font-color0);\n}\n\n.xr-section-summary {\n  grid-column: 1;\n  color: var(--xr-font-color2);\n  font-weight: 500;\n}\n\n.xr-section-summary > span {\n  display: inline-block;\n  padding-left: 0.5em;\n}\n\n.xr-section-summary-in:disabled + label {\n  color: var(--xr-font-color2);\n}\n\n.xr-section-summary-in + label:before {\n  display: inline-block;\n  content: '►';\n  font-size: 11px;\n  width: 15px;\n  text-align: center;\n}\n\n.xr-section-summary-in:disabled + label:before {\n  color: var(--xr-disabled-color);\n}\n\n.xr-section-summary-in:checked + label:before {\n  content: '▼';\n}\n\n.xr-section-summary-in:checked + label > span {\n  display: none;\n}\n\n.xr-section-summary,\n.xr-section-inline-details {\n  padding-top: 4px;\n  padding-bottom: 4px;\n}\n\n.xr-section-inline-details {\n  grid-column: 2 / -1;\n}\n\n.xr-section-details {\n  display: none;\n  grid-column: 1 / -1;\n  margin-bottom: 5px;\n}\n\n.xr-section-summary-in:checked ~ .xr-section-details {\n  display: contents;\n}\n\n.xr-array-wrap {\n  grid-column: 1 / -1;\n  display: grid;\n  grid-template-columns: 20px auto;\n}\n\n.xr-array-wrap > label {\n  grid-column: 1;\n  vertical-align: top;\n}\n\n.xr-preview {\n  color: var(--xr-font-color3);\n}\n\n.xr-array-preview,\n.xr-array-data {\n  padding: 0 5px !important;\n  grid-column: 2;\n}\n\n.xr-array-data,\n.xr-array-in:checked ~ .xr-array-preview {\n  display: none;\n}\n\n.xr-array-in:checked ~ .xr-array-data,\n.xr-array-preview {\n  display: inline-block;\n}\n\n.xr-dim-list {\n  display: inline-block !important;\n  list-style: none;\n  padding: 0 !important;\n  margin: 0;\n}\n\n.xr-dim-list li {\n  display: inline-block;\n  padding: 0;\n  margin: 0;\n}\n\n.xr-dim-list:before {\n  content: '(';\n}\n\n.xr-dim-list:after {\n  content: ')';\n}\n\n.xr-dim-list li:not(:last-child):after {\n  content: ',';\n  padding-right: 5px;\n}\n\n.xr-has-index {\n  font-weight: bold;\n}\n\n.xr-var-list,\n.xr-var-item {\n  display: contents;\n}\n\n.xr-var-item > div,\n.xr-var-item label,\n.xr-var-item > .xr-var-name span {\n  background-color: var(--xr-background-color-row-even);\n  margin-bottom: 0;\n}\n\n.xr-var-item > .xr-var-name:hover span {\n  padding-right: 5px;\n}\n\n.xr-var-list > li:nth-child(odd) > div,\n.xr-var-list > li:nth-child(odd) > label,\n.xr-var-list > li:nth-child(odd) > .xr-var-name span {\n  background-color: var(--xr-background-color-row-odd);\n}\n\n.xr-var-name {\n  grid-column: 1;\n}\n\n.xr-var-dims {\n  grid-column: 2;\n}\n\n.xr-var-dtype {\n  grid-column: 3;\n  text-align: right;\n  color: var(--xr-font-color2);\n}\n\n.xr-var-preview {\n  grid-column: 4;\n}\n\n.xr-index-preview {\n  grid-column: 2 / 5;\n  color: var(--xr-font-color2);\n}\n\n.xr-var-name,\n.xr-var-dims,\n.xr-var-dtype,\n.xr-preview,\n.xr-attrs dt {\n  white-space: nowrap;\n  overflow: hidden;\n  text-overflow: ellipsis;\n  padding-right: 10px;\n}\n\n.xr-var-name:hover,\n.xr-var-dims:hover,\n.xr-var-dtype:hover,\n.xr-attrs dt:hover {\n  overflow: visible;\n  width: auto;\n  z-index: 1;\n}\n\n.xr-var-attrs,\n.xr-var-data,\n.xr-index-data {\n  display: none;\n  background-color: var(--xr-background-color) !important;\n  padding-bottom: 5px !important;\n}\n\n.xr-var-attrs-in:checked ~ .xr-var-attrs,\n.xr-var-data-in:checked ~ .xr-var-data,\n.xr-index-data-in:checked ~ .xr-index-data {\n  display: block;\n}\n\n.xr-var-data > table {\n  float: right;\n}\n\n.xr-var-name span,\n.xr-var-data,\n.xr-index-name div,\n.xr-index-data,\n.xr-attrs {\n  padding-left: 25px !important;\n}\n\n.xr-attrs,\n.xr-var-attrs,\n.xr-var-data,\n.xr-index-data {\n  grid-column: 1 / -1;\n}\n\ndl.xr-attrs {\n  padding: 0;\n  margin: 0;\n  display: grid;\n  grid-template-columns: 125px auto;\n}\n\n.xr-attrs dt,\n.xr-attrs dd {\n  padding: 0;\n  margin: 0;\n  float: left;\n  padding-right: 10px;\n  width: auto;\n}\n\n.xr-attrs dt {\n  font-weight: normal;\n  grid-column: 1;\n}\n\n.xr-attrs dt:hover span {\n  display: inline-block;\n  background: var(--xr-background-color);\n  padding-right: 10px;\n}\n\n.xr-attrs dd {\n  grid-column: 2;\n  white-space: pre-wrap;\n  word-break: break-all;\n}\n\n.xr-icon-database,\n.xr-icon-file-text2,\n.xr-no-icon {\n  display: inline-block;\n  vertical-align: middle;\n  width: 1em;\n  height: 1.5em !important;\n  stroke-width: 0;\n  stroke: currentColor;\n  fill: currentColor;\n}\n</style><pre class='xr-text-repr-fallback'>&lt;xarray.DataArray &#x27;data&#x27; (From water-supply: 2, cell: 168778,\n                          From land-use: 28, To land-use: 9, Cost type: 9)&gt; Size: 3GB\n[765577008 values with dtype=float32]\nCoordinates:\n  * From water-supply  (From water-supply) &lt;U3 24B &#x27;dry&#x27; &#x27;irr&#x27;\n  * cell               (cell) int64 1MB 0 1 2 3 ... 168774 168775 168776 168777\n  * From land-use      (From land-use) &lt;U27 3kB &#x27;Apples&#x27; ... &#x27;Winter oilseeds&#x27;\n  * To land-use        (To land-use) &lt;U29 1kB &#x27;BECCS&#x27; ... &#x27;Sheep Carbon Plant...\n  * Cost type          (Cost type) &lt;U15 540B &#x27;Establishment c&#x27; ... &#x27;Transitio...</pre><div class='xr-wrap' style='display:none'><div class='xr-header'><div class='xr-obj-type'>xarray.DataArray</div><div class='xr-array-name'>'data'</div><ul class='xr-dim-list'><li><span class='xr-has-index'>From water-supply</span>: 2</li><li><span class='xr-has-index'>cell</span>: 168778</li><li><span class='xr-has-index'>From land-use</span>: 28</li><li><span class='xr-has-index'>To land-use</span>: 9</li><li><span class='xr-has-index'>Cost type</span>: 9</li></ul></div><ul class='xr-sections'><li class='xr-section-item'><div class='xr-array-wrap'><input id='section-9afc26df-63f2-4216-b3ad-6b1dad2f8002' class='xr-array-in' type='checkbox' checked><label for='section-9afc26df-63f2-4216-b3ad-6b1dad2f8002' title='Show/hide data repr'><svg class='icon xr-icon-database'><use xlink:href='#icon-database'></use></svg></label><div class='xr-array-preview xr-preview'><span>...</span></div><div class='xr-array-data'><pre>[765577008 values with dtype=float32]</pre></div></div></li><li class='xr-section-item'><input id='section-e0d30eea-892f-459f-bea2-da0c9c6fe044' class='xr-section-summary-in' type='checkbox'  checked><label for='section-e0d30eea-892f-459f-bea2-da0c9c6fe044' class='xr-section-summary' >Coordinates: <span>(5)</span></label><div class='xr-section-inline-details'></div><div class='xr-section-details'><ul class='xr-var-list'><li class='xr-var-item'><div class='xr-var-name'><span class='xr-has-index'>From water-supply</span></div><div class='xr-var-dims'>(From water-supply)</div><div class='xr-var-dtype'>&lt;U3</div><div class='xr-var-preview xr-preview'>&#x27;dry&#x27; &#x27;irr&#x27;</div><input id='attrs-ae02ab1f-2c37-4668-85b0-b6e093418cf4' class='xr-var-attrs-in' type='checkbox' disabled><label for='attrs-ae02ab1f-2c37-4668-85b0-b6e093418cf4' title='Show/Hide attributes'><svg class='icon xr-icon-file-text2'><use xlink:href='#icon-file-text2'></use></svg></label><input id='data-645753c1-9c4d-4395-b827-36a59e016c11' class='xr-var-data-in' type='checkbox'><label for='data-645753c1-9c4d-4395-b827-36a59e016c11' title='Show/Hide data repr'><svg class='icon xr-icon-database'><use xlink:href='#icon-database'></use></svg></label><div class='xr-var-attrs'><dl class='xr-attrs'></dl></div><div class='xr-var-data'><pre>array([&#x27;dry&#x27;, &#x27;irr&#x27;], dtype=&#x27;&lt;U3&#x27;)</pre></div></li><li class='xr-var-item'><div class='xr-var-name'><span class='xr-has-index'>cell</span></div><div class='xr-var-dims'>(cell)</div><div class='xr-var-dtype'>int64</div><div class='xr-var-preview xr-preview'>0 1 2 3 ... 168775 168776 168777</div><input id='attrs-5c8db5c9-ef35-4b17-acd2-a422d6ef5465' class='xr-var-attrs-in' type='checkbox' disabled><label for='attrs-5c8db5c9-ef35-4b17-acd2-a422d6ef5465' title='Show/Hide attributes'><svg class='icon xr-icon-file-text2'><use xlink:href='#icon-file-text2'></use></svg></label><input id='data-408b7481-1f85-42e9-86fe-2e0eeea7da23' class='xr-var-data-in' type='checkbox'><label for='data-408b7481-1f85-42e9-86fe-2e0eeea7da23' title='Show/Hide data repr'><svg class='icon xr-icon-database'><use xlink:href='#icon-database'></use></svg></label><div class='xr-var-attrs'><dl class='xr-attrs'></dl></div><div class='xr-var-data'><pre>array([     0,      1,      2, ..., 168775, 168776, 168777], dtype=int64)</pre></div></li><li class='xr-var-item'><div class='xr-var-name'><span class='xr-has-index'>From land-use</span></div><div class='xr-var-dims'>(From land-use)</div><div class='xr-var-dtype'>&lt;U27</div><div class='xr-var-preview xr-preview'>&#x27;Apples&#x27; ... &#x27;Winter oilseeds&#x27;</div><input id='attrs-93537735-fafa-4c91-bf07-8aeff4849312' class='xr-var-attrs-in' type='checkbox' disabled><label for='attrs-93537735-fafa-4c91-bf07-8aeff4849312' title='Show/Hide attributes'><svg class='icon xr-icon-file-text2'><use xlink:href='#icon-file-text2'></use></svg></label><input id='data-8fb7dfec-32b4-4b6a-8e84-b9153192412a' class='xr-var-data-in' type='checkbox'><label for='data-8fb7dfec-32b4-4b6a-8e84-b9153192412a' title='Show/Hide data repr'><svg class='icon xr-icon-database'><use xlink:href='#icon-database'></use></svg></label><div class='xr-var-attrs'><dl class='xr-attrs'></dl></div><div class='xr-var-data'><pre>array([&#x27;Apples&#x27;, &#x27;Beef - modified land&#x27;, &#x27;Beef - natural land&#x27;, &#x27;Citrus&#x27;,\n       &#x27;Cotton&#x27;, &#x27;Dairy - modified land&#x27;, &#x27;Dairy - natural land&#x27;, &#x27;Grapes&#x27;,\n       &#x27;Hay&#x27;, &#x27;Nuts&#x27;, &#x27;Other non-cereal crops&#x27;, &#x27;Pears&#x27;, &#x27;Plantation fruit&#x27;,\n       &#x27;Rice&#x27;, &#x27;Sheep - modified land&#x27;, &#x27;Sheep - natural land&#x27;, &#x27;Stone fruit&#x27;,\n       &#x27;Sugar&#x27;, &#x27;Summer cereals&#x27;, &#x27;Summer legumes&#x27;, &#x27;Summer oilseeds&#x27;,\n       &#x27;Tropical stone fruit&#x27;, &#x27;Unallocated - modified land&#x27;,\n       &#x27;Unallocated - natural land&#x27;, &#x27;Vegetables&#x27;, &#x27;Winter cereals&#x27;,\n       &#x27;Winter legumes&#x27;, &#x27;Winter oilseeds&#x27;], dtype=&#x27;&lt;U27&#x27;)</pre></div></li><li class='xr-var-item'><div class='xr-var-name'><span class='xr-has-index'>To land-use</span></div><div class='xr-var-dims'>(To land-use)</div><div class='xr-var-dtype'>&lt;U29</div><div class='xr-var-preview xr-preview'>&#x27;BECCS&#x27; ... &#x27;Sheep Carbon Planti...</div><input id='attrs-5882c525-3392-466a-810c-f0863078c10c' class='xr-var-attrs-in' type='checkbox' disabled><label for='attrs-5882c525-3392-466a-810c-f0863078c10c' title='Show/Hide attributes'><svg class='icon xr-icon-file-text2'><use xlink:href='#icon-file-text2'></use></svg></label><input id='data-0830e004-ae80-4f1b-99ea-91235aa040eb' class='xr-var-data-in' type='checkbox'><label for='data-0830e004-ae80-4f1b-99ea-91235aa040eb' title='Show/Hide data repr'><svg class='icon xr-icon-database'><use xlink:href='#icon-database'></use></svg></label><div class='xr-var-attrs'><dl class='xr-attrs'></dl></div><div class='xr-var-data'><pre>array([&#x27;BECCS&#x27;, &#x27;Beef Agroforestry&#x27;, &#x27;Beef Carbon Plantings (Belt)&#x27;,\n       &#x27;Carbon Plantings (Block)&#x27;, &#x27;Destocked - natural land&#x27;,\n       &#x27;Environmental Plantings&#x27;, &#x27;Riparian Plantings&#x27;, &#x27;Sheep Agroforestry&#x27;,\n       &#x27;Sheep Carbon Plantings (Belt)&#x27;], dtype=&#x27;&lt;U29&#x27;)</pre></div></li><li class='xr-var-item'><div class='xr-var-name'><span class='xr-has-index'>Cost type</span></div><div class='xr-var-dims'>(Cost type)</div><div class='xr-var-dtype'>&lt;U15</div><div class='xr-var-preview xr-preview'>&#x27;Establishment c&#x27; ... &#x27;Transitio...</div><input id='attrs-bab2f8e1-368d-4d64-9a83-56b3956ee823' class='xr-var-attrs-in' type='checkbox' disabled><label for='attrs-bab2f8e1-368d-4d64-9a83-56b3956ee823' title='Show/Hide attributes'><svg class='icon xr-icon-file-text2'><use xlink:href='#icon-file-text2'></use></svg></label><input id='data-1a93bd1c-dd7b-4841-9280-576c51a79983' class='xr-var-data-in' type='checkbox'><label for='data-1a93bd1c-dd7b-4841-9280-576c51a79983' title='Show/Hide data repr'><svg class='icon xr-icon-database'><use xlink:href='#icon-database'></use></svg></label><div class='xr-var-attrs'><dl class='xr-attrs'></dl></div><div class='xr-var-data'><pre>array([&#x27;Establishment c&#x27;, &#x27;Fencing cost (A&#x27;, &#x27;Remove irrigati&#x27;,\n       &#x27;Transition cost&#x27;, &#x27;Transition cost&#x27;, &#x27;Transition cost&#x27;,\n       &#x27;Transition cost&#x27;, &#x27;Transition cost&#x27;, &#x27;Transition cost&#x27;], dtype=&#x27;&lt;U15&#x27;)</pre></div></li></ul></div></li><li class='xr-section-item'><input id='section-1b3e0db8-36ed-4526-9202-92aaab5653f8' class='xr-section-summary-in' type='checkbox'  ><label for='section-1b3e0db8-36ed-4526-9202-92aaab5653f8' class='xr-section-summary' >Indexes: <span>(5)</span></label><div class='xr-section-inline-details'></div><div class='xr-section-details'><ul class='xr-var-list'><li class='xr-var-item'><div class='xr-index-name'><div>From water-supply</div></div><div class='xr-index-preview'>PandasIndex</div><div></div><input id='index-5874cdc3-3e3c-4f9c-b838-5a421a68539d' class='xr-index-data-in' type='checkbox'/><label for='index-5874cdc3-3e3c-4f9c-b838-5a421a68539d' title='Show/Hide index repr'><svg class='icon xr-icon-database'><use xlink:href='#icon-database'></use></svg></label><div class='xr-index-data'><pre>PandasIndex(Index([&#x27;dry&#x27;, &#x27;irr&#x27;], dtype=&#x27;object&#x27;, name=&#x27;From water-supply&#x27;))</pre></div></li><li class='xr-var-item'><div class='xr-index-name'><div>cell</div></div><div class='xr-index-preview'>PandasIndex</div><div></div><input id='index-51962178-a9f0-4e5d-a440-6180129e750d' class='xr-index-data-in' type='checkbox'/><label for='index-51962178-a9f0-4e5d-a440-6180129e750d' title='Show/Hide index repr'><svg class='icon xr-icon-database'><use xlink:href='#icon-database'></use></svg></label><div class='xr-index-data'><pre>PandasIndex(Index([     0,      1,      2,      3,      4,      5,      6,      7,      8,\n            9,\n       ...\n       168768, 168769, 168770, 168771, 168772, 168773, 168774, 168775, 168776,\n       168777],\n      dtype=&#x27;int64&#x27;, name=&#x27;cell&#x27;, length=168778))</pre></div></li><li class='xr-var-item'><div class='xr-index-name'><div>From land-use</div></div><div class='xr-index-preview'>PandasIndex</div><div></div><input id='index-f4ac07c2-c69d-4fc5-8ee3-72ea610def16' class='xr-index-data-in' type='checkbox'/><label for='index-f4ac07c2-c69d-4fc5-8ee3-72ea610def16' title='Show/Hide index repr'><svg class='icon xr-icon-database'><use xlink:href='#icon-database'></use></svg></label><div class='xr-index-data'><pre>PandasIndex(Index([&#x27;Apples&#x27;, &#x27;Beef - modified land&#x27;, &#x27;Beef - natural land&#x27;, &#x27;Citrus&#x27;,\n       &#x27;Cotton&#x27;, &#x27;Dairy - modified land&#x27;, &#x27;Dairy - natural land&#x27;, &#x27;Grapes&#x27;,\n       &#x27;Hay&#x27;, &#x27;Nuts&#x27;, &#x27;Other non-cereal crops&#x27;, &#x27;Pears&#x27;, &#x27;Plantation fruit&#x27;,\n       &#x27;Rice&#x27;, &#x27;Sheep - modified land&#x27;, &#x27;Sheep - natural land&#x27;, &#x27;Stone fruit&#x27;,\n       &#x27;Sugar&#x27;, &#x27;Summer cereals&#x27;, &#x27;Summer legumes&#x27;, &#x27;Summer oilseeds&#x27;,\n       &#x27;Tropical stone fruit&#x27;, &#x27;Unallocated - modified land&#x27;,\n       &#x27;Unallocated - natural land&#x27;, &#x27;Vegetables&#x27;, &#x27;Winter cereals&#x27;,\n       &#x27;Winter legumes&#x27;, &#x27;Winter oilseeds&#x27;],\n      dtype=&#x27;object&#x27;, name=&#x27;From land-use&#x27;))</pre></div></li><li class='xr-var-item'><div class='xr-index-name'><div>To land-use</div></div><div class='xr-index-preview'>PandasIndex</div><div></div><input id='index-b526ff15-da3b-41f3-a528-b99bafc0e2db' class='xr-index-data-in' type='checkbox'/><label for='index-b526ff15-da3b-41f3-a528-b99bafc0e2db' title='Show/Hide index repr'><svg class='icon xr-icon-database'><use xlink:href='#icon-database'></use></svg></label><div class='xr-index-data'><pre>PandasIndex(Index([&#x27;BECCS&#x27;, &#x27;Beef Agroforestry&#x27;, &#x27;Beef Carbon Plantings (Belt)&#x27;,\n       &#x27;Carbon Plantings (Block)&#x27;, &#x27;Destocked - natural land&#x27;,\n       &#x27;Environmental Plantings&#x27;, &#x27;Riparian Plantings&#x27;, &#x27;Sheep Agroforestry&#x27;,\n       &#x27;Sheep Carbon Plantings (Belt)&#x27;],\n      dtype=&#x27;object&#x27;, name=&#x27;To land-use&#x27;))</pre></div></li><li class='xr-var-item'><div class='xr-index-name'><div>Cost type</div></div><div class='xr-index-preview'>PandasIndex</div><div></div><input id='index-c4864b65-430e-4492-a0c4-d3983273f2bd' class='xr-index-data-in' type='checkbox'/><label for='index-c4864b65-430e-4492-a0c4-d3983273f2bd' title='Show/Hide index repr'><svg class='icon xr-icon-database'><use xlink:href='#icon-database'></use></svg></label><div class='xr-index-data'><pre>PandasIndex(Index([&#x27;Establishment c&#x27;, &#x27;Fencing cost (A&#x27;, &#x27;Remove irrigati&#x27;,\n       &#x27;Transition cost&#x27;, &#x27;Transition cost&#x27;, &#x27;Transition cost&#x27;,\n       &#x27;Transition cost&#x27;, &#x27;Transition cost&#x27;, &#x27;Transition cost&#x27;],\n      dtype=&#x27;object&#x27;, name=&#x27;Cost type&#x27;))</pre></div></li></ul></div></li><li class='xr-section-item'><input id='section-53ee52d4-ca7d-46b7-b339-e96fe3764d9d' class='xr-section-summary-in' type='checkbox' disabled ><label for='section-53ee52d4-ca7d-46b7-b339-e96fe3764d9d' class='xr-section-summary'  title='Expand/collapse section'>Attributes: <span>(0)</span></label><div class='xr-section-inline-details'></div><div class='xr-section-details'><dl class='xr-attrs'></dl></div></li></ul></div></div>"
     },
     "execution_count": 41,
     "metadata": {},
     "output_type": "execute_result"
    }
   ],
   "source": [
    "path = r\"N:\\LUF-Modelling\\LUTO2_XH\\LUTO2\\output\\20250926_Paper2_Results_HPC\\carbon_price\\0_base_data\\Run_01_GHG_high_BIO_high_CUT_50\\2050\\xr_transition_cost_ag2non_ag_amortised_2050.nc\"\n",
    "da = xr.open_dataarray(path)\n",
    "da"
   ],
   "metadata": {
    "collapsed": false,
    "ExecuteTime": {
     "end_time": "2025-09-29T06:42:21.986134500Z",
     "start_time": "2025-09-29T06:42:21.640082400Z"
    }
   },
   "id": "c8d07785d35a040b"
  },
  {
   "cell_type": "code",
   "execution_count": 42,
   "outputs": [
    {
     "data": {
      "text/plain": "Coordinates:\n  * From water-supply  (From water-supply) <U3 24B 'dry' 'irr'\n  * cell               (cell) int64 1MB 0 1 2 3 ... 168774 168775 168776 168777\n  * From land-use      (From land-use) <U27 3kB 'Apples' ... 'Winter oilseeds'\n  * To land-use        (To land-use) <U29 1kB 'BECCS' ... 'Sheep Carbon Plant...\n  * Cost type          (Cost type) <U15 540B 'Establishment c' ... 'Transitio..."
     },
     "execution_count": 42,
     "metadata": {},
     "output_type": "execute_result"
    }
   ],
   "source": [
    "da.coords"
   ],
   "metadata": {
    "collapsed": false,
    "ExecuteTime": {
     "end_time": "2025-09-29T06:42:57.980921Z",
     "start_time": "2025-09-29T06:42:57.843188100Z"
    }
   },
   "id": "250461c48cb0d6c8"
  },
  {
   "cell_type": "code",
   "execution_count": 32,
   "outputs": [
    {
     "data": {
      "text/plain": "9.600809"
     },
     "execution_count": 32,
     "metadata": {},
     "output_type": "execute_result"
    }
   ],
   "source": [
    "path = r\"N:\\LUF-Modelling\\LUTO2_XH\\LUTO2\\output\\20250926_Paper2_Results_HPC\\carbon_price\\0_base_data\\carbon_low_bio_10\\2050\\xr_biodiversity_GBF2_priority_non_ag_carbon_low_bio_10_2050.nc\"\n",
    "da = xr.open_dataarray(path)\n",
    "da.sum().values / 1e6"
   ],
   "metadata": {
    "collapsed": false,
    "ExecuteTime": {
     "end_time": "2025-09-29T03:51:09.529977800Z",
     "start_time": "2025-09-29T03:51:09.423506400Z"
    }
   },
   "id": "c6599762cb14093c"
  },
  {
   "cell_type": "code",
   "execution_count": 33,
   "outputs": [],
   "source": [
    "path = r\"N:\\LUF-Modelling\\LUTO2_XH\\LUTO2\\output\\20250926_Paper2_Results_HPC\\carbon_price\\0_base_data\\carbon_low_bio_10\\2050\\xr_total_bio_carbon_low_bio_10_2050.nc\"\n",
    "da = xr.open_dataarray(path)"
   ],
   "metadata": {
    "collapsed": false,
    "ExecuteTime": {
     "end_time": "2025-09-29T04:00:24.054111800Z",
     "start_time": "2025-09-29T04:00:23.903423800Z"
    }
   },
   "id": "f99f2fde3c588ad6"
  },
  {
   "cell_type": "code",
   "execution_count": 35,
   "outputs": [
    {
     "data": {
      "text/plain": "10.035665"
     },
     "execution_count": 35,
     "metadata": {},
     "output_type": "execute_result"
    }
   ],
   "source": [
    "da.sum().values / 1e6"
   ],
   "metadata": {
    "collapsed": false,
    "ExecuteTime": {
     "end_time": "2025-09-29T04:00:45.913611Z",
     "start_time": "2025-09-29T04:00:45.787581200Z"
    }
   },
   "id": "ffb110ba99f276cc"
  },
  {
   "cell_type": "code",
   "execution_count": 36,
   "outputs": [
    {
     "data": {
      "text/plain": "0.160801484375"
     },
     "execution_count": 36,
     "metadata": {},
     "output_type": "execute_result"
    }
   ],
   "source": [
    "path = r\"N:\\LUF-Modelling\\LUTO2_XH\\LUTO2\\output\\20250926_Paper2_Results_HPC\\carbon_price\\0_base_data\\carbon_low_bio_10\\2050\\xr_biodiversity_GBF2_priority_ag_diff_carbon_low_bio_10_2050.nc\"\n",
    "da = xr.open_dataarray(path)\n",
    "da.sum().values / 1e6"
   ],
   "metadata": {
    "collapsed": false,
    "ExecuteTime": {
     "end_time": "2025-09-29T04:04:31.992094400Z",
     "start_time": "2025-09-29T04:04:31.554374200Z"
    }
   },
   "id": "39d48f9102df2e07"
  },
  {
   "cell_type": "code",
   "execution_count": 37,
   "outputs": [
    {
     "data": {
      "text/plain": "0.160801484375"
     },
     "execution_count": 37,
     "metadata": {},
     "output_type": "execute_result"
    }
   ],
   "source": [
    "path = r\"N:\\LUF-Modelling\\LUTO2_XH\\LUTO2\\output\\20250926_Paper2_Results_HPC\\carbon_price\\0_base_data\\Run_11_GHG_low_BIO_high_CUT_10\\2050\\xr_biodiversity_GBF2_priority_ag_diff_2050.nc\"\n",
    "da = xr.open_dataarray(path)\n",
    "da.sum().values / 1e6"
   ],
   "metadata": {
    "collapsed": false,
    "ExecuteTime": {
     "end_time": "2025-09-29T04:05:19.834385600Z",
     "start_time": "2025-09-29T04:05:19.411820800Z"
    }
   },
   "id": "953ee3aeb1560e93"
  },
  {
   "cell_type": "code",
   "execution_count": 38,
   "outputs": [
    {
     "data": {
      "text/plain": "28.430638"
     },
     "execution_count": 38,
     "metadata": {},
     "output_type": "execute_result"
    }
   ],
   "source": [
    "path = r\"N:\\LUF-Modelling\\LUTO2_XH\\LUTO2\\output\\20250926_Paper2_Results_HPC\\carbon_price\\0_base_data\\Run_11_GHG_low_BIO_high_CUT_10\\2050\\xr_biodiversity_GBF2_priority_ag_2050.nc\"\n",
    "da = xr.open_dataarray(path)\n",
    "da.sum().values / 1e6"
   ],
   "metadata": {
    "collapsed": false,
    "ExecuteTime": {
     "end_time": "2025-09-29T04:05:50.107424800Z",
     "start_time": "2025-09-29T04:05:49.642826500Z"
    }
   },
   "id": "6bb68d41e015f88"
  },
  {
   "cell_type": "code",
   "execution_count": 39,
   "outputs": [
    {
     "data": {
      "text/plain": "28.591436"
     },
     "execution_count": 39,
     "metadata": {},
     "output_type": "execute_result"
    }
   ],
   "source": [
    "path = r\"N:\\LUF-Modelling\\LUTO2_XH\\LUTO2\\output\\20250926_Paper2_Results_HPC\\carbon_price\\0_base_data\\Run_11_GHG_low_BIO_high_CUT_10\\2049\\xr_biodiversity_GBF2_priority_ag_2049.nc\"\n",
    "da = xr.open_dataarray(path)\n",
    "da.sum().values / 1e6"
   ],
   "metadata": {
    "collapsed": false,
    "ExecuteTime": {
     "end_time": "2025-09-29T04:06:17.681452100Z",
     "start_time": "2025-09-29T04:06:17.258105100Z"
    }
   },
   "id": "81a070630ab0ee9f"
  },
  {
   "cell_type": "markdown",
   "source": [
    "28.4306-28.5914"
   ],
   "metadata": {
    "collapsed": false
   },
   "id": "d54b74d3e80c8ec8"
  },
  {
   "cell_type": "code",
   "execution_count": 40,
   "outputs": [
    {
     "data": {
      "text/plain": "-0.16080000000000183"
     },
     "execution_count": 40,
     "metadata": {},
     "output_type": "execute_result"
    }
   ],
   "source": [
    "28.4306-28.5914"
   ],
   "metadata": {
    "collapsed": false,
    "ExecuteTime": {
     "end_time": "2025-09-29T04:06:44.243079Z",
     "start_time": "2025-09-29T04:06:44.225832100Z"
    }
   },
   "id": "c0b57c5752f9ea8d"
  },
  {
   "cell_type": "code",
   "execution_count": null,
   "outputs": [],
   "source": [],
   "metadata": {
    "collapsed": false
   },
   "id": "3eba3edf0785b14e"
  }
 ],
 "metadata": {
  "kernelspec": {
   "display_name": "Python 3",
   "language": "python",
   "name": "python3"
  },
  "language_info": {
   "codemirror_mode": {
    "name": "ipython",
    "version": 2
   },
   "file_extension": ".py",
   "mimetype": "text/x-python",
   "name": "python",
   "nbconvert_exporter": "python",
   "pygments_lexer": "ipython2",
   "version": "2.7.6"
  }
 },
 "nbformat": 4,
 "nbformat_minor": 5
}
