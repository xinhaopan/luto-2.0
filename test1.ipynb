{
 "cells": [
  {
   "cell_type": "code",
   "execution_count": 6,
   "outputs": [],
   "source": [
    "import numpy as np\n",
    "import xarray as xr\n",
    "from typing import Union\n",
    "\n",
    "path = r\"N:\\LUF-Modelling\\LUTO2_XH\\LUTO2\\output\\20250908_Paper2_Results_NCI\\carbon_price\\0_base_data\\carbon_high\\2050\\xr_total_cost_carbon_high_amortised_2050.nc\"\n",
    "da = xr.open_dataarray(path)\n",
    "da.sum(dim=[d for d in da.dims]).values"
   ],
   "metadata": {
    "collapsed": false,
    "ExecuteTime": {
     "end_time": "2025-09-17T05:40:10.766530200Z",
     "start_time": "2025-09-17T05:40:10.632446900Z"
    }
   },
   "id": "99897383d3603a53"
  },
  {
   "cell_type": "code",
   "execution_count": 8,
   "outputs": [
    {
     "data": {
      "text/plain": "array(9.7926624e+08, dtype=float32)"
     },
     "execution_count": 8,
     "metadata": {},
     "output_type": "execute_result"
    }
   ],
   "source": [
    "path = r\"N:\\LUF-Modelling\\LUTO2_XH\\LUTO2\\output\\20250908_Paper2_Results_NCI\\carbon_price\\0_base_data\\carbon_high\\2050\\xr_cost_ag_carbon_high_2050.nc\"\n",
    "da = xr.open_dataarray(path)\n",
    "da.sum(dim=[d for d in da.dims]).values"
   ],
   "metadata": {
    "collapsed": false,
    "ExecuteTime": {
     "end_time": "2025-09-17T05:41:04.151644800Z",
     "start_time": "2025-09-17T05:41:03.397274300Z"
    }
   },
   "id": "f78dc0c1f901e724"
  },
  {
   "cell_type": "code",
   "execution_count": 9,
   "outputs": [
    {
     "data": {
      "text/plain": "array(1.265681e+09, dtype=float32)"
     },
     "execution_count": 9,
     "metadata": {},
     "output_type": "execute_result"
    }
   ],
   "source": [
    "path = r\"N:\\LUF-Modelling\\LUTO2_XH\\LUTO2\\output\\20250908_Paper2_Results_NCI\\carbon_price\\0_base_data\\carbon_high\\2050\\xr_cost_agricultural_management_carbon_high_2050.nc\"\n",
    "da = xr.open_dataarray(path)\n",
    "da.sum(dim=[d for d in da.dims]).values"
   ],
   "metadata": {
    "collapsed": false,
    "ExecuteTime": {
     "end_time": "2025-09-17T05:41:34.447938400Z",
     "start_time": "2025-09-17T05:41:32.729195900Z"
    }
   },
   "id": "be22923fc884820c"
  },
  {
   "cell_type": "code",
   "execution_count": 10,
   "outputs": [
    {
     "data": {
      "text/plain": "array(7.310308e+08, dtype=float32)"
     },
     "execution_count": 10,
     "metadata": {},
     "output_type": "execute_result"
    }
   ],
   "source": [
    "path = r\"N:\\LUF-Modelling\\LUTO2_XH\\LUTO2\\output\\20250908_Paper2_Results_NCI\\carbon_price\\0_base_data\\carbon_high\\2050\\xr_cost_non_ag_carbon_high_2050.nc\"\n",
    "da = xr.open_dataarray(path)\n",
    "da.sum(dim=[d for d in da.dims]).values"
   ],
   "metadata": {
    "collapsed": false,
    "ExecuteTime": {
     "end_time": "2025-09-17T05:42:04.137144600Z",
     "start_time": "2025-09-17T05:42:01.253614600Z"
    }
   },
   "id": "c5db2f48361b1581"
  },
  {
   "cell_type": "code",
   "execution_count": null,
   "outputs": [],
   "source": [
    "path = r\"N:\\LUF-Modelling\\LUTO2_XH\\LUTO2\\output\\20250908_Paper2_Results_NCI\\carbon_price\\0_base_data\\carbon_high\\2050\\xr_cost_transition_ag2ag_diff_carbon_high_2050.nc\"\n",
    "da = xr.open_dataarray(path)\n",
    "da.sum(dim=[d for d in da.dims]).values"
   ],
   "metadata": {
    "collapsed": false,
    "is_executing": true,
    "ExecuteTime": {
     "start_time": "2025-09-17T05:42:32.310249700Z"
    }
   },
   "id": "faec6fbbda9353a8"
  },
  {
   "cell_type": "code",
   "execution_count": null,
   "outputs": [],
   "source": [
    "path = r\"N:\\LUF-Modelling\\LUTO2_XH\\LUTO2\\output\\20250908_Paper2_Results_NCI\\carbon_price\\0_base_data\\carbon_high\\2050\\xr_transition_cost_ag2non_ag_amortised_diff_carbon_high_2050.nc\"\n",
    "da = xr.open_dataarray(path)\n",
    "da.sum(dim=[d for d in da.dims]).values"
   ],
   "metadata": {
    "collapsed": false
   },
   "id": "7b0df1eeca38340"
  }
 ],
 "metadata": {
  "kernelspec": {
   "display_name": "Python 3",
   "language": "python",
   "name": "python3"
  },
  "language_info": {
   "codemirror_mode": {
    "name": "ipython",
    "version": 2
   },
   "file_extension": ".py",
   "mimetype": "text/x-python",
   "name": "python",
   "nbconvert_exporter": "python",
   "pygments_lexer": "ipython2",
   "version": "2.7.6"
  }
 },
 "nbformat": 4,
 "nbformat_minor": 5
}
