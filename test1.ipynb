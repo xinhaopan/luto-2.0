{
 "cells": [
  {
   "cell_type": "code",
   "execution_count": 1,
   "outputs": [],
   "source": [
    "import numpy as np\n",
    "import xarray as xr\n",
    "from typing import Union"
   ],
   "metadata": {
    "collapsed": false,
    "ExecuteTime": {
     "end_time": "2025-09-30T08:55:37.944586700Z",
     "start_time": "2025-09-30T08:55:36.178169200Z"
    }
   },
   "id": "99897383d3603a53"
  },
  {
   "cell_type": "code",
   "execution_count": 5,
   "outputs": [
    {
     "data": {
      "text/plain": "<xarray.DataArray 'data' (am: 7, lm: 2, cell: 168778, lu: 28)>\n[66160976 values with dtype=float32]\nCoordinates:\n  * cell     (cell) int64 0 1 2 3 4 5 ... 168773 168774 168775 168776 168777\n  * lu       (lu) object 'Apples' 'Beef - modified land' ... 'Winter oilseeds'\n  * lm       (lm) object 'dry' 'irr'\n  * am       (am) object 'Asparagopsis taxiformis' ... 'HIR - Sheep'",
      "text/html": "<div><svg style=\"position: absolute; width: 0; height: 0; overflow: hidden\">\n<defs>\n<symbol id=\"icon-database\" viewBox=\"0 0 32 32\">\n<path d=\"M16 0c-8.837 0-16 2.239-16 5v4c0 2.761 7.163 5 16 5s16-2.239 16-5v-4c0-2.761-7.163-5-16-5z\"></path>\n<path d=\"M16 17c-8.837 0-16-2.239-16-5v6c0 2.761 7.163 5 16 5s16-2.239 16-5v-6c0 2.761-7.163 5-16 5z\"></path>\n<path d=\"M16 26c-8.837 0-16-2.239-16-5v6c0 2.761 7.163 5 16 5s16-2.239 16-5v-6c0 2.761-7.163 5-16 5z\"></path>\n</symbol>\n<symbol id=\"icon-file-text2\" viewBox=\"0 0 32 32\">\n<path d=\"M28.681 7.159c-0.694-0.947-1.662-2.053-2.724-3.116s-2.169-2.030-3.116-2.724c-1.612-1.182-2.393-1.319-2.841-1.319h-15.5c-1.378 0-2.5 1.121-2.5 2.5v27c0 1.378 1.122 2.5 2.5 2.5h23c1.378 0 2.5-1.122 2.5-2.5v-19.5c0-0.448-0.137-1.23-1.319-2.841zM24.543 5.457c0.959 0.959 1.712 1.825 2.268 2.543h-4.811v-4.811c0.718 0.556 1.584 1.309 2.543 2.268zM28 29.5c0 0.271-0.229 0.5-0.5 0.5h-23c-0.271 0-0.5-0.229-0.5-0.5v-27c0-0.271 0.229-0.5 0.5-0.5 0 0 15.499-0 15.5 0v7c0 0.552 0.448 1 1 1h7v19.5z\"></path>\n<path d=\"M23 26h-14c-0.552 0-1-0.448-1-1s0.448-1 1-1h14c0.552 0 1 0.448 1 1s-0.448 1-1 1z\"></path>\n<path d=\"M23 22h-14c-0.552 0-1-0.448-1-1s0.448-1 1-1h14c0.552 0 1 0.448 1 1s-0.448 1-1 1z\"></path>\n<path d=\"M23 18h-14c-0.552 0-1-0.448-1-1s0.448-1 1-1h14c0.552 0 1 0.448 1 1s-0.448 1-1 1z\"></path>\n</symbol>\n</defs>\n</svg>\n<style>/* CSS stylesheet for displaying xarray objects in jupyterlab.\n *\n */\n\n:root {\n  --xr-font-color0: var(--jp-content-font-color0, rgba(0, 0, 0, 1));\n  --xr-font-color2: var(--jp-content-font-color2, rgba(0, 0, 0, 0.54));\n  --xr-font-color3: var(--jp-content-font-color3, rgba(0, 0, 0, 0.38));\n  --xr-border-color: var(--jp-border-color2, #e0e0e0);\n  --xr-disabled-color: var(--jp-layout-color3, #bdbdbd);\n  --xr-background-color: var(--jp-layout-color0, white);\n  --xr-background-color-row-even: var(--jp-layout-color1, white);\n  --xr-background-color-row-odd: var(--jp-layout-color2, #eeeeee);\n}\n\nhtml[theme=dark],\nbody[data-theme=dark],\nbody.vscode-dark {\n  --xr-font-color0: rgba(255, 255, 255, 1);\n  --xr-font-color2: rgba(255, 255, 255, 0.54);\n  --xr-font-color3: rgba(255, 255, 255, 0.38);\n  --xr-border-color: #1F1F1F;\n  --xr-disabled-color: #515151;\n  --xr-background-color: #111111;\n  --xr-background-color-row-even: #111111;\n  --xr-background-color-row-odd: #313131;\n}\n\n.xr-wrap {\n  display: block !important;\n  min-width: 300px;\n  max-width: 700px;\n}\n\n.xr-text-repr-fallback {\n  /* fallback to plain text repr when CSS is not injected (untrusted notebook) */\n  display: none;\n}\n\n.xr-header {\n  padding-top: 6px;\n  padding-bottom: 6px;\n  margin-bottom: 4px;\n  border-bottom: solid 1px var(--xr-border-color);\n}\n\n.xr-header > div,\n.xr-header > ul {\n  display: inline;\n  margin-top: 0;\n  margin-bottom: 0;\n}\n\n.xr-obj-type,\n.xr-array-name {\n  margin-left: 2px;\n  margin-right: 10px;\n}\n\n.xr-obj-type {\n  color: var(--xr-font-color2);\n}\n\n.xr-sections {\n  padding-left: 0 !important;\n  display: grid;\n  grid-template-columns: 150px auto auto 1fr 20px 20px;\n}\n\n.xr-section-item {\n  display: contents;\n}\n\n.xr-section-item input {\n  display: none;\n}\n\n.xr-section-item input + label {\n  color: var(--xr-disabled-color);\n}\n\n.xr-section-item input:enabled + label {\n  cursor: pointer;\n  color: var(--xr-font-color2);\n}\n\n.xr-section-item input:enabled + label:hover {\n  color: var(--xr-font-color0);\n}\n\n.xr-section-summary {\n  grid-column: 1;\n  color: var(--xr-font-color2);\n  font-weight: 500;\n}\n\n.xr-section-summary > span {\n  display: inline-block;\n  padding-left: 0.5em;\n}\n\n.xr-section-summary-in:disabled + label {\n  color: var(--xr-font-color2);\n}\n\n.xr-section-summary-in + label:before {\n  display: inline-block;\n  content: '►';\n  font-size: 11px;\n  width: 15px;\n  text-align: center;\n}\n\n.xr-section-summary-in:disabled + label:before {\n  color: var(--xr-disabled-color);\n}\n\n.xr-section-summary-in:checked + label:before {\n  content: '▼';\n}\n\n.xr-section-summary-in:checked + label > span {\n  display: none;\n}\n\n.xr-section-summary,\n.xr-section-inline-details {\n  padding-top: 4px;\n  padding-bottom: 4px;\n}\n\n.xr-section-inline-details {\n  grid-column: 2 / -1;\n}\n\n.xr-section-details {\n  display: none;\n  grid-column: 1 / -1;\n  margin-bottom: 5px;\n}\n\n.xr-section-summary-in:checked ~ .xr-section-details {\n  display: contents;\n}\n\n.xr-array-wrap {\n  grid-column: 1 / -1;\n  display: grid;\n  grid-template-columns: 20px auto;\n}\n\n.xr-array-wrap > label {\n  grid-column: 1;\n  vertical-align: top;\n}\n\n.xr-preview {\n  color: var(--xr-font-color3);\n}\n\n.xr-array-preview,\n.xr-array-data {\n  padding: 0 5px !important;\n  grid-column: 2;\n}\n\n.xr-array-data,\n.xr-array-in:checked ~ .xr-array-preview {\n  display: none;\n}\n\n.xr-array-in:checked ~ .xr-array-data,\n.xr-array-preview {\n  display: inline-block;\n}\n\n.xr-dim-list {\n  display: inline-block !important;\n  list-style: none;\n  padding: 0 !important;\n  margin: 0;\n}\n\n.xr-dim-list li {\n  display: inline-block;\n  padding: 0;\n  margin: 0;\n}\n\n.xr-dim-list:before {\n  content: '(';\n}\n\n.xr-dim-list:after {\n  content: ')';\n}\n\n.xr-dim-list li:not(:last-child):after {\n  content: ',';\n  padding-right: 5px;\n}\n\n.xr-has-index {\n  font-weight: bold;\n}\n\n.xr-var-list,\n.xr-var-item {\n  display: contents;\n}\n\n.xr-var-item > div,\n.xr-var-item label,\n.xr-var-item > .xr-var-name span {\n  background-color: var(--xr-background-color-row-even);\n  margin-bottom: 0;\n}\n\n.xr-var-item > .xr-var-name:hover span {\n  padding-right: 5px;\n}\n\n.xr-var-list > li:nth-child(odd) > div,\n.xr-var-list > li:nth-child(odd) > label,\n.xr-var-list > li:nth-child(odd) > .xr-var-name span {\n  background-color: var(--xr-background-color-row-odd);\n}\n\n.xr-var-name {\n  grid-column: 1;\n}\n\n.xr-var-dims {\n  grid-column: 2;\n}\n\n.xr-var-dtype {\n  grid-column: 3;\n  text-align: right;\n  color: var(--xr-font-color2);\n}\n\n.xr-var-preview {\n  grid-column: 4;\n}\n\n.xr-index-preview {\n  grid-column: 2 / 5;\n  color: var(--xr-font-color2);\n}\n\n.xr-var-name,\n.xr-var-dims,\n.xr-var-dtype,\n.xr-preview,\n.xr-attrs dt {\n  white-space: nowrap;\n  overflow: hidden;\n  text-overflow: ellipsis;\n  padding-right: 10px;\n}\n\n.xr-var-name:hover,\n.xr-var-dims:hover,\n.xr-var-dtype:hover,\n.xr-attrs dt:hover {\n  overflow: visible;\n  width: auto;\n  z-index: 1;\n}\n\n.xr-var-attrs,\n.xr-var-data,\n.xr-index-data {\n  display: none;\n  background-color: var(--xr-background-color) !important;\n  padding-bottom: 5px !important;\n}\n\n.xr-var-attrs-in:checked ~ .xr-var-attrs,\n.xr-var-data-in:checked ~ .xr-var-data,\n.xr-index-data-in:checked ~ .xr-index-data {\n  display: block;\n}\n\n.xr-var-data > table {\n  float: right;\n}\n\n.xr-var-name span,\n.xr-var-data,\n.xr-index-name div,\n.xr-index-data,\n.xr-attrs {\n  padding-left: 25px !important;\n}\n\n.xr-attrs,\n.xr-var-attrs,\n.xr-var-data,\n.xr-index-data {\n  grid-column: 1 / -1;\n}\n\ndl.xr-attrs {\n  padding: 0;\n  margin: 0;\n  display: grid;\n  grid-template-columns: 125px auto;\n}\n\n.xr-attrs dt,\n.xr-attrs dd {\n  padding: 0;\n  margin: 0;\n  float: left;\n  padding-right: 10px;\n  width: auto;\n}\n\n.xr-attrs dt {\n  font-weight: normal;\n  grid-column: 1;\n}\n\n.xr-attrs dt:hover span {\n  display: inline-block;\n  background: var(--xr-background-color);\n  padding-right: 10px;\n}\n\n.xr-attrs dd {\n  grid-column: 2;\n  white-space: pre-wrap;\n  word-break: break-all;\n}\n\n.xr-icon-database,\n.xr-icon-file-text2,\n.xr-no-icon {\n  display: inline-block;\n  vertical-align: middle;\n  width: 1em;\n  height: 1.5em !important;\n  stroke-width: 0;\n  stroke: currentColor;\n  fill: currentColor;\n}\n</style><pre class='xr-text-repr-fallback'>&lt;xarray.DataArray &#x27;data&#x27; (am: 7, lm: 2, cell: 168778, lu: 28)&gt;\n[66160976 values with dtype=float32]\nCoordinates:\n  * cell     (cell) int64 0 1 2 3 4 5 ... 168773 168774 168775 168776 168777\n  * lu       (lu) object &#x27;Apples&#x27; &#x27;Beef - modified land&#x27; ... &#x27;Winter oilseeds&#x27;\n  * lm       (lm) object &#x27;dry&#x27; &#x27;irr&#x27;\n  * am       (am) object &#x27;Asparagopsis taxiformis&#x27; ... &#x27;HIR - Sheep&#x27;</pre><div class='xr-wrap' style='display:none'><div class='xr-header'><div class='xr-obj-type'>xarray.DataArray</div><div class='xr-array-name'>'data'</div><ul class='xr-dim-list'><li><span class='xr-has-index'>am</span>: 7</li><li><span class='xr-has-index'>lm</span>: 2</li><li><span class='xr-has-index'>cell</span>: 168778</li><li><span class='xr-has-index'>lu</span>: 28</li></ul></div><ul class='xr-sections'><li class='xr-section-item'><div class='xr-array-wrap'><input id='section-8d0d6082-4d7e-4297-bb23-9f033e8122db' class='xr-array-in' type='checkbox' checked><label for='section-8d0d6082-4d7e-4297-bb23-9f033e8122db' title='Show/hide data repr'><svg class='icon xr-icon-database'><use xlink:href='#icon-database'></use></svg></label><div class='xr-array-preview xr-preview'><span>...</span></div><div class='xr-array-data'><pre>[66160976 values with dtype=float32]</pre></div></div></li><li class='xr-section-item'><input id='section-dd2531dc-a6c9-4f9e-8205-d5f325c490fd' class='xr-section-summary-in' type='checkbox'  checked><label for='section-dd2531dc-a6c9-4f9e-8205-d5f325c490fd' class='xr-section-summary' >Coordinates: <span>(4)</span></label><div class='xr-section-inline-details'></div><div class='xr-section-details'><ul class='xr-var-list'><li class='xr-var-item'><div class='xr-var-name'><span class='xr-has-index'>cell</span></div><div class='xr-var-dims'>(cell)</div><div class='xr-var-dtype'>int64</div><div class='xr-var-preview xr-preview'>0 1 2 3 ... 168775 168776 168777</div><input id='attrs-065b7b61-10bd-4a9c-a9ac-f794d722e9ea' class='xr-var-attrs-in' type='checkbox' disabled><label for='attrs-065b7b61-10bd-4a9c-a9ac-f794d722e9ea' title='Show/Hide attributes'><svg class='icon xr-icon-file-text2'><use xlink:href='#icon-file-text2'></use></svg></label><input id='data-a27e98d0-a225-49e3-9c38-c2d1b1c3b1c6' class='xr-var-data-in' type='checkbox'><label for='data-a27e98d0-a225-49e3-9c38-c2d1b1c3b1c6' title='Show/Hide data repr'><svg class='icon xr-icon-database'><use xlink:href='#icon-database'></use></svg></label><div class='xr-var-attrs'><dl class='xr-attrs'></dl></div><div class='xr-var-data'><pre>array([     0,      1,      2, ..., 168775, 168776, 168777], dtype=int64)</pre></div></li><li class='xr-var-item'><div class='xr-var-name'><span class='xr-has-index'>lu</span></div><div class='xr-var-dims'>(lu)</div><div class='xr-var-dtype'>object</div><div class='xr-var-preview xr-preview'>&#x27;Apples&#x27; ... &#x27;Winter oilseeds&#x27;</div><input id='attrs-eb19e315-3ce6-4090-8a0f-4c4061407294' class='xr-var-attrs-in' type='checkbox' disabled><label for='attrs-eb19e315-3ce6-4090-8a0f-4c4061407294' title='Show/Hide attributes'><svg class='icon xr-icon-file-text2'><use xlink:href='#icon-file-text2'></use></svg></label><input id='data-5eb61fef-430a-450c-b538-5c9b0fde2b6f' class='xr-var-data-in' type='checkbox'><label for='data-5eb61fef-430a-450c-b538-5c9b0fde2b6f' title='Show/Hide data repr'><svg class='icon xr-icon-database'><use xlink:href='#icon-database'></use></svg></label><div class='xr-var-attrs'><dl class='xr-attrs'></dl></div><div class='xr-var-data'><pre>array([&#x27;Apples&#x27;, &#x27;Beef - modified land&#x27;, &#x27;Beef - natural land&#x27;, &#x27;Citrus&#x27;,\n       &#x27;Cotton&#x27;, &#x27;Dairy - modified land&#x27;, &#x27;Dairy - natural land&#x27;, &#x27;Grapes&#x27;,\n       &#x27;Hay&#x27;, &#x27;Nuts&#x27;, &#x27;Other non-cereal crops&#x27;, &#x27;Pears&#x27;, &#x27;Plantation fruit&#x27;,\n       &#x27;Rice&#x27;, &#x27;Sheep - modified land&#x27;, &#x27;Sheep - natural land&#x27;, &#x27;Stone fruit&#x27;,\n       &#x27;Sugar&#x27;, &#x27;Summer cereals&#x27;, &#x27;Summer legumes&#x27;, &#x27;Summer oilseeds&#x27;,\n       &#x27;Tropical stone fruit&#x27;, &#x27;Unallocated - modified land&#x27;,\n       &#x27;Unallocated - natural land&#x27;, &#x27;Vegetables&#x27;, &#x27;Winter cereals&#x27;,\n       &#x27;Winter legumes&#x27;, &#x27;Winter oilseeds&#x27;], dtype=object)</pre></div></li><li class='xr-var-item'><div class='xr-var-name'><span class='xr-has-index'>lm</span></div><div class='xr-var-dims'>(lm)</div><div class='xr-var-dtype'>object</div><div class='xr-var-preview xr-preview'>&#x27;dry&#x27; &#x27;irr&#x27;</div><input id='attrs-453649f0-1cb2-465f-b6a5-e61f5529b6eb' class='xr-var-attrs-in' type='checkbox' disabled><label for='attrs-453649f0-1cb2-465f-b6a5-e61f5529b6eb' title='Show/Hide attributes'><svg class='icon xr-icon-file-text2'><use xlink:href='#icon-file-text2'></use></svg></label><input id='data-5532f713-914b-4e6a-a4dd-9637621e5606' class='xr-var-data-in' type='checkbox'><label for='data-5532f713-914b-4e6a-a4dd-9637621e5606' title='Show/Hide data repr'><svg class='icon xr-icon-database'><use xlink:href='#icon-database'></use></svg></label><div class='xr-var-attrs'><dl class='xr-attrs'></dl></div><div class='xr-var-data'><pre>array([&#x27;dry&#x27;, &#x27;irr&#x27;], dtype=object)</pre></div></li><li class='xr-var-item'><div class='xr-var-name'><span class='xr-has-index'>am</span></div><div class='xr-var-dims'>(am)</div><div class='xr-var-dtype'>object</div><div class='xr-var-preview xr-preview'>&#x27;Asparagopsis taxiformis&#x27; ... &#x27;H...</div><input id='attrs-6c6d46f8-90f4-41b6-b691-49a8405183b5' class='xr-var-attrs-in' type='checkbox' disabled><label for='attrs-6c6d46f8-90f4-41b6-b691-49a8405183b5' title='Show/Hide attributes'><svg class='icon xr-icon-file-text2'><use xlink:href='#icon-file-text2'></use></svg></label><input id='data-e1871ee3-48f0-424b-b7e9-76cc68691ff3' class='xr-var-data-in' type='checkbox'><label for='data-e1871ee3-48f0-424b-b7e9-76cc68691ff3' title='Show/Hide data repr'><svg class='icon xr-icon-database'><use xlink:href='#icon-database'></use></svg></label><div class='xr-var-attrs'><dl class='xr-attrs'></dl></div><div class='xr-var-data'><pre>array([&#x27;Asparagopsis taxiformis&#x27;, &#x27;Precision Agriculture&#x27;, &#x27;Savanna Burning&#x27;,\n       &#x27;AgTech EI&#x27;, &#x27;Biochar&#x27;, &#x27;HIR - Beef&#x27;, &#x27;HIR - Sheep&#x27;], dtype=object)</pre></div></li></ul></div></li><li class='xr-section-item'><input id='section-fc523043-c591-46f4-915d-cc41ab29fb5b' class='xr-section-summary-in' type='checkbox'  ><label for='section-fc523043-c591-46f4-915d-cc41ab29fb5b' class='xr-section-summary' >Indexes: <span>(4)</span></label><div class='xr-section-inline-details'></div><div class='xr-section-details'><ul class='xr-var-list'><li class='xr-var-item'><div class='xr-index-name'><div>cell</div></div><div class='xr-index-preview'>PandasIndex</div><div></div><input id='index-608139f7-4181-4d02-974d-83414a2fc13b' class='xr-index-data-in' type='checkbox'/><label for='index-608139f7-4181-4d02-974d-83414a2fc13b' title='Show/Hide index repr'><svg class='icon xr-icon-database'><use xlink:href='#icon-database'></use></svg></label><div class='xr-index-data'><pre>PandasIndex(Index([     0,      1,      2,      3,      4,      5,      6,      7,      8,\n            9,\n       ...\n       168768, 168769, 168770, 168771, 168772, 168773, 168774, 168775, 168776,\n       168777],\n      dtype=&#x27;int64&#x27;, name=&#x27;cell&#x27;, length=168778))</pre></div></li><li class='xr-var-item'><div class='xr-index-name'><div>lu</div></div><div class='xr-index-preview'>PandasIndex</div><div></div><input id='index-52e48345-adac-49d8-bef6-fc814a14c566' class='xr-index-data-in' type='checkbox'/><label for='index-52e48345-adac-49d8-bef6-fc814a14c566' title='Show/Hide index repr'><svg class='icon xr-icon-database'><use xlink:href='#icon-database'></use></svg></label><div class='xr-index-data'><pre>PandasIndex(Index([&#x27;Apples&#x27;, &#x27;Beef - modified land&#x27;, &#x27;Beef - natural land&#x27;, &#x27;Citrus&#x27;,\n       &#x27;Cotton&#x27;, &#x27;Dairy - modified land&#x27;, &#x27;Dairy - natural land&#x27;, &#x27;Grapes&#x27;,\n       &#x27;Hay&#x27;, &#x27;Nuts&#x27;, &#x27;Other non-cereal crops&#x27;, &#x27;Pears&#x27;, &#x27;Plantation fruit&#x27;,\n       &#x27;Rice&#x27;, &#x27;Sheep - modified land&#x27;, &#x27;Sheep - natural land&#x27;, &#x27;Stone fruit&#x27;,\n       &#x27;Sugar&#x27;, &#x27;Summer cereals&#x27;, &#x27;Summer legumes&#x27;, &#x27;Summer oilseeds&#x27;,\n       &#x27;Tropical stone fruit&#x27;, &#x27;Unallocated - modified land&#x27;,\n       &#x27;Unallocated - natural land&#x27;, &#x27;Vegetables&#x27;, &#x27;Winter cereals&#x27;,\n       &#x27;Winter legumes&#x27;, &#x27;Winter oilseeds&#x27;],\n      dtype=&#x27;object&#x27;, name=&#x27;lu&#x27;))</pre></div></li><li class='xr-var-item'><div class='xr-index-name'><div>lm</div></div><div class='xr-index-preview'>PandasIndex</div><div></div><input id='index-69a21263-73e4-4401-9f70-d73b5418e128' class='xr-index-data-in' type='checkbox'/><label for='index-69a21263-73e4-4401-9f70-d73b5418e128' title='Show/Hide index repr'><svg class='icon xr-icon-database'><use xlink:href='#icon-database'></use></svg></label><div class='xr-index-data'><pre>PandasIndex(Index([&#x27;dry&#x27;, &#x27;irr&#x27;], dtype=&#x27;object&#x27;, name=&#x27;lm&#x27;))</pre></div></li><li class='xr-var-item'><div class='xr-index-name'><div>am</div></div><div class='xr-index-preview'>PandasIndex</div><div></div><input id='index-f431d44d-9821-4ad1-a34a-4c5491ccd5a1' class='xr-index-data-in' type='checkbox'/><label for='index-f431d44d-9821-4ad1-a34a-4c5491ccd5a1' title='Show/Hide index repr'><svg class='icon xr-icon-database'><use xlink:href='#icon-database'></use></svg></label><div class='xr-index-data'><pre>PandasIndex(Index([&#x27;Asparagopsis taxiformis&#x27;, &#x27;Precision Agriculture&#x27;, &#x27;Savanna Burning&#x27;,\n       &#x27;AgTech EI&#x27;, &#x27;Biochar&#x27;, &#x27;HIR - Beef&#x27;, &#x27;HIR - Sheep&#x27;],\n      dtype=&#x27;object&#x27;, name=&#x27;am&#x27;))</pre></div></li></ul></div></li><li class='xr-section-item'><input id='section-249e65a3-a701-4056-89df-0253300f2313' class='xr-section-summary-in' type='checkbox' disabled ><label for='section-249e65a3-a701-4056-89df-0253300f2313' class='xr-section-summary'  title='Expand/collapse section'>Attributes: <span>(0)</span></label><div class='xr-section-inline-details'></div><div class='xr-section-details'><dl class='xr-attrs'></dl></div></li></ul></div></div>"
     },
     "execution_count": 5,
     "metadata": {},
     "output_type": "execute_result"
    }
   ],
   "source": [
    "path = r\"\\\\school-les-m.shares.deakin.edu.au\\school-les-m\\Planet-A\\LUF-Modelling\\LUTO2_XH\\LUTO2\\output\\20250926_Paper2_Results_HPC\\carbon_price\\0_base_data\\Run_01_GHG_high_BIO_high_CUT_50\\2013\\xr_area_agricultural_management_2013.nc\"\n",
    "da = xr.open_dataarray(path)\n",
    "da"
   ],
   "metadata": {
    "collapsed": false,
    "ExecuteTime": {
     "end_time": "2025-10-01T00:29:39.321433700Z",
     "start_time": "2025-10-01T00:29:39.118385900Z"
    }
   },
   "id": "c8d07785d35a040b"
  },
  {
   "cell_type": "code",
   "execution_count": 10,
   "outputs": [
    {
     "data": {
      "text/plain": "<xarray.DataArray 'data' (cell: 168778, lu: 9)>\n[1519002 values with dtype=float32]\nCoordinates:\n  * cell     (cell) int64 0 1 2 3 4 5 ... 168773 168774 168775 168776 168777\n  * lu       (lu) object 'Environmental Plantings' ... 'Destocked - natural l...",
      "text/html": "<div><svg style=\"position: absolute; width: 0; height: 0; overflow: hidden\">\n<defs>\n<symbol id=\"icon-database\" viewBox=\"0 0 32 32\">\n<path d=\"M16 0c-8.837 0-16 2.239-16 5v4c0 2.761 7.163 5 16 5s16-2.239 16-5v-4c0-2.761-7.163-5-16-5z\"></path>\n<path d=\"M16 17c-8.837 0-16-2.239-16-5v6c0 2.761 7.163 5 16 5s16-2.239 16-5v-6c0 2.761-7.163 5-16 5z\"></path>\n<path d=\"M16 26c-8.837 0-16-2.239-16-5v6c0 2.761 7.163 5 16 5s16-2.239 16-5v-6c0 2.761-7.163 5-16 5z\"></path>\n</symbol>\n<symbol id=\"icon-file-text2\" viewBox=\"0 0 32 32\">\n<path d=\"M28.681 7.159c-0.694-0.947-1.662-2.053-2.724-3.116s-2.169-2.030-3.116-2.724c-1.612-1.182-2.393-1.319-2.841-1.319h-15.5c-1.378 0-2.5 1.121-2.5 2.5v27c0 1.378 1.122 2.5 2.5 2.5h23c1.378 0 2.5-1.122 2.5-2.5v-19.5c0-0.448-0.137-1.23-1.319-2.841zM24.543 5.457c0.959 0.959 1.712 1.825 2.268 2.543h-4.811v-4.811c0.718 0.556 1.584 1.309 2.543 2.268zM28 29.5c0 0.271-0.229 0.5-0.5 0.5h-23c-0.271 0-0.5-0.229-0.5-0.5v-27c0-0.271 0.229-0.5 0.5-0.5 0 0 15.499-0 15.5 0v7c0 0.552 0.448 1 1 1h7v19.5z\"></path>\n<path d=\"M23 26h-14c-0.552 0-1-0.448-1-1s0.448-1 1-1h14c0.552 0 1 0.448 1 1s-0.448 1-1 1z\"></path>\n<path d=\"M23 22h-14c-0.552 0-1-0.448-1-1s0.448-1 1-1h14c0.552 0 1 0.448 1 1s-0.448 1-1 1z\"></path>\n<path d=\"M23 18h-14c-0.552 0-1-0.448-1-1s0.448-1 1-1h14c0.552 0 1 0.448 1 1s-0.448 1-1 1z\"></path>\n</symbol>\n</defs>\n</svg>\n<style>/* CSS stylesheet for displaying xarray objects in jupyterlab.\n *\n */\n\n:root {\n  --xr-font-color0: var(--jp-content-font-color0, rgba(0, 0, 0, 1));\n  --xr-font-color2: var(--jp-content-font-color2, rgba(0, 0, 0, 0.54));\n  --xr-font-color3: var(--jp-content-font-color3, rgba(0, 0, 0, 0.38));\n  --xr-border-color: var(--jp-border-color2, #e0e0e0);\n  --xr-disabled-color: var(--jp-layout-color3, #bdbdbd);\n  --xr-background-color: var(--jp-layout-color0, white);\n  --xr-background-color-row-even: var(--jp-layout-color1, white);\n  --xr-background-color-row-odd: var(--jp-layout-color2, #eeeeee);\n}\n\nhtml[theme=dark],\nbody[data-theme=dark],\nbody.vscode-dark {\n  --xr-font-color0: rgba(255, 255, 255, 1);\n  --xr-font-color2: rgba(255, 255, 255, 0.54);\n  --xr-font-color3: rgba(255, 255, 255, 0.38);\n  --xr-border-color: #1F1F1F;\n  --xr-disabled-color: #515151;\n  --xr-background-color: #111111;\n  --xr-background-color-row-even: #111111;\n  --xr-background-color-row-odd: #313131;\n}\n\n.xr-wrap {\n  display: block !important;\n  min-width: 300px;\n  max-width: 700px;\n}\n\n.xr-text-repr-fallback {\n  /* fallback to plain text repr when CSS is not injected (untrusted notebook) */\n  display: none;\n}\n\n.xr-header {\n  padding-top: 6px;\n  padding-bottom: 6px;\n  margin-bottom: 4px;\n  border-bottom: solid 1px var(--xr-border-color);\n}\n\n.xr-header > div,\n.xr-header > ul {\n  display: inline;\n  margin-top: 0;\n  margin-bottom: 0;\n}\n\n.xr-obj-type,\n.xr-array-name {\n  margin-left: 2px;\n  margin-right: 10px;\n}\n\n.xr-obj-type {\n  color: var(--xr-font-color2);\n}\n\n.xr-sections {\n  padding-left: 0 !important;\n  display: grid;\n  grid-template-columns: 150px auto auto 1fr 20px 20px;\n}\n\n.xr-section-item {\n  display: contents;\n}\n\n.xr-section-item input {\n  display: none;\n}\n\n.xr-section-item input + label {\n  color: var(--xr-disabled-color);\n}\n\n.xr-section-item input:enabled + label {\n  cursor: pointer;\n  color: var(--xr-font-color2);\n}\n\n.xr-section-item input:enabled + label:hover {\n  color: var(--xr-font-color0);\n}\n\n.xr-section-summary {\n  grid-column: 1;\n  color: var(--xr-font-color2);\n  font-weight: 500;\n}\n\n.xr-section-summary > span {\n  display: inline-block;\n  padding-left: 0.5em;\n}\n\n.xr-section-summary-in:disabled + label {\n  color: var(--xr-font-color2);\n}\n\n.xr-section-summary-in + label:before {\n  display: inline-block;\n  content: '►';\n  font-size: 11px;\n  width: 15px;\n  text-align: center;\n}\n\n.xr-section-summary-in:disabled + label:before {\n  color: var(--xr-disabled-color);\n}\n\n.xr-section-summary-in:checked + label:before {\n  content: '▼';\n}\n\n.xr-section-summary-in:checked + label > span {\n  display: none;\n}\n\n.xr-section-summary,\n.xr-section-inline-details {\n  padding-top: 4px;\n  padding-bottom: 4px;\n}\n\n.xr-section-inline-details {\n  grid-column: 2 / -1;\n}\n\n.xr-section-details {\n  display: none;\n  grid-column: 1 / -1;\n  margin-bottom: 5px;\n}\n\n.xr-section-summary-in:checked ~ .xr-section-details {\n  display: contents;\n}\n\n.xr-array-wrap {\n  grid-column: 1 / -1;\n  display: grid;\n  grid-template-columns: 20px auto;\n}\n\n.xr-array-wrap > label {\n  grid-column: 1;\n  vertical-align: top;\n}\n\n.xr-preview {\n  color: var(--xr-font-color3);\n}\n\n.xr-array-preview,\n.xr-array-data {\n  padding: 0 5px !important;\n  grid-column: 2;\n}\n\n.xr-array-data,\n.xr-array-in:checked ~ .xr-array-preview {\n  display: none;\n}\n\n.xr-array-in:checked ~ .xr-array-data,\n.xr-array-preview {\n  display: inline-block;\n}\n\n.xr-dim-list {\n  display: inline-block !important;\n  list-style: none;\n  padding: 0 !important;\n  margin: 0;\n}\n\n.xr-dim-list li {\n  display: inline-block;\n  padding: 0;\n  margin: 0;\n}\n\n.xr-dim-list:before {\n  content: '(';\n}\n\n.xr-dim-list:after {\n  content: ')';\n}\n\n.xr-dim-list li:not(:last-child):after {\n  content: ',';\n  padding-right: 5px;\n}\n\n.xr-has-index {\n  font-weight: bold;\n}\n\n.xr-var-list,\n.xr-var-item {\n  display: contents;\n}\n\n.xr-var-item > div,\n.xr-var-item label,\n.xr-var-item > .xr-var-name span {\n  background-color: var(--xr-background-color-row-even);\n  margin-bottom: 0;\n}\n\n.xr-var-item > .xr-var-name:hover span {\n  padding-right: 5px;\n}\n\n.xr-var-list > li:nth-child(odd) > div,\n.xr-var-list > li:nth-child(odd) > label,\n.xr-var-list > li:nth-child(odd) > .xr-var-name span {\n  background-color: var(--xr-background-color-row-odd);\n}\n\n.xr-var-name {\n  grid-column: 1;\n}\n\n.xr-var-dims {\n  grid-column: 2;\n}\n\n.xr-var-dtype {\n  grid-column: 3;\n  text-align: right;\n  color: var(--xr-font-color2);\n}\n\n.xr-var-preview {\n  grid-column: 4;\n}\n\n.xr-index-preview {\n  grid-column: 2 / 5;\n  color: var(--xr-font-color2);\n}\n\n.xr-var-name,\n.xr-var-dims,\n.xr-var-dtype,\n.xr-preview,\n.xr-attrs dt {\n  white-space: nowrap;\n  overflow: hidden;\n  text-overflow: ellipsis;\n  padding-right: 10px;\n}\n\n.xr-var-name:hover,\n.xr-var-dims:hover,\n.xr-var-dtype:hover,\n.xr-attrs dt:hover {\n  overflow: visible;\n  width: auto;\n  z-index: 1;\n}\n\n.xr-var-attrs,\n.xr-var-data,\n.xr-index-data {\n  display: none;\n  background-color: var(--xr-background-color) !important;\n  padding-bottom: 5px !important;\n}\n\n.xr-var-attrs-in:checked ~ .xr-var-attrs,\n.xr-var-data-in:checked ~ .xr-var-data,\n.xr-index-data-in:checked ~ .xr-index-data {\n  display: block;\n}\n\n.xr-var-data > table {\n  float: right;\n}\n\n.xr-var-name span,\n.xr-var-data,\n.xr-index-name div,\n.xr-index-data,\n.xr-attrs {\n  padding-left: 25px !important;\n}\n\n.xr-attrs,\n.xr-var-attrs,\n.xr-var-data,\n.xr-index-data {\n  grid-column: 1 / -1;\n}\n\ndl.xr-attrs {\n  padding: 0;\n  margin: 0;\n  display: grid;\n  grid-template-columns: 125px auto;\n}\n\n.xr-attrs dt,\n.xr-attrs dd {\n  padding: 0;\n  margin: 0;\n  float: left;\n  padding-right: 10px;\n  width: auto;\n}\n\n.xr-attrs dt {\n  font-weight: normal;\n  grid-column: 1;\n}\n\n.xr-attrs dt:hover span {\n  display: inline-block;\n  background: var(--xr-background-color);\n  padding-right: 10px;\n}\n\n.xr-attrs dd {\n  grid-column: 2;\n  white-space: pre-wrap;\n  word-break: break-all;\n}\n\n.xr-icon-database,\n.xr-icon-file-text2,\n.xr-no-icon {\n  display: inline-block;\n  vertical-align: middle;\n  width: 1em;\n  height: 1.5em !important;\n  stroke-width: 0;\n  stroke: currentColor;\n  fill: currentColor;\n}\n</style><pre class='xr-text-repr-fallback'>&lt;xarray.DataArray &#x27;data&#x27; (cell: 168778, lu: 9)&gt;\n[1519002 values with dtype=float32]\nCoordinates:\n  * cell     (cell) int64 0 1 2 3 4 5 ... 168773 168774 168775 168776 168777\n  * lu       (lu) object &#x27;Environmental Plantings&#x27; ... &#x27;Destocked - natural l...</pre><div class='xr-wrap' style='display:none'><div class='xr-header'><div class='xr-obj-type'>xarray.DataArray</div><div class='xr-array-name'>'data'</div><ul class='xr-dim-list'><li><span class='xr-has-index'>cell</span>: 168778</li><li><span class='xr-has-index'>lu</span>: 9</li></ul></div><ul class='xr-sections'><li class='xr-section-item'><div class='xr-array-wrap'><input id='section-dcf21c0a-ed52-4b0e-8f87-f24e4e4a2917' class='xr-array-in' type='checkbox' checked><label for='section-dcf21c0a-ed52-4b0e-8f87-f24e4e4a2917' title='Show/hide data repr'><svg class='icon xr-icon-database'><use xlink:href='#icon-database'></use></svg></label><div class='xr-array-preview xr-preview'><span>...</span></div><div class='xr-array-data'><pre>[1519002 values with dtype=float32]</pre></div></div></li><li class='xr-section-item'><input id='section-67fb76d9-e5b7-465f-8fd9-b2747f39b311' class='xr-section-summary-in' type='checkbox'  checked><label for='section-67fb76d9-e5b7-465f-8fd9-b2747f39b311' class='xr-section-summary' >Coordinates: <span>(2)</span></label><div class='xr-section-inline-details'></div><div class='xr-section-details'><ul class='xr-var-list'><li class='xr-var-item'><div class='xr-var-name'><span class='xr-has-index'>cell</span></div><div class='xr-var-dims'>(cell)</div><div class='xr-var-dtype'>int64</div><div class='xr-var-preview xr-preview'>0 1 2 3 ... 168775 168776 168777</div><input id='attrs-9ef9410f-2557-4dde-8e4f-0c85c7b8e367' class='xr-var-attrs-in' type='checkbox' disabled><label for='attrs-9ef9410f-2557-4dde-8e4f-0c85c7b8e367' title='Show/Hide attributes'><svg class='icon xr-icon-file-text2'><use xlink:href='#icon-file-text2'></use></svg></label><input id='data-4709a355-02e0-4af7-aab5-6ac094834d04' class='xr-var-data-in' type='checkbox'><label for='data-4709a355-02e0-4af7-aab5-6ac094834d04' title='Show/Hide data repr'><svg class='icon xr-icon-database'><use xlink:href='#icon-database'></use></svg></label><div class='xr-var-attrs'><dl class='xr-attrs'></dl></div><div class='xr-var-data'><pre>array([     0,      1,      2, ..., 168775, 168776, 168777], dtype=int64)</pre></div></li><li class='xr-var-item'><div class='xr-var-name'><span class='xr-has-index'>lu</span></div><div class='xr-var-dims'>(lu)</div><div class='xr-var-dtype'>object</div><div class='xr-var-preview xr-preview'>&#x27;Environmental Plantings&#x27; ... &#x27;D...</div><input id='attrs-70cf22ab-c9b4-461f-8a90-de5ad53683e9' class='xr-var-attrs-in' type='checkbox' disabled><label for='attrs-70cf22ab-c9b4-461f-8a90-de5ad53683e9' title='Show/Hide attributes'><svg class='icon xr-icon-file-text2'><use xlink:href='#icon-file-text2'></use></svg></label><input id='data-3ada64f7-b87a-48c0-8f16-3108a92d3995' class='xr-var-data-in' type='checkbox'><label for='data-3ada64f7-b87a-48c0-8f16-3108a92d3995' title='Show/Hide data repr'><svg class='icon xr-icon-database'><use xlink:href='#icon-database'></use></svg></label><div class='xr-var-attrs'><dl class='xr-attrs'></dl></div><div class='xr-var-data'><pre>array([&#x27;Environmental Plantings&#x27;, &#x27;Riparian Plantings&#x27;, &#x27;Sheep Agroforestry&#x27;,\n       &#x27;Beef Agroforestry&#x27;, &#x27;Carbon Plantings (Block)&#x27;,\n       &#x27;Sheep Carbon Plantings (Belt)&#x27;, &#x27;Beef Carbon Plantings (Belt)&#x27;,\n       &#x27;BECCS&#x27;, &#x27;Destocked - natural land&#x27;], dtype=object)</pre></div></li></ul></div></li><li class='xr-section-item'><input id='section-3c535bcb-a0c8-45ec-b962-c946021bed95' class='xr-section-summary-in' type='checkbox'  ><label for='section-3c535bcb-a0c8-45ec-b962-c946021bed95' class='xr-section-summary' >Indexes: <span>(2)</span></label><div class='xr-section-inline-details'></div><div class='xr-section-details'><ul class='xr-var-list'><li class='xr-var-item'><div class='xr-index-name'><div>cell</div></div><div class='xr-index-preview'>PandasIndex</div><div></div><input id='index-e63df573-1627-4629-85fb-0af56d6359c1' class='xr-index-data-in' type='checkbox'/><label for='index-e63df573-1627-4629-85fb-0af56d6359c1' title='Show/Hide index repr'><svg class='icon xr-icon-database'><use xlink:href='#icon-database'></use></svg></label><div class='xr-index-data'><pre>PandasIndex(Index([     0,      1,      2,      3,      4,      5,      6,      7,      8,\n            9,\n       ...\n       168768, 168769, 168770, 168771, 168772, 168773, 168774, 168775, 168776,\n       168777],\n      dtype=&#x27;int64&#x27;, name=&#x27;cell&#x27;, length=168778))</pre></div></li><li class='xr-var-item'><div class='xr-index-name'><div>lu</div></div><div class='xr-index-preview'>PandasIndex</div><div></div><input id='index-cf546e3a-9f54-4cb2-9544-08715b9da438' class='xr-index-data-in' type='checkbox'/><label for='index-cf546e3a-9f54-4cb2-9544-08715b9da438' title='Show/Hide index repr'><svg class='icon xr-icon-database'><use xlink:href='#icon-database'></use></svg></label><div class='xr-index-data'><pre>PandasIndex(Index([&#x27;Environmental Plantings&#x27;, &#x27;Riparian Plantings&#x27;, &#x27;Sheep Agroforestry&#x27;,\n       &#x27;Beef Agroforestry&#x27;, &#x27;Carbon Plantings (Block)&#x27;,\n       &#x27;Sheep Carbon Plantings (Belt)&#x27;, &#x27;Beef Carbon Plantings (Belt)&#x27;,\n       &#x27;BECCS&#x27;, &#x27;Destocked - natural land&#x27;],\n      dtype=&#x27;object&#x27;, name=&#x27;lu&#x27;))</pre></div></li></ul></div></li><li class='xr-section-item'><input id='section-6f64cb05-e8ce-4ac2-aea8-856d5178a48e' class='xr-section-summary-in' type='checkbox' disabled ><label for='section-6f64cb05-e8ce-4ac2-aea8-856d5178a48e' class='xr-section-summary'  title='Expand/collapse section'>Attributes: <span>(0)</span></label><div class='xr-section-inline-details'></div><div class='xr-section-details'><dl class='xr-attrs'></dl></div></li></ul></div></div>"
     },
     "execution_count": 10,
     "metadata": {},
     "output_type": "execute_result"
    }
   ],
   "source": [
    "path = r\"\\\\school-les-m.shares.deakin.edu.au\\school-les-m\\Planet-A\\LUF-Modelling\\LUTO2_XH\\LUTO2\\output\\20250926_Paper2_Results_HPC\\carbon_price\\0_base_data\\Run_01_GHG_high_BIO_high_CUT_50\\2013\\xr_area_non_agricultural_landuse_2013.nc\"\n",
    "da = xr.open_dataarray(path)\n",
    "da"
   ],
   "metadata": {
    "collapsed": false,
    "ExecuteTime": {
     "end_time": "2025-10-01T00:41:29.789370800Z",
     "start_time": "2025-10-01T00:41:29.733357700Z"
    }
   },
   "id": "250461c48cb0d6c8"
  },
  {
   "cell_type": "code",
   "execution_count": 13,
   "outputs": [
    {
     "data": {
      "text/plain": "cell\n0         0.0\n1         0.0\n2         0.0\n3         0.0\n4         0.0\n         ... \n168773    0.0\n168774    0.0\n168775    0.0\n168776    0.0\n168777    0.0\nLength: 168778, dtype: float32"
     },
     "execution_count": 13,
     "metadata": {},
     "output_type": "execute_result"
    }
   ],
   "source": [
    "da.sel({'lu':'Environmental Plantings'}).to_pandas()"
   ],
   "metadata": {
    "collapsed": false,
    "ExecuteTime": {
     "end_time": "2025-10-01T00:42:04.705106800Z",
     "start_time": "2025-10-01T00:42:04.472052200Z"
    }
   },
   "id": "3eba3edf0785b14e"
  },
  {
   "cell_type": "code",
   "execution_count": 14,
   "outputs": [
    {
     "name": "stdout",
     "output_type": "stream",
     "text": [
      "   EP_BELT_AG_T_CO2_HA  EP_BELT_BG_T_CO2_HA\n",
      "0           673.215393           134.001419\n",
      "1           673.843506            98.373642\n",
      "2           672.864136            98.877716\n",
      "3           673.215393           134.001419\n",
      "4           673.843506            98.373642\n"
     ]
    }
   ],
   "source": [
    "import pandas as pd\n",
    "\n",
    "path = r\"\\\\school-les-m.shares.deakin.edu.au\\school-les-m\\Planet-A\\LUF-Modelling\\LUTO2_XH\\LUTO2\\input\\ep_belt_t_co2_ha.h5\"\n",
    "df = pd.read_hdf(path)\n",
    "print(df.head())"
   ],
   "metadata": {
    "collapsed": false,
    "ExecuteTime": {
     "end_time": "2025-10-01T01:40:35.006810700Z",
     "start_time": "2025-10-01T01:40:31.431431700Z"
    }
   },
   "id": "1266ee838387c8ee"
  },
  {
   "cell_type": "code",
   "execution_count": 15,
   "outputs": [
    {
     "data": {
      "text/plain": "         EP_BELT_AG_T_CO2_HA  EP_BELT_BG_T_CO2_HA\n0                 673.215393           134.001419\n1                 673.843506            98.373642\n2                 672.864136            98.877716\n3                 673.215393           134.001419\n4                 673.843506            98.373642\n...                      ...                  ...\n6956402          3188.751221          1529.633545\n6956403          1208.387939           663.364380\n6956404          1282.398438           686.035645\n6956405          1221.125122           632.502075\n6956406           684.030762           196.931122\n\n[6956407 rows x 2 columns]",
      "text/html": "<div>\n<style scoped>\n    .dataframe tbody tr th:only-of-type {\n        vertical-align: middle;\n    }\n\n    .dataframe tbody tr th {\n        vertical-align: top;\n    }\n\n    .dataframe thead th {\n        text-align: right;\n    }\n</style>\n<table border=\"1\" class=\"dataframe\">\n  <thead>\n    <tr style=\"text-align: right;\">\n      <th></th>\n      <th>EP_BELT_AG_T_CO2_HA</th>\n      <th>EP_BELT_BG_T_CO2_HA</th>\n    </tr>\n  </thead>\n  <tbody>\n    <tr>\n      <th>0</th>\n      <td>673.215393</td>\n      <td>134.001419</td>\n    </tr>\n    <tr>\n      <th>1</th>\n      <td>673.843506</td>\n      <td>98.373642</td>\n    </tr>\n    <tr>\n      <th>2</th>\n      <td>672.864136</td>\n      <td>98.877716</td>\n    </tr>\n    <tr>\n      <th>3</th>\n      <td>673.215393</td>\n      <td>134.001419</td>\n    </tr>\n    <tr>\n      <th>4</th>\n      <td>673.843506</td>\n      <td>98.373642</td>\n    </tr>\n    <tr>\n      <th>...</th>\n      <td>...</td>\n      <td>...</td>\n    </tr>\n    <tr>\n      <th>6956402</th>\n      <td>3188.751221</td>\n      <td>1529.633545</td>\n    </tr>\n    <tr>\n      <th>6956403</th>\n      <td>1208.387939</td>\n      <td>663.364380</td>\n    </tr>\n    <tr>\n      <th>6956404</th>\n      <td>1282.398438</td>\n      <td>686.035645</td>\n    </tr>\n    <tr>\n      <th>6956405</th>\n      <td>1221.125122</td>\n      <td>632.502075</td>\n    </tr>\n    <tr>\n      <th>6956406</th>\n      <td>684.030762</td>\n      <td>196.931122</td>\n    </tr>\n  </tbody>\n</table>\n<p>6956407 rows × 2 columns</p>\n</div>"
     },
     "execution_count": 15,
     "metadata": {},
     "output_type": "execute_result"
    }
   ],
   "source": [
    "df"
   ],
   "metadata": {
    "collapsed": false,
    "ExecuteTime": {
     "end_time": "2025-10-01T01:41:15.834735700Z",
     "start_time": "2025-10-01T01:41:15.645691100Z"
    }
   },
   "id": "3e4bbccf2fbddac0"
  },
  {
   "cell_type": "code",
   "execution_count": 18,
   "outputs": [
    {
     "data": {
      "text/plain": "295.7718"
     },
     "execution_count": 18,
     "metadata": {},
     "output_type": "execute_result"
    }
   ],
   "source": [
    "(df.EP_BELT_AG_T_CO2_HA + df.EP_BELT_BG_T_CO2_HA).mean()"
   ],
   "metadata": {
    "collapsed": false,
    "ExecuteTime": {
     "end_time": "2025-10-01T01:43:04.814773200Z",
     "start_time": "2025-10-01T01:43:04.631728800Z"
    }
   },
   "id": "1d4f5bc2fb6ec9c9"
  },
  {
   "cell_type": "code",
   "execution_count": null,
   "outputs": [],
   "source": [],
   "metadata": {
    "collapsed": false
   },
   "id": "d5cfc25db07df6e3"
  }
 ],
 "metadata": {
  "kernelspec": {
   "display_name": "Python 3",
   "language": "python",
   "name": "python3"
  },
  "language_info": {
   "codemirror_mode": {
    "name": "ipython",
    "version": 2
   },
   "file_extension": ".py",
   "mimetype": "text/x-python",
   "name": "python",
   "nbconvert_exporter": "python",
   "pygments_lexer": "ipython2",
   "version": "2.7.6"
  }
 },
 "nbformat": 4,
 "nbformat_minor": 5
}
