{
 "cells": [
  {
   "cell_type": "code",
   "execution_count": 2,
   "outputs": [],
   "source": [
    "import numpy as np\n",
    "import xarray as xr\n",
    "from typing import Union"
   ],
   "metadata": {
    "collapsed": false,
    "ExecuteTime": {
     "end_time": "2025-10-02T13:46:48.480471Z",
     "start_time": "2025-10-02T13:46:47.679283600Z"
    }
   },
   "id": "99897383d3603a53"
  },
  {
   "cell_type": "code",
   "execution_count": 3,
   "outputs": [
    {
     "data": {
      "text/plain": "<xarray.DataArray 'data' (scenario: 11, Year: 40, type: 168778)>\n[74262320 values with dtype=float32]\nCoordinates:\n  * Year      (Year) int32 2011 2012 2013 2014 2015 ... 2046 2047 2048 2049 2050\n  * scenario  (scenario) object 'carbon_high_bio_50' ... 'Counterfactual_carb...\n  * type      (type) int64 0 1 2 3 4 5 ... 168773 168774 168775 168776 168777",
      "text/html": "<div><svg style=\"position: absolute; width: 0; height: 0; overflow: hidden\">\n<defs>\n<symbol id=\"icon-database\" viewBox=\"0 0 32 32\">\n<path d=\"M16 0c-8.837 0-16 2.239-16 5v4c0 2.761 7.163 5 16 5s16-2.239 16-5v-4c0-2.761-7.163-5-16-5z\"></path>\n<path d=\"M16 17c-8.837 0-16-2.239-16-5v6c0 2.761 7.163 5 16 5s16-2.239 16-5v-6c0 2.761-7.163 5-16 5z\"></path>\n<path d=\"M16 26c-8.837 0-16-2.239-16-5v6c0 2.761 7.163 5 16 5s16-2.239 16-5v-6c0 2.761-7.163 5-16 5z\"></path>\n</symbol>\n<symbol id=\"icon-file-text2\" viewBox=\"0 0 32 32\">\n<path d=\"M28.681 7.159c-0.694-0.947-1.662-2.053-2.724-3.116s-2.169-2.030-3.116-2.724c-1.612-1.182-2.393-1.319-2.841-1.319h-15.5c-1.378 0-2.5 1.121-2.5 2.5v27c0 1.378 1.122 2.5 2.5 2.5h23c1.378 0 2.5-1.122 2.5-2.5v-19.5c0-0.448-0.137-1.23-1.319-2.841zM24.543 5.457c0.959 0.959 1.712 1.825 2.268 2.543h-4.811v-4.811c0.718 0.556 1.584 1.309 2.543 2.268zM28 29.5c0 0.271-0.229 0.5-0.5 0.5h-23c-0.271 0-0.5-0.229-0.5-0.5v-27c0-0.271 0.229-0.5 0.5-0.5 0 0 15.499-0 15.5 0v7c0 0.552 0.448 1 1 1h7v19.5z\"></path>\n<path d=\"M23 26h-14c-0.552 0-1-0.448-1-1s0.448-1 1-1h14c0.552 0 1 0.448 1 1s-0.448 1-1 1z\"></path>\n<path d=\"M23 22h-14c-0.552 0-1-0.448-1-1s0.448-1 1-1h14c0.552 0 1 0.448 1 1s-0.448 1-1 1z\"></path>\n<path d=\"M23 18h-14c-0.552 0-1-0.448-1-1s0.448-1 1-1h14c0.552 0 1 0.448 1 1s-0.448 1-1 1z\"></path>\n</symbol>\n</defs>\n</svg>\n<style>/* CSS stylesheet for displaying xarray objects in jupyterlab.\n *\n */\n\n:root {\n  --xr-font-color0: var(--jp-content-font-color0, rgba(0, 0, 0, 1));\n  --xr-font-color2: var(--jp-content-font-color2, rgba(0, 0, 0, 0.54));\n  --xr-font-color3: var(--jp-content-font-color3, rgba(0, 0, 0, 0.38));\n  --xr-border-color: var(--jp-border-color2, #e0e0e0);\n  --xr-disabled-color: var(--jp-layout-color3, #bdbdbd);\n  --xr-background-color: var(--jp-layout-color0, white);\n  --xr-background-color-row-even: var(--jp-layout-color1, white);\n  --xr-background-color-row-odd: var(--jp-layout-color2, #eeeeee);\n}\n\nhtml[theme=dark],\nbody[data-theme=dark],\nbody.vscode-dark {\n  --xr-font-color0: rgba(255, 255, 255, 1);\n  --xr-font-color2: rgba(255, 255, 255, 0.54);\n  --xr-font-color3: rgba(255, 255, 255, 0.38);\n  --xr-border-color: #1F1F1F;\n  --xr-disabled-color: #515151;\n  --xr-background-color: #111111;\n  --xr-background-color-row-even: #111111;\n  --xr-background-color-row-odd: #313131;\n}\n\n.xr-wrap {\n  display: block !important;\n  min-width: 300px;\n  max-width: 700px;\n}\n\n.xr-text-repr-fallback {\n  /* fallback to plain text repr when CSS is not injected (untrusted notebook) */\n  display: none;\n}\n\n.xr-header {\n  padding-top: 6px;\n  padding-bottom: 6px;\n  margin-bottom: 4px;\n  border-bottom: solid 1px var(--xr-border-color);\n}\n\n.xr-header > div,\n.xr-header > ul {\n  display: inline;\n  margin-top: 0;\n  margin-bottom: 0;\n}\n\n.xr-obj-type,\n.xr-array-name {\n  margin-left: 2px;\n  margin-right: 10px;\n}\n\n.xr-obj-type {\n  color: var(--xr-font-color2);\n}\n\n.xr-sections {\n  padding-left: 0 !important;\n  display: grid;\n  grid-template-columns: 150px auto auto 1fr 20px 20px;\n}\n\n.xr-section-item {\n  display: contents;\n}\n\n.xr-section-item input {\n  display: none;\n}\n\n.xr-section-item input + label {\n  color: var(--xr-disabled-color);\n}\n\n.xr-section-item input:enabled + label {\n  cursor: pointer;\n  color: var(--xr-font-color2);\n}\n\n.xr-section-item input:enabled + label:hover {\n  color: var(--xr-font-color0);\n}\n\n.xr-section-summary {\n  grid-column: 1;\n  color: var(--xr-font-color2);\n  font-weight: 500;\n}\n\n.xr-section-summary > span {\n  display: inline-block;\n  padding-left: 0.5em;\n}\n\n.xr-section-summary-in:disabled + label {\n  color: var(--xr-font-color2);\n}\n\n.xr-section-summary-in + label:before {\n  display: inline-block;\n  content: '►';\n  font-size: 11px;\n  width: 15px;\n  text-align: center;\n}\n\n.xr-section-summary-in:disabled + label:before {\n  color: var(--xr-disabled-color);\n}\n\n.xr-section-summary-in:checked + label:before {\n  content: '▼';\n}\n\n.xr-section-summary-in:checked + label > span {\n  display: none;\n}\n\n.xr-section-summary,\n.xr-section-inline-details {\n  padding-top: 4px;\n  padding-bottom: 4px;\n}\n\n.xr-section-inline-details {\n  grid-column: 2 / -1;\n}\n\n.xr-section-details {\n  display: none;\n  grid-column: 1 / -1;\n  margin-bottom: 5px;\n}\n\n.xr-section-summary-in:checked ~ .xr-section-details {\n  display: contents;\n}\n\n.xr-array-wrap {\n  grid-column: 1 / -1;\n  display: grid;\n  grid-template-columns: 20px auto;\n}\n\n.xr-array-wrap > label {\n  grid-column: 1;\n  vertical-align: top;\n}\n\n.xr-preview {\n  color: var(--xr-font-color3);\n}\n\n.xr-array-preview,\n.xr-array-data {\n  padding: 0 5px !important;\n  grid-column: 2;\n}\n\n.xr-array-data,\n.xr-array-in:checked ~ .xr-array-preview {\n  display: none;\n}\n\n.xr-array-in:checked ~ .xr-array-data,\n.xr-array-preview {\n  display: inline-block;\n}\n\n.xr-dim-list {\n  display: inline-block !important;\n  list-style: none;\n  padding: 0 !important;\n  margin: 0;\n}\n\n.xr-dim-list li {\n  display: inline-block;\n  padding: 0;\n  margin: 0;\n}\n\n.xr-dim-list:before {\n  content: '(';\n}\n\n.xr-dim-list:after {\n  content: ')';\n}\n\n.xr-dim-list li:not(:last-child):after {\n  content: ',';\n  padding-right: 5px;\n}\n\n.xr-has-index {\n  font-weight: bold;\n}\n\n.xr-var-list,\n.xr-var-item {\n  display: contents;\n}\n\n.xr-var-item > div,\n.xr-var-item label,\n.xr-var-item > .xr-var-name span {\n  background-color: var(--xr-background-color-row-even);\n  margin-bottom: 0;\n}\n\n.xr-var-item > .xr-var-name:hover span {\n  padding-right: 5px;\n}\n\n.xr-var-list > li:nth-child(odd) > div,\n.xr-var-list > li:nth-child(odd) > label,\n.xr-var-list > li:nth-child(odd) > .xr-var-name span {\n  background-color: var(--xr-background-color-row-odd);\n}\n\n.xr-var-name {\n  grid-column: 1;\n}\n\n.xr-var-dims {\n  grid-column: 2;\n}\n\n.xr-var-dtype {\n  grid-column: 3;\n  text-align: right;\n  color: var(--xr-font-color2);\n}\n\n.xr-var-preview {\n  grid-column: 4;\n}\n\n.xr-index-preview {\n  grid-column: 2 / 5;\n  color: var(--xr-font-color2);\n}\n\n.xr-var-name,\n.xr-var-dims,\n.xr-var-dtype,\n.xr-preview,\n.xr-attrs dt {\n  white-space: nowrap;\n  overflow: hidden;\n  text-overflow: ellipsis;\n  padding-right: 10px;\n}\n\n.xr-var-name:hover,\n.xr-var-dims:hover,\n.xr-var-dtype:hover,\n.xr-attrs dt:hover {\n  overflow: visible;\n  width: auto;\n  z-index: 1;\n}\n\n.xr-var-attrs,\n.xr-var-data,\n.xr-index-data {\n  display: none;\n  background-color: var(--xr-background-color) !important;\n  padding-bottom: 5px !important;\n}\n\n.xr-var-attrs-in:checked ~ .xr-var-attrs,\n.xr-var-data-in:checked ~ .xr-var-data,\n.xr-index-data-in:checked ~ .xr-index-data {\n  display: block;\n}\n\n.xr-var-data > table {\n  float: right;\n}\n\n.xr-var-name span,\n.xr-var-data,\n.xr-index-name div,\n.xr-index-data,\n.xr-attrs {\n  padding-left: 25px !important;\n}\n\n.xr-attrs,\n.xr-var-attrs,\n.xr-var-data,\n.xr-index-data {\n  grid-column: 1 / -1;\n}\n\ndl.xr-attrs {\n  padding: 0;\n  margin: 0;\n  display: grid;\n  grid-template-columns: 125px auto;\n}\n\n.xr-attrs dt,\n.xr-attrs dd {\n  padding: 0;\n  margin: 0;\n  float: left;\n  padding-right: 10px;\n  width: auto;\n}\n\n.xr-attrs dt {\n  font-weight: normal;\n  grid-column: 1;\n}\n\n.xr-attrs dt:hover span {\n  display: inline-block;\n  background: var(--xr-background-color);\n  padding-right: 10px;\n}\n\n.xr-attrs dd {\n  grid-column: 2;\n  white-space: pre-wrap;\n  word-break: break-all;\n}\n\n.xr-icon-database,\n.xr-icon-file-text2,\n.xr-no-icon {\n  display: inline-block;\n  vertical-align: middle;\n  width: 1em;\n  height: 1.5em !important;\n  stroke-width: 0;\n  stroke: currentColor;\n  fill: currentColor;\n}\n</style><pre class='xr-text-repr-fallback'>&lt;xarray.DataArray &#x27;data&#x27; (scenario: 11, Year: 40, type: 168778)&gt;\n[74262320 values with dtype=float32]\nCoordinates:\n  * Year      (Year) int32 2011 2012 2013 2014 2015 ... 2046 2047 2048 2049 2050\n  * scenario  (scenario) object &#x27;carbon_high_bio_50&#x27; ... &#x27;Counterfactual_carb...\n  * type      (type) int64 0 1 2 3 4 5 ... 168773 168774 168775 168776 168777</pre><div class='xr-wrap' style='display:none'><div class='xr-header'><div class='xr-obj-type'>xarray.DataArray</div><div class='xr-array-name'>'data'</div><ul class='xr-dim-list'><li><span class='xr-has-index'>scenario</span>: 11</li><li><span class='xr-has-index'>Year</span>: 40</li><li><span class='xr-has-index'>type</span>: 168778</li></ul></div><ul class='xr-sections'><li class='xr-section-item'><div class='xr-array-wrap'><input id='section-41508dc2-f50b-4b21-b632-5d5fdd653447' class='xr-array-in' type='checkbox' checked><label for='section-41508dc2-f50b-4b21-b632-5d5fdd653447' title='Show/hide data repr'><svg class='icon xr-icon-database'><use xlink:href='#icon-database'></use></svg></label><div class='xr-array-preview xr-preview'><span>...</span></div><div class='xr-array-data'><pre>[74262320 values with dtype=float32]</pre></div></div></li><li class='xr-section-item'><input id='section-84e41923-15ee-4c28-aed9-0e44e637efd3' class='xr-section-summary-in' type='checkbox'  checked><label for='section-84e41923-15ee-4c28-aed9-0e44e637efd3' class='xr-section-summary' >Coordinates: <span>(3)</span></label><div class='xr-section-inline-details'></div><div class='xr-section-details'><ul class='xr-var-list'><li class='xr-var-item'><div class='xr-var-name'><span class='xr-has-index'>Year</span></div><div class='xr-var-dims'>(Year)</div><div class='xr-var-dtype'>int32</div><div class='xr-var-preview xr-preview'>2011 2012 2013 ... 2048 2049 2050</div><input id='attrs-14d8d2ce-69ac-406d-abbe-6d0210777d19' class='xr-var-attrs-in' type='checkbox' disabled><label for='attrs-14d8d2ce-69ac-406d-abbe-6d0210777d19' title='Show/Hide attributes'><svg class='icon xr-icon-file-text2'><use xlink:href='#icon-file-text2'></use></svg></label><input id='data-cc6e9412-425e-441a-8cab-914c00af66dd' class='xr-var-data-in' type='checkbox'><label for='data-cc6e9412-425e-441a-8cab-914c00af66dd' title='Show/Hide data repr'><svg class='icon xr-icon-database'><use xlink:href='#icon-database'></use></svg></label><div class='xr-var-attrs'><dl class='xr-attrs'></dl></div><div class='xr-var-data'><pre>array([2011, 2012, 2013, 2014, 2015, 2016, 2017, 2018, 2019, 2020, 2021, 2022,\n       2023, 2024, 2025, 2026, 2027, 2028, 2029, 2030, 2031, 2032, 2033, 2034,\n       2035, 2036, 2037, 2038, 2039, 2040, 2041, 2042, 2043, 2044, 2045, 2046,\n       2047, 2048, 2049, 2050])</pre></div></li><li class='xr-var-item'><div class='xr-var-name'><span class='xr-has-index'>scenario</span></div><div class='xr-var-dims'>(scenario)</div><div class='xr-var-dtype'>object</div><div class='xr-var-preview xr-preview'>&#x27;carbon_high_bio_50&#x27; ... &#x27;Counte...</div><input id='attrs-2a79a6d5-1f4b-4690-b2f1-914e5e02b4ae' class='xr-var-attrs-in' type='checkbox' disabled><label for='attrs-2a79a6d5-1f4b-4690-b2f1-914e5e02b4ae' title='Show/Hide attributes'><svg class='icon xr-icon-file-text2'><use xlink:href='#icon-file-text2'></use></svg></label><input id='data-78d18c91-c133-45fa-b1a3-454266f35ccb' class='xr-var-data-in' type='checkbox'><label for='data-78d18c91-c133-45fa-b1a3-454266f35ccb' title='Show/Hide data repr'><svg class='icon xr-icon-database'><use xlink:href='#icon-database'></use></svg></label><div class='xr-var-attrs'><dl class='xr-attrs'></dl></div><div class='xr-var-data'><pre>array([&#x27;carbon_high_bio_50&#x27;, &#x27;Counterfactual_carbon_low_bio_10&#x27;,\n       &#x27;Counterfactual_carbon_low_bio_20&#x27;, &#x27;Counterfactual_carbon_low_bio_30&#x27;,\n       &#x27;Counterfactual_carbon_low_bio_40&#x27;, &#x27;Counterfactual_carbon_low_bio_50&#x27;,\n       &#x27;Counterfactual_carbon_high_bio_10&#x27;,\n       &#x27;Counterfactual_carbon_high_bio_20&#x27;,\n       &#x27;Counterfactual_carbon_high_bio_30&#x27;,\n       &#x27;Counterfactual_carbon_high_bio_40&#x27;,\n       &#x27;Counterfactual_carbon_high_bio_50&#x27;], dtype=object)</pre></div></li><li class='xr-var-item'><div class='xr-var-name'><span class='xr-has-index'>type</span></div><div class='xr-var-dims'>(type)</div><div class='xr-var-dtype'>int64</div><div class='xr-var-preview xr-preview'>0 1 2 3 ... 168775 168776 168777</div><input id='attrs-ac09f7a3-f38e-4c17-95fa-4db0927804b9' class='xr-var-attrs-in' type='checkbox' disabled><label for='attrs-ac09f7a3-f38e-4c17-95fa-4db0927804b9' title='Show/Hide attributes'><svg class='icon xr-icon-file-text2'><use xlink:href='#icon-file-text2'></use></svg></label><input id='data-c3693cee-173f-43f5-a697-68e79f473d8f' class='xr-var-data-in' type='checkbox'><label for='data-c3693cee-173f-43f5-a697-68e79f473d8f' title='Show/Hide data repr'><svg class='icon xr-icon-database'><use xlink:href='#icon-database'></use></svg></label><div class='xr-var-attrs'><dl class='xr-attrs'></dl></div><div class='xr-var-data'><pre>array([     0,      1,      2, ..., 168775, 168776, 168777], dtype=int64)</pre></div></li></ul></div></li><li class='xr-section-item'><input id='section-97dd938a-39b2-438d-99b3-a4a19794d4b7' class='xr-section-summary-in' type='checkbox'  ><label for='section-97dd938a-39b2-438d-99b3-a4a19794d4b7' class='xr-section-summary' >Indexes: <span>(3)</span></label><div class='xr-section-inline-details'></div><div class='xr-section-details'><ul class='xr-var-list'><li class='xr-var-item'><div class='xr-index-name'><div>Year</div></div><div class='xr-index-preview'>PandasIndex</div><div></div><input id='index-23a9c1ac-2f0d-4f53-aeb5-4e4685765c3c' class='xr-index-data-in' type='checkbox'/><label for='index-23a9c1ac-2f0d-4f53-aeb5-4e4685765c3c' title='Show/Hide index repr'><svg class='icon xr-icon-database'><use xlink:href='#icon-database'></use></svg></label><div class='xr-index-data'><pre>PandasIndex(Index([2011, 2012, 2013, 2014, 2015, 2016, 2017, 2018, 2019, 2020, 2021, 2022,\n       2023, 2024, 2025, 2026, 2027, 2028, 2029, 2030, 2031, 2032, 2033, 2034,\n       2035, 2036, 2037, 2038, 2039, 2040, 2041, 2042, 2043, 2044, 2045, 2046,\n       2047, 2048, 2049, 2050],\n      dtype=&#x27;int32&#x27;, name=&#x27;Year&#x27;))</pre></div></li><li class='xr-var-item'><div class='xr-index-name'><div>scenario</div></div><div class='xr-index-preview'>PandasIndex</div><div></div><input id='index-88d97434-9923-447e-b141-9df1bff4c46f' class='xr-index-data-in' type='checkbox'/><label for='index-88d97434-9923-447e-b141-9df1bff4c46f' title='Show/Hide index repr'><svg class='icon xr-icon-database'><use xlink:href='#icon-database'></use></svg></label><div class='xr-index-data'><pre>PandasIndex(Index([&#x27;carbon_high_bio_50&#x27;, &#x27;Counterfactual_carbon_low_bio_10&#x27;,\n       &#x27;Counterfactual_carbon_low_bio_20&#x27;, &#x27;Counterfactual_carbon_low_bio_30&#x27;,\n       &#x27;Counterfactual_carbon_low_bio_40&#x27;, &#x27;Counterfactual_carbon_low_bio_50&#x27;,\n       &#x27;Counterfactual_carbon_high_bio_10&#x27;,\n       &#x27;Counterfactual_carbon_high_bio_20&#x27;,\n       &#x27;Counterfactual_carbon_high_bio_30&#x27;,\n       &#x27;Counterfactual_carbon_high_bio_40&#x27;,\n       &#x27;Counterfactual_carbon_high_bio_50&#x27;],\n      dtype=&#x27;object&#x27;, name=&#x27;scenario&#x27;))</pre></div></li><li class='xr-var-item'><div class='xr-index-name'><div>type</div></div><div class='xr-index-preview'>PandasIndex</div><div></div><input id='index-504e362a-7a4a-4248-a620-69d51f974586' class='xr-index-data-in' type='checkbox'/><label for='index-504e362a-7a4a-4248-a620-69d51f974586' title='Show/Hide index repr'><svg class='icon xr-icon-database'><use xlink:href='#icon-database'></use></svg></label><div class='xr-index-data'><pre>PandasIndex(Index([     0,      1,      2,      3,      4,      5,      6,      7,      8,\n            9,\n       ...\n       168768, 168769, 168770, 168771, 168772, 168773, 168774, 168775, 168776,\n       168777],\n      dtype=&#x27;int64&#x27;, name=&#x27;type&#x27;, length=168778))</pre></div></li></ul></div></li><li class='xr-section-item'><input id='section-b73eecf1-8e8f-4c9c-ac38-ff90f17c8240' class='xr-section-summary-in' type='checkbox' disabled ><label for='section-b73eecf1-8e8f-4c9c-ac38-ff90f17c8240' class='xr-section-summary'  title='Expand/collapse section'>Attributes: <span>(0)</span></label><div class='xr-section-inline-details'></div><div class='xr-section-details'><dl class='xr-attrs'></dl></div></li></ul></div></div>"
     },
     "execution_count": 3,
     "metadata": {},
     "output_type": "execute_result"
    }
   ],
   "source": [
    "path = r\"\\\\school-les-m.shares.deakin.edu.au\\school-les-m\\Planet-A\\LUF-Modelling\\LUTO2_XH\\LUTO2\\output\\20250926_Paper2_Results_HPC\\carbon_price\\1_draw_data\\xr_sol_carbon_price.nc\"\n",
    "da = xr.open_dataarray(path)\n",
    "da"
   ],
   "metadata": {
    "collapsed": false,
    "ExecuteTime": {
     "end_time": "2025-10-02T13:46:49.037602700Z",
     "start_time": "2025-10-02T13:46:48.483473Z"
    }
   },
   "id": "c8d07785d35a040b"
  },
  {
   "cell_type": "code",
   "execution_count": 4,
   "outputs": [
    {
     "data": {
      "text/plain": "<xarray.DataArray 'data' (scenario: 22, Year: 40)>\n[880 values with dtype=float32]\nCoordinates:\n  * scenario  (scenario) object 'carbon_low' ... 'Counterfactual_carbon_high_...\n  * Year      (Year) int64 2011 2012 2013 2014 2015 ... 2046 2047 2048 2049 2050",
      "text/html": "<div><svg style=\"position: absolute; width: 0; height: 0; overflow: hidden\">\n<defs>\n<symbol id=\"icon-database\" viewBox=\"0 0 32 32\">\n<path d=\"M16 0c-8.837 0-16 2.239-16 5v4c0 2.761 7.163 5 16 5s16-2.239 16-5v-4c0-2.761-7.163-5-16-5z\"></path>\n<path d=\"M16 17c-8.837 0-16-2.239-16-5v6c0 2.761 7.163 5 16 5s16-2.239 16-5v-6c0 2.761-7.163 5-16 5z\"></path>\n<path d=\"M16 26c-8.837 0-16-2.239-16-5v6c0 2.761 7.163 5 16 5s16-2.239 16-5v-6c0 2.761-7.163 5-16 5z\"></path>\n</symbol>\n<symbol id=\"icon-file-text2\" viewBox=\"0 0 32 32\">\n<path d=\"M28.681 7.159c-0.694-0.947-1.662-2.053-2.724-3.116s-2.169-2.030-3.116-2.724c-1.612-1.182-2.393-1.319-2.841-1.319h-15.5c-1.378 0-2.5 1.121-2.5 2.5v27c0 1.378 1.122 2.5 2.5 2.5h23c1.378 0 2.5-1.122 2.5-2.5v-19.5c0-0.448-0.137-1.23-1.319-2.841zM24.543 5.457c0.959 0.959 1.712 1.825 2.268 2.543h-4.811v-4.811c0.718 0.556 1.584 1.309 2.543 2.268zM28 29.5c0 0.271-0.229 0.5-0.5 0.5h-23c-0.271 0-0.5-0.229-0.5-0.5v-27c0-0.271 0.229-0.5 0.5-0.5 0 0 15.499-0 15.5 0v7c0 0.552 0.448 1 1 1h7v19.5z\"></path>\n<path d=\"M23 26h-14c-0.552 0-1-0.448-1-1s0.448-1 1-1h14c0.552 0 1 0.448 1 1s-0.448 1-1 1z\"></path>\n<path d=\"M23 22h-14c-0.552 0-1-0.448-1-1s0.448-1 1-1h14c0.552 0 1 0.448 1 1s-0.448 1-1 1z\"></path>\n<path d=\"M23 18h-14c-0.552 0-1-0.448-1-1s0.448-1 1-1h14c0.552 0 1 0.448 1 1s-0.448 1-1 1z\"></path>\n</symbol>\n</defs>\n</svg>\n<style>/* CSS stylesheet for displaying xarray objects in jupyterlab.\n *\n */\n\n:root {\n  --xr-font-color0: var(--jp-content-font-color0, rgba(0, 0, 0, 1));\n  --xr-font-color2: var(--jp-content-font-color2, rgba(0, 0, 0, 0.54));\n  --xr-font-color3: var(--jp-content-font-color3, rgba(0, 0, 0, 0.38));\n  --xr-border-color: var(--jp-border-color2, #e0e0e0);\n  --xr-disabled-color: var(--jp-layout-color3, #bdbdbd);\n  --xr-background-color: var(--jp-layout-color0, white);\n  --xr-background-color-row-even: var(--jp-layout-color1, white);\n  --xr-background-color-row-odd: var(--jp-layout-color2, #eeeeee);\n}\n\nhtml[theme=dark],\nbody[data-theme=dark],\nbody.vscode-dark {\n  --xr-font-color0: rgba(255, 255, 255, 1);\n  --xr-font-color2: rgba(255, 255, 255, 0.54);\n  --xr-font-color3: rgba(255, 255, 255, 0.38);\n  --xr-border-color: #1F1F1F;\n  --xr-disabled-color: #515151;\n  --xr-background-color: #111111;\n  --xr-background-color-row-even: #111111;\n  --xr-background-color-row-odd: #313131;\n}\n\n.xr-wrap {\n  display: block !important;\n  min-width: 300px;\n  max-width: 700px;\n}\n\n.xr-text-repr-fallback {\n  /* fallback to plain text repr when CSS is not injected (untrusted notebook) */\n  display: none;\n}\n\n.xr-header {\n  padding-top: 6px;\n  padding-bottom: 6px;\n  margin-bottom: 4px;\n  border-bottom: solid 1px var(--xr-border-color);\n}\n\n.xr-header > div,\n.xr-header > ul {\n  display: inline;\n  margin-top: 0;\n  margin-bottom: 0;\n}\n\n.xr-obj-type,\n.xr-array-name {\n  margin-left: 2px;\n  margin-right: 10px;\n}\n\n.xr-obj-type {\n  color: var(--xr-font-color2);\n}\n\n.xr-sections {\n  padding-left: 0 !important;\n  display: grid;\n  grid-template-columns: 150px auto auto 1fr 20px 20px;\n}\n\n.xr-section-item {\n  display: contents;\n}\n\n.xr-section-item input {\n  display: none;\n}\n\n.xr-section-item input + label {\n  color: var(--xr-disabled-color);\n}\n\n.xr-section-item input:enabled + label {\n  cursor: pointer;\n  color: var(--xr-font-color2);\n}\n\n.xr-section-item input:enabled + label:hover {\n  color: var(--xr-font-color0);\n}\n\n.xr-section-summary {\n  grid-column: 1;\n  color: var(--xr-font-color2);\n  font-weight: 500;\n}\n\n.xr-section-summary > span {\n  display: inline-block;\n  padding-left: 0.5em;\n}\n\n.xr-section-summary-in:disabled + label {\n  color: var(--xr-font-color2);\n}\n\n.xr-section-summary-in + label:before {\n  display: inline-block;\n  content: '►';\n  font-size: 11px;\n  width: 15px;\n  text-align: center;\n}\n\n.xr-section-summary-in:disabled + label:before {\n  color: var(--xr-disabled-color);\n}\n\n.xr-section-summary-in:checked + label:before {\n  content: '▼';\n}\n\n.xr-section-summary-in:checked + label > span {\n  display: none;\n}\n\n.xr-section-summary,\n.xr-section-inline-details {\n  padding-top: 4px;\n  padding-bottom: 4px;\n}\n\n.xr-section-inline-details {\n  grid-column: 2 / -1;\n}\n\n.xr-section-details {\n  display: none;\n  grid-column: 1 / -1;\n  margin-bottom: 5px;\n}\n\n.xr-section-summary-in:checked ~ .xr-section-details {\n  display: contents;\n}\n\n.xr-array-wrap {\n  grid-column: 1 / -1;\n  display: grid;\n  grid-template-columns: 20px auto;\n}\n\n.xr-array-wrap > label {\n  grid-column: 1;\n  vertical-align: top;\n}\n\n.xr-preview {\n  color: var(--xr-font-color3);\n}\n\n.xr-array-preview,\n.xr-array-data {\n  padding: 0 5px !important;\n  grid-column: 2;\n}\n\n.xr-array-data,\n.xr-array-in:checked ~ .xr-array-preview {\n  display: none;\n}\n\n.xr-array-in:checked ~ .xr-array-data,\n.xr-array-preview {\n  display: inline-block;\n}\n\n.xr-dim-list {\n  display: inline-block !important;\n  list-style: none;\n  padding: 0 !important;\n  margin: 0;\n}\n\n.xr-dim-list li {\n  display: inline-block;\n  padding: 0;\n  margin: 0;\n}\n\n.xr-dim-list:before {\n  content: '(';\n}\n\n.xr-dim-list:after {\n  content: ')';\n}\n\n.xr-dim-list li:not(:last-child):after {\n  content: ',';\n  padding-right: 5px;\n}\n\n.xr-has-index {\n  font-weight: bold;\n}\n\n.xr-var-list,\n.xr-var-item {\n  display: contents;\n}\n\n.xr-var-item > div,\n.xr-var-item label,\n.xr-var-item > .xr-var-name span {\n  background-color: var(--xr-background-color-row-even);\n  margin-bottom: 0;\n}\n\n.xr-var-item > .xr-var-name:hover span {\n  padding-right: 5px;\n}\n\n.xr-var-list > li:nth-child(odd) > div,\n.xr-var-list > li:nth-child(odd) > label,\n.xr-var-list > li:nth-child(odd) > .xr-var-name span {\n  background-color: var(--xr-background-color-row-odd);\n}\n\n.xr-var-name {\n  grid-column: 1;\n}\n\n.xr-var-dims {\n  grid-column: 2;\n}\n\n.xr-var-dtype {\n  grid-column: 3;\n  text-align: right;\n  color: var(--xr-font-color2);\n}\n\n.xr-var-preview {\n  grid-column: 4;\n}\n\n.xr-index-preview {\n  grid-column: 2 / 5;\n  color: var(--xr-font-color2);\n}\n\n.xr-var-name,\n.xr-var-dims,\n.xr-var-dtype,\n.xr-preview,\n.xr-attrs dt {\n  white-space: nowrap;\n  overflow: hidden;\n  text-overflow: ellipsis;\n  padding-right: 10px;\n}\n\n.xr-var-name:hover,\n.xr-var-dims:hover,\n.xr-var-dtype:hover,\n.xr-attrs dt:hover {\n  overflow: visible;\n  width: auto;\n  z-index: 1;\n}\n\n.xr-var-attrs,\n.xr-var-data,\n.xr-index-data {\n  display: none;\n  background-color: var(--xr-background-color) !important;\n  padding-bottom: 5px !important;\n}\n\n.xr-var-attrs-in:checked ~ .xr-var-attrs,\n.xr-var-data-in:checked ~ .xr-var-data,\n.xr-index-data-in:checked ~ .xr-index-data {\n  display: block;\n}\n\n.xr-var-data > table {\n  float: right;\n}\n\n.xr-var-name span,\n.xr-var-data,\n.xr-index-name div,\n.xr-index-data,\n.xr-attrs {\n  padding-left: 25px !important;\n}\n\n.xr-attrs,\n.xr-var-attrs,\n.xr-var-data,\n.xr-index-data {\n  grid-column: 1 / -1;\n}\n\ndl.xr-attrs {\n  padding: 0;\n  margin: 0;\n  display: grid;\n  grid-template-columns: 125px auto;\n}\n\n.xr-attrs dt,\n.xr-attrs dd {\n  padding: 0;\n  margin: 0;\n  float: left;\n  padding-right: 10px;\n  width: auto;\n}\n\n.xr-attrs dt {\n  font-weight: normal;\n  grid-column: 1;\n}\n\n.xr-attrs dt:hover span {\n  display: inline-block;\n  background: var(--xr-background-color);\n  padding-right: 10px;\n}\n\n.xr-attrs dd {\n  grid-column: 2;\n  white-space: pre-wrap;\n  word-break: break-all;\n}\n\n.xr-icon-database,\n.xr-icon-file-text2,\n.xr-no-icon {\n  display: inline-block;\n  vertical-align: middle;\n  width: 1em;\n  height: 1.5em !important;\n  stroke-width: 0;\n  stroke: currentColor;\n  fill: currentColor;\n}\n</style><pre class='xr-text-repr-fallback'>&lt;xarray.DataArray &#x27;data&#x27; (scenario: 22, Year: 40)&gt;\n[880 values with dtype=float32]\nCoordinates:\n  * scenario  (scenario) object &#x27;carbon_low&#x27; ... &#x27;Counterfactual_carbon_high_...\n  * Year      (Year) int64 2011 2012 2013 2014 2015 ... 2046 2047 2048 2049 2050</pre><div class='xr-wrap' style='display:none'><div class='xr-header'><div class='xr-obj-type'>xarray.DataArray</div><div class='xr-array-name'>'data'</div><ul class='xr-dim-list'><li><span class='xr-has-index'>scenario</span>: 22</li><li><span class='xr-has-index'>Year</span>: 40</li></ul></div><ul class='xr-sections'><li class='xr-section-item'><div class='xr-array-wrap'><input id='section-5ee6c788-06cb-444f-83ae-0d9592667639' class='xr-array-in' type='checkbox' checked><label for='section-5ee6c788-06cb-444f-83ae-0d9592667639' title='Show/hide data repr'><svg class='icon xr-icon-database'><use xlink:href='#icon-database'></use></svg></label><div class='xr-array-preview xr-preview'><span>...</span></div><div class='xr-array-data'><pre>[880 values with dtype=float32]</pre></div></div></li><li class='xr-section-item'><input id='section-05d58986-c1c8-4797-830c-7b3b2601e306' class='xr-section-summary-in' type='checkbox'  checked><label for='section-05d58986-c1c8-4797-830c-7b3b2601e306' class='xr-section-summary' >Coordinates: <span>(2)</span></label><div class='xr-section-inline-details'></div><div class='xr-section-details'><ul class='xr-var-list'><li class='xr-var-item'><div class='xr-var-name'><span class='xr-has-index'>scenario</span></div><div class='xr-var-dims'>(scenario)</div><div class='xr-var-dtype'>object</div><div class='xr-var-preview xr-preview'>&#x27;carbon_low&#x27; ... &#x27;Counterfactual...</div><input id='attrs-7eae97fe-33aa-450a-a869-d17c14a32cdc' class='xr-var-attrs-in' type='checkbox' disabled><label for='attrs-7eae97fe-33aa-450a-a869-d17c14a32cdc' title='Show/Hide attributes'><svg class='icon xr-icon-file-text2'><use xlink:href='#icon-file-text2'></use></svg></label><input id='data-ac3aea0d-2b78-495d-83f8-a78defd38124' class='xr-var-data-in' type='checkbox'><label for='data-ac3aea0d-2b78-495d-83f8-a78defd38124' title='Show/Hide data repr'><svg class='icon xr-icon-database'><use xlink:href='#icon-database'></use></svg></label><div class='xr-var-attrs'><dl class='xr-attrs'></dl></div><div class='xr-var-data'><pre>array([&#x27;carbon_low&#x27;, &#x27;carbon_high&#x27;, &#x27;carbon_low_bio_10&#x27;, &#x27;carbon_low_bio_20&#x27;,\n       &#x27;carbon_low_bio_30&#x27;, &#x27;carbon_low_bio_40&#x27;, &#x27;carbon_low_bio_50&#x27;,\n       &#x27;carbon_high_bio_10&#x27;, &#x27;carbon_high_bio_20&#x27;, &#x27;carbon_high_bio_30&#x27;,\n       &#x27;carbon_high_bio_40&#x27;, &#x27;carbon_high_bio_50&#x27;,\n       &#x27;Counterfactual_carbon_low_bio_10&#x27;, &#x27;Counterfactual_carbon_low_bio_20&#x27;,\n       &#x27;Counterfactual_carbon_low_bio_30&#x27;, &#x27;Counterfactual_carbon_low_bio_40&#x27;,\n       &#x27;Counterfactual_carbon_low_bio_50&#x27;, &#x27;Counterfactual_carbon_high_bio_10&#x27;,\n       &#x27;Counterfactual_carbon_high_bio_20&#x27;,\n       &#x27;Counterfactual_carbon_high_bio_30&#x27;,\n       &#x27;Counterfactual_carbon_high_bio_40&#x27;,\n       &#x27;Counterfactual_carbon_high_bio_50&#x27;], dtype=object)</pre></div></li><li class='xr-var-item'><div class='xr-var-name'><span class='xr-has-index'>Year</span></div><div class='xr-var-dims'>(Year)</div><div class='xr-var-dtype'>int64</div><div class='xr-var-preview xr-preview'>2011 2012 2013 ... 2048 2049 2050</div><input id='attrs-5598dfb5-0055-476c-8f65-5d0a6aec659f' class='xr-var-attrs-in' type='checkbox' disabled><label for='attrs-5598dfb5-0055-476c-8f65-5d0a6aec659f' title='Show/Hide attributes'><svg class='icon xr-icon-file-text2'><use xlink:href='#icon-file-text2'></use></svg></label><input id='data-b0dd1251-137b-42b0-9b82-5df1001fbfc4' class='xr-var-data-in' type='checkbox'><label for='data-b0dd1251-137b-42b0-9b82-5df1001fbfc4' title='Show/Hide data repr'><svg class='icon xr-icon-database'><use xlink:href='#icon-database'></use></svg></label><div class='xr-var-attrs'><dl class='xr-attrs'></dl></div><div class='xr-var-data'><pre>array([2011, 2012, 2013, 2014, 2015, 2016, 2017, 2018, 2019, 2020, 2021, 2022,\n       2023, 2024, 2025, 2026, 2027, 2028, 2029, 2030, 2031, 2032, 2033, 2034,\n       2035, 2036, 2037, 2038, 2039, 2040, 2041, 2042, 2043, 2044, 2045, 2046,\n       2047, 2048, 2049, 2050], dtype=int64)</pre></div></li></ul></div></li><li class='xr-section-item'><input id='section-99e91843-5e4c-4e1a-917d-58376ad4b529' class='xr-section-summary-in' type='checkbox'  ><label for='section-99e91843-5e4c-4e1a-917d-58376ad4b529' class='xr-section-summary' >Indexes: <span>(2)</span></label><div class='xr-section-inline-details'></div><div class='xr-section-details'><ul class='xr-var-list'><li class='xr-var-item'><div class='xr-index-name'><div>scenario</div></div><div class='xr-index-preview'>PandasIndex</div><div></div><input id='index-db260091-2793-449c-af4b-c1a73a52d0ab' class='xr-index-data-in' type='checkbox'/><label for='index-db260091-2793-449c-af4b-c1a73a52d0ab' title='Show/Hide index repr'><svg class='icon xr-icon-database'><use xlink:href='#icon-database'></use></svg></label><div class='xr-index-data'><pre>PandasIndex(Index([&#x27;carbon_low&#x27;, &#x27;carbon_high&#x27;, &#x27;carbon_low_bio_10&#x27;, &#x27;carbon_low_bio_20&#x27;,\n       &#x27;carbon_low_bio_30&#x27;, &#x27;carbon_low_bio_40&#x27;, &#x27;carbon_low_bio_50&#x27;,\n       &#x27;carbon_high_bio_10&#x27;, &#x27;carbon_high_bio_20&#x27;, &#x27;carbon_high_bio_30&#x27;,\n       &#x27;carbon_high_bio_40&#x27;, &#x27;carbon_high_bio_50&#x27;,\n       &#x27;Counterfactual_carbon_low_bio_10&#x27;, &#x27;Counterfactual_carbon_low_bio_20&#x27;,\n       &#x27;Counterfactual_carbon_low_bio_30&#x27;, &#x27;Counterfactual_carbon_low_bio_40&#x27;,\n       &#x27;Counterfactual_carbon_low_bio_50&#x27;, &#x27;Counterfactual_carbon_high_bio_10&#x27;,\n       &#x27;Counterfactual_carbon_high_bio_20&#x27;,\n       &#x27;Counterfactual_carbon_high_bio_30&#x27;,\n       &#x27;Counterfactual_carbon_high_bio_40&#x27;,\n       &#x27;Counterfactual_carbon_high_bio_50&#x27;],\n      dtype=&#x27;object&#x27;, name=&#x27;scenario&#x27;))</pre></div></li><li class='xr-var-item'><div class='xr-index-name'><div>Year</div></div><div class='xr-index-preview'>PandasIndex</div><div></div><input id='index-a5e118c9-595b-4f45-a911-820f79887520' class='xr-index-data-in' type='checkbox'/><label for='index-a5e118c9-595b-4f45-a911-820f79887520' title='Show/Hide index repr'><svg class='icon xr-icon-database'><use xlink:href='#icon-database'></use></svg></label><div class='xr-index-data'><pre>PandasIndex(Index([2011, 2012, 2013, 2014, 2015, 2016, 2017, 2018, 2019, 2020, 2021, 2022,\n       2023, 2024, 2025, 2026, 2027, 2028, 2029, 2030, 2031, 2032, 2033, 2034,\n       2035, 2036, 2037, 2038, 2039, 2040, 2041, 2042, 2043, 2044, 2045, 2046,\n       2047, 2048, 2049, 2050],\n      dtype=&#x27;int64&#x27;, name=&#x27;Year&#x27;))</pre></div></li></ul></div></li><li class='xr-section-item'><input id='section-b7410ce3-0df4-4381-9642-096dd5723b62' class='xr-section-summary-in' type='checkbox' disabled ><label for='section-b7410ce3-0df4-4381-9642-096dd5723b62' class='xr-section-summary'  title='Expand/collapse section'>Attributes: <span>(0)</span></label><div class='xr-section-inline-details'></div><div class='xr-section-details'><dl class='xr-attrs'></dl></div></li></ul></div></div>"
     },
     "execution_count": 4,
     "metadata": {},
     "output_type": "execute_result"
    }
   ],
   "source": [
    "path = r\"\\\\school-les-m.shares.deakin.edu.au\\school-les-m\\Planet-A\\LUF-Modelling\\LUTO2_XH\\LUTO2\\output\\20250926_Paper2_Results_HPC\\carbon_price\\1_draw_data\\xr_bio_price.nc\"\n",
    "da = xr.open_dataarray(path)\n",
    "da"
   ],
   "metadata": {
    "collapsed": false,
    "ExecuteTime": {
     "end_time": "2025-10-02T13:46:49.091616200Z",
     "start_time": "2025-10-02T13:46:49.036602700Z"
    }
   },
   "id": "250461c48cb0d6c8"
  },
  {
   "cell_type": "code",
   "execution_count": 13,
   "outputs": [
    {
     "data": {
      "text/plain": "cell\n0         0.0\n1         0.0\n2         0.0\n3         0.0\n4         0.0\n         ... \n168773    0.0\n168774    0.0\n168775    0.0\n168776    0.0\n168777    0.0\nLength: 168778, dtype: float32"
     },
     "execution_count": 13,
     "metadata": {},
     "output_type": "execute_result"
    }
   ],
   "source": [
    "da.sel({'lu':'Environmental Plantings'}).to_pandas()"
   ],
   "metadata": {
    "collapsed": false,
    "ExecuteTime": {
     "end_time": "2025-10-01T00:42:04.705106800Z",
     "start_time": "2025-10-01T00:42:04.472052200Z"
    }
   },
   "id": "3eba3edf0785b14e"
  },
  {
   "cell_type": "code",
   "execution_count": 14,
   "outputs": [
    {
     "name": "stdout",
     "output_type": "stream",
     "text": [
      "   EP_BELT_AG_T_CO2_HA  EP_BELT_BG_T_CO2_HA\n",
      "0           673.215393           134.001419\n",
      "1           673.843506            98.373642\n",
      "2           672.864136            98.877716\n",
      "3           673.215393           134.001419\n",
      "4           673.843506            98.373642\n"
     ]
    }
   ],
   "source": [
    "import pandas as pd\n",
    "\n",
    "path = r\"\\\\school-les-m.shares.deakin.edu.au\\school-les-m\\Planet-A\\LUF-Modelling\\LUTO2_XH\\LUTO2\\input\\ep_belt_t_co2_ha.h5\"\n",
    "df = pd.read_hdf(path)\n",
    "print(df.head())"
   ],
   "metadata": {
    "collapsed": false,
    "ExecuteTime": {
     "end_time": "2025-10-01T01:40:35.006810700Z",
     "start_time": "2025-10-01T01:40:31.431431700Z"
    }
   },
   "id": "1266ee838387c8ee"
  },
  {
   "cell_type": "code",
   "execution_count": 15,
   "outputs": [
    {
     "data": {
      "text/plain": "         EP_BELT_AG_T_CO2_HA  EP_BELT_BG_T_CO2_HA\n0                 673.215393           134.001419\n1                 673.843506            98.373642\n2                 672.864136            98.877716\n3                 673.215393           134.001419\n4                 673.843506            98.373642\n...                      ...                  ...\n6956402          3188.751221          1529.633545\n6956403          1208.387939           663.364380\n6956404          1282.398438           686.035645\n6956405          1221.125122           632.502075\n6956406           684.030762           196.931122\n\n[6956407 rows x 2 columns]",
      "text/html": "<div>\n<style scoped>\n    .dataframe tbody tr th:only-of-type {\n        vertical-align: middle;\n    }\n\n    .dataframe tbody tr th {\n        vertical-align: top;\n    }\n\n    .dataframe thead th {\n        text-align: right;\n    }\n</style>\n<table border=\"1\" class=\"dataframe\">\n  <thead>\n    <tr style=\"text-align: right;\">\n      <th></th>\n      <th>EP_BELT_AG_T_CO2_HA</th>\n      <th>EP_BELT_BG_T_CO2_HA</th>\n    </tr>\n  </thead>\n  <tbody>\n    <tr>\n      <th>0</th>\n      <td>673.215393</td>\n      <td>134.001419</td>\n    </tr>\n    <tr>\n      <th>1</th>\n      <td>673.843506</td>\n      <td>98.373642</td>\n    </tr>\n    <tr>\n      <th>2</th>\n      <td>672.864136</td>\n      <td>98.877716</td>\n    </tr>\n    <tr>\n      <th>3</th>\n      <td>673.215393</td>\n      <td>134.001419</td>\n    </tr>\n    <tr>\n      <th>4</th>\n      <td>673.843506</td>\n      <td>98.373642</td>\n    </tr>\n    <tr>\n      <th>...</th>\n      <td>...</td>\n      <td>...</td>\n    </tr>\n    <tr>\n      <th>6956402</th>\n      <td>3188.751221</td>\n      <td>1529.633545</td>\n    </tr>\n    <tr>\n      <th>6956403</th>\n      <td>1208.387939</td>\n      <td>663.364380</td>\n    </tr>\n    <tr>\n      <th>6956404</th>\n      <td>1282.398438</td>\n      <td>686.035645</td>\n    </tr>\n    <tr>\n      <th>6956405</th>\n      <td>1221.125122</td>\n      <td>632.502075</td>\n    </tr>\n    <tr>\n      <th>6956406</th>\n      <td>684.030762</td>\n      <td>196.931122</td>\n    </tr>\n  </tbody>\n</table>\n<p>6956407 rows × 2 columns</p>\n</div>"
     },
     "execution_count": 15,
     "metadata": {},
     "output_type": "execute_result"
    }
   ],
   "source": [
    "df"
   ],
   "metadata": {
    "collapsed": false,
    "ExecuteTime": {
     "end_time": "2025-10-01T01:41:15.834735700Z",
     "start_time": "2025-10-01T01:41:15.645691100Z"
    }
   },
   "id": "3e4bbccf2fbddac0"
  },
  {
   "cell_type": "code",
   "execution_count": 18,
   "outputs": [
    {
     "data": {
      "text/plain": "295.7718"
     },
     "execution_count": 18,
     "metadata": {},
     "output_type": "execute_result"
    }
   ],
   "source": [
    "(df.EP_BELT_AG_T_CO2_HA + df.EP_BELT_BG_T_CO2_HA).mean()"
   ],
   "metadata": {
    "collapsed": false,
    "ExecuteTime": {
     "end_time": "2025-10-01T01:43:04.814773200Z",
     "start_time": "2025-10-01T01:43:04.631728800Z"
    }
   },
   "id": "1d4f5bc2fb6ec9c9"
  },
  {
   "cell_type": "code",
   "execution_count": null,
   "outputs": [],
   "source": [],
   "metadata": {
    "collapsed": false
   },
   "id": "d5cfc25db07df6e3"
  }
 ],
 "metadata": {
  "kernelspec": {
   "display_name": "Python 3",
   "language": "python",
   "name": "python3"
  },
  "language_info": {
   "codemirror_mode": {
    "name": "ipython",
    "version": 2
   },
   "file_extension": ".py",
   "mimetype": "text/x-python",
   "name": "python",
   "nbconvert_exporter": "python",
   "pygments_lexer": "ipython2",
   "version": "2.7.6"
  }
 },
 "nbformat": 4,
 "nbformat_minor": 5
}
