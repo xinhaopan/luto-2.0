{
 "cells": [
  {
   "cell_type": "code",
   "execution_count": 15,
   "outputs": [
    {
     "data": {
      "text/plain": "253256286208.0"
     },
     "execution_count": 15,
     "metadata": {},
     "output_type": "execute_result"
    }
   ],
   "source": [
    "import xarray as xr\n",
    "\n",
    "file_path = r\"N:\\LUF-Modelling\\LUTO2_XH\\LUTO2\\output\\20250908_Paper2_Results_NCI\\Run_01_GHG_high_BIO_high_CUT_50\\output\\2025_09_08__09_33_05_RF5_2010-2050\\out_2025\\xr_cost_agricultural_management_2025.nc\"\n",
    "ds = xr.open_dataarray(file_path)\n",
    "\n",
    "with xr.open_dataarray(file_path) as da:\n",
    "    total_sum_c = da.sum().item()\n",
    "total_sum_c"
   ],
   "metadata": {
    "collapsed": false,
    "ExecuteTime": {
     "end_time": "2025-09-13T06:26:56.430070100Z",
     "start_time": "2025-09-13T06:26:47.991704600Z"
    }
   },
   "id": "44f0825b7712939f"
  },
  {
   "cell_type": "code",
   "execution_count": 16,
   "outputs": [
    {
     "data": {
      "text/plain": "<xarray.DataArray 'data' (am: 8, lm: 3, cell: 168778, lu: 28)> Size: 454MB\n[113418816 values with dtype=float32]\nCoordinates:\n  * am       (am) <U23 736B 'Asparagopsis taxiformis' ... 'ALL'\n  * lm       (lm) <U3 36B 'dry' 'irr' 'ALL'\n  * cell     (cell) int32 675kB 0 1 2 3 4 ... 168773 168774 168775 168776 168777\n  * lu       (lu) <U27 3kB 'Apples' 'Beef - modified land' ... 'Winter oilseeds'",
      "text/html": "<div><svg style=\"position: absolute; width: 0; height: 0; overflow: hidden\">\n<defs>\n<symbol id=\"icon-database\" viewBox=\"0 0 32 32\">\n<path d=\"M16 0c-8.837 0-16 2.239-16 5v4c0 2.761 7.163 5 16 5s16-2.239 16-5v-4c0-2.761-7.163-5-16-5z\"></path>\n<path d=\"M16 17c-8.837 0-16-2.239-16-5v6c0 2.761 7.163 5 16 5s16-2.239 16-5v-6c0 2.761-7.163 5-16 5z\"></path>\n<path d=\"M16 26c-8.837 0-16-2.239-16-5v6c0 2.761 7.163 5 16 5s16-2.239 16-5v-6c0 2.761-7.163 5-16 5z\"></path>\n</symbol>\n<symbol id=\"icon-file-text2\" viewBox=\"0 0 32 32\">\n<path d=\"M28.681 7.159c-0.694-0.947-1.662-2.053-2.724-3.116s-2.169-2.030-3.116-2.724c-1.612-1.182-2.393-1.319-2.841-1.319h-15.5c-1.378 0-2.5 1.121-2.5 2.5v27c0 1.378 1.122 2.5 2.5 2.5h23c1.378 0 2.5-1.122 2.5-2.5v-19.5c0-0.448-0.137-1.23-1.319-2.841zM24.543 5.457c0.959 0.959 1.712 1.825 2.268 2.543h-4.811v-4.811c0.718 0.556 1.584 1.309 2.543 2.268zM28 29.5c0 0.271-0.229 0.5-0.5 0.5h-23c-0.271 0-0.5-0.229-0.5-0.5v-27c0-0.271 0.229-0.5 0.5-0.5 0 0 15.499-0 15.5 0v7c0 0.552 0.448 1 1 1h7v19.5z\"></path>\n<path d=\"M23 26h-14c-0.552 0-1-0.448-1-1s0.448-1 1-1h14c0.552 0 1 0.448 1 1s-0.448 1-1 1z\"></path>\n<path d=\"M23 22h-14c-0.552 0-1-0.448-1-1s0.448-1 1-1h14c0.552 0 1 0.448 1 1s-0.448 1-1 1z\"></path>\n<path d=\"M23 18h-14c-0.552 0-1-0.448-1-1s0.448-1 1-1h14c0.552 0 1 0.448 1 1s-0.448 1-1 1z\"></path>\n</symbol>\n</defs>\n</svg>\n<style>/* CSS stylesheet for displaying xarray objects in jupyterlab.\n *\n */\n\n:root {\n  --xr-font-color0: var(--jp-content-font-color0, rgba(0, 0, 0, 1));\n  --xr-font-color2: var(--jp-content-font-color2, rgba(0, 0, 0, 0.54));\n  --xr-font-color3: var(--jp-content-font-color3, rgba(0, 0, 0, 0.38));\n  --xr-border-color: var(--jp-border-color2, #e0e0e0);\n  --xr-disabled-color: var(--jp-layout-color3, #bdbdbd);\n  --xr-background-color: var(--jp-layout-color0, white);\n  --xr-background-color-row-even: var(--jp-layout-color1, white);\n  --xr-background-color-row-odd: var(--jp-layout-color2, #eeeeee);\n}\n\nhtml[theme=dark],\nbody[data-theme=dark],\nbody.vscode-dark {\n  --xr-font-color0: rgba(255, 255, 255, 1);\n  --xr-font-color2: rgba(255, 255, 255, 0.54);\n  --xr-font-color3: rgba(255, 255, 255, 0.38);\n  --xr-border-color: #1F1F1F;\n  --xr-disabled-color: #515151;\n  --xr-background-color: #111111;\n  --xr-background-color-row-even: #111111;\n  --xr-background-color-row-odd: #313131;\n}\n\n.xr-wrap {\n  display: block !important;\n  min-width: 300px;\n  max-width: 700px;\n}\n\n.xr-text-repr-fallback {\n  /* fallback to plain text repr when CSS is not injected (untrusted notebook) */\n  display: none;\n}\n\n.xr-header {\n  padding-top: 6px;\n  padding-bottom: 6px;\n  margin-bottom: 4px;\n  border-bottom: solid 1px var(--xr-border-color);\n}\n\n.xr-header > div,\n.xr-header > ul {\n  display: inline;\n  margin-top: 0;\n  margin-bottom: 0;\n}\n\n.xr-obj-type,\n.xr-array-name {\n  margin-left: 2px;\n  margin-right: 10px;\n}\n\n.xr-obj-type {\n  color: var(--xr-font-color2);\n}\n\n.xr-sections {\n  padding-left: 0 !important;\n  display: grid;\n  grid-template-columns: 150px auto auto 1fr 20px 20px;\n}\n\n.xr-section-item {\n  display: contents;\n}\n\n.xr-section-item input {\n  display: none;\n}\n\n.xr-section-item input + label {\n  color: var(--xr-disabled-color);\n}\n\n.xr-section-item input:enabled + label {\n  cursor: pointer;\n  color: var(--xr-font-color2);\n}\n\n.xr-section-item input:enabled + label:hover {\n  color: var(--xr-font-color0);\n}\n\n.xr-section-summary {\n  grid-column: 1;\n  color: var(--xr-font-color2);\n  font-weight: 500;\n}\n\n.xr-section-summary > span {\n  display: inline-block;\n  padding-left: 0.5em;\n}\n\n.xr-section-summary-in:disabled + label {\n  color: var(--xr-font-color2);\n}\n\n.xr-section-summary-in + label:before {\n  display: inline-block;\n  content: '►';\n  font-size: 11px;\n  width: 15px;\n  text-align: center;\n}\n\n.xr-section-summary-in:disabled + label:before {\n  color: var(--xr-disabled-color);\n}\n\n.xr-section-summary-in:checked + label:before {\n  content: '▼';\n}\n\n.xr-section-summary-in:checked + label > span {\n  display: none;\n}\n\n.xr-section-summary,\n.xr-section-inline-details {\n  padding-top: 4px;\n  padding-bottom: 4px;\n}\n\n.xr-section-inline-details {\n  grid-column: 2 / -1;\n}\n\n.xr-section-details {\n  display: none;\n  grid-column: 1 / -1;\n  margin-bottom: 5px;\n}\n\n.xr-section-summary-in:checked ~ .xr-section-details {\n  display: contents;\n}\n\n.xr-array-wrap {\n  grid-column: 1 / -1;\n  display: grid;\n  grid-template-columns: 20px auto;\n}\n\n.xr-array-wrap > label {\n  grid-column: 1;\n  vertical-align: top;\n}\n\n.xr-preview {\n  color: var(--xr-font-color3);\n}\n\n.xr-array-preview,\n.xr-array-data {\n  padding: 0 5px !important;\n  grid-column: 2;\n}\n\n.xr-array-data,\n.xr-array-in:checked ~ .xr-array-preview {\n  display: none;\n}\n\n.xr-array-in:checked ~ .xr-array-data,\n.xr-array-preview {\n  display: inline-block;\n}\n\n.xr-dim-list {\n  display: inline-block !important;\n  list-style: none;\n  padding: 0 !important;\n  margin: 0;\n}\n\n.xr-dim-list li {\n  display: inline-block;\n  padding: 0;\n  margin: 0;\n}\n\n.xr-dim-list:before {\n  content: '(';\n}\n\n.xr-dim-list:after {\n  content: ')';\n}\n\n.xr-dim-list li:not(:last-child):after {\n  content: ',';\n  padding-right: 5px;\n}\n\n.xr-has-index {\n  font-weight: bold;\n}\n\n.xr-var-list,\n.xr-var-item {\n  display: contents;\n}\n\n.xr-var-item > div,\n.xr-var-item label,\n.xr-var-item > .xr-var-name span {\n  background-color: var(--xr-background-color-row-even);\n  margin-bottom: 0;\n}\n\n.xr-var-item > .xr-var-name:hover span {\n  padding-right: 5px;\n}\n\n.xr-var-list > li:nth-child(odd) > div,\n.xr-var-list > li:nth-child(odd) > label,\n.xr-var-list > li:nth-child(odd) > .xr-var-name span {\n  background-color: var(--xr-background-color-row-odd);\n}\n\n.xr-var-name {\n  grid-column: 1;\n}\n\n.xr-var-dims {\n  grid-column: 2;\n}\n\n.xr-var-dtype {\n  grid-column: 3;\n  text-align: right;\n  color: var(--xr-font-color2);\n}\n\n.xr-var-preview {\n  grid-column: 4;\n}\n\n.xr-index-preview {\n  grid-column: 2 / 5;\n  color: var(--xr-font-color2);\n}\n\n.xr-var-name,\n.xr-var-dims,\n.xr-var-dtype,\n.xr-preview,\n.xr-attrs dt {\n  white-space: nowrap;\n  overflow: hidden;\n  text-overflow: ellipsis;\n  padding-right: 10px;\n}\n\n.xr-var-name:hover,\n.xr-var-dims:hover,\n.xr-var-dtype:hover,\n.xr-attrs dt:hover {\n  overflow: visible;\n  width: auto;\n  z-index: 1;\n}\n\n.xr-var-attrs,\n.xr-var-data,\n.xr-index-data {\n  display: none;\n  background-color: var(--xr-background-color) !important;\n  padding-bottom: 5px !important;\n}\n\n.xr-var-attrs-in:checked ~ .xr-var-attrs,\n.xr-var-data-in:checked ~ .xr-var-data,\n.xr-index-data-in:checked ~ .xr-index-data {\n  display: block;\n}\n\n.xr-var-data > table {\n  float: right;\n}\n\n.xr-var-name span,\n.xr-var-data,\n.xr-index-name div,\n.xr-index-data,\n.xr-attrs {\n  padding-left: 25px !important;\n}\n\n.xr-attrs,\n.xr-var-attrs,\n.xr-var-data,\n.xr-index-data {\n  grid-column: 1 / -1;\n}\n\ndl.xr-attrs {\n  padding: 0;\n  margin: 0;\n  display: grid;\n  grid-template-columns: 125px auto;\n}\n\n.xr-attrs dt,\n.xr-attrs dd {\n  padding: 0;\n  margin: 0;\n  float: left;\n  padding-right: 10px;\n  width: auto;\n}\n\n.xr-attrs dt {\n  font-weight: normal;\n  grid-column: 1;\n}\n\n.xr-attrs dt:hover span {\n  display: inline-block;\n  background: var(--xr-background-color);\n  padding-right: 10px;\n}\n\n.xr-attrs dd {\n  grid-column: 2;\n  white-space: pre-wrap;\n  word-break: break-all;\n}\n\n.xr-icon-database,\n.xr-icon-file-text2,\n.xr-no-icon {\n  display: inline-block;\n  vertical-align: middle;\n  width: 1em;\n  height: 1.5em !important;\n  stroke-width: 0;\n  stroke: currentColor;\n  fill: currentColor;\n}\n</style><pre class='xr-text-repr-fallback'>&lt;xarray.DataArray &#x27;data&#x27; (am: 8, lm: 3, cell: 168778, lu: 28)&gt; Size: 454MB\n[113418816 values with dtype=float32]\nCoordinates:\n  * am       (am) &lt;U23 736B &#x27;Asparagopsis taxiformis&#x27; ... &#x27;ALL&#x27;\n  * lm       (lm) &lt;U3 36B &#x27;dry&#x27; &#x27;irr&#x27; &#x27;ALL&#x27;\n  * cell     (cell) int32 675kB 0 1 2 3 4 ... 168773 168774 168775 168776 168777\n  * lu       (lu) &lt;U27 3kB &#x27;Apples&#x27; &#x27;Beef - modified land&#x27; ... &#x27;Winter oilseeds&#x27;</pre><div class='xr-wrap' style='display:none'><div class='xr-header'><div class='xr-obj-type'>xarray.DataArray</div><div class='xr-array-name'>'data'</div><ul class='xr-dim-list'><li><span class='xr-has-index'>am</span>: 8</li><li><span class='xr-has-index'>lm</span>: 3</li><li><span class='xr-has-index'>cell</span>: 168778</li><li><span class='xr-has-index'>lu</span>: 28</li></ul></div><ul class='xr-sections'><li class='xr-section-item'><div class='xr-array-wrap'><input id='section-5edc4c81-8919-4e43-ba8f-bb4d42c9988e' class='xr-array-in' type='checkbox' checked><label for='section-5edc4c81-8919-4e43-ba8f-bb4d42c9988e' title='Show/hide data repr'><svg class='icon xr-icon-database'><use xlink:href='#icon-database'></use></svg></label><div class='xr-array-preview xr-preview'><span>...</span></div><div class='xr-array-data'><pre>[113418816 values with dtype=float32]</pre></div></div></li><li class='xr-section-item'><input id='section-c7450716-9613-4a4a-a156-33b45584c95e' class='xr-section-summary-in' type='checkbox'  checked><label for='section-c7450716-9613-4a4a-a156-33b45584c95e' class='xr-section-summary' >Coordinates: <span>(4)</span></label><div class='xr-section-inline-details'></div><div class='xr-section-details'><ul class='xr-var-list'><li class='xr-var-item'><div class='xr-var-name'><span class='xr-has-index'>am</span></div><div class='xr-var-dims'>(am)</div><div class='xr-var-dtype'>&lt;U23</div><div class='xr-var-preview xr-preview'>&#x27;Asparagopsis taxiformis&#x27; ... &#x27;ALL&#x27;</div><input id='attrs-645701a7-1a31-4ca8-89c9-f515d48889b3' class='xr-var-attrs-in' type='checkbox' disabled><label for='attrs-645701a7-1a31-4ca8-89c9-f515d48889b3' title='Show/Hide attributes'><svg class='icon xr-icon-file-text2'><use xlink:href='#icon-file-text2'></use></svg></label><input id='data-18a66646-6a26-4d2b-ab67-c5314a217552' class='xr-var-data-in' type='checkbox'><label for='data-18a66646-6a26-4d2b-ab67-c5314a217552' title='Show/Hide data repr'><svg class='icon xr-icon-database'><use xlink:href='#icon-database'></use></svg></label><div class='xr-var-attrs'><dl class='xr-attrs'></dl></div><div class='xr-var-data'><pre>array([&#x27;Asparagopsis taxiformis&#x27;, &#x27;Precision Agriculture&#x27;, &#x27;Savanna Burning&#x27;,\n       &#x27;AgTech EI&#x27;, &#x27;Biochar&#x27;, &#x27;HIR - Beef&#x27;, &#x27;HIR - Sheep&#x27;, &#x27;ALL&#x27;],\n      dtype=&#x27;&lt;U23&#x27;)</pre></div></li><li class='xr-var-item'><div class='xr-var-name'><span class='xr-has-index'>lm</span></div><div class='xr-var-dims'>(lm)</div><div class='xr-var-dtype'>&lt;U3</div><div class='xr-var-preview xr-preview'>&#x27;dry&#x27; &#x27;irr&#x27; &#x27;ALL&#x27;</div><input id='attrs-d89abe8e-3a5b-4dc4-9909-06c5f399d573' class='xr-var-attrs-in' type='checkbox' disabled><label for='attrs-d89abe8e-3a5b-4dc4-9909-06c5f399d573' title='Show/Hide attributes'><svg class='icon xr-icon-file-text2'><use xlink:href='#icon-file-text2'></use></svg></label><input id='data-f4ccc567-7524-491e-be0d-41381c98e36b' class='xr-var-data-in' type='checkbox'><label for='data-f4ccc567-7524-491e-be0d-41381c98e36b' title='Show/Hide data repr'><svg class='icon xr-icon-database'><use xlink:href='#icon-database'></use></svg></label><div class='xr-var-attrs'><dl class='xr-attrs'></dl></div><div class='xr-var-data'><pre>array([&#x27;dry&#x27;, &#x27;irr&#x27;, &#x27;ALL&#x27;], dtype=&#x27;&lt;U3&#x27;)</pre></div></li><li class='xr-var-item'><div class='xr-var-name'><span class='xr-has-index'>cell</span></div><div class='xr-var-dims'>(cell)</div><div class='xr-var-dtype'>int32</div><div class='xr-var-preview xr-preview'>0 1 2 3 ... 168775 168776 168777</div><input id='attrs-908cc42d-77aa-44c6-a35a-dcfc416aabc8' class='xr-var-attrs-in' type='checkbox' disabled><label for='attrs-908cc42d-77aa-44c6-a35a-dcfc416aabc8' title='Show/Hide attributes'><svg class='icon xr-icon-file-text2'><use xlink:href='#icon-file-text2'></use></svg></label><input id='data-b31de196-5feb-458e-ae3b-4bf07b0bea60' class='xr-var-data-in' type='checkbox'><label for='data-b31de196-5feb-458e-ae3b-4bf07b0bea60' title='Show/Hide data repr'><svg class='icon xr-icon-database'><use xlink:href='#icon-database'></use></svg></label><div class='xr-var-attrs'><dl class='xr-attrs'></dl></div><div class='xr-var-data'><pre>array([     0,      1,      2, ..., 168775, 168776, 168777])</pre></div></li><li class='xr-var-item'><div class='xr-var-name'><span class='xr-has-index'>lu</span></div><div class='xr-var-dims'>(lu)</div><div class='xr-var-dtype'>&lt;U27</div><div class='xr-var-preview xr-preview'>&#x27;Apples&#x27; ... &#x27;Winter oilseeds&#x27;</div><input id='attrs-ccef24d4-426d-4536-8a21-d717bd986b1a' class='xr-var-attrs-in' type='checkbox' disabled><label for='attrs-ccef24d4-426d-4536-8a21-d717bd986b1a' title='Show/Hide attributes'><svg class='icon xr-icon-file-text2'><use xlink:href='#icon-file-text2'></use></svg></label><input id='data-4edb8eb8-7117-4697-a3d2-0f796354ea0c' class='xr-var-data-in' type='checkbox'><label for='data-4edb8eb8-7117-4697-a3d2-0f796354ea0c' title='Show/Hide data repr'><svg class='icon xr-icon-database'><use xlink:href='#icon-database'></use></svg></label><div class='xr-var-attrs'><dl class='xr-attrs'></dl></div><div class='xr-var-data'><pre>array([&#x27;Apples&#x27;, &#x27;Beef - modified land&#x27;, &#x27;Beef - natural land&#x27;, &#x27;Citrus&#x27;,\n       &#x27;Cotton&#x27;, &#x27;Dairy - modified land&#x27;, &#x27;Dairy - natural land&#x27;, &#x27;Grapes&#x27;,\n       &#x27;Hay&#x27;, &#x27;Nuts&#x27;, &#x27;Other non-cereal crops&#x27;, &#x27;Pears&#x27;, &#x27;Plantation fruit&#x27;,\n       &#x27;Rice&#x27;, &#x27;Sheep - modified land&#x27;, &#x27;Sheep - natural land&#x27;, &#x27;Stone fruit&#x27;,\n       &#x27;Sugar&#x27;, &#x27;Summer cereals&#x27;, &#x27;Summer legumes&#x27;, &#x27;Summer oilseeds&#x27;,\n       &#x27;Tropical stone fruit&#x27;, &#x27;Unallocated - modified land&#x27;,\n       &#x27;Unallocated - natural land&#x27;, &#x27;Vegetables&#x27;, &#x27;Winter cereals&#x27;,\n       &#x27;Winter legumes&#x27;, &#x27;Winter oilseeds&#x27;], dtype=&#x27;&lt;U27&#x27;)</pre></div></li></ul></div></li><li class='xr-section-item'><input id='section-5194f331-3ced-48fb-b09a-ebc80305ed4f' class='xr-section-summary-in' type='checkbox'  ><label for='section-5194f331-3ced-48fb-b09a-ebc80305ed4f' class='xr-section-summary' >Indexes: <span>(4)</span></label><div class='xr-section-inline-details'></div><div class='xr-section-details'><ul class='xr-var-list'><li class='xr-var-item'><div class='xr-index-name'><div>am</div></div><div class='xr-index-preview'>PandasIndex</div><div></div><input id='index-c6095d6a-277d-49d0-82a8-c78cc2bb2ce7' class='xr-index-data-in' type='checkbox'/><label for='index-c6095d6a-277d-49d0-82a8-c78cc2bb2ce7' title='Show/Hide index repr'><svg class='icon xr-icon-database'><use xlink:href='#icon-database'></use></svg></label><div class='xr-index-data'><pre>PandasIndex(Index([&#x27;Asparagopsis taxiformis&#x27;, &#x27;Precision Agriculture&#x27;, &#x27;Savanna Burning&#x27;,\n       &#x27;AgTech EI&#x27;, &#x27;Biochar&#x27;, &#x27;HIR - Beef&#x27;, &#x27;HIR - Sheep&#x27;, &#x27;ALL&#x27;],\n      dtype=&#x27;object&#x27;, name=&#x27;am&#x27;))</pre></div></li><li class='xr-var-item'><div class='xr-index-name'><div>lm</div></div><div class='xr-index-preview'>PandasIndex</div><div></div><input id='index-dd272fd0-e09e-4f59-9ecc-a06407d7719c' class='xr-index-data-in' type='checkbox'/><label for='index-dd272fd0-e09e-4f59-9ecc-a06407d7719c' title='Show/Hide index repr'><svg class='icon xr-icon-database'><use xlink:href='#icon-database'></use></svg></label><div class='xr-index-data'><pre>PandasIndex(Index([&#x27;dry&#x27;, &#x27;irr&#x27;, &#x27;ALL&#x27;], dtype=&#x27;object&#x27;, name=&#x27;lm&#x27;))</pre></div></li><li class='xr-var-item'><div class='xr-index-name'><div>cell</div></div><div class='xr-index-preview'>PandasIndex</div><div></div><input id='index-9da79472-62dc-41dc-9fbf-203aa372ab65' class='xr-index-data-in' type='checkbox'/><label for='index-9da79472-62dc-41dc-9fbf-203aa372ab65' title='Show/Hide index repr'><svg class='icon xr-icon-database'><use xlink:href='#icon-database'></use></svg></label><div class='xr-index-data'><pre>PandasIndex(Index([     0,      1,      2,      3,      4,      5,      6,      7,      8,\n            9,\n       ...\n       168768, 168769, 168770, 168771, 168772, 168773, 168774, 168775, 168776,\n       168777],\n      dtype=&#x27;int32&#x27;, name=&#x27;cell&#x27;, length=168778))</pre></div></li><li class='xr-var-item'><div class='xr-index-name'><div>lu</div></div><div class='xr-index-preview'>PandasIndex</div><div></div><input id='index-26d6d2ef-9dc1-4c03-91dc-290c26e4bffb' class='xr-index-data-in' type='checkbox'/><label for='index-26d6d2ef-9dc1-4c03-91dc-290c26e4bffb' title='Show/Hide index repr'><svg class='icon xr-icon-database'><use xlink:href='#icon-database'></use></svg></label><div class='xr-index-data'><pre>PandasIndex(Index([&#x27;Apples&#x27;, &#x27;Beef - modified land&#x27;, &#x27;Beef - natural land&#x27;, &#x27;Citrus&#x27;,\n       &#x27;Cotton&#x27;, &#x27;Dairy - modified land&#x27;, &#x27;Dairy - natural land&#x27;, &#x27;Grapes&#x27;,\n       &#x27;Hay&#x27;, &#x27;Nuts&#x27;, &#x27;Other non-cereal crops&#x27;, &#x27;Pears&#x27;, &#x27;Plantation fruit&#x27;,\n       &#x27;Rice&#x27;, &#x27;Sheep - modified land&#x27;, &#x27;Sheep - natural land&#x27;, &#x27;Stone fruit&#x27;,\n       &#x27;Sugar&#x27;, &#x27;Summer cereals&#x27;, &#x27;Summer legumes&#x27;, &#x27;Summer oilseeds&#x27;,\n       &#x27;Tropical stone fruit&#x27;, &#x27;Unallocated - modified land&#x27;,\n       &#x27;Unallocated - natural land&#x27;, &#x27;Vegetables&#x27;, &#x27;Winter cereals&#x27;,\n       &#x27;Winter legumes&#x27;, &#x27;Winter oilseeds&#x27;],\n      dtype=&#x27;object&#x27;, name=&#x27;lu&#x27;))</pre></div></li></ul></div></li><li class='xr-section-item'><input id='section-56e4b897-dd36-4ff7-9566-311ce8915b05' class='xr-section-summary-in' type='checkbox' disabled ><label for='section-56e4b897-dd36-4ff7-9566-311ce8915b05' class='xr-section-summary'  title='Expand/collapse section'>Attributes: <span>(0)</span></label><div class='xr-section-inline-details'></div><div class='xr-section-details'><dl class='xr-attrs'></dl></div></li></ul></div></div>"
     },
     "execution_count": 16,
     "metadata": {},
     "output_type": "execute_result"
    }
   ],
   "source": [
    "ds"
   ],
   "metadata": {
    "collapsed": false,
    "ExecuteTime": {
     "end_time": "2025-09-13T06:26:58.347610700Z",
     "start_time": "2025-09-13T06:26:58.044451100Z"
    }
   },
   "id": "1c9d46bccb710034"
  },
  {
   "cell_type": "code",
   "execution_count": null,
   "outputs": [],
   "source": [],
   "metadata": {
    "collapsed": false
   },
   "id": "b7971f3a4b92d3e7"
  },
  {
   "cell_type": "code",
   "execution_count": null,
   "outputs": [],
   "source": [],
   "metadata": {
    "collapsed": false
   },
   "id": "7fa5ce66e8647421"
  },
  {
   "cell_type": "code",
   "execution_count": null,
   "outputs": [],
   "source": [],
   "metadata": {
    "collapsed": false
   },
   "id": "9449ff788be24a13"
  },
  {
   "cell_type": "code",
   "execution_count": 12,
   "outputs": [
    {
     "data": {
      "text/plain": "253256.286208"
     },
     "execution_count": 12,
     "metadata": {},
     "output_type": "execute_result"
    }
   ],
   "source": [
    "total_sum_c/1e6"
   ],
   "metadata": {
    "collapsed": false,
    "ExecuteTime": {
     "end_time": "2025-09-13T06:09:32.647470Z",
     "start_time": "2025-09-13T06:09:32.544821600Z"
    }
   },
   "id": "3930f31bc4a2ff3a"
  },
  {
   "cell_type": "code",
   "execution_count": 8,
   "outputs": [
    {
     "data": {
      "text/plain": "12741.20267352"
     },
     "execution_count": 8,
     "metadata": {},
     "output_type": "execute_result"
    }
   ],
   "source": [
    "(-7420215369.12+5320987304.40)/1e6"
   ],
   "metadata": {
    "collapsed": false,
    "ExecuteTime": {
     "end_time": "2025-09-13T05:48:48.850779200Z",
     "start_time": "2025-09-13T05:48:48.612159300Z"
    }
   },
   "id": "11d0e3ffe56e541e"
  },
  {
   "cell_type": "code",
   "execution_count": 13,
   "outputs": [
    {
     "data": {
      "text/plain": "54469451776.0"
     },
     "execution_count": 13,
     "metadata": {},
     "output_type": "execute_result"
    }
   ],
   "source": [
    "import xarray as xr\n",
    "\n",
    "file_path = r\"N:\\LUF-Modelling\\LUTO2_XH\\LUTO2\\output\\20250908_Paper2_Results_NCI\\Run_01_GHG_high_BIO_high_CUT_50\\output\\2025_09_08__09_33_05_RF5_2010-2050\\out_2025\\xr_revenue_agricultural_management_2025.nc\"\n",
    "with xr.open_dataarray(file_path) as da:\n",
    "    total_sum_r = da.sum().item()\n",
    "total_sum_r"
   ],
   "metadata": {
    "collapsed": false,
    "ExecuteTime": {
     "end_time": "2025-09-13T06:10:11.498379Z",
     "start_time": "2025-09-13T06:10:02.909397Z"
    }
   },
   "id": "6a75dac7477f9c8e"
  },
  {
   "cell_type": "code",
   "execution_count": 14,
   "outputs": [
    {
     "data": {
      "text/plain": "54469.451776"
     },
     "execution_count": 14,
     "metadata": {},
     "output_type": "execute_result"
    }
   ],
   "source": [
    "total_sum_r/1e6"
   ],
   "metadata": {
    "collapsed": false,
    "ExecuteTime": {
     "end_time": "2025-09-13T06:10:11.501593400Z",
     "start_time": "2025-09-13T06:10:11.497379Z"
    }
   },
   "id": "f53dd7f29b04c878"
  },
  {
   "cell_type": "code",
   "execution_count": null,
   "outputs": [],
   "source": [],
   "metadata": {
    "collapsed": false
   },
   "id": "edf8a97fcfe4e704"
  }
 ],
 "metadata": {
  "kernelspec": {
   "display_name": "Python 3",
   "language": "python",
   "name": "python3"
  },
  "language_info": {
   "codemirror_mode": {
    "name": "ipython",
    "version": 2
   },
   "file_extension": ".py",
   "mimetype": "text/x-python",
   "name": "python",
   "nbconvert_exporter": "python",
   "pygments_lexer": "ipython2",
   "version": "2.7.6"
  }
 },
 "nbformat": 4,
 "nbformat_minor": 5
}
