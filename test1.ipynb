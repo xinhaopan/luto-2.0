{
 "cells": [
  {
   "cell_type": "code",
   "execution_count": null,
   "outputs": [],
   "source": [
    "import numpy as np\n",
    "import xarray as xr\n",
    "from typing import Union"
   ],
   "metadata": {
    "collapsed": false,
    "ExecuteTime": {
     "start_time": "2025-10-04T19:21:29.575762Z"
    }
   },
   "id": "99897383d3603a53"
  },
  {
   "cell_type": "code",
   "execution_count": 1,
   "outputs": [
    {
     "ename": "NameError",
     "evalue": "name 'xr' is not defined",
     "output_type": "error",
     "traceback": [
      "\u001B[31m---------------------------------------------------------------------------\u001B[39m",
      "\u001B[31mNameError\u001B[39m                                 Traceback (most recent call last)",
      "\u001B[36mCell\u001B[39m\u001B[36m \u001B[39m\u001B[32mIn[1]\u001B[39m\u001B[32m, line 2\u001B[39m\n\u001B[32m      1\u001B[39m path = \u001B[33mr\u001B[39m\u001B[33m\"\u001B[39m\u001B[33mN:\u001B[39m\u001B[33m\\\u001B[39m\u001B[33mLUF-Modelling\u001B[39m\u001B[33m\\\u001B[39m\u001B[33mLUTO2_XH\u001B[39m\u001B[33m\\\u001B[39m\u001B[33mLUTO2\u001B[39m\u001B[33m\\\u001B[39m\u001B[33moutput\u001B[39m\u001B[33m\\\u001B[39m\u001B[33m20251003_Paper2_Results_test\u001B[39m\u001B[33m\\\u001B[39m\u001B[33mcarbon_price\u001B[39m\u001B[33m\\\u001B[39m\u001B[33m0_base_data\u001B[39m\u001B[33m\\\u001B[39m\u001B[33mRun_01_GHG_high_BIO_high_CUT_50\u001B[39m\u001B[33m\\\u001B[39m\u001B[33m2050\u001B[39m\u001B[33m\\\u001B[39m\u001B[33mxr_GHG_non_ag_2050.nc\u001B[39m\u001B[33m\"\u001B[39m\n\u001B[32m----> \u001B[39m\u001B[32m2\u001B[39m da = \u001B[43mxr\u001B[49m.open_dataarray(path)\n\u001B[32m      3\u001B[39m da\n",
      "\u001B[31mNameError\u001B[39m: name 'xr' is not defined"
     ]
    }
   ],
   "source": [
    "path = r\"N:\\LUF-Modelling\\LUTO2_XH\\LUTO2\\output\\20251003_Paper2_Results_test\\carbon_price\\0_base_data\\Run_01_GHG_high_BIO_high_CUT_50\\2050\\xr_GHG_non_ag_2050.nc\"\n",
    "da = xr.open_dataarray(path)\n",
    "da"
   ],
   "metadata": {
    "collapsed": false,
    "ExecuteTime": {
     "end_time": "2025-10-04T19:21:29.573761500Z",
     "start_time": "2025-10-04T19:21:29.398720100Z"
    }
   },
   "id": "c8d07785d35a040b"
  },
  {
   "cell_type": "code",
   "execution_count": null,
   "outputs": [],
   "source": [],
   "metadata": {
    "collapsed": false
   },
   "id": "d5cfc25db07df6e3"
  }
 ],
 "metadata": {
  "kernelspec": {
   "display_name": "Python 3",
   "language": "python",
   "name": "python3"
  },
  "language_info": {
   "codemirror_mode": {
    "name": "ipython",
    "version": 2
   },
   "file_extension": ".py",
   "mimetype": "text/x-python",
   "name": "python",
   "nbconvert_exporter": "python",
   "pygments_lexer": "ipython2",
   "version": "2.7.6"
  }
 },
 "nbformat": 4,
 "nbformat_minor": 5
}
