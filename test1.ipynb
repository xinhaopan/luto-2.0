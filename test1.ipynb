{
 "cells": [
  {
   "cell_type": "code",
   "execution_count": 4,
   "outputs": [],
   "source": [
    "import numpy as np\n",
    "import xarray as xr\n",
    "from typing import Union"
   ],
   "metadata": {
    "collapsed": false,
    "ExecuteTime": {
     "end_time": "2025-09-23T05:04:23.532783800Z",
     "start_time": "2025-09-23T05:04:23.500264200Z"
    }
   },
   "id": "99897383d3603a53"
  },
  {
   "cell_type": "code",
   "execution_count": 27,
   "outputs": [],
   "source": [
    "path = r\"N:\\LUF-Modelling\\LUTO2_XH\\LUTO2\\output\\20250922_Paper2_Results_NCI\\carbon_price\\1_draw_data\\xr_total_carbon.nc\"\n",
    "da = xr.open_dataarray(path)"
   ],
   "metadata": {
    "collapsed": false,
    "ExecuteTime": {
     "end_time": "2025-09-23T05:54:38.310894900Z",
     "start_time": "2025-09-23T05:54:38.178885900Z"
    }
   },
   "id": "c8d07785d35a040b"
  },
  {
   "cell_type": "code",
   "execution_count": 28,
   "outputs": [
    {
     "name": "stdout",
     "output_type": "stream",
     "text": [
      "Coordinates:\n",
      "  * scenario  (scenario) <U33 3kB 'carbon_low' ... 'Counterfactual_carbon_hig...\n",
      "  * Year      (Year) int64 320B 2011 2012 2013 2014 2015 ... 2047 2048 2049 2050\n",
      "  * type      (type) <U14 224B 'Ag GHG' 'Agmgt GHG' ... 'Transition GHG'\n"
     ]
    }
   ],
   "source": [
    "print(da.coords)  "
   ],
   "metadata": {
    "collapsed": false,
    "ExecuteTime": {
     "end_time": "2025-09-23T05:54:38.733119Z",
     "start_time": "2025-09-23T05:54:38.724320200Z"
    }
   },
   "id": "9aa8f7174e2f299"
  },
  {
   "cell_type": "code",
   "execution_count": 29,
   "outputs": [
    {
     "data": {
      "text/plain": "type  Ag GHG  Agmgt GHG  Non-ag GHG  Transition GHG\nYear                                               \n2011     NaN        NaN         NaN             NaN\n2012     NaN        NaN         NaN             NaN\n2013     NaN        NaN         NaN             NaN\n2014     NaN        NaN         NaN             NaN\n2015     NaN        NaN         NaN             NaN\n2016     NaN        NaN         NaN             NaN\n2017     NaN        NaN         NaN             NaN\n2018     NaN        NaN         NaN             NaN\n2019     NaN        NaN         NaN             NaN\n2020     NaN        NaN         NaN             NaN\n2021     NaN        NaN         NaN             NaN\n2022     NaN        NaN         NaN             NaN\n2023     NaN        NaN         NaN             NaN\n2024     NaN        NaN         NaN             NaN\n2025     NaN        NaN         NaN             NaN\n2026     NaN        NaN         NaN             NaN\n2027     NaN        NaN         NaN             NaN\n2028     NaN        NaN         NaN             NaN\n2029     NaN        NaN         NaN             NaN\n2030     NaN        NaN         NaN             NaN\n2031     NaN        NaN         NaN             NaN\n2032     NaN        NaN         NaN             NaN\n2033     NaN        NaN         NaN             NaN\n2034     NaN        NaN         NaN             NaN\n2035     NaN        NaN         NaN             NaN\n2036     NaN        NaN         NaN             NaN\n2037     NaN        NaN         NaN             NaN\n2038     NaN        NaN         NaN             NaN\n2039     NaN        NaN         NaN             NaN\n2040     NaN        NaN         NaN             NaN\n2041     NaN        NaN         NaN             NaN\n2042     NaN        NaN         NaN             NaN\n2043     NaN        NaN         NaN             NaN\n2044     NaN        NaN         NaN             NaN\n2045     NaN        NaN         NaN             NaN\n2046     NaN        NaN         NaN             NaN\n2047     NaN        NaN         NaN             NaN\n2048     NaN        NaN         NaN             NaN\n2049     NaN        NaN         NaN             NaN\n2050     NaN        NaN         NaN             NaN",
      "text/html": "<div>\n<style scoped>\n    .dataframe tbody tr th:only-of-type {\n        vertical-align: middle;\n    }\n\n    .dataframe tbody tr th {\n        vertical-align: top;\n    }\n\n    .dataframe thead th {\n        text-align: right;\n    }\n</style>\n<table border=\"1\" class=\"dataframe\">\n  <thead>\n    <tr style=\"text-align: right;\">\n      <th>type</th>\n      <th>Ag GHG</th>\n      <th>Agmgt GHG</th>\n      <th>Non-ag GHG</th>\n      <th>Transition GHG</th>\n    </tr>\n    <tr>\n      <th>Year</th>\n      <th></th>\n      <th></th>\n      <th></th>\n      <th></th>\n    </tr>\n  </thead>\n  <tbody>\n    <tr>\n      <th>2011</th>\n      <td>NaN</td>\n      <td>NaN</td>\n      <td>NaN</td>\n      <td>NaN</td>\n    </tr>\n    <tr>\n      <th>2012</th>\n      <td>NaN</td>\n      <td>NaN</td>\n      <td>NaN</td>\n      <td>NaN</td>\n    </tr>\n    <tr>\n      <th>2013</th>\n      <td>NaN</td>\n      <td>NaN</td>\n      <td>NaN</td>\n      <td>NaN</td>\n    </tr>\n    <tr>\n      <th>2014</th>\n      <td>NaN</td>\n      <td>NaN</td>\n      <td>NaN</td>\n      <td>NaN</td>\n    </tr>\n    <tr>\n      <th>2015</th>\n      <td>NaN</td>\n      <td>NaN</td>\n      <td>NaN</td>\n      <td>NaN</td>\n    </tr>\n    <tr>\n      <th>2016</th>\n      <td>NaN</td>\n      <td>NaN</td>\n      <td>NaN</td>\n      <td>NaN</td>\n    </tr>\n    <tr>\n      <th>2017</th>\n      <td>NaN</td>\n      <td>NaN</td>\n      <td>NaN</td>\n      <td>NaN</td>\n    </tr>\n    <tr>\n      <th>2018</th>\n      <td>NaN</td>\n      <td>NaN</td>\n      <td>NaN</td>\n      <td>NaN</td>\n    </tr>\n    <tr>\n      <th>2019</th>\n      <td>NaN</td>\n      <td>NaN</td>\n      <td>NaN</td>\n      <td>NaN</td>\n    </tr>\n    <tr>\n      <th>2020</th>\n      <td>NaN</td>\n      <td>NaN</td>\n      <td>NaN</td>\n      <td>NaN</td>\n    </tr>\n    <tr>\n      <th>2021</th>\n      <td>NaN</td>\n      <td>NaN</td>\n      <td>NaN</td>\n      <td>NaN</td>\n    </tr>\n    <tr>\n      <th>2022</th>\n      <td>NaN</td>\n      <td>NaN</td>\n      <td>NaN</td>\n      <td>NaN</td>\n    </tr>\n    <tr>\n      <th>2023</th>\n      <td>NaN</td>\n      <td>NaN</td>\n      <td>NaN</td>\n      <td>NaN</td>\n    </tr>\n    <tr>\n      <th>2024</th>\n      <td>NaN</td>\n      <td>NaN</td>\n      <td>NaN</td>\n      <td>NaN</td>\n    </tr>\n    <tr>\n      <th>2025</th>\n      <td>NaN</td>\n      <td>NaN</td>\n      <td>NaN</td>\n      <td>NaN</td>\n    </tr>\n    <tr>\n      <th>2026</th>\n      <td>NaN</td>\n      <td>NaN</td>\n      <td>NaN</td>\n      <td>NaN</td>\n    </tr>\n    <tr>\n      <th>2027</th>\n      <td>NaN</td>\n      <td>NaN</td>\n      <td>NaN</td>\n      <td>NaN</td>\n    </tr>\n    <tr>\n      <th>2028</th>\n      <td>NaN</td>\n      <td>NaN</td>\n      <td>NaN</td>\n      <td>NaN</td>\n    </tr>\n    <tr>\n      <th>2029</th>\n      <td>NaN</td>\n      <td>NaN</td>\n      <td>NaN</td>\n      <td>NaN</td>\n    </tr>\n    <tr>\n      <th>2030</th>\n      <td>NaN</td>\n      <td>NaN</td>\n      <td>NaN</td>\n      <td>NaN</td>\n    </tr>\n    <tr>\n      <th>2031</th>\n      <td>NaN</td>\n      <td>NaN</td>\n      <td>NaN</td>\n      <td>NaN</td>\n    </tr>\n    <tr>\n      <th>2032</th>\n      <td>NaN</td>\n      <td>NaN</td>\n      <td>NaN</td>\n      <td>NaN</td>\n    </tr>\n    <tr>\n      <th>2033</th>\n      <td>NaN</td>\n      <td>NaN</td>\n      <td>NaN</td>\n      <td>NaN</td>\n    </tr>\n    <tr>\n      <th>2034</th>\n      <td>NaN</td>\n      <td>NaN</td>\n      <td>NaN</td>\n      <td>NaN</td>\n    </tr>\n    <tr>\n      <th>2035</th>\n      <td>NaN</td>\n      <td>NaN</td>\n      <td>NaN</td>\n      <td>NaN</td>\n    </tr>\n    <tr>\n      <th>2036</th>\n      <td>NaN</td>\n      <td>NaN</td>\n      <td>NaN</td>\n      <td>NaN</td>\n    </tr>\n    <tr>\n      <th>2037</th>\n      <td>NaN</td>\n      <td>NaN</td>\n      <td>NaN</td>\n      <td>NaN</td>\n    </tr>\n    <tr>\n      <th>2038</th>\n      <td>NaN</td>\n      <td>NaN</td>\n      <td>NaN</td>\n      <td>NaN</td>\n    </tr>\n    <tr>\n      <th>2039</th>\n      <td>NaN</td>\n      <td>NaN</td>\n      <td>NaN</td>\n      <td>NaN</td>\n    </tr>\n    <tr>\n      <th>2040</th>\n      <td>NaN</td>\n      <td>NaN</td>\n      <td>NaN</td>\n      <td>NaN</td>\n    </tr>\n    <tr>\n      <th>2041</th>\n      <td>NaN</td>\n      <td>NaN</td>\n      <td>NaN</td>\n      <td>NaN</td>\n    </tr>\n    <tr>\n      <th>2042</th>\n      <td>NaN</td>\n      <td>NaN</td>\n      <td>NaN</td>\n      <td>NaN</td>\n    </tr>\n    <tr>\n      <th>2043</th>\n      <td>NaN</td>\n      <td>NaN</td>\n      <td>NaN</td>\n      <td>NaN</td>\n    </tr>\n    <tr>\n      <th>2044</th>\n      <td>NaN</td>\n      <td>NaN</td>\n      <td>NaN</td>\n      <td>NaN</td>\n    </tr>\n    <tr>\n      <th>2045</th>\n      <td>NaN</td>\n      <td>NaN</td>\n      <td>NaN</td>\n      <td>NaN</td>\n    </tr>\n    <tr>\n      <th>2046</th>\n      <td>NaN</td>\n      <td>NaN</td>\n      <td>NaN</td>\n      <td>NaN</td>\n    </tr>\n    <tr>\n      <th>2047</th>\n      <td>NaN</td>\n      <td>NaN</td>\n      <td>NaN</td>\n      <td>NaN</td>\n    </tr>\n    <tr>\n      <th>2048</th>\n      <td>NaN</td>\n      <td>NaN</td>\n      <td>NaN</td>\n      <td>NaN</td>\n    </tr>\n    <tr>\n      <th>2049</th>\n      <td>NaN</td>\n      <td>NaN</td>\n      <td>NaN</td>\n      <td>NaN</td>\n    </tr>\n    <tr>\n      <th>2050</th>\n      <td>NaN</td>\n      <td>NaN</td>\n      <td>NaN</td>\n      <td>NaN</td>\n    </tr>\n  </tbody>\n</table>\n</div>"
     },
     "execution_count": 29,
     "metadata": {},
     "output_type": "execute_result"
    }
   ],
   "source": [
    "da.sel({'scenario':'carbon_high'}).to_pandas()"
   ],
   "metadata": {
    "collapsed": false,
    "ExecuteTime": {
     "end_time": "2025-09-23T05:54:39.745076Z",
     "start_time": "2025-09-23T05:54:39.662824400Z"
    }
   },
   "id": "e97919320f9437fb"
  },
  {
   "cell_type": "code",
   "execution_count": 15,
   "outputs": [
    {
     "name": "stdout",
     "output_type": "stream",
     "text": [
      "['Transition(ag→ag) cost' 'Transition(ag→non-ag) amortised cost']\n"
     ]
    }
   ],
   "source": [
    "path = r\"N:\\LUF-Modelling\\LUTO2_XH\\LUTO2\\output\\20250922_Paper2_Results_HPC_test\\carbon_price\\1_draw_data\\xr_profit.nc\"\n",
    "da = xr.open_dataarray(path)\n",
    "print(da['type'].values)"
   ],
   "metadata": {
    "collapsed": false,
    "ExecuteTime": {
     "end_time": "2025-09-22T06:20:07.175883300Z",
     "start_time": "2025-09-22T06:20:07.006844100Z"
    }
   },
   "id": "dcea0aced901be37"
  },
  {
   "cell_type": "code",
   "execution_count": 14,
   "outputs": [
    {
     "data": {
      "text/plain": "array(['Run_13_GHG_off_BIO_off_CUT_50', 'Run_12_GHG_low_BIO_off_CUT_50',\n       'Run_06_GHG_high_BIO_off_CUT_50', 'Run_11_GHG_low_BIO_high_CUT_10',\n       'Run_10_GHG_low_BIO_high_CUT_20', 'Run_09_GHG_low_BIO_high_CUT_30',\n       'Run_08_GHG_low_BIO_high_CUT_40', 'Run_07_GHG_low_BIO_high_CUT_50',\n       'Run_05_GHG_high_BIO_high_CUT_10',\n       'Run_04_GHG_high_BIO_high_CUT_20',\n       'Run_03_GHG_high_BIO_high_CUT_30',\n       'Run_02_GHG_high_BIO_high_CUT_40',\n       'Run_01_GHG_high_BIO_high_CUT_50'], dtype='<U31')"
     },
     "execution_count": 14,
     "metadata": {},
     "output_type": "execute_result"
    }
   ],
   "source": [
    "da['scenario'].values"
   ],
   "metadata": {
    "collapsed": false,
    "ExecuteTime": {
     "end_time": "2025-09-22T06:18:53.070949700Z",
     "start_time": "2025-09-22T06:18:52.961924700Z"
    }
   },
   "id": "56b46f428e8d9857"
  },
  {
   "cell_type": "code",
   "execution_count": 11,
   "outputs": [
    {
     "data": {
      "text/plain": "array(['Ag GHG', 'Agmgt GHG', 'Non-ag GHG', 'Transition GHG'],\n      dtype='<U14')"
     },
     "execution_count": 11,
     "metadata": {},
     "output_type": "execute_result"
    }
   ],
   "source": [
    "path = r\"N:\\LUF-Modelling\\LUTO2_XH\\LUTO2\\output\\20250922_Paper2_Results_HPC_test\\carbon_price\\1_draw_data\\xr_total_carbon.nc\"\n",
    "da = xr.open_dataarray(path)\n",
    "da['type'].values"
   ],
   "metadata": {
    "collapsed": false,
    "ExecuteTime": {
     "end_time": "2025-09-22T06:16:03.421781900Z",
     "start_time": "2025-09-22T06:16:03.252742Z"
    }
   },
   "id": "dd45e8ffdfda36d1"
  },
  {
   "cell_type": "code",
   "execution_count": 7,
   "outputs": [
    {
     "data": {
      "text/plain": "Coordinates:\n  * scenario  (scenario) <U33 3kB 'carbon_low' ... 'Counterfactual_carbon_hig...\n  * Year      (Year) int32 160B 2011 2012 2013 2014 2015 ... 2047 2048 2049 2050\n  * type      (type) <U14 224B 'Ag GHG' 'Agmgt GHG' ... 'Transition GHG'"
     },
     "execution_count": 7,
     "metadata": {},
     "output_type": "execute_result"
    }
   ],
   "source": [
    "da.coords"
   ],
   "metadata": {
    "collapsed": false,
    "ExecuteTime": {
     "end_time": "2025-09-22T05:50:11.155075700Z",
     "start_time": "2025-09-22T05:50:11.140072300Z"
    }
   },
   "id": "e3c171f977bfcdd6"
  },
  {
   "cell_type": "code",
   "execution_count": 8,
   "outputs": [
    {
     "data": {
      "text/plain": "array(['Ag GHG', 'Agmgt GHG', 'Non-ag GHG', 'Transition GHG'],\n      dtype='<U14')"
     },
     "execution_count": 8,
     "metadata": {},
     "output_type": "execute_result"
    }
   ],
   "source": [
    "da['type'].values"
   ],
   "metadata": {
    "collapsed": false,
    "ExecuteTime": {
     "end_time": "2025-09-22T05:50:15.370072100Z",
     "start_time": "2025-09-22T05:50:15.345066700Z"
    }
   },
   "id": "13556273f585415d"
  },
  {
   "cell_type": "code",
   "execution_count": null,
   "outputs": [],
   "source": [],
   "metadata": {
    "collapsed": false
   },
   "id": "a2e4051f32eb79e9"
  }
 ],
 "metadata": {
  "kernelspec": {
   "display_name": "Python 3",
   "language": "python",
   "name": "python3"
  },
  "language_info": {
   "codemirror_mode": {
    "name": "ipython",
    "version": 2
   },
   "file_extension": ".py",
   "mimetype": "text/x-python",
   "name": "python",
   "nbconvert_exporter": "python",
   "pygments_lexer": "ipython2",
   "version": "2.7.6"
  }
 },
 "nbformat": 4,
 "nbformat_minor": 5
}
