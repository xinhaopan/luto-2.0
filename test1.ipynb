{
 "cells": [
  {
   "cell_type": "code",
   "execution_count": 2,
   "outputs": [],
   "source": [
    "import numpy as np\n",
    "import xarray as xr\n",
    "from typing import Union"
   ],
   "metadata": {
    "collapsed": false,
    "ExecuteTime": {
     "end_time": "2025-09-22T08:48:49.097336600Z",
     "start_time": "2025-09-22T08:48:47.705007Z"
    }
   },
   "id": "99897383d3603a53"
  },
  {
   "cell_type": "code",
   "execution_count": 3,
   "outputs": [
    {
     "data": {
      "text/plain": "array(['Asparagopsis taxiformis', 'Precision Agriculture',\n       'Savanna Burning', 'AgTech EI', 'Biochar', 'HIR - Beef',\n       'HIR - Sheep'], dtype='<U23')"
     },
     "execution_count": 3,
     "metadata": {},
     "output_type": "execute_result"
    }
   ],
   "source": [
    "path = r\"N:\\LUF-Modelling\\LUTO2_XH\\LUTO2\\output\\20250922_Paper2_Results_HPC_test\\carbon_price\\1_draw_data\\xr_cost_agricultural_management.nc\"\n",
    "da = xr.open_dataarray(path)\n",
    "da['type'].values"
   ],
   "metadata": {
    "collapsed": false,
    "ExecuteTime": {
     "end_time": "2025-09-22T08:48:51.314860600Z",
     "start_time": "2025-09-22T08:48:49.099337600Z"
    }
   },
   "id": "c8d07785d35a040b"
  },
  {
   "cell_type": "code",
   "execution_count": 4,
   "outputs": [
    {
     "data": {
      "text/plain": "<xarray.DataArray 'data' (scenario: 22, Year: 40, type: 7)> Size: 25kB\n[6160 values with dtype=float32]\nCoordinates:\n  * scenario  (scenario) <U33 3kB 'Counterfactual_carbon_high_bio_10' ... 'ca...\n  * Year      (Year) int32 160B 2011 2012 2013 2014 2015 ... 2047 2048 2049 2050\n  * type      (type) <U23 644B 'Asparagopsis taxiformis' ... 'HIR - Sheep'",
      "text/html": "<div><svg style=\"position: absolute; width: 0; height: 0; overflow: hidden\">\n<defs>\n<symbol id=\"icon-database\" viewBox=\"0 0 32 32\">\n<path d=\"M16 0c-8.837 0-16 2.239-16 5v4c0 2.761 7.163 5 16 5s16-2.239 16-5v-4c0-2.761-7.163-5-16-5z\"></path>\n<path d=\"M16 17c-8.837 0-16-2.239-16-5v6c0 2.761 7.163 5 16 5s16-2.239 16-5v-6c0 2.761-7.163 5-16 5z\"></path>\n<path d=\"M16 26c-8.837 0-16-2.239-16-5v6c0 2.761 7.163 5 16 5s16-2.239 16-5v-6c0 2.761-7.163 5-16 5z\"></path>\n</symbol>\n<symbol id=\"icon-file-text2\" viewBox=\"0 0 32 32\">\n<path d=\"M28.681 7.159c-0.694-0.947-1.662-2.053-2.724-3.116s-2.169-2.030-3.116-2.724c-1.612-1.182-2.393-1.319-2.841-1.319h-15.5c-1.378 0-2.5 1.121-2.5 2.5v27c0 1.378 1.122 2.5 2.5 2.5h23c1.378 0 2.5-1.122 2.5-2.5v-19.5c0-0.448-0.137-1.23-1.319-2.841zM24.543 5.457c0.959 0.959 1.712 1.825 2.268 2.543h-4.811v-4.811c0.718 0.556 1.584 1.309 2.543 2.268zM28 29.5c0 0.271-0.229 0.5-0.5 0.5h-23c-0.271 0-0.5-0.229-0.5-0.5v-27c0-0.271 0.229-0.5 0.5-0.5 0 0 15.499-0 15.5 0v7c0 0.552 0.448 1 1 1h7v19.5z\"></path>\n<path d=\"M23 26h-14c-0.552 0-1-0.448-1-1s0.448-1 1-1h14c0.552 0 1 0.448 1 1s-0.448 1-1 1z\"></path>\n<path d=\"M23 22h-14c-0.552 0-1-0.448-1-1s0.448-1 1-1h14c0.552 0 1 0.448 1 1s-0.448 1-1 1z\"></path>\n<path d=\"M23 18h-14c-0.552 0-1-0.448-1-1s0.448-1 1-1h14c0.552 0 1 0.448 1 1s-0.448 1-1 1z\"></path>\n</symbol>\n</defs>\n</svg>\n<style>/* CSS stylesheet for displaying xarray objects in jupyterlab.\n *\n */\n\n:root {\n  --xr-font-color0: var(--jp-content-font-color0, rgba(0, 0, 0, 1));\n  --xr-font-color2: var(--jp-content-font-color2, rgba(0, 0, 0, 0.54));\n  --xr-font-color3: var(--jp-content-font-color3, rgba(0, 0, 0, 0.38));\n  --xr-border-color: var(--jp-border-color2, #e0e0e0);\n  --xr-disabled-color: var(--jp-layout-color3, #bdbdbd);\n  --xr-background-color: var(--jp-layout-color0, white);\n  --xr-background-color-row-even: var(--jp-layout-color1, white);\n  --xr-background-color-row-odd: var(--jp-layout-color2, #eeeeee);\n}\n\nhtml[theme=dark],\nbody[data-theme=dark],\nbody.vscode-dark {\n  --xr-font-color0: rgba(255, 255, 255, 1);\n  --xr-font-color2: rgba(255, 255, 255, 0.54);\n  --xr-font-color3: rgba(255, 255, 255, 0.38);\n  --xr-border-color: #1F1F1F;\n  --xr-disabled-color: #515151;\n  --xr-background-color: #111111;\n  --xr-background-color-row-even: #111111;\n  --xr-background-color-row-odd: #313131;\n}\n\n.xr-wrap {\n  display: block !important;\n  min-width: 300px;\n  max-width: 700px;\n}\n\n.xr-text-repr-fallback {\n  /* fallback to plain text repr when CSS is not injected (untrusted notebook) */\n  display: none;\n}\n\n.xr-header {\n  padding-top: 6px;\n  padding-bottom: 6px;\n  margin-bottom: 4px;\n  border-bottom: solid 1px var(--xr-border-color);\n}\n\n.xr-header > div,\n.xr-header > ul {\n  display: inline;\n  margin-top: 0;\n  margin-bottom: 0;\n}\n\n.xr-obj-type,\n.xr-array-name {\n  margin-left: 2px;\n  margin-right: 10px;\n}\n\n.xr-obj-type {\n  color: var(--xr-font-color2);\n}\n\n.xr-sections {\n  padding-left: 0 !important;\n  display: grid;\n  grid-template-columns: 150px auto auto 1fr 20px 20px;\n}\n\n.xr-section-item {\n  display: contents;\n}\n\n.xr-section-item input {\n  display: none;\n}\n\n.xr-section-item input + label {\n  color: var(--xr-disabled-color);\n}\n\n.xr-section-item input:enabled + label {\n  cursor: pointer;\n  color: var(--xr-font-color2);\n}\n\n.xr-section-item input:enabled + label:hover {\n  color: var(--xr-font-color0);\n}\n\n.xr-section-summary {\n  grid-column: 1;\n  color: var(--xr-font-color2);\n  font-weight: 500;\n}\n\n.xr-section-summary > span {\n  display: inline-block;\n  padding-left: 0.5em;\n}\n\n.xr-section-summary-in:disabled + label {\n  color: var(--xr-font-color2);\n}\n\n.xr-section-summary-in + label:before {\n  display: inline-block;\n  content: '►';\n  font-size: 11px;\n  width: 15px;\n  text-align: center;\n}\n\n.xr-section-summary-in:disabled + label:before {\n  color: var(--xr-disabled-color);\n}\n\n.xr-section-summary-in:checked + label:before {\n  content: '▼';\n}\n\n.xr-section-summary-in:checked + label > span {\n  display: none;\n}\n\n.xr-section-summary,\n.xr-section-inline-details {\n  padding-top: 4px;\n  padding-bottom: 4px;\n}\n\n.xr-section-inline-details {\n  grid-column: 2 / -1;\n}\n\n.xr-section-details {\n  display: none;\n  grid-column: 1 / -1;\n  margin-bottom: 5px;\n}\n\n.xr-section-summary-in:checked ~ .xr-section-details {\n  display: contents;\n}\n\n.xr-array-wrap {\n  grid-column: 1 / -1;\n  display: grid;\n  grid-template-columns: 20px auto;\n}\n\n.xr-array-wrap > label {\n  grid-column: 1;\n  vertical-align: top;\n}\n\n.xr-preview {\n  color: var(--xr-font-color3);\n}\n\n.xr-array-preview,\n.xr-array-data {\n  padding: 0 5px !important;\n  grid-column: 2;\n}\n\n.xr-array-data,\n.xr-array-in:checked ~ .xr-array-preview {\n  display: none;\n}\n\n.xr-array-in:checked ~ .xr-array-data,\n.xr-array-preview {\n  display: inline-block;\n}\n\n.xr-dim-list {\n  display: inline-block !important;\n  list-style: none;\n  padding: 0 !important;\n  margin: 0;\n}\n\n.xr-dim-list li {\n  display: inline-block;\n  padding: 0;\n  margin: 0;\n}\n\n.xr-dim-list:before {\n  content: '(';\n}\n\n.xr-dim-list:after {\n  content: ')';\n}\n\n.xr-dim-list li:not(:last-child):after {\n  content: ',';\n  padding-right: 5px;\n}\n\n.xr-has-index {\n  font-weight: bold;\n}\n\n.xr-var-list,\n.xr-var-item {\n  display: contents;\n}\n\n.xr-var-item > div,\n.xr-var-item label,\n.xr-var-item > .xr-var-name span {\n  background-color: var(--xr-background-color-row-even);\n  margin-bottom: 0;\n}\n\n.xr-var-item > .xr-var-name:hover span {\n  padding-right: 5px;\n}\n\n.xr-var-list > li:nth-child(odd) > div,\n.xr-var-list > li:nth-child(odd) > label,\n.xr-var-list > li:nth-child(odd) > .xr-var-name span {\n  background-color: var(--xr-background-color-row-odd);\n}\n\n.xr-var-name {\n  grid-column: 1;\n}\n\n.xr-var-dims {\n  grid-column: 2;\n}\n\n.xr-var-dtype {\n  grid-column: 3;\n  text-align: right;\n  color: var(--xr-font-color2);\n}\n\n.xr-var-preview {\n  grid-column: 4;\n}\n\n.xr-index-preview {\n  grid-column: 2 / 5;\n  color: var(--xr-font-color2);\n}\n\n.xr-var-name,\n.xr-var-dims,\n.xr-var-dtype,\n.xr-preview,\n.xr-attrs dt {\n  white-space: nowrap;\n  overflow: hidden;\n  text-overflow: ellipsis;\n  padding-right: 10px;\n}\n\n.xr-var-name:hover,\n.xr-var-dims:hover,\n.xr-var-dtype:hover,\n.xr-attrs dt:hover {\n  overflow: visible;\n  width: auto;\n  z-index: 1;\n}\n\n.xr-var-attrs,\n.xr-var-data,\n.xr-index-data {\n  display: none;\n  background-color: var(--xr-background-color) !important;\n  padding-bottom: 5px !important;\n}\n\n.xr-var-attrs-in:checked ~ .xr-var-attrs,\n.xr-var-data-in:checked ~ .xr-var-data,\n.xr-index-data-in:checked ~ .xr-index-data {\n  display: block;\n}\n\n.xr-var-data > table {\n  float: right;\n}\n\n.xr-var-name span,\n.xr-var-data,\n.xr-index-name div,\n.xr-index-data,\n.xr-attrs {\n  padding-left: 25px !important;\n}\n\n.xr-attrs,\n.xr-var-attrs,\n.xr-var-data,\n.xr-index-data {\n  grid-column: 1 / -1;\n}\n\ndl.xr-attrs {\n  padding: 0;\n  margin: 0;\n  display: grid;\n  grid-template-columns: 125px auto;\n}\n\n.xr-attrs dt,\n.xr-attrs dd {\n  padding: 0;\n  margin: 0;\n  float: left;\n  padding-right: 10px;\n  width: auto;\n}\n\n.xr-attrs dt {\n  font-weight: normal;\n  grid-column: 1;\n}\n\n.xr-attrs dt:hover span {\n  display: inline-block;\n  background: var(--xr-background-color);\n  padding-right: 10px;\n}\n\n.xr-attrs dd {\n  grid-column: 2;\n  white-space: pre-wrap;\n  word-break: break-all;\n}\n\n.xr-icon-database,\n.xr-icon-file-text2,\n.xr-no-icon {\n  display: inline-block;\n  vertical-align: middle;\n  width: 1em;\n  height: 1.5em !important;\n  stroke-width: 0;\n  stroke: currentColor;\n  fill: currentColor;\n}\n</style><pre class='xr-text-repr-fallback'>&lt;xarray.DataArray &#x27;data&#x27; (scenario: 22, Year: 40, type: 7)&gt; Size: 25kB\n[6160 values with dtype=float32]\nCoordinates:\n  * scenario  (scenario) &lt;U33 3kB &#x27;Counterfactual_carbon_high_bio_10&#x27; ... &#x27;ca...\n  * Year      (Year) int32 160B 2011 2012 2013 2014 2015 ... 2047 2048 2049 2050\n  * type      (type) &lt;U23 644B &#x27;Asparagopsis taxiformis&#x27; ... &#x27;HIR - Sheep&#x27;</pre><div class='xr-wrap' style='display:none'><div class='xr-header'><div class='xr-obj-type'>xarray.DataArray</div><div class='xr-array-name'>'data'</div><ul class='xr-dim-list'><li><span class='xr-has-index'>scenario</span>: 22</li><li><span class='xr-has-index'>Year</span>: 40</li><li><span class='xr-has-index'>type</span>: 7</li></ul></div><ul class='xr-sections'><li class='xr-section-item'><div class='xr-array-wrap'><input id='section-174ede20-39c0-43b3-b721-947ccbea4d88' class='xr-array-in' type='checkbox' checked><label for='section-174ede20-39c0-43b3-b721-947ccbea4d88' title='Show/hide data repr'><svg class='icon xr-icon-database'><use xlink:href='#icon-database'></use></svg></label><div class='xr-array-preview xr-preview'><span>...</span></div><div class='xr-array-data'><pre>[6160 values with dtype=float32]</pre></div></div></li><li class='xr-section-item'><input id='section-5c4579f1-f8de-43b4-b2e9-4aa57a51eebf' class='xr-section-summary-in' type='checkbox'  checked><label for='section-5c4579f1-f8de-43b4-b2e9-4aa57a51eebf' class='xr-section-summary' >Coordinates: <span>(3)</span></label><div class='xr-section-inline-details'></div><div class='xr-section-details'><ul class='xr-var-list'><li class='xr-var-item'><div class='xr-var-name'><span class='xr-has-index'>scenario</span></div><div class='xr-var-dims'>(scenario)</div><div class='xr-var-dtype'>&lt;U33</div><div class='xr-var-preview xr-preview'>&#x27;Counterfactual_carbon_high_bio_...</div><input id='attrs-9377911d-6385-44b7-8c5b-efe18b8a442b' class='xr-var-attrs-in' type='checkbox' disabled><label for='attrs-9377911d-6385-44b7-8c5b-efe18b8a442b' title='Show/Hide attributes'><svg class='icon xr-icon-file-text2'><use xlink:href='#icon-file-text2'></use></svg></label><input id='data-7495b63b-a47e-46c3-a298-9e18e69f6f4b' class='xr-var-data-in' type='checkbox'><label for='data-7495b63b-a47e-46c3-a298-9e18e69f6f4b' title='Show/Hide data repr'><svg class='icon xr-icon-database'><use xlink:href='#icon-database'></use></svg></label><div class='xr-var-attrs'><dl class='xr-attrs'></dl></div><div class='xr-var-data'><pre>array([&#x27;Counterfactual_carbon_high_bio_10&#x27;,\n       &#x27;Counterfactual_carbon_high_bio_20&#x27;,\n       &#x27;Counterfactual_carbon_high_bio_30&#x27;,\n       &#x27;Counterfactual_carbon_high_bio_40&#x27;,\n       &#x27;Counterfactual_carbon_high_bio_50&#x27;, &#x27;Counterfactual_carbon_low_bio_10&#x27;,\n       &#x27;Counterfactual_carbon_low_bio_20&#x27;, &#x27;Counterfactual_carbon_low_bio_30&#x27;,\n       &#x27;Counterfactual_carbon_low_bio_40&#x27;, &#x27;Counterfactual_carbon_low_bio_50&#x27;,\n       &#x27;carbon_high&#x27;, &#x27;carbon_high_bio_10&#x27;, &#x27;carbon_high_bio_20&#x27;,\n       &#x27;carbon_high_bio_30&#x27;, &#x27;carbon_high_bio_40&#x27;, &#x27;carbon_high_bio_50&#x27;,\n       &#x27;carbon_low&#x27;, &#x27;carbon_low_bio_10&#x27;, &#x27;carbon_low_bio_20&#x27;,\n       &#x27;carbon_low_bio_30&#x27;, &#x27;carbon_low_bio_40&#x27;, &#x27;carbon_low_bio_50&#x27;],\n      dtype=&#x27;&lt;U33&#x27;)</pre></div></li><li class='xr-var-item'><div class='xr-var-name'><span class='xr-has-index'>Year</span></div><div class='xr-var-dims'>(Year)</div><div class='xr-var-dtype'>int32</div><div class='xr-var-preview xr-preview'>2011 2012 2013 ... 2048 2049 2050</div><input id='attrs-83eb57bc-15ec-42de-8e58-f9ea32a96e00' class='xr-var-attrs-in' type='checkbox' disabled><label for='attrs-83eb57bc-15ec-42de-8e58-f9ea32a96e00' title='Show/Hide attributes'><svg class='icon xr-icon-file-text2'><use xlink:href='#icon-file-text2'></use></svg></label><input id='data-a0f12858-ab9e-46b1-b0da-d3af3a79c377' class='xr-var-data-in' type='checkbox'><label for='data-a0f12858-ab9e-46b1-b0da-d3af3a79c377' title='Show/Hide data repr'><svg class='icon xr-icon-database'><use xlink:href='#icon-database'></use></svg></label><div class='xr-var-attrs'><dl class='xr-attrs'></dl></div><div class='xr-var-data'><pre>array([2011, 2012, 2013, 2014, 2015, 2016, 2017, 2018, 2019, 2020, 2021, 2022,\n       2023, 2024, 2025, 2026, 2027, 2028, 2029, 2030, 2031, 2032, 2033, 2034,\n       2035, 2036, 2037, 2038, 2039, 2040, 2041, 2042, 2043, 2044, 2045, 2046,\n       2047, 2048, 2049, 2050])</pre></div></li><li class='xr-var-item'><div class='xr-var-name'><span class='xr-has-index'>type</span></div><div class='xr-var-dims'>(type)</div><div class='xr-var-dtype'>&lt;U23</div><div class='xr-var-preview xr-preview'>&#x27;Asparagopsis taxiformis&#x27; ... &#x27;H...</div><input id='attrs-f8b9bfa2-e705-4ed4-a0f2-8ac30e8b98f8' class='xr-var-attrs-in' type='checkbox' disabled><label for='attrs-f8b9bfa2-e705-4ed4-a0f2-8ac30e8b98f8' title='Show/Hide attributes'><svg class='icon xr-icon-file-text2'><use xlink:href='#icon-file-text2'></use></svg></label><input id='data-0ec93a36-7f29-499f-b48a-f7a19413cdd0' class='xr-var-data-in' type='checkbox'><label for='data-0ec93a36-7f29-499f-b48a-f7a19413cdd0' title='Show/Hide data repr'><svg class='icon xr-icon-database'><use xlink:href='#icon-database'></use></svg></label><div class='xr-var-attrs'><dl class='xr-attrs'></dl></div><div class='xr-var-data'><pre>array([&#x27;Asparagopsis taxiformis&#x27;, &#x27;Precision Agriculture&#x27;, &#x27;Savanna Burning&#x27;,\n       &#x27;AgTech EI&#x27;, &#x27;Biochar&#x27;, &#x27;HIR - Beef&#x27;, &#x27;HIR - Sheep&#x27;], dtype=&#x27;&lt;U23&#x27;)</pre></div></li></ul></div></li><li class='xr-section-item'><input id='section-002cfb96-250a-4ba6-87a9-bc605ed8e60b' class='xr-section-summary-in' type='checkbox'  ><label for='section-002cfb96-250a-4ba6-87a9-bc605ed8e60b' class='xr-section-summary' >Indexes: <span>(3)</span></label><div class='xr-section-inline-details'></div><div class='xr-section-details'><ul class='xr-var-list'><li class='xr-var-item'><div class='xr-index-name'><div>scenario</div></div><div class='xr-index-preview'>PandasIndex</div><div></div><input id='index-c9160ae3-5d93-40a9-98d1-e304322e023f' class='xr-index-data-in' type='checkbox'/><label for='index-c9160ae3-5d93-40a9-98d1-e304322e023f' title='Show/Hide index repr'><svg class='icon xr-icon-database'><use xlink:href='#icon-database'></use></svg></label><div class='xr-index-data'><pre>PandasIndex(Index([&#x27;Counterfactual_carbon_high_bio_10&#x27;,\n       &#x27;Counterfactual_carbon_high_bio_20&#x27;,\n       &#x27;Counterfactual_carbon_high_bio_30&#x27;,\n       &#x27;Counterfactual_carbon_high_bio_40&#x27;,\n       &#x27;Counterfactual_carbon_high_bio_50&#x27;, &#x27;Counterfactual_carbon_low_bio_10&#x27;,\n       &#x27;Counterfactual_carbon_low_bio_20&#x27;, &#x27;Counterfactual_carbon_low_bio_30&#x27;,\n       &#x27;Counterfactual_carbon_low_bio_40&#x27;, &#x27;Counterfactual_carbon_low_bio_50&#x27;,\n       &#x27;carbon_high&#x27;, &#x27;carbon_high_bio_10&#x27;, &#x27;carbon_high_bio_20&#x27;,\n       &#x27;carbon_high_bio_30&#x27;, &#x27;carbon_high_bio_40&#x27;, &#x27;carbon_high_bio_50&#x27;,\n       &#x27;carbon_low&#x27;, &#x27;carbon_low_bio_10&#x27;, &#x27;carbon_low_bio_20&#x27;,\n       &#x27;carbon_low_bio_30&#x27;, &#x27;carbon_low_bio_40&#x27;, &#x27;carbon_low_bio_50&#x27;],\n      dtype=&#x27;object&#x27;, name=&#x27;scenario&#x27;))</pre></div></li><li class='xr-var-item'><div class='xr-index-name'><div>Year</div></div><div class='xr-index-preview'>PandasIndex</div><div></div><input id='index-c0d7ed11-fa74-4da4-9a5f-528b93923213' class='xr-index-data-in' type='checkbox'/><label for='index-c0d7ed11-fa74-4da4-9a5f-528b93923213' title='Show/Hide index repr'><svg class='icon xr-icon-database'><use xlink:href='#icon-database'></use></svg></label><div class='xr-index-data'><pre>PandasIndex(Index([2011, 2012, 2013, 2014, 2015, 2016, 2017, 2018, 2019, 2020, 2021, 2022,\n       2023, 2024, 2025, 2026, 2027, 2028, 2029, 2030, 2031, 2032, 2033, 2034,\n       2035, 2036, 2037, 2038, 2039, 2040, 2041, 2042, 2043, 2044, 2045, 2046,\n       2047, 2048, 2049, 2050],\n      dtype=&#x27;int32&#x27;, name=&#x27;Year&#x27;))</pre></div></li><li class='xr-var-item'><div class='xr-index-name'><div>type</div></div><div class='xr-index-preview'>PandasIndex</div><div></div><input id='index-3a1ecf9c-52cf-4f18-a56e-a570d4403285' class='xr-index-data-in' type='checkbox'/><label for='index-3a1ecf9c-52cf-4f18-a56e-a570d4403285' title='Show/Hide index repr'><svg class='icon xr-icon-database'><use xlink:href='#icon-database'></use></svg></label><div class='xr-index-data'><pre>PandasIndex(Index([&#x27;Asparagopsis taxiformis&#x27;, &#x27;Precision Agriculture&#x27;, &#x27;Savanna Burning&#x27;,\n       &#x27;AgTech EI&#x27;, &#x27;Biochar&#x27;, &#x27;HIR - Beef&#x27;, &#x27;HIR - Sheep&#x27;],\n      dtype=&#x27;object&#x27;, name=&#x27;type&#x27;))</pre></div></li></ul></div></li><li class='xr-section-item'><input id='section-9b8587ea-6c20-4784-9d48-ad4ef6ef9326' class='xr-section-summary-in' type='checkbox' disabled ><label for='section-9b8587ea-6c20-4784-9d48-ad4ef6ef9326' class='xr-section-summary'  title='Expand/collapse section'>Attributes: <span>(0)</span></label><div class='xr-section-inline-details'></div><div class='xr-section-details'><dl class='xr-attrs'></dl></div></li></ul></div></div>"
     },
     "execution_count": 4,
     "metadata": {},
     "output_type": "execute_result"
    }
   ],
   "source": [
    "da"
   ],
   "metadata": {
    "collapsed": false,
    "ExecuteTime": {
     "end_time": "2025-09-22T08:48:57.873854Z",
     "start_time": "2025-09-22T08:48:57.706882Z"
    }
   },
   "id": "e97919320f9437fb"
  },
  {
   "cell_type": "code",
   "execution_count": 15,
   "outputs": [
    {
     "name": "stdout",
     "output_type": "stream",
     "text": [
      "['Transition(ag→ag) cost' 'Transition(ag→non-ag) amortised cost']\n"
     ]
    }
   ],
   "source": [
    "path = r\"N:\\LUF-Modelling\\LUTO2_XH\\LUTO2\\output\\20250922_Paper2_Results_HPC_test\\carbon_price\\1_draw_data\\xr_profit.nc\"\n",
    "da = xr.open_dataarray(path)\n",
    "print(da['type'].values)"
   ],
   "metadata": {
    "collapsed": false,
    "ExecuteTime": {
     "end_time": "2025-09-22T06:20:07.175883300Z",
     "start_time": "2025-09-22T06:20:07.006844100Z"
    }
   },
   "id": "dcea0aced901be37"
  },
  {
   "cell_type": "code",
   "execution_count": 14,
   "outputs": [
    {
     "data": {
      "text/plain": "array(['Run_13_GHG_off_BIO_off_CUT_50', 'Run_12_GHG_low_BIO_off_CUT_50',\n       'Run_06_GHG_high_BIO_off_CUT_50', 'Run_11_GHG_low_BIO_high_CUT_10',\n       'Run_10_GHG_low_BIO_high_CUT_20', 'Run_09_GHG_low_BIO_high_CUT_30',\n       'Run_08_GHG_low_BIO_high_CUT_40', 'Run_07_GHG_low_BIO_high_CUT_50',\n       'Run_05_GHG_high_BIO_high_CUT_10',\n       'Run_04_GHG_high_BIO_high_CUT_20',\n       'Run_03_GHG_high_BIO_high_CUT_30',\n       'Run_02_GHG_high_BIO_high_CUT_40',\n       'Run_01_GHG_high_BIO_high_CUT_50'], dtype='<U31')"
     },
     "execution_count": 14,
     "metadata": {},
     "output_type": "execute_result"
    }
   ],
   "source": [
    "da['scenario'].values"
   ],
   "metadata": {
    "collapsed": false,
    "ExecuteTime": {
     "end_time": "2025-09-22T06:18:53.070949700Z",
     "start_time": "2025-09-22T06:18:52.961924700Z"
    }
   },
   "id": "56b46f428e8d9857"
  },
  {
   "cell_type": "code",
   "execution_count": 11,
   "outputs": [
    {
     "data": {
      "text/plain": "array(['Ag GHG', 'Agmgt GHG', 'Non-ag GHG', 'Transition GHG'],\n      dtype='<U14')"
     },
     "execution_count": 11,
     "metadata": {},
     "output_type": "execute_result"
    }
   ],
   "source": [
    "path = r\"N:\\LUF-Modelling\\LUTO2_XH\\LUTO2\\output\\20250922_Paper2_Results_HPC_test\\carbon_price\\1_draw_data\\xr_total_carbon.nc\"\n",
    "da = xr.open_dataarray(path)\n",
    "da['type'].values"
   ],
   "metadata": {
    "collapsed": false,
    "ExecuteTime": {
     "end_time": "2025-09-22T06:16:03.421781900Z",
     "start_time": "2025-09-22T06:16:03.252742Z"
    }
   },
   "id": "dd45e8ffdfda36d1"
  },
  {
   "cell_type": "code",
   "execution_count": 7,
   "outputs": [
    {
     "data": {
      "text/plain": "Coordinates:\n  * scenario  (scenario) <U33 3kB 'carbon_low' ... 'Counterfactual_carbon_hig...\n  * Year      (Year) int32 160B 2011 2012 2013 2014 2015 ... 2047 2048 2049 2050\n  * type      (type) <U14 224B 'Ag GHG' 'Agmgt GHG' ... 'Transition GHG'"
     },
     "execution_count": 7,
     "metadata": {},
     "output_type": "execute_result"
    }
   ],
   "source": [
    "da.coords"
   ],
   "metadata": {
    "collapsed": false,
    "ExecuteTime": {
     "end_time": "2025-09-22T05:50:11.155075700Z",
     "start_time": "2025-09-22T05:50:11.140072300Z"
    }
   },
   "id": "e3c171f977bfcdd6"
  },
  {
   "cell_type": "code",
   "execution_count": 8,
   "outputs": [
    {
     "data": {
      "text/plain": "array(['Ag GHG', 'Agmgt GHG', 'Non-ag GHG', 'Transition GHG'],\n      dtype='<U14')"
     },
     "execution_count": 8,
     "metadata": {},
     "output_type": "execute_result"
    }
   ],
   "source": [
    "da['type'].values"
   ],
   "metadata": {
    "collapsed": false,
    "ExecuteTime": {
     "end_time": "2025-09-22T05:50:15.370072100Z",
     "start_time": "2025-09-22T05:50:15.345066700Z"
    }
   },
   "id": "13556273f585415d"
  },
  {
   "cell_type": "code",
   "execution_count": null,
   "outputs": [],
   "source": [],
   "metadata": {
    "collapsed": false
   },
   "id": "a2e4051f32eb79e9"
  }
 ],
 "metadata": {
  "kernelspec": {
   "display_name": "Python 3",
   "language": "python",
   "name": "python3"
  },
  "language_info": {
   "codemirror_mode": {
    "name": "ipython",
    "version": 2
   },
   "file_extension": ".py",
   "mimetype": "text/x-python",
   "name": "python",
   "nbconvert_exporter": "python",
   "pygments_lexer": "ipython2",
   "version": "2.7.6"
  }
 },
 "nbformat": 4,
 "nbformat_minor": 5
}
