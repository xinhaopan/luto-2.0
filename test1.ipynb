{
 "cells": [
  {
   "cell_type": "code",
   "execution_count": 1,
   "outputs": [],
   "source": [
    "import numpy as np\n",
    "import xarray as xr\n",
    "from typing import Union\n",
    "from luto.tools import \n",
    "\n",
    "path = r\"N:\\LUF-Modelling\\LUTO2_XH\\LUTO2\\output\\20250908_Paper2_Results_NCI\\Run_06_GHG_high_BIO_off_CUT_50\\output\\2025_09_08__09_33_34_RF5_2010-2050\\out_2050\\xr_cost_ag_2050.nc\""
   ],
   "metadata": {
    "collapsed": false,
    "ExecuteTime": {
     "end_time": "2025-09-15T07:44:41.368708600Z",
     "start_time": "2025-09-15T07:44:41.006118600Z"
    }
   },
   "id": "99897383d3603a53"
  },
  {
   "cell_type": "code",
   "execution_count": null,
   "outputs": [],
   "source": [],
   "metadata": {
    "collapsed": false
   },
   "id": "f78dc0c1f901e724"
  }
 ],
 "metadata": {
  "kernelspec": {
   "display_name": "Python 3",
   "language": "python",
   "name": "python3"
  },
  "language_info": {
   "codemirror_mode": {
    "name": "ipython",
    "version": 2
   },
   "file_extension": ".py",
   "mimetype": "text/x-python",
   "name": "python",
   "nbconvert_exporter": "python",
   "pygments_lexer": "ipython2",
   "version": "2.7.6"
  }
 },
 "nbformat": 4,
 "nbformat_minor": 5
}
