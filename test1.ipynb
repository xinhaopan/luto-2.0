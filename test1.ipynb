{
 "cells": [
  {
   "cell_type": "code",
   "execution_count": 6,
   "outputs": [
    {
     "name": "stdout",
     "output_type": "stream",
     "text": [
      "<xarray.Dataset> Size: 8MB\n",
      "Dimensions:  (cell: 24987, lu: 28, lm: 3)\n",
      "Coordinates:\n",
      "  * cell     (cell) int32 100kB 0 1 2 3 4 5 ... 24982 24983 24984 24985 24986\n",
      "  * lu       (lu) <U27 3kB 'Apples' 'Beef - modified land' ... 'Winter oilseeds'\n",
      "  * lm       (lm) <U3 36B 'ALL' 'dry' 'irr'\n",
      "Data variables:\n",
      "    data     (cell, lu, lm) float32 8MB ...\n"
     ]
    }
   ],
   "source": [
    "import xarray as xr\n",
    "\n",
    "ds = xr.open_dataset(r\"N:\\LUF-Modelling\\LUTO2_XH\\LUTO2\\output\\20250912_Price_Task_RES13_year5\\Run_1_GHG_high_BIO_high_CUT_50\\output\\2025_09_12__16_06_16_RF13_2010-2050\\out_2020\\xr_biodiversity_GBF2_priority_ag_2020.nc\")\n",
    "print(ds)"
   ],
   "metadata": {
    "collapsed": false,
    "ExecuteTime": {
     "end_time": "2025-09-12T07:11:37.191578100Z",
     "start_time": "2025-09-12T07:11:37.047102Z"
    }
   },
   "id": "44f0825b7712939f"
  },
  {
   "cell_type": "code",
   "execution_count": 7,
   "outputs": [
    {
     "name": "stdout",
     "output_type": "stream",
     "text": [
      "<xarray.Dataset> Size: 118MB\n",
      "Dimensions:     (lu: 28, cell: 24987, lm: 3, GHG_source: 14)\n",
      "Coordinates:\n",
      "  * lu          (lu) <U27 3kB 'Apples' ... 'Winter oilseeds'\n",
      "  * cell        (cell) int64 200kB 0 1 2 3 4 5 ... 24982 24983 24984 24985 24986\n",
      "  * lm          (lm) <U3 36B 'ALL' 'dry' 'irr'\n",
      "  * GHG_source  (GHG_source) <U53 3kB 'ALL' 'Chemical Application' ... 'Sowing'\n",
      "Data variables:\n",
      "    data        (cell, GHG_source, lm, lu) float32 118MB ...\n"
     ]
    }
   ],
   "source": [
    "ds = xr.open_dataset(r\"N:\\LUF-Modelling\\LUTO2_XH\\LUTO2\\output\\20250912_Price_Task_RES13_year5\\Run_1_GHG_high_BIO_high_CUT_50\\output\\2025_09_12__16_06_16_RF13_2010-2050\\out_2020\\xr_GHG_ag_2020.nc\")\n",
    "print(ds)"
   ],
   "metadata": {
    "collapsed": false,
    "ExecuteTime": {
     "end_time": "2025-09-12T07:12:00.080332900Z",
     "start_time": "2025-09-12T07:11:59.927782600Z"
    }
   },
   "id": "6a75dac7477f9c8e"
  },
  {
   "cell_type": "code",
   "execution_count": null,
   "outputs": [],
   "source": [],
   "metadata": {
    "collapsed": false
   },
   "id": "f53dd7f29b04c878"
  }
 ],
 "metadata": {
  "kernelspec": {
   "display_name": "Python 3",
   "language": "python",
   "name": "python3"
  },
  "language_info": {
   "codemirror_mode": {
    "name": "ipython",
    "version": 2
   },
   "file_extension": ".py",
   "mimetype": "text/x-python",
   "name": "python",
   "nbconvert_exporter": "python",
   "pygments_lexer": "ipython2",
   "version": "2.7.6"
  }
 },
 "nbformat": 4,
 "nbformat_minor": 5
}
