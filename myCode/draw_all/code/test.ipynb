{
 "cells": [
  {
   "cell_type": "code",
   "execution_count": 8,
   "outputs": [],
   "source": [
    "import pandas as pd\n",
    "import tools.config as config\n",
    "\n",
    "df_path = '../../../input/GHG_targets.xlsx'\n",
    "df = pd.read_excel(df_path, sheet_name=\"Data\", index_col=\"YEAR\")\n",
    "cols = [\n",
    "    '1.5C (67%) excl. avoided emis SCOPE1',\n",
    "    '1.8C (67%) excl. avoided emis SCOPE1'\n",
    "]\n",
    "\n",
    "new_df = df[cols]\n",
    "new_df.columns = ['high', 'low']\n",
    "new_df = new_df[new_df.index >= config.START_YEAR]"
   ],
   "metadata": {
    "collapsed": false,
    "ExecuteTime": {
     "end_time": "2025-09-24T05:38:42.874488200Z",
     "start_time": "2025-09-24T05:38:42.629077Z"
    }
   },
   "id": "9b9166a834832f15"
  },
  {
   "cell_type": "code",
   "execution_count": 9,
   "outputs": [
    {
     "ename": "AttributeError",
     "evalue": "module 'tools.config' has no attribute 'START_YEAR'",
     "output_type": "error",
     "traceback": [
      "\u001B[1;31m---------------------------------------------------------------------------\u001B[0m",
      "\u001B[1;31mAttributeError\u001B[0m                            Traceback (most recent call last)",
      "Cell \u001B[1;32mIn[9], line 9\u001B[0m\n\u001B[0;32m      7\u001B[0m new_df \u001B[38;5;241m=\u001B[39m df[cols]\n\u001B[0;32m      8\u001B[0m new_df\u001B[38;5;241m.\u001B[39mcolumns \u001B[38;5;241m=\u001B[39m [\u001B[38;5;124m'\u001B[39m\u001B[38;5;124mhigh\u001B[39m\u001B[38;5;124m'\u001B[39m, \u001B[38;5;124m'\u001B[39m\u001B[38;5;124mlow\u001B[39m\u001B[38;5;124m'\u001B[39m]\n\u001B[1;32m----> 9\u001B[0m new_df \u001B[38;5;241m=\u001B[39m new_df[new_df\u001B[38;5;241m.\u001B[39mindex \u001B[38;5;241m>\u001B[39m\u001B[38;5;241m=\u001B[39m \u001B[43mconfig\u001B[49m\u001B[38;5;241;43m.\u001B[39;49m\u001B[43mSTART_YEAR\u001B[49m]\n",
      "\u001B[1;31mAttributeError\u001B[0m: module 'tools.config' has no attribute 'START_YEAR'"
     ]
    }
   ],
   "source": [],
   "metadata": {
    "collapsed": false,
    "ExecuteTime": {
     "end_time": "2025-09-24T05:38:43.021949400Z",
     "start_time": "2025-09-24T05:38:42.869487100Z"
    }
   },
   "id": "80715931230e86f9"
  },
  {
   "cell_type": "code",
   "execution_count": 5,
   "outputs": [
    {
     "data": {
      "text/plain": "Index(['METHANE_TCO2E', 'NITROUS_OXIDE_TCO2E', 'CARBON_DIOXIDE_TCO2E',\n       'TOTAL_GHG_TCO2E', 'CWC1.5_TCO2E', 'CWC2.0_TCO2E', 'Unnamed: 7',\n       '1.5C (67%)', '1.5C (50%)', '1.8C (67%)', 'Unnamed: 11', 'Unnamed: 12',\n       '1.5C (67%) excl. avoided emis', '1.5C (50%) excl. avoided emis',\n       '1.8C (67%) excl. avoided emis', 'Unnamed: 16',\n       '1.5C (67%) excl. avoided emis SCOPE1',\n       '1.5C (50%) excl. avoided emis SCOPE1',\n       '1.8C (67%) excl. avoided emis SCOPE1'],\n      dtype='object')"
     },
     "execution_count": 5,
     "metadata": {},
     "output_type": "execute_result"
    }
   ],
   "source": [],
   "metadata": {
    "collapsed": false,
    "ExecuteTime": {
     "end_time": "2025-09-24T05:36:47.661842700Z",
     "start_time": "2025-09-24T05:36:47.483960100Z"
    }
   },
   "id": "e5af96b7c99f9d73"
  },
  {
   "cell_type": "code",
   "execution_count": null,
   "outputs": [],
   "source": [],
   "metadata": {
    "collapsed": false
   },
   "id": "62644ab03afb1e7"
  }
 ],
 "metadata": {
  "kernelspec": {
   "display_name": "Python 3",
   "language": "python",
   "name": "python3"
  },
  "language_info": {
   "codemirror_mode": {
    "name": "ipython",
    "version": 2
   },
   "file_extension": ".py",
   "mimetype": "text/x-python",
   "name": "python",
   "nbconvert_exporter": "python",
   "pygments_lexer": "ipython2",
   "version": "2.7.6"
  }
 },
 "nbformat": 4,
 "nbformat_minor": 5
}
