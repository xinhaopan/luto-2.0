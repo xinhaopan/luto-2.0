{
 "cells": [
  {
   "cell_type": "code",
   "execution_count": 54,
   "outputs": [],
   "source": [
    "import os\n",
    "import numpy as np\n",
    "import xarray as xr\n",
    "import rasterio\n",
    "from tools.tools import (\n",
    "    get_path, get_year, save2nc, filter_all_from_dims, nc_to_tif\n",
    ")\n",
    "from joblib import Parallel, delayed\n",
    "import tools.config as config\n",
    "import time\n",
    "import gzip\n",
    "import dill\n",
    "\n",
    "\n",
    "def xarrays_to_tifs(env_cat, file_part, base_dir, tif_dir, data):\n",
    "    \"\"\"处理一个类别+文件部分，并输出tif\"\"\"\n",
    "    print(f\"Processing {env_cat} - {file_part}\")\n",
    "\n",
    "    # 构造输入路径\n",
    "    if file_part == 'total_cost':\n",
    "        input_path = f\"{base_dir}/{env_cat}/2050/xr_{file_part}_{env_cat}_amortised_2050.nc\"\n",
    "    else:\n",
    "        input_path = f\"{base_dir}/{env_cat}/2050/xr_{file_part}_{env_cat}_2050.nc\"\n",
    "\n",
    "    # 输出路径\n",
    "    out_tif = f\"{tif_dir}/{env_cat}/xr_{file_part}_{env_cat}_2050.tif\"\n",
    "    os.makedirs(os.path.dirname(out_tif), exist_ok=True)\n",
    "    # 读取和处理\n",
    "    da = xr.open_dataarray(input_path)\n",
    "    da = da.sum(dim=[d for d in da.dims if d != 'cell'])\n",
    "    da = da.where(da >= 1)\n",
    "    # 保存到 GeoTIFF\n",
    "    nc_to_tif(data, da, out_tif)\n",
    "\n",
    "    return out_tif\n",
    "\n",
    "def subtract_tifs(a_path, b_path, out_path):\n",
    "    with rasterio.open(a_path) as A, rasterio.open(b_path) as B:\n",
    "        # 1) 基本一致性检查\n",
    "        if (A.width, A.height) != (B.width, B.height) or A.transform != B.transform or A.crs != B.crs:\n",
    "            raise ValueError(\"输入影像的大小/transform/CRS 不一致，请先重采样/重投影对齐。\")\n",
    "\n",
    "        # 2) 读为 masked array（会自动将 nodata 屏蔽），再转为含 NaN 的数组\n",
    "        arr_a = A.read(1, masked=True).filled(np.nan).astype(np.float32)\n",
    "        arr_b = B.read(1, masked=True).filled(np.nan).astype(np.float32)\n",
    "\n",
    "        arr_a[arr_a < 0] = np.nan\n",
    "        arr_b[arr_b < 0] = np.nan\n",
    "\n",
    "        # 3) 相减\n",
    "        out = arr_a - arr_b\n",
    "\n",
    "        # 4) 将 <0 的结果置为 NaN（其他位置原本的 NaN 将自动保留）\n",
    "        out[out <= 0] = np.nan\n",
    "\n",
    "        # 5) 写出（Float32 + LZW 压缩；nodata 设为 NaN）\n",
    "        nodata_value = -9999\n",
    "        profile = A.profile.copy()\n",
    "        profile.update(dtype=\"float32\", compress=\"lzw\", nodata=nodata_value)\n",
    "        out = np.where(np.isnan(out), nodata_value, out)\n",
    "\n",
    "        with rasterio.open(out_path, \"w\", **profile) as dst:\n",
    "            dst.write(out, 1)\n",
    "\n",
    "\n",
    "\n",
    "task_name = config.TASK_NAME\n",
    "output_all_names = config.carbon_names + config.carbon_bio_names + config.counter_carbon_bio_names\n",
    "tif_dir = f\"../../../output/{config.TASK_NAME}/carbon_price/4_tif\"\n",
    "output_path = f\"../../../output/{config.TASK_NAME}/carbon_price/0_base_data\"\n",
    "data_path = f\"../../../output/{config.TASK_NAME}/Run_01_GHG_high_BIO_high_CUT_50/output/2025_09_22__04_48_18_RF5_2010-2050/Data_RES5.gz\"\n",
    "\n",
    "\n",
    "with gzip.open(data_path, 'rb') as f:\n",
    "    data = dill.load(f)\n",
    "\n"
   ],
   "metadata": {
    "collapsed": false,
    "ExecuteTime": {
     "end_time": "2025-09-29T02:14:21.914027900Z",
     "start_time": "2025-09-29T02:13:21.843834Z"
    }
   },
   "id": "e8b3f7c6858b4543"
  },
  {
   "cell_type": "code",
   "execution_count": 55,
   "outputs": [
    {
     "data": {
      "text/plain": "array([3026.2227, 3025.7405, 3024.7695, ..., 2248.5994, 2248.5994,\n       2248.5994], dtype=float32)"
     },
     "execution_count": 55,
     "metadata": {},
     "output_type": "execute_result"
    }
   ],
   "source": [
    "data.REAL_AREA"
   ],
   "metadata": {
    "collapsed": false,
    "ExecuteTime": {
     "end_time": "2025-09-29T02:19:20.178859200Z",
     "start_time": "2025-09-29T02:19:20.012820300Z"
    }
   },
   "id": "31d37127412ee3d"
  },
  {
   "cell_type": "code",
   "execution_count": 53,
   "outputs": [
    {
     "ename": "UnicodeEncodeError",
     "evalue": "'charmap' codec can't encode character '\\u2705' in position 0: character maps to <undefined>",
     "output_type": "error",
     "traceback": [
      "\u001B[1;31m---------------------------------------------------------------------------\u001B[0m",
      "\u001B[1;31m_RemoteTraceback\u001B[0m                          Traceback (most recent call last)",
      "\u001B[1;31m_RemoteTraceback\u001B[0m: \n\"\"\"\nTraceback (most recent call last):\n  File \"F:\\xinhao\\miniforge\\envs\\xpluto\\Lib\\site-packages\\joblib\\externals\\loky\\process_executor.py\", line 463, in _process_worker\n    r = call_item()\n        ^^^^^^^^^^^\n  File \"F:\\xinhao\\miniforge\\envs\\xpluto\\Lib\\site-packages\\joblib\\externals\\loky\\process_executor.py\", line 291, in __call__\n    return self.fn(*self.args, **self.kwargs)\n           ^^^^^^^^^^^^^^^^^^^^^^^^^^^^^^^^^^\n  File \"F:\\xinhao\\miniforge\\envs\\xpluto\\Lib\\site-packages\\joblib\\parallel.py\", line 598, in __call__\n    return [func(*args, **kwargs)\n            ^^^^^^^^^^^^^^^^^^^^^\n  File \"C:\\Users\\s222552331\\AppData\\Local\\Temp\\57\\ipykernel_130648\\1935283752.py\", line 33, in xarrays_to_tifs\n  File \"N:\\LUF-Modelling\\LUTO2_XH\\LUTO2\\myCode\\carbonprice\\code\\tools\\tools.py\", line 445, in nc_to_tif\n    print(f\"✅ 已保存: {tif_path}\")\n  File \"F:\\xinhao\\miniforge\\envs\\xpluto\\Lib\\encodings\\cp1252.py\", line 19, in encode\n    return codecs.charmap_encode(input,self.errors,encoding_table)[0]\n           ^^^^^^^^^^^^^^^^^^^^^^^^^^^^^^^^^^^^^^^^^^^^^^^^^^^^^^^\nUnicodeEncodeError: 'charmap' codec can't encode character '\\u2705' in position 0: character maps to <undefined>\n\"\"\"",
      "\nThe above exception was the direct cause of the following exception:\n",
      "\u001B[1;31mUnicodeEncodeError\u001B[0m                        Traceback (most recent call last)",
      "Cell \u001B[1;32mIn[53], line 7\u001B[0m\n\u001B[0;32m      2\u001B[0m file_parts \u001B[38;5;241m=\u001B[39m [\u001B[38;5;124m'\u001B[39m\u001B[38;5;124mtotal_cost\u001B[39m\u001B[38;5;124m'\u001B[39m, \u001B[38;5;124m'\u001B[39m\u001B[38;5;124mcost_ag\u001B[39m\u001B[38;5;124m'\u001B[39m, \u001B[38;5;124m'\u001B[39m\u001B[38;5;124mcost_agricultural_management\u001B[39m\u001B[38;5;124m'\u001B[39m, \u001B[38;5;124m'\u001B[39m\u001B[38;5;124mcost_non_ag\u001B[39m\u001B[38;5;124m'\u001B[39m, \u001B[38;5;124m'\u001B[39m\u001B[38;5;124mcost_transition_ag2ag_diff\u001B[39m\u001B[38;5;124m'\u001B[39m,\n\u001B[0;32m      3\u001B[0m                   \u001B[38;5;124m'\u001B[39m\u001B[38;5;124mtransition_cost_ag2non_ag_amortised_diff\u001B[39m\u001B[38;5;124m'\u001B[39m, \u001B[38;5;124m'\u001B[39m\u001B[38;5;124mtotal_carbon\u001B[39m\u001B[38;5;124m'\u001B[39m, \u001B[38;5;124m'\u001B[39m\u001B[38;5;124mtotal_bio\u001B[39m\u001B[38;5;124m'\u001B[39m, \u001B[38;5;124m'\u001B[39m\u001B[38;5;124mbio_price\u001B[39m\u001B[38;5;124m'\u001B[39m, \u001B[38;5;124m'\u001B[39m\u001B[38;5;124mcarbon_price\u001B[39m\u001B[38;5;124m'\u001B[39m]\n\u001B[0;32m      5\u001B[0m tasks \u001B[38;5;241m=\u001B[39m [(env_cat, file_part) \u001B[38;5;28;01mfor\u001B[39;00m env_cat \u001B[38;5;129;01min\u001B[39;00m output_all_names \u001B[38;5;28;01mfor\u001B[39;00m file_part \u001B[38;5;129;01min\u001B[39;00m file_parts]\n\u001B[1;32m----> 7\u001B[0m results \u001B[38;5;241m=\u001B[39m \u001B[43mParallel\u001B[49m\u001B[43m(\u001B[49m\u001B[43mn_jobs\u001B[49m\u001B[38;5;241;43m=\u001B[39;49m\u001B[43mnjobs\u001B[49m\u001B[43m)\u001B[49m\u001B[43m(\u001B[49m\u001B[43m  \u001B[49m\u001B[38;5;66;43;03m# 这里你可以改 n_jobs，比如 8 或 -1 用所有CPU\u001B[39;49;00m\n\u001B[0;32m      8\u001B[0m \u001B[43m    \u001B[49m\u001B[43mdelayed\u001B[49m\u001B[43m(\u001B[49m\u001B[43mxarrays_to_tifs\u001B[49m\u001B[43m)\u001B[49m\u001B[43m(\u001B[49m\u001B[43menv_cat\u001B[49m\u001B[43m,\u001B[49m\u001B[43m \u001B[49m\u001B[43mfile_part\u001B[49m\u001B[43m,\u001B[49m\u001B[43m \u001B[49m\u001B[43moutput_path\u001B[49m\u001B[43m,\u001B[49m\u001B[43m \u001B[49m\u001B[43mtif_dir\u001B[49m\u001B[43m,\u001B[49m\u001B[43m \u001B[49m\u001B[43mdata\u001B[49m\u001B[43m)\u001B[49m\n\u001B[0;32m      9\u001B[0m \u001B[43m    \u001B[49m\u001B[38;5;28;43;01mfor\u001B[39;49;00m\u001B[43m \u001B[49m\u001B[43menv_cat\u001B[49m\u001B[43m,\u001B[49m\u001B[43m \u001B[49m\u001B[43mfile_part\u001B[49m\u001B[43m \u001B[49m\u001B[38;5;129;43;01min\u001B[39;49;00m\u001B[43m \u001B[49m\u001B[43mtasks\u001B[49m\n\u001B[0;32m     10\u001B[0m \u001B[43m)\u001B[49m\n\u001B[0;32m     12\u001B[0m tif_path_1 \u001B[38;5;241m=\u001B[39m os\u001B[38;5;241m.\u001B[39mpath\u001B[38;5;241m.\u001B[39mjoin(tif_dir, \u001B[38;5;124m'\u001B[39m\u001B[38;5;124mcarbon_high\u001B[39m\u001B[38;5;124m'\u001B[39m, \u001B[38;5;124m\"\u001B[39m\u001B[38;5;124mxr_carbon_price_carbon_high_2050.tif\u001B[39m\u001B[38;5;124m\"\u001B[39m)\n\u001B[0;32m     13\u001B[0m tif_path_2 \u001B[38;5;241m=\u001B[39m os\u001B[38;5;241m.\u001B[39mpath\u001B[38;5;241m.\u001B[39mjoin(tif_dir, \u001B[38;5;124m'\u001B[39m\u001B[38;5;124mCounterfactual_carbon_high_bio_50\u001B[39m\u001B[38;5;124m'\u001B[39m,\n\u001B[0;32m     14\u001B[0m                           \u001B[38;5;124mf\u001B[39m\u001B[38;5;124m\"\u001B[39m\u001B[38;5;124mxr_carbon_price_Counterfactual_carbon_high_bio_50_2050.tif\u001B[39m\u001B[38;5;124m\"\u001B[39m)\n",
      "File \u001B[1;32mF:\\xinhao\\miniforge\\envs\\xpluto\\Lib\\site-packages\\joblib\\parallel.py:2007\u001B[0m, in \u001B[0;36mParallel.__call__\u001B[1;34m(self, iterable)\u001B[0m\n\u001B[0;32m   2001\u001B[0m \u001B[38;5;66;03m# The first item from the output is blank, but it makes the interpreter\u001B[39;00m\n\u001B[0;32m   2002\u001B[0m \u001B[38;5;66;03m# progress until it enters the Try/Except block of the generator and\u001B[39;00m\n\u001B[0;32m   2003\u001B[0m \u001B[38;5;66;03m# reaches the first `yield` statement. This starts the asynchronous\u001B[39;00m\n\u001B[0;32m   2004\u001B[0m \u001B[38;5;66;03m# dispatch of the tasks to the workers.\u001B[39;00m\n\u001B[0;32m   2005\u001B[0m \u001B[38;5;28mnext\u001B[39m(output)\n\u001B[1;32m-> 2007\u001B[0m \u001B[38;5;28;01mreturn\u001B[39;00m output \u001B[38;5;28;01mif\u001B[39;00m \u001B[38;5;28mself\u001B[39m\u001B[38;5;241m.\u001B[39mreturn_generator \u001B[38;5;28;01melse\u001B[39;00m \u001B[38;5;28;43mlist\u001B[39;49m\u001B[43m(\u001B[49m\u001B[43moutput\u001B[49m\u001B[43m)\u001B[49m\n",
      "File \u001B[1;32mF:\\xinhao\\miniforge\\envs\\xpluto\\Lib\\site-packages\\joblib\\parallel.py:1650\u001B[0m, in \u001B[0;36mParallel._get_outputs\u001B[1;34m(self, iterator, pre_dispatch)\u001B[0m\n\u001B[0;32m   1647\u001B[0m     \u001B[38;5;28;01myield\u001B[39;00m\n\u001B[0;32m   1649\u001B[0m     \u001B[38;5;28;01mwith\u001B[39;00m \u001B[38;5;28mself\u001B[39m\u001B[38;5;241m.\u001B[39m_backend\u001B[38;5;241m.\u001B[39mretrieval_context():\n\u001B[1;32m-> 1650\u001B[0m         \u001B[38;5;28;01myield from\u001B[39;00m \u001B[38;5;28mself\u001B[39m\u001B[38;5;241m.\u001B[39m_retrieve()\n\u001B[0;32m   1652\u001B[0m \u001B[38;5;28;01mexcept\u001B[39;00m \u001B[38;5;167;01mGeneratorExit\u001B[39;00m:\n\u001B[0;32m   1653\u001B[0m     \u001B[38;5;66;03m# The generator has been garbage collected before being fully\u001B[39;00m\n\u001B[0;32m   1654\u001B[0m     \u001B[38;5;66;03m# consumed. This aborts the remaining tasks if possible and warn\u001B[39;00m\n\u001B[0;32m   1655\u001B[0m     \u001B[38;5;66;03m# the user if necessary.\u001B[39;00m\n\u001B[0;32m   1656\u001B[0m     \u001B[38;5;28mself\u001B[39m\u001B[38;5;241m.\u001B[39m_exception \u001B[38;5;241m=\u001B[39m \u001B[38;5;28;01mTrue\u001B[39;00m\n",
      "File \u001B[1;32mF:\\xinhao\\miniforge\\envs\\xpluto\\Lib\\site-packages\\joblib\\parallel.py:1754\u001B[0m, in \u001B[0;36mParallel._retrieve\u001B[1;34m(self)\u001B[0m\n\u001B[0;32m   1747\u001B[0m \u001B[38;5;28;01mwhile\u001B[39;00m \u001B[38;5;28mself\u001B[39m\u001B[38;5;241m.\u001B[39m_wait_retrieval():\n\u001B[0;32m   1748\u001B[0m \n\u001B[0;32m   1749\u001B[0m     \u001B[38;5;66;03m# If the callback thread of a worker has signaled that its task\u001B[39;00m\n\u001B[0;32m   1750\u001B[0m     \u001B[38;5;66;03m# triggered an exception, or if the retrieval loop has raised an\u001B[39;00m\n\u001B[0;32m   1751\u001B[0m     \u001B[38;5;66;03m# exception (e.g. `GeneratorExit`), exit the loop and surface the\u001B[39;00m\n\u001B[0;32m   1752\u001B[0m     \u001B[38;5;66;03m# worker traceback.\u001B[39;00m\n\u001B[0;32m   1753\u001B[0m     \u001B[38;5;28;01mif\u001B[39;00m \u001B[38;5;28mself\u001B[39m\u001B[38;5;241m.\u001B[39m_aborting:\n\u001B[1;32m-> 1754\u001B[0m         \u001B[38;5;28;43mself\u001B[39;49m\u001B[38;5;241;43m.\u001B[39;49m\u001B[43m_raise_error_fast\u001B[49m\u001B[43m(\u001B[49m\u001B[43m)\u001B[49m\n\u001B[0;32m   1755\u001B[0m         \u001B[38;5;28;01mbreak\u001B[39;00m\n\u001B[0;32m   1757\u001B[0m     \u001B[38;5;66;03m# If the next job is not ready for retrieval yet, we just wait for\u001B[39;00m\n\u001B[0;32m   1758\u001B[0m     \u001B[38;5;66;03m# async callbacks to progress.\u001B[39;00m\n",
      "File \u001B[1;32mF:\\xinhao\\miniforge\\envs\\xpluto\\Lib\\site-packages\\joblib\\parallel.py:1789\u001B[0m, in \u001B[0;36mParallel._raise_error_fast\u001B[1;34m(self)\u001B[0m\n\u001B[0;32m   1785\u001B[0m \u001B[38;5;66;03m# If this error job exists, immediately raise the error by\u001B[39;00m\n\u001B[0;32m   1786\u001B[0m \u001B[38;5;66;03m# calling get_result. This job might not exists if abort has been\u001B[39;00m\n\u001B[0;32m   1787\u001B[0m \u001B[38;5;66;03m# called directly or if the generator is gc'ed.\u001B[39;00m\n\u001B[0;32m   1788\u001B[0m \u001B[38;5;28;01mif\u001B[39;00m error_job \u001B[38;5;129;01mis\u001B[39;00m \u001B[38;5;129;01mnot\u001B[39;00m \u001B[38;5;28;01mNone\u001B[39;00m:\n\u001B[1;32m-> 1789\u001B[0m     \u001B[43merror_job\u001B[49m\u001B[38;5;241;43m.\u001B[39;49m\u001B[43mget_result\u001B[49m\u001B[43m(\u001B[49m\u001B[38;5;28;43mself\u001B[39;49m\u001B[38;5;241;43m.\u001B[39;49m\u001B[43mtimeout\u001B[49m\u001B[43m)\u001B[49m\n",
      "File \u001B[1;32mF:\\xinhao\\miniforge\\envs\\xpluto\\Lib\\site-packages\\joblib\\parallel.py:745\u001B[0m, in \u001B[0;36mBatchCompletionCallBack.get_result\u001B[1;34m(self, timeout)\u001B[0m\n\u001B[0;32m    739\u001B[0m backend \u001B[38;5;241m=\u001B[39m \u001B[38;5;28mself\u001B[39m\u001B[38;5;241m.\u001B[39mparallel\u001B[38;5;241m.\u001B[39m_backend\n\u001B[0;32m    741\u001B[0m \u001B[38;5;28;01mif\u001B[39;00m backend\u001B[38;5;241m.\u001B[39msupports_retrieve_callback:\n\u001B[0;32m    742\u001B[0m     \u001B[38;5;66;03m# We assume that the result has already been retrieved by the\u001B[39;00m\n\u001B[0;32m    743\u001B[0m     \u001B[38;5;66;03m# callback thread, and is stored internally. It's just waiting to\u001B[39;00m\n\u001B[0;32m    744\u001B[0m     \u001B[38;5;66;03m# be returned.\u001B[39;00m\n\u001B[1;32m--> 745\u001B[0m     \u001B[38;5;28;01mreturn\u001B[39;00m \u001B[38;5;28;43mself\u001B[39;49m\u001B[38;5;241;43m.\u001B[39;49m\u001B[43m_return_or_raise\u001B[49m\u001B[43m(\u001B[49m\u001B[43m)\u001B[49m\n\u001B[0;32m    747\u001B[0m \u001B[38;5;66;03m# For other backends, the main thread needs to run the retrieval step.\u001B[39;00m\n\u001B[0;32m    748\u001B[0m \u001B[38;5;28;01mtry\u001B[39;00m:\n",
      "File \u001B[1;32mF:\\xinhao\\miniforge\\envs\\xpluto\\Lib\\site-packages\\joblib\\parallel.py:763\u001B[0m, in \u001B[0;36mBatchCompletionCallBack._return_or_raise\u001B[1;34m(self)\u001B[0m\n\u001B[0;32m    761\u001B[0m \u001B[38;5;28;01mtry\u001B[39;00m:\n\u001B[0;32m    762\u001B[0m     \u001B[38;5;28;01mif\u001B[39;00m \u001B[38;5;28mself\u001B[39m\u001B[38;5;241m.\u001B[39mstatus \u001B[38;5;241m==\u001B[39m TASK_ERROR:\n\u001B[1;32m--> 763\u001B[0m         \u001B[38;5;28;01mraise\u001B[39;00m \u001B[38;5;28mself\u001B[39m\u001B[38;5;241m.\u001B[39m_result\n\u001B[0;32m    764\u001B[0m     \u001B[38;5;28;01mreturn\u001B[39;00m \u001B[38;5;28mself\u001B[39m\u001B[38;5;241m.\u001B[39m_result\n\u001B[0;32m    765\u001B[0m \u001B[38;5;28;01mfinally\u001B[39;00m:\n",
      "\u001B[1;31mUnicodeEncodeError\u001B[0m: 'charmap' codec can't encode character '\\u2705' in position 0: character maps to <undefined>"
     ]
    }
   ],
   "source": [
    "njobs = 5\n",
    "file_parts = ['total_cost', 'cost_ag', 'cost_agricultural_management', 'cost_non_ag', 'cost_transition_ag2ag_diff',\n",
    "                  'transition_cost_ag2non_ag_amortised_diff', 'total_carbon', 'total_bio', 'bio_price', 'carbon_price']\n",
    "\n",
    "tasks = [(env_cat, file_part) for env_cat in output_all_names for file_part in file_parts]\n",
    "\n",
    "results = Parallel(n_jobs=njobs)(  # 这里你可以改 n_jobs，比如 8 或 -1 用所有CPU\n",
    "    delayed(xarrays_to_tifs)(env_cat, file_part, output_path, tif_dir, data)\n",
    "    for env_cat, file_part in tasks\n",
    ")\n",
    "\n",
    "tif_path_1 = os.path.join(tif_dir, 'carbon_high', \"xr_carbon_price_carbon_high_2050.tif\")\n",
    "tif_path_2 = os.path.join(tif_dir, 'Counterfactual_carbon_high_bio_50',\n",
    "                          f\"xr_carbon_price_Counterfactual_carbon_high_bio_50_2050.tif\")\n",
    "tif_output = os.path.join(tif_dir, 'carbon_high_bio_50', f\"xr_carbon_price_carbon_high_bio_50_2050.tif\")\n",
    "subtract_tifs(tif_path_2, tif_path_1, tif_output)"
   ],
   "metadata": {
    "collapsed": false,
    "ExecuteTime": {
     "end_time": "2025-09-28T13:36:34.054163200Z",
     "start_time": "2025-09-28T13:31:23.053790100Z"
    }
   },
   "id": "8ca271c48eba376d"
  },
  {
   "cell_type": "code",
   "execution_count": null,
   "outputs": [],
   "source": [],
   "metadata": {
    "collapsed": false
   },
   "id": "868092f1e47d2e89"
  }
 ],
 "metadata": {
  "kernelspec": {
   "display_name": "Python 3",
   "language": "python",
   "name": "python3"
  },
  "language_info": {
   "codemirror_mode": {
    "name": "ipython",
    "version": 2
   },
   "file_extension": ".py",
   "mimetype": "text/x-python",
   "name": "python",
   "nbconvert_exporter": "python",
   "pygments_lexer": "ipython2",
   "version": "2.7.6"
  }
 },
 "nbformat": 4,
 "nbformat_minor": 5
}
