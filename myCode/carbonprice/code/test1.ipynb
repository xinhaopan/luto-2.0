{
 "cells": [
  {
   "cell_type": "code",
   "execution_count": null,
   "outputs": [],
   "source": [
    "from tools.tools import get_path, get_year\n",
    "import shutil\n",
    "import os\n",
    "import xarray as xr\n",
    "import numpy_financial as npf\n",
    "\n",
    "import tools.config as config\n",
    "\n",
    "def amortize_costs(origin_path_name, target_path_name, amortize_file, years, rate=0.07, horizon=30):\n",
    "    \"\"\"\n",
    "    计算成本均摊并保存新的成本数组。\n",
    "\n",
    "    参数：\n",
    "    path_name: str - 文件路径\n",
    "    file_name: str - 文件名\n",
    "    rate: float - 利率，默认为0.07\n",
    "    horizon: int - 时间跨度，默认为30年\n",
    "    \"\"\"\n",
    "    # 初始化一个空字典来存储所有年份的成本数据\n",
    "    print(\"Start to calculate cost amortize.\")\n",
    "    \n",
    "    costs = {}\n",
    "    for year in years:\n",
    "        full_file_name = os.path.join(origin_path_name, f'out_{year}', f'{amortize_file}_{year}.nc')\n",
    "        # 从 Dataset 中提取出包含成本数据的那个 DataArray\n",
    "        costs[year] = xr.open_dataset(full_file_name)['data']\n",
    "\n",
    "    # 我们需要一个模板来确定新数组的形状和坐标，用第一个年份的即可\n",
    "    template_da = costs[years[0]]\n",
    "    new_costs = {year: xr.zeros_like(template_da) for year in years}\n",
    "    \n",
    "    for year in years:\n",
    "        # pv_values 现在是一个 DataArray，可以直接用于计算\n",
    "        pv_values = costs[year]\n",
    "        \n",
    "        # npf.pmt 会自动在 DataArray 的每个元素上计算，并返回一个新的 DataArray\n",
    "        annual_payment = -1 * npf.pmt(rate, horizon, pv=pv_values, fv=0, when='begin')\n",
    "        \n",
    "        # 将计算出的年金 (一个 DataArray) 分配到未来年份\n",
    "        for offset in range(horizon):\n",
    "            target_year = year + offset\n",
    "            if target_year in years:  # 确保目标年份在我们的处理范围内\n",
    "                # 两个结构相同的 DataArray 可以直接相加！\n",
    "                new_costs[target_year] += annual_payment\n",
    "    \n",
    "    for year in years:\n",
    "        target_year_path = os.path.join(target_path_name, str(year))\n",
    "        dst_file = os.path.join(target_year_path, f'{amortize_file}_amortised_{year}.nc')\n",
    "        new_costs[year].to_netcdf(dst_file)\n",
    "\n",
    "input_files = config.INPUT_FILES\n",
    "path_name_0 = get_path(input_files[2])\n",
    "path_name_1 = get_path(input_files[1])\n",
    "path_name_2 = get_path(input_files[0])\n",
    "\n",
    "output_path = f'{config.TASK_DIR}/carbon_price/0_base_data'\n",
    "os.makedirs(output_path, exist_ok=True)"
   ],
   "metadata": {
    "collapsed": false,
    "is_executing": true
   },
   "id": "108439006444e5a9"
  },
  {
   "cell_type": "code",
   "execution_count": 25,
   "outputs": [],
   "source": [
    "copy_files = ['xr_biodiversity_GBF2_priority_ag_management','xr_biodiversity_GBF2_priority_non_ag','xr_cost_ag','xr_cost_agricultural_management','xr_cost_non_ag','xr_cost_transition_ag2ag','xr_GHG_ag_management','xr_GHG_non_ag','xr_revenue_ag','xr_revenue_agricultural_management','xr_revenue_non_ag','xr_transition_cost_ag2non_ag','xr_transition_GHG']\n",
    "amortize_files = ['xr_transition_cost_ag2non_ag']\n",
    "diff_files = ['xr_biodiversity_GBF2_priority_ag','xr_GHG_ag.nc']"
   ],
   "metadata": {
    "collapsed": false,
    "ExecuteTime": {
     "end_time": "2025-08-23T11:03:30.739245Z",
     "start_time": "2025-08-23T11:03:30.670412700Z"
    }
   },
   "id": "f84e463fb8c9d92e"
  },
  {
   "cell_type": "code",
   "execution_count": null,
   "outputs": [
    {
     "name": "stdout",
     "output_type": "stream",
     "text": [
      "Start to calculate cost amortize.\n"
     ]
    }
   ],
   "source": [
    "for i in range(0,3):\n",
    "    origin_path_name = get_path(input_files[i])\n",
    "    target_path_name = os.path.join(output_path, input_files[i])\n",
    "    years = get_year(origin_path_name)\n",
    "    amortize_costs(origin_path_name, target_path_name, amortize_files[0], years)\n",
    "    for year in years:\n",
    "        year_path = os.path.join(origin_path_name, f'out_{year}')\n",
    "        target_year_path = os.path.join(target_path_name, str(year))\n",
    "        os.makedirs(target_year_path, exist_ok=True)\n",
    "        for copy_file in copy_files:\n",
    "            if year == 2010:\n",
    "                if copy_file == 'xr_transition_GHG':\n",
    "                    continue\n",
    "                \n",
    "            src_file = os.path.join(year_path, f'{copy_file}_{year}.nc')\n",
    "            dst_file = os.path.join(target_year_path, f'{copy_file}_{year}.nc')\n",
    "            shutil.copy(src_file, dst_file)\n",
    "        if year > years[0]:\n",
    "            for diff_file in diff_files:\n",
    "                if diff_file== 'xr_biodiversity_GBF2_priority_ag':\n",
    "                    year_path_0 = os.path.join(origin_path_name, f'out_{year-1}')\n",
    "                    src_file_0 = os.path.join(year_path_0, diff_file + f'_{year-1}.nc')\n",
    "                    src_file_1 = os.path.join(year_path, diff_file + f'_{year}.nc')\n",
    "                    ds_0 = xr.open_dataset(src_file_0)\n",
    "                    ds_1 = xr.open_dataset(src_file_1)\n",
    "                    ds_res = ds_1 - ds_0\n",
    "                    dst_file = os.path.join(target_year_path, f'{diff_file}_{year}.nc')\n",
    "                elif diff_file == 'xr_GHG_ag.nc':\n",
    "                    year_path_0 = os.path.join(origin_path_name, f'out_{year-1}')\n",
    "                    src_file_0 = os.path.join(year_path_0, diff_file)\n",
    "                    src_file_1 = os.path.join(year_path, diff_file)\n",
    "                    ds_0 = xr.open_dataset(src_file_0)\n",
    "                    ds_1 = xr.open_dataset(src_file_1)\n",
    "                    ds_res = ds_0 - ds_1\n",
    "                    dst_file = os.path.join(target_year_path, diff_file)\n",
    "                else:\n",
    "                    print(f'Error: {diff_file} not found')\n",
    "                ds_res.to_netcdf(dst_file)\n",
    "    "
   ],
   "metadata": {
    "collapsed": false,
    "is_executing": true,
    "ExecuteTime": {
     "start_time": "2025-08-23T11:08:04.901817200Z"
    }
   },
   "id": "aae09fa2a6c1fb6e"
  },
  {
   "cell_type": "code",
   "execution_count": 4,
   "outputs": [],
   "source": [
    "origin_path_name = get_path(input_files[0])\n",
    "target_path_name = os.path.join(output_path, input_files[0])\n",
    "years = get_year(origin_path_name)\n",
    "amortize_file = amortize_files[0]"
   ],
   "metadata": {
    "collapsed": false,
    "ExecuteTime": {
     "end_time": "2025-08-23T10:15:38.711376800Z",
     "start_time": "2025-08-23T10:15:38.657968Z"
    }
   },
   "id": "e082fcaf130ed473"
  },
  {
   "cell_type": "code",
   "execution_count": 5,
   "outputs": [],
   "source": [
    "costs = {}\n",
    "\n",
    "for year in years:\n",
    "    full_file_name = os.path.join(origin_path_name, f'out_{year}', f'{amortize_file}_{year}.nc')\n",
    "    costs[year] = xr.open_dataset(full_file_name)"
   ],
   "metadata": {
    "collapsed": false,
    "ExecuteTime": {
     "end_time": "2025-08-23T10:16:09.186860200Z",
     "start_time": "2025-08-23T10:15:57.371883900Z"
    }
   },
   "id": "a86ba828bcaa9c69"
  },
  {
   "cell_type": "code",
   "execution_count": 27,
   "outputs": [],
   "source": [
    "a = xr.open_dataset(full_file_name)"
   ],
   "metadata": {
    "collapsed": false,
    "ExecuteTime": {
     "end_time": "2025-08-23T11:07:23.511555100Z",
     "start_time": "2025-08-23T11:07:23.423027200Z"
    }
   },
   "id": "9785c9b8b398a99c"
  },
  {
   "cell_type": "code",
   "execution_count": 14,
   "outputs": [
    {
     "data": {
      "text/plain": "'xr_transition_cost_ag2non_ag'"
     },
     "execution_count": 14,
     "metadata": {},
     "output_type": "execute_result"
    }
   ],
   "source": [
    "amortize_file"
   ],
   "metadata": {
    "collapsed": false,
    "ExecuteTime": {
     "end_time": "2025-08-23T10:27:58.574530900Z",
     "start_time": "2025-08-23T10:27:58.333482700Z"
    }
   },
   "id": "8acc91acf5f2c201"
  },
  {
   "cell_type": "code",
   "execution_count": null,
   "outputs": [],
   "source": [],
   "metadata": {
    "collapsed": false
   },
   "id": "eccea3c0aaa1f99f"
  },
  {
   "cell_type": "code",
   "execution_count": 8,
   "outputs": [
    {
     "data": {
      "text/plain": "<xarray.Dataset> Size: 8GB\nDimensions:            (From water-supply: 2, cell: 468686, From land-use: 28,\n                        To land-use: 9, Cost type: 8)\nCoordinates:\n  * From water-supply  (From water-supply) <U3 24B 'dry' 'irr'\n  * cell               (cell) int64 4MB 0 1 2 3 ... 468682 468683 468684 468685\n  * From land-use      (From land-use) <U27 3kB 'Apples' ... 'Winter oilseeds'\n  * To land-use        (To land-use) <U29 1kB 'BECCS' ... 'Sheep Carbon Plant...\n  * Cost type          (Cost type) <U34 1kB 'Establishment cost (Ag2Non-Ag)' ...\nData variables:\n    data               (From water-supply, cell, From land-use, To land-use, Cost type) float32 8GB ...",
      "text/html": "<div><svg style=\"position: absolute; width: 0; height: 0; overflow: hidden\">\n<defs>\n<symbol id=\"icon-database\" viewBox=\"0 0 32 32\">\n<path d=\"M16 0c-8.837 0-16 2.239-16 5v4c0 2.761 7.163 5 16 5s16-2.239 16-5v-4c0-2.761-7.163-5-16-5z\"></path>\n<path d=\"M16 17c-8.837 0-16-2.239-16-5v6c0 2.761 7.163 5 16 5s16-2.239 16-5v-6c0 2.761-7.163 5-16 5z\"></path>\n<path d=\"M16 26c-8.837 0-16-2.239-16-5v6c0 2.761 7.163 5 16 5s16-2.239 16-5v-6c0 2.761-7.163 5-16 5z\"></path>\n</symbol>\n<symbol id=\"icon-file-text2\" viewBox=\"0 0 32 32\">\n<path d=\"M28.681 7.159c-0.694-0.947-1.662-2.053-2.724-3.116s-2.169-2.030-3.116-2.724c-1.612-1.182-2.393-1.319-2.841-1.319h-15.5c-1.378 0-2.5 1.121-2.5 2.5v27c0 1.378 1.122 2.5 2.5 2.5h23c1.378 0 2.5-1.122 2.5-2.5v-19.5c0-0.448-0.137-1.23-1.319-2.841zM24.543 5.457c0.959 0.959 1.712 1.825 2.268 2.543h-4.811v-4.811c0.718 0.556 1.584 1.309 2.543 2.268zM28 29.5c0 0.271-0.229 0.5-0.5 0.5h-23c-0.271 0-0.5-0.229-0.5-0.5v-27c0-0.271 0.229-0.5 0.5-0.5 0 0 15.499-0 15.5 0v7c0 0.552 0.448 1 1 1h7v19.5z\"></path>\n<path d=\"M23 26h-14c-0.552 0-1-0.448-1-1s0.448-1 1-1h14c0.552 0 1 0.448 1 1s-0.448 1-1 1z\"></path>\n<path d=\"M23 22h-14c-0.552 0-1-0.448-1-1s0.448-1 1-1h14c0.552 0 1 0.448 1 1s-0.448 1-1 1z\"></path>\n<path d=\"M23 18h-14c-0.552 0-1-0.448-1-1s0.448-1 1-1h14c0.552 0 1 0.448 1 1s-0.448 1-1 1z\"></path>\n</symbol>\n</defs>\n</svg>\n<style>/* CSS stylesheet for displaying xarray objects in jupyterlab.\n *\n */\n\n:root {\n  --xr-font-color0: var(--jp-content-font-color0, rgba(0, 0, 0, 1));\n  --xr-font-color2: var(--jp-content-font-color2, rgba(0, 0, 0, 0.54));\n  --xr-font-color3: var(--jp-content-font-color3, rgba(0, 0, 0, 0.38));\n  --xr-border-color: var(--jp-border-color2, #e0e0e0);\n  --xr-disabled-color: var(--jp-layout-color3, #bdbdbd);\n  --xr-background-color: var(--jp-layout-color0, white);\n  --xr-background-color-row-even: var(--jp-layout-color1, white);\n  --xr-background-color-row-odd: var(--jp-layout-color2, #eeeeee);\n}\n\nhtml[theme=dark],\nbody[data-theme=dark],\nbody.vscode-dark {\n  --xr-font-color0: rgba(255, 255, 255, 1);\n  --xr-font-color2: rgba(255, 255, 255, 0.54);\n  --xr-font-color3: rgba(255, 255, 255, 0.38);\n  --xr-border-color: #1F1F1F;\n  --xr-disabled-color: #515151;\n  --xr-background-color: #111111;\n  --xr-background-color-row-even: #111111;\n  --xr-background-color-row-odd: #313131;\n}\n\n.xr-wrap {\n  display: block !important;\n  min-width: 300px;\n  max-width: 700px;\n}\n\n.xr-text-repr-fallback {\n  /* fallback to plain text repr when CSS is not injected (untrusted notebook) */\n  display: none;\n}\n\n.xr-header {\n  padding-top: 6px;\n  padding-bottom: 6px;\n  margin-bottom: 4px;\n  border-bottom: solid 1px var(--xr-border-color);\n}\n\n.xr-header > div,\n.xr-header > ul {\n  display: inline;\n  margin-top: 0;\n  margin-bottom: 0;\n}\n\n.xr-obj-type,\n.xr-array-name {\n  margin-left: 2px;\n  margin-right: 10px;\n}\n\n.xr-obj-type {\n  color: var(--xr-font-color2);\n}\n\n.xr-sections {\n  padding-left: 0 !important;\n  display: grid;\n  grid-template-columns: 150px auto auto 1fr 20px 20px;\n}\n\n.xr-section-item {\n  display: contents;\n}\n\n.xr-section-item input {\n  display: none;\n}\n\n.xr-section-item input + label {\n  color: var(--xr-disabled-color);\n}\n\n.xr-section-item input:enabled + label {\n  cursor: pointer;\n  color: var(--xr-font-color2);\n}\n\n.xr-section-item input:enabled + label:hover {\n  color: var(--xr-font-color0);\n}\n\n.xr-section-summary {\n  grid-column: 1;\n  color: var(--xr-font-color2);\n  font-weight: 500;\n}\n\n.xr-section-summary > span {\n  display: inline-block;\n  padding-left: 0.5em;\n}\n\n.xr-section-summary-in:disabled + label {\n  color: var(--xr-font-color2);\n}\n\n.xr-section-summary-in + label:before {\n  display: inline-block;\n  content: '►';\n  font-size: 11px;\n  width: 15px;\n  text-align: center;\n}\n\n.xr-section-summary-in:disabled + label:before {\n  color: var(--xr-disabled-color);\n}\n\n.xr-section-summary-in:checked + label:before {\n  content: '▼';\n}\n\n.xr-section-summary-in:checked + label > span {\n  display: none;\n}\n\n.xr-section-summary,\n.xr-section-inline-details {\n  padding-top: 4px;\n  padding-bottom: 4px;\n}\n\n.xr-section-inline-details {\n  grid-column: 2 / -1;\n}\n\n.xr-section-details {\n  display: none;\n  grid-column: 1 / -1;\n  margin-bottom: 5px;\n}\n\n.xr-section-summary-in:checked ~ .xr-section-details {\n  display: contents;\n}\n\n.xr-array-wrap {\n  grid-column: 1 / -1;\n  display: grid;\n  grid-template-columns: 20px auto;\n}\n\n.xr-array-wrap > label {\n  grid-column: 1;\n  vertical-align: top;\n}\n\n.xr-preview {\n  color: var(--xr-font-color3);\n}\n\n.xr-array-preview,\n.xr-array-data {\n  padding: 0 5px !important;\n  grid-column: 2;\n}\n\n.xr-array-data,\n.xr-array-in:checked ~ .xr-array-preview {\n  display: none;\n}\n\n.xr-array-in:checked ~ .xr-array-data,\n.xr-array-preview {\n  display: inline-block;\n}\n\n.xr-dim-list {\n  display: inline-block !important;\n  list-style: none;\n  padding: 0 !important;\n  margin: 0;\n}\n\n.xr-dim-list li {\n  display: inline-block;\n  padding: 0;\n  margin: 0;\n}\n\n.xr-dim-list:before {\n  content: '(';\n}\n\n.xr-dim-list:after {\n  content: ')';\n}\n\n.xr-dim-list li:not(:last-child):after {\n  content: ',';\n  padding-right: 5px;\n}\n\n.xr-has-index {\n  font-weight: bold;\n}\n\n.xr-var-list,\n.xr-var-item {\n  display: contents;\n}\n\n.xr-var-item > div,\n.xr-var-item label,\n.xr-var-item > .xr-var-name span {\n  background-color: var(--xr-background-color-row-even);\n  margin-bottom: 0;\n}\n\n.xr-var-item > .xr-var-name:hover span {\n  padding-right: 5px;\n}\n\n.xr-var-list > li:nth-child(odd) > div,\n.xr-var-list > li:nth-child(odd) > label,\n.xr-var-list > li:nth-child(odd) > .xr-var-name span {\n  background-color: var(--xr-background-color-row-odd);\n}\n\n.xr-var-name {\n  grid-column: 1;\n}\n\n.xr-var-dims {\n  grid-column: 2;\n}\n\n.xr-var-dtype {\n  grid-column: 3;\n  text-align: right;\n  color: var(--xr-font-color2);\n}\n\n.xr-var-preview {\n  grid-column: 4;\n}\n\n.xr-index-preview {\n  grid-column: 2 / 5;\n  color: var(--xr-font-color2);\n}\n\n.xr-var-name,\n.xr-var-dims,\n.xr-var-dtype,\n.xr-preview,\n.xr-attrs dt {\n  white-space: nowrap;\n  overflow: hidden;\n  text-overflow: ellipsis;\n  padding-right: 10px;\n}\n\n.xr-var-name:hover,\n.xr-var-dims:hover,\n.xr-var-dtype:hover,\n.xr-attrs dt:hover {\n  overflow: visible;\n  width: auto;\n  z-index: 1;\n}\n\n.xr-var-attrs,\n.xr-var-data,\n.xr-index-data {\n  display: none;\n  background-color: var(--xr-background-color) !important;\n  padding-bottom: 5px !important;\n}\n\n.xr-var-attrs-in:checked ~ .xr-var-attrs,\n.xr-var-data-in:checked ~ .xr-var-data,\n.xr-index-data-in:checked ~ .xr-index-data {\n  display: block;\n}\n\n.xr-var-data > table {\n  float: right;\n}\n\n.xr-var-name span,\n.xr-var-data,\n.xr-index-name div,\n.xr-index-data,\n.xr-attrs {\n  padding-left: 25px !important;\n}\n\n.xr-attrs,\n.xr-var-attrs,\n.xr-var-data,\n.xr-index-data {\n  grid-column: 1 / -1;\n}\n\ndl.xr-attrs {\n  padding: 0;\n  margin: 0;\n  display: grid;\n  grid-template-columns: 125px auto;\n}\n\n.xr-attrs dt,\n.xr-attrs dd {\n  padding: 0;\n  margin: 0;\n  float: left;\n  padding-right: 10px;\n  width: auto;\n}\n\n.xr-attrs dt {\n  font-weight: normal;\n  grid-column: 1;\n}\n\n.xr-attrs dt:hover span {\n  display: inline-block;\n  background: var(--xr-background-color);\n  padding-right: 10px;\n}\n\n.xr-attrs dd {\n  grid-column: 2;\n  white-space: pre-wrap;\n  word-break: break-all;\n}\n\n.xr-icon-database,\n.xr-icon-file-text2,\n.xr-no-icon {\n  display: inline-block;\n  vertical-align: middle;\n  width: 1em;\n  height: 1.5em !important;\n  stroke-width: 0;\n  stroke: currentColor;\n  fill: currentColor;\n}\n</style><pre class='xr-text-repr-fallback'>&lt;xarray.Dataset&gt; Size: 8GB\nDimensions:            (From water-supply: 2, cell: 468686, From land-use: 28,\n                        To land-use: 9, Cost type: 8)\nCoordinates:\n  * From water-supply  (From water-supply) &lt;U3 24B &#x27;dry&#x27; &#x27;irr&#x27;\n  * cell               (cell) int64 4MB 0 1 2 3 ... 468682 468683 468684 468685\n  * From land-use      (From land-use) &lt;U27 3kB &#x27;Apples&#x27; ... &#x27;Winter oilseeds&#x27;\n  * To land-use        (To land-use) &lt;U29 1kB &#x27;BECCS&#x27; ... &#x27;Sheep Carbon Plant...\n  * Cost type          (Cost type) &lt;U34 1kB &#x27;Establishment cost (Ag2Non-Ag)&#x27; ...\nData variables:\n    data               (From water-supply, cell, From land-use, To land-use, Cost type) float32 8GB ...</pre><div class='xr-wrap' style='display:none'><div class='xr-header'><div class='xr-obj-type'>xarray.Dataset</div></div><ul class='xr-sections'><li class='xr-section-item'><input id='section-1304f7dd-a3d2-49e9-ab52-dd08bc959853' class='xr-section-summary-in' type='checkbox' disabled ><label for='section-1304f7dd-a3d2-49e9-ab52-dd08bc959853' class='xr-section-summary'  title='Expand/collapse section'>Dimensions:</label><div class='xr-section-inline-details'><ul class='xr-dim-list'><li><span class='xr-has-index'>From water-supply</span>: 2</li><li><span class='xr-has-index'>cell</span>: 468686</li><li><span class='xr-has-index'>From land-use</span>: 28</li><li><span class='xr-has-index'>To land-use</span>: 9</li><li><span class='xr-has-index'>Cost type</span>: 8</li></ul></div><div class='xr-section-details'></div></li><li class='xr-section-item'><input id='section-b5fdbf76-cda1-423f-8c99-6c9573ba3ddb' class='xr-section-summary-in' type='checkbox'  checked><label for='section-b5fdbf76-cda1-423f-8c99-6c9573ba3ddb' class='xr-section-summary' >Coordinates: <span>(5)</span></label><div class='xr-section-inline-details'></div><div class='xr-section-details'><ul class='xr-var-list'><li class='xr-var-item'><div class='xr-var-name'><span class='xr-has-index'>From water-supply</span></div><div class='xr-var-dims'>(From water-supply)</div><div class='xr-var-dtype'>&lt;U3</div><div class='xr-var-preview xr-preview'>&#x27;dry&#x27; &#x27;irr&#x27;</div><input id='attrs-ab571fa3-0a5e-4947-8675-611aa0696389' class='xr-var-attrs-in' type='checkbox' disabled><label for='attrs-ab571fa3-0a5e-4947-8675-611aa0696389' title='Show/Hide attributes'><svg class='icon xr-icon-file-text2'><use xlink:href='#icon-file-text2'></use></svg></label><input id='data-605216b8-7504-4df1-bcfb-0d17b21666e8' class='xr-var-data-in' type='checkbox'><label for='data-605216b8-7504-4df1-bcfb-0d17b21666e8' title='Show/Hide data repr'><svg class='icon xr-icon-database'><use xlink:href='#icon-database'></use></svg></label><div class='xr-var-attrs'><dl class='xr-attrs'></dl></div><div class='xr-var-data'><pre>array([&#x27;dry&#x27;, &#x27;irr&#x27;], dtype=&#x27;&lt;U3&#x27;)</pre></div></li><li class='xr-var-item'><div class='xr-var-name'><span class='xr-has-index'>cell</span></div><div class='xr-var-dims'>(cell)</div><div class='xr-var-dtype'>int64</div><div class='xr-var-preview xr-preview'>0 1 2 3 ... 468683 468684 468685</div><input id='attrs-16845e93-1cb9-45fb-b942-fa66af237254' class='xr-var-attrs-in' type='checkbox' disabled><label for='attrs-16845e93-1cb9-45fb-b942-fa66af237254' title='Show/Hide attributes'><svg class='icon xr-icon-file-text2'><use xlink:href='#icon-file-text2'></use></svg></label><input id='data-24d0f5a5-016f-47c0-83ff-d89ff08e3c72' class='xr-var-data-in' type='checkbox'><label for='data-24d0f5a5-016f-47c0-83ff-d89ff08e3c72' title='Show/Hide data repr'><svg class='icon xr-icon-database'><use xlink:href='#icon-database'></use></svg></label><div class='xr-var-attrs'><dl class='xr-attrs'></dl></div><div class='xr-var-data'><pre>array([     0,      1,      2, ..., 468683, 468684, 468685], dtype=int64)</pre></div></li><li class='xr-var-item'><div class='xr-var-name'><span class='xr-has-index'>From land-use</span></div><div class='xr-var-dims'>(From land-use)</div><div class='xr-var-dtype'>&lt;U27</div><div class='xr-var-preview xr-preview'>&#x27;Apples&#x27; ... &#x27;Winter oilseeds&#x27;</div><input id='attrs-046b8dd1-b4a6-49ef-b8a6-2c8cacc52f58' class='xr-var-attrs-in' type='checkbox' disabled><label for='attrs-046b8dd1-b4a6-49ef-b8a6-2c8cacc52f58' title='Show/Hide attributes'><svg class='icon xr-icon-file-text2'><use xlink:href='#icon-file-text2'></use></svg></label><input id='data-05171dc8-e569-4ea7-95b6-f45f4cfd2347' class='xr-var-data-in' type='checkbox'><label for='data-05171dc8-e569-4ea7-95b6-f45f4cfd2347' title='Show/Hide data repr'><svg class='icon xr-icon-database'><use xlink:href='#icon-database'></use></svg></label><div class='xr-var-attrs'><dl class='xr-attrs'></dl></div><div class='xr-var-data'><pre>array([&#x27;Apples&#x27;, &#x27;Beef - modified land&#x27;, &#x27;Beef - natural land&#x27;, &#x27;Citrus&#x27;,\n       &#x27;Cotton&#x27;, &#x27;Dairy - modified land&#x27;, &#x27;Dairy - natural land&#x27;, &#x27;Grapes&#x27;,\n       &#x27;Hay&#x27;, &#x27;Nuts&#x27;, &#x27;Other non-cereal crops&#x27;, &#x27;Pears&#x27;, &#x27;Plantation fruit&#x27;,\n       &#x27;Rice&#x27;, &#x27;Sheep - modified land&#x27;, &#x27;Sheep - natural land&#x27;, &#x27;Stone fruit&#x27;,\n       &#x27;Sugar&#x27;, &#x27;Summer cereals&#x27;, &#x27;Summer legumes&#x27;, &#x27;Summer oilseeds&#x27;,\n       &#x27;Tropical stone fruit&#x27;, &#x27;Unallocated - modified land&#x27;,\n       &#x27;Unallocated - natural land&#x27;, &#x27;Vegetables&#x27;, &#x27;Winter cereals&#x27;,\n       &#x27;Winter legumes&#x27;, &#x27;Winter oilseeds&#x27;], dtype=&#x27;&lt;U27&#x27;)</pre></div></li><li class='xr-var-item'><div class='xr-var-name'><span class='xr-has-index'>To land-use</span></div><div class='xr-var-dims'>(To land-use)</div><div class='xr-var-dtype'>&lt;U29</div><div class='xr-var-preview xr-preview'>&#x27;BECCS&#x27; ... &#x27;Sheep Carbon Planti...</div><input id='attrs-8058d051-ecf0-4f76-8324-9f5e41873c00' class='xr-var-attrs-in' type='checkbox' disabled><label for='attrs-8058d051-ecf0-4f76-8324-9f5e41873c00' title='Show/Hide attributes'><svg class='icon xr-icon-file-text2'><use xlink:href='#icon-file-text2'></use></svg></label><input id='data-83b04905-077b-40c9-af60-172ca344480b' class='xr-var-data-in' type='checkbox'><label for='data-83b04905-077b-40c9-af60-172ca344480b' title='Show/Hide data repr'><svg class='icon xr-icon-database'><use xlink:href='#icon-database'></use></svg></label><div class='xr-var-attrs'><dl class='xr-attrs'></dl></div><div class='xr-var-data'><pre>array([&#x27;BECCS&#x27;, &#x27;Beef Agroforestry&#x27;, &#x27;Beef Carbon Plantings (Belt)&#x27;,\n       &#x27;Carbon Plantings (Block)&#x27;, &#x27;Destocked - natural land&#x27;,\n       &#x27;Environmental Plantings&#x27;, &#x27;Riparian Plantings&#x27;, &#x27;Sheep Agroforestry&#x27;,\n       &#x27;Sheep Carbon Plantings (Belt)&#x27;], dtype=&#x27;&lt;U29&#x27;)</pre></div></li><li class='xr-var-item'><div class='xr-var-name'><span class='xr-has-index'>Cost type</span></div><div class='xr-var-dims'>(Cost type)</div><div class='xr-var-dtype'>&lt;U34</div><div class='xr-var-preview xr-preview'>&#x27;Establishment cost (Ag2Non-Ag)&#x27;...</div><input id='attrs-30c910e1-3380-4ecf-badf-0c42d89cdfad' class='xr-var-attrs-in' type='checkbox' disabled><label for='attrs-30c910e1-3380-4ecf-badf-0c42d89cdfad' title='Show/Hide attributes'><svg class='icon xr-icon-file-text2'><use xlink:href='#icon-file-text2'></use></svg></label><input id='data-848b2a78-5971-4a05-b2ea-5ceeab52eb3a' class='xr-var-data-in' type='checkbox'><label for='data-848b2a78-5971-4a05-b2ea-5ceeab52eb3a' title='Show/Hide data repr'><svg class='icon xr-icon-database'><use xlink:href='#icon-database'></use></svg></label><div class='xr-var-attrs'><dl class='xr-attrs'></dl></div><div class='xr-var-data'><pre>array([&#x27;Establishment cost (Ag2Non-Ag)&#x27;, &#x27;Fencing cost (Ag2Non-Ag)&#x27;,\n       &#x27;Remove irrigation cost (Ag2Non-Ag)&#x27;, &#x27;Transition cost (Ag2AF-Beef)&#x27;,\n       &#x27;Transition cost (Ag2AF-Sheep)&#x27;, &#x27;Transition cost (Ag2CP-Beef)&#x27;,\n       &#x27;Transition cost (Ag2CP-Sheep)&#x27;, &#x27;Transition cost (Ag2Non-Ag)&#x27;],\n      dtype=&#x27;&lt;U34&#x27;)</pre></div></li></ul></div></li><li class='xr-section-item'><input id='section-32aed308-7b82-4e05-a28e-baa8222edcf3' class='xr-section-summary-in' type='checkbox'  checked><label for='section-32aed308-7b82-4e05-a28e-baa8222edcf3' class='xr-section-summary' >Data variables: <span>(1)</span></label><div class='xr-section-inline-details'></div><div class='xr-section-details'><ul class='xr-var-list'><li class='xr-var-item'><div class='xr-var-name'><span>data</span></div><div class='xr-var-dims'>(From water-supply, cell, From land-use, To land-use, Cost type)</div><div class='xr-var-dtype'>float32</div><div class='xr-var-preview xr-preview'>...</div><input id='attrs-1eef0017-fe4c-404c-90f5-d66909a5bde6' class='xr-var-attrs-in' type='checkbox' disabled><label for='attrs-1eef0017-fe4c-404c-90f5-d66909a5bde6' title='Show/Hide attributes'><svg class='icon xr-icon-file-text2'><use xlink:href='#icon-file-text2'></use></svg></label><input id='data-82e53efd-63bd-4364-bf1f-5cee93ebf811' class='xr-var-data-in' type='checkbox'><label for='data-82e53efd-63bd-4364-bf1f-5cee93ebf811' title='Show/Hide data repr'><svg class='icon xr-icon-database'><use xlink:href='#icon-database'></use></svg></label><div class='xr-var-attrs'><dl class='xr-attrs'></dl></div><div class='xr-var-data'><pre>[1889741952 values with dtype=float32]</pre></div></li></ul></div></li><li class='xr-section-item'><input id='section-7479ba95-9a8b-4742-b4de-8ee4dd66bad0' class='xr-section-summary-in' type='checkbox'  ><label for='section-7479ba95-9a8b-4742-b4de-8ee4dd66bad0' class='xr-section-summary' >Indexes: <span>(5)</span></label><div class='xr-section-inline-details'></div><div class='xr-section-details'><ul class='xr-var-list'><li class='xr-var-item'><div class='xr-index-name'><div>From water-supply</div></div><div class='xr-index-preview'>PandasIndex</div><div></div><input id='index-a4d71a0c-24cb-44ca-9c9f-89a842737155' class='xr-index-data-in' type='checkbox'/><label for='index-a4d71a0c-24cb-44ca-9c9f-89a842737155' title='Show/Hide index repr'><svg class='icon xr-icon-database'><use xlink:href='#icon-database'></use></svg></label><div class='xr-index-data'><pre>PandasIndex(Index([&#x27;dry&#x27;, &#x27;irr&#x27;], dtype=&#x27;object&#x27;, name=&#x27;From water-supply&#x27;))</pre></div></li><li class='xr-var-item'><div class='xr-index-name'><div>cell</div></div><div class='xr-index-preview'>PandasIndex</div><div></div><input id='index-23319b57-c1e7-4e91-9b23-41b008d05183' class='xr-index-data-in' type='checkbox'/><label for='index-23319b57-c1e7-4e91-9b23-41b008d05183' title='Show/Hide index repr'><svg class='icon xr-icon-database'><use xlink:href='#icon-database'></use></svg></label><div class='xr-index-data'><pre>PandasIndex(Index([     0,      1,      2,      3,      4,      5,      6,      7,      8,\n            9,\n       ...\n       468676, 468677, 468678, 468679, 468680, 468681, 468682, 468683, 468684,\n       468685],\n      dtype=&#x27;int64&#x27;, name=&#x27;cell&#x27;, length=468686))</pre></div></li><li class='xr-var-item'><div class='xr-index-name'><div>From land-use</div></div><div class='xr-index-preview'>PandasIndex</div><div></div><input id='index-d6f11bb8-87e0-468e-9569-2e607967547a' class='xr-index-data-in' type='checkbox'/><label for='index-d6f11bb8-87e0-468e-9569-2e607967547a' title='Show/Hide index repr'><svg class='icon xr-icon-database'><use xlink:href='#icon-database'></use></svg></label><div class='xr-index-data'><pre>PandasIndex(Index([&#x27;Apples&#x27;, &#x27;Beef - modified land&#x27;, &#x27;Beef - natural land&#x27;, &#x27;Citrus&#x27;,\n       &#x27;Cotton&#x27;, &#x27;Dairy - modified land&#x27;, &#x27;Dairy - natural land&#x27;, &#x27;Grapes&#x27;,\n       &#x27;Hay&#x27;, &#x27;Nuts&#x27;, &#x27;Other non-cereal crops&#x27;, &#x27;Pears&#x27;, &#x27;Plantation fruit&#x27;,\n       &#x27;Rice&#x27;, &#x27;Sheep - modified land&#x27;, &#x27;Sheep - natural land&#x27;, &#x27;Stone fruit&#x27;,\n       &#x27;Sugar&#x27;, &#x27;Summer cereals&#x27;, &#x27;Summer legumes&#x27;, &#x27;Summer oilseeds&#x27;,\n       &#x27;Tropical stone fruit&#x27;, &#x27;Unallocated - modified land&#x27;,\n       &#x27;Unallocated - natural land&#x27;, &#x27;Vegetables&#x27;, &#x27;Winter cereals&#x27;,\n       &#x27;Winter legumes&#x27;, &#x27;Winter oilseeds&#x27;],\n      dtype=&#x27;object&#x27;, name=&#x27;From land-use&#x27;))</pre></div></li><li class='xr-var-item'><div class='xr-index-name'><div>To land-use</div></div><div class='xr-index-preview'>PandasIndex</div><div></div><input id='index-915dcf59-d01c-40f7-afd6-54391eeb65a9' class='xr-index-data-in' type='checkbox'/><label for='index-915dcf59-d01c-40f7-afd6-54391eeb65a9' title='Show/Hide index repr'><svg class='icon xr-icon-database'><use xlink:href='#icon-database'></use></svg></label><div class='xr-index-data'><pre>PandasIndex(Index([&#x27;BECCS&#x27;, &#x27;Beef Agroforestry&#x27;, &#x27;Beef Carbon Plantings (Belt)&#x27;,\n       &#x27;Carbon Plantings (Block)&#x27;, &#x27;Destocked - natural land&#x27;,\n       &#x27;Environmental Plantings&#x27;, &#x27;Riparian Plantings&#x27;, &#x27;Sheep Agroforestry&#x27;,\n       &#x27;Sheep Carbon Plantings (Belt)&#x27;],\n      dtype=&#x27;object&#x27;, name=&#x27;To land-use&#x27;))</pre></div></li><li class='xr-var-item'><div class='xr-index-name'><div>Cost type</div></div><div class='xr-index-preview'>PandasIndex</div><div></div><input id='index-39dda66a-ac33-4afe-8184-192837281d97' class='xr-index-data-in' type='checkbox'/><label for='index-39dda66a-ac33-4afe-8184-192837281d97' title='Show/Hide index repr'><svg class='icon xr-icon-database'><use xlink:href='#icon-database'></use></svg></label><div class='xr-index-data'><pre>PandasIndex(Index([&#x27;Establishment cost (Ag2Non-Ag)&#x27;, &#x27;Fencing cost (Ag2Non-Ag)&#x27;,\n       &#x27;Remove irrigation cost (Ag2Non-Ag)&#x27;, &#x27;Transition cost (Ag2AF-Beef)&#x27;,\n       &#x27;Transition cost (Ag2AF-Sheep)&#x27;, &#x27;Transition cost (Ag2CP-Beef)&#x27;,\n       &#x27;Transition cost (Ag2CP-Sheep)&#x27;, &#x27;Transition cost (Ag2Non-Ag)&#x27;],\n      dtype=&#x27;object&#x27;, name=&#x27;Cost type&#x27;))</pre></div></li></ul></div></li><li class='xr-section-item'><input id='section-631dd805-ec5e-4e56-bc69-1f664848b293' class='xr-section-summary-in' type='checkbox' disabled ><label for='section-631dd805-ec5e-4e56-bc69-1f664848b293' class='xr-section-summary'  title='Expand/collapse section'>Attributes: <span>(0)</span></label><div class='xr-section-inline-details'></div><div class='xr-section-details'><dl class='xr-attrs'></dl></div></li></ul></div></div>"
     },
     "execution_count": 8,
     "metadata": {},
     "output_type": "execute_result"
    }
   ],
   "source": [
    "xr.open_dataset(full_file_name)"
   ],
   "metadata": {
    "collapsed": false,
    "ExecuteTime": {
     "end_time": "2025-08-23T10:22:29.719128800Z",
     "start_time": "2025-08-23T10:22:28.947184200Z"
    }
   },
   "id": "18a9ec7830107e9b"
  },
  {
   "cell_type": "code",
   "execution_count": 9,
   "outputs": [
    {
     "name": "stdout",
     "output_type": "stream",
     "text": [
      "<xarray.Dataset> Size: 8GB\n",
      "Dimensions:            (From water-supply: 2, cell: 468686, From land-use: 28,\n",
      "                        To land-use: 9, Cost type: 8)\n",
      "Coordinates:\n",
      "  * From water-supply  (From water-supply) <U3 24B 'dry' 'irr'\n",
      "  * cell               (cell) int64 4MB 0 1 2 3 ... 468682 468683 468684 468685\n",
      "  * From land-use      (From land-use) <U27 3kB 'Apples' ... 'Winter oilseeds'\n",
      "  * To land-use        (To land-use) <U29 1kB 'BECCS' ... 'Sheep Carbon Plant...\n",
      "  * Cost type          (Cost type) <U34 1kB 'Establishment cost (Ag2Non-Ag)' ...\n",
      "Data variables:\n",
      "    data               (From water-supply, cell, From land-use, To land-use, Cost type) float32 8GB ...\n"
     ]
    }
   ],
   "source": [
    "print(a)"
   ],
   "metadata": {
    "collapsed": false,
    "ExecuteTime": {
     "end_time": "2025-08-23T10:23:21.753902200Z",
     "start_time": "2025-08-23T10:23:21.681069300Z"
    }
   },
   "id": "dba2cafe02207cd2"
  },
  {
   "cell_type": "code",
   "execution_count": 13,
   "outputs": [
    {
     "data": {
      "text/plain": "'data'"
     },
     "execution_count": 13,
     "metadata": {},
     "output_type": "execute_result"
    }
   ],
   "source": [
    "list(a.data_vars)[0]"
   ],
   "metadata": {
    "collapsed": false,
    "ExecuteTime": {
     "end_time": "2025-08-23T10:25:26.125564400Z",
     "start_time": "2025-08-23T10:25:25.928074100Z"
    }
   },
   "id": "2645fe8fa281fbbc"
  },
  {
   "cell_type": "code",
   "execution_count": 18,
   "outputs": [
    {
     "ename": "ValueError",
     "evalue": "did not find a match in any of xarray's currently installed IO backends ['netcdf4', 'h5netcdf', 'scipy', 'rasterio']. Consider explicitly selecting one of the installed engines via the ``engine`` parameter, or installing additional IO dependencies, see:\nhttps://docs.xarray.dev/en/stable/getting-started-guide/installing.html\nhttps://docs.xarray.dev/en/stable/user-guide/io.html",
     "output_type": "error",
     "traceback": [
      "\u001B[1;31m---------------------------------------------------------------------------\u001B[0m",
      "\u001B[1;31mValueError\u001B[0m                                Traceback (most recent call last)",
      "Cell \u001B[1;32mIn[18], line 8\u001B[0m\n\u001B[0;32m      6\u001B[0m     full_file_name \u001B[38;5;241m=\u001B[39m os\u001B[38;5;241m.\u001B[39mpath\u001B[38;5;241m.\u001B[39mjoin(origin_path_name, \u001B[38;5;124mf\u001B[39m\u001B[38;5;124m'\u001B[39m\u001B[38;5;124mout_\u001B[39m\u001B[38;5;132;01m{\u001B[39;00myear\u001B[38;5;132;01m}\u001B[39;00m\u001B[38;5;124m'\u001B[39m, \u001B[38;5;124mf\u001B[39m\u001B[38;5;124m'\u001B[39m\u001B[38;5;132;01m{\u001B[39;00mamortize_file\u001B[38;5;132;01m}\u001B[39;00m\u001B[38;5;124m_\u001B[39m\u001B[38;5;132;01m{\u001B[39;00myear\u001B[38;5;132;01m}\u001B[39;00m\u001B[38;5;124m.nc\u001B[39m\u001B[38;5;124m'\u001B[39m)\n\u001B[0;32m      7\u001B[0m     \u001B[38;5;66;03m# 从 Dataset 中提取出包含成本数据的那个 DataArray\u001B[39;00m\n\u001B[1;32m----> 8\u001B[0m     costs[year] \u001B[38;5;241m=\u001B[39m \u001B[43mxr\u001B[49m\u001B[38;5;241;43m.\u001B[39;49m\u001B[43mopen_dataset\u001B[49m\u001B[43m(\u001B[49m\u001B[43mfull_file_name\u001B[49m\u001B[43m)\u001B[49m[\u001B[38;5;124m'\u001B[39m\u001B[38;5;124mdata\u001B[39m\u001B[38;5;124m'\u001B[39m]\n\u001B[0;32m     10\u001B[0m \u001B[38;5;66;03m# 我们需要一个模板来确定新数组的形状和坐标，用第一个年份的即可\u001B[39;00m\n\u001B[0;32m     11\u001B[0m template_da \u001B[38;5;241m=\u001B[39m costs[years[\u001B[38;5;241m0\u001B[39m]]\n",
      "File \u001B[1;32m~\\Anaconda3\\envs\\xpluto\\Lib\\site-packages\\xarray\\backends\\api.py:552\u001B[0m, in \u001B[0;36mopen_dataset\u001B[1;34m(filename_or_obj, engine, chunks, cache, decode_cf, mask_and_scale, decode_times, decode_timedelta, use_cftime, concat_characters, decode_coords, drop_variables, inline_array, chunked_array_type, from_array_kwargs, backend_kwargs, **kwargs)\u001B[0m\n\u001B[0;32m    549\u001B[0m     kwargs\u001B[38;5;241m.\u001B[39mupdate(backend_kwargs)\n\u001B[0;32m    551\u001B[0m \u001B[38;5;28;01mif\u001B[39;00m engine \u001B[38;5;129;01mis\u001B[39;00m \u001B[38;5;28;01mNone\u001B[39;00m:\n\u001B[1;32m--> 552\u001B[0m     engine \u001B[38;5;241m=\u001B[39m \u001B[43mplugins\u001B[49m\u001B[38;5;241;43m.\u001B[39;49m\u001B[43mguess_engine\u001B[49m\u001B[43m(\u001B[49m\u001B[43mfilename_or_obj\u001B[49m\u001B[43m)\u001B[49m\n\u001B[0;32m    554\u001B[0m \u001B[38;5;28;01mif\u001B[39;00m from_array_kwargs \u001B[38;5;129;01mis\u001B[39;00m \u001B[38;5;28;01mNone\u001B[39;00m:\n\u001B[0;32m    555\u001B[0m     from_array_kwargs \u001B[38;5;241m=\u001B[39m {}\n",
      "File \u001B[1;32m~\\Anaconda3\\envs\\xpluto\\Lib\\site-packages\\xarray\\backends\\plugins.py:197\u001B[0m, in \u001B[0;36mguess_engine\u001B[1;34m(store_spec)\u001B[0m\n\u001B[0;32m    189\u001B[0m \u001B[38;5;28;01melse\u001B[39;00m:\n\u001B[0;32m    190\u001B[0m     error_msg \u001B[38;5;241m=\u001B[39m (\n\u001B[0;32m    191\u001B[0m         \u001B[38;5;124m\"\u001B[39m\u001B[38;5;124mfound the following matches with the input file in xarray\u001B[39m\u001B[38;5;124m'\u001B[39m\u001B[38;5;124ms IO \u001B[39m\u001B[38;5;124m\"\u001B[39m\n\u001B[0;32m    192\u001B[0m         \u001B[38;5;124mf\u001B[39m\u001B[38;5;124m\"\u001B[39m\u001B[38;5;124mbackends: \u001B[39m\u001B[38;5;132;01m{\u001B[39;00mcompatible_engines\u001B[38;5;132;01m}\u001B[39;00m\u001B[38;5;124m. But their dependencies may not be installed, see:\u001B[39m\u001B[38;5;130;01m\\n\u001B[39;00m\u001B[38;5;124m\"\u001B[39m\n\u001B[0;32m    193\u001B[0m         \u001B[38;5;124m\"\u001B[39m\u001B[38;5;124mhttps://docs.xarray.dev/en/stable/user-guide/io.html \u001B[39m\u001B[38;5;130;01m\\n\u001B[39;00m\u001B[38;5;124m\"\u001B[39m\n\u001B[0;32m    194\u001B[0m         \u001B[38;5;124m\"\u001B[39m\u001B[38;5;124mhttps://docs.xarray.dev/en/stable/getting-started-guide/installing.html\u001B[39m\u001B[38;5;124m\"\u001B[39m\n\u001B[0;32m    195\u001B[0m     )\n\u001B[1;32m--> 197\u001B[0m \u001B[38;5;28;01mraise\u001B[39;00m \u001B[38;5;167;01mValueError\u001B[39;00m(error_msg)\n",
      "\u001B[1;31mValueError\u001B[0m: did not find a match in any of xarray's currently installed IO backends ['netcdf4', 'h5netcdf', 'scipy', 'rasterio']. Consider explicitly selecting one of the installed engines via the ``engine`` parameter, or installing additional IO dependencies, see:\nhttps://docs.xarray.dev/en/stable/getting-started-guide/installing.html\nhttps://docs.xarray.dev/en/stable/user-guide/io.html"
     ]
    }
   ],
   "source": [
    "rate=0.07\n",
    "horizon=30\n",
    "\n",
    "costs = {}\n",
    "for year in years:\n",
    "    full_file_name = os.path.join(origin_path_name, f'out_{year}', f'{amortize_file}_{year}.nc')\n",
    "    # 从 Dataset 中提取出包含成本数据的那个 DataArray\n",
    "    costs[year] = xr.open_dataset(full_file_name)['data']\n",
    "\n",
    "# 我们需要一个模板来确定新数组的形状和坐标，用第一个年份的即可\n",
    "template_da = costs[years[0]]\n",
    "new_costs = {year: xr.zeros_like(template_da) for year in years}\n",
    "\n",
    "for year in years:\n",
    "    # pv_values 现在是一个 DataArray，可以直接用于计算\n",
    "    pv_values = costs[year]\n",
    "    \n",
    "    # npf.pmt 会自动在 DataArray 的每个元素上计算，并返回一个新的 DataArray\n",
    "    annual_payment = -1 * npf.pmt(rate, horizon, pv=pv_values, fv=0, when='begin')\n",
    "    \n",
    "    # 将计算出的年金 (一个 DataArray) 分配到未来年份\n",
    "    for offset in range(horizon):\n",
    "        target_year = year + offset\n",
    "        if target_year in years:  # 确保目标年份在我们的处理范围内\n",
    "            # 两个结构相同的 DataArray 可以直接相加！\n",
    "            new_costs[target_year] += annual_payment\n",
    "\n",
    "for year in years:\n",
    "    target_year_path = os.path.join(target_path_name, str(year))\n",
    "    dst_file = os.path.join(target_year_path, f'{amortize_file}_amortised_{year}.nc')\n",
    "    new_costs[year].to_netcdf(dst_file)"
   ],
   "metadata": {
    "collapsed": false,
    "ExecuteTime": {
     "end_time": "2025-08-23T10:31:10.778350900Z",
     "start_time": "2025-08-23T10:31:10.356988200Z"
    }
   },
   "id": "73df172d5b0807d"
  },
  {
   "cell_type": "code",
   "execution_count": 19,
   "outputs": [
    {
     "data": {
      "text/plain": "'../../../output/20250822_Paper2_Results/Run_1_GHG_high_BIO_high/output\\\\2025_08_22__13_22_53_RF3_2010-2050\\\\out_2019\\\\xr_transition_cost_ag2non_ag_2019.nc'"
     },
     "execution_count": 19,
     "metadata": {},
     "output_type": "execute_result"
    }
   ],
   "source": [
    "full_file_name"
   ],
   "metadata": {
    "collapsed": false,
    "ExecuteTime": {
     "end_time": "2025-08-23T10:31:29.889298400Z",
     "start_time": "2025-08-23T10:31:29.814798600Z"
    }
   },
   "id": "6496f556368ecf6c"
  },
  {
   "cell_type": "code",
   "execution_count": 20,
   "outputs": [
    {
     "ename": "ValueError",
     "evalue": "did not find a match in any of xarray's currently installed IO backends ['netcdf4', 'h5netcdf', 'scipy', 'rasterio']. Consider explicitly selecting one of the installed engines via the ``engine`` parameter, or installing additional IO dependencies, see:\nhttps://docs.xarray.dev/en/stable/getting-started-guide/installing.html\nhttps://docs.xarray.dev/en/stable/user-guide/io.html",
     "output_type": "error",
     "traceback": [
      "\u001B[1;31m---------------------------------------------------------------------------\u001B[0m",
      "\u001B[1;31mValueError\u001B[0m                                Traceback (most recent call last)",
      "Cell \u001B[1;32mIn[20], line 1\u001B[0m\n\u001B[1;32m----> 1\u001B[0m \u001B[43mxr\u001B[49m\u001B[38;5;241;43m.\u001B[39;49m\u001B[43mopen_dataset\u001B[49m\u001B[43m(\u001B[49m\u001B[43mfull_file_name\u001B[49m\u001B[43m)\u001B[49m\n",
      "File \u001B[1;32m~\\Anaconda3\\envs\\xpluto\\Lib\\site-packages\\xarray\\backends\\api.py:552\u001B[0m, in \u001B[0;36mopen_dataset\u001B[1;34m(filename_or_obj, engine, chunks, cache, decode_cf, mask_and_scale, decode_times, decode_timedelta, use_cftime, concat_characters, decode_coords, drop_variables, inline_array, chunked_array_type, from_array_kwargs, backend_kwargs, **kwargs)\u001B[0m\n\u001B[0;32m    549\u001B[0m     kwargs\u001B[38;5;241m.\u001B[39mupdate(backend_kwargs)\n\u001B[0;32m    551\u001B[0m \u001B[38;5;28;01mif\u001B[39;00m engine \u001B[38;5;129;01mis\u001B[39;00m \u001B[38;5;28;01mNone\u001B[39;00m:\n\u001B[1;32m--> 552\u001B[0m     engine \u001B[38;5;241m=\u001B[39m \u001B[43mplugins\u001B[49m\u001B[38;5;241;43m.\u001B[39;49m\u001B[43mguess_engine\u001B[49m\u001B[43m(\u001B[49m\u001B[43mfilename_or_obj\u001B[49m\u001B[43m)\u001B[49m\n\u001B[0;32m    554\u001B[0m \u001B[38;5;28;01mif\u001B[39;00m from_array_kwargs \u001B[38;5;129;01mis\u001B[39;00m \u001B[38;5;28;01mNone\u001B[39;00m:\n\u001B[0;32m    555\u001B[0m     from_array_kwargs \u001B[38;5;241m=\u001B[39m {}\n",
      "File \u001B[1;32m~\\Anaconda3\\envs\\xpluto\\Lib\\site-packages\\xarray\\backends\\plugins.py:197\u001B[0m, in \u001B[0;36mguess_engine\u001B[1;34m(store_spec)\u001B[0m\n\u001B[0;32m    189\u001B[0m \u001B[38;5;28;01melse\u001B[39;00m:\n\u001B[0;32m    190\u001B[0m     error_msg \u001B[38;5;241m=\u001B[39m (\n\u001B[0;32m    191\u001B[0m         \u001B[38;5;124m\"\u001B[39m\u001B[38;5;124mfound the following matches with the input file in xarray\u001B[39m\u001B[38;5;124m'\u001B[39m\u001B[38;5;124ms IO \u001B[39m\u001B[38;5;124m\"\u001B[39m\n\u001B[0;32m    192\u001B[0m         \u001B[38;5;124mf\u001B[39m\u001B[38;5;124m\"\u001B[39m\u001B[38;5;124mbackends: \u001B[39m\u001B[38;5;132;01m{\u001B[39;00mcompatible_engines\u001B[38;5;132;01m}\u001B[39;00m\u001B[38;5;124m. But their dependencies may not be installed, see:\u001B[39m\u001B[38;5;130;01m\\n\u001B[39;00m\u001B[38;5;124m\"\u001B[39m\n\u001B[0;32m    193\u001B[0m         \u001B[38;5;124m\"\u001B[39m\u001B[38;5;124mhttps://docs.xarray.dev/en/stable/user-guide/io.html \u001B[39m\u001B[38;5;130;01m\\n\u001B[39;00m\u001B[38;5;124m\"\u001B[39m\n\u001B[0;32m    194\u001B[0m         \u001B[38;5;124m\"\u001B[39m\u001B[38;5;124mhttps://docs.xarray.dev/en/stable/getting-started-guide/installing.html\u001B[39m\u001B[38;5;124m\"\u001B[39m\n\u001B[0;32m    195\u001B[0m     )\n\u001B[1;32m--> 197\u001B[0m \u001B[38;5;28;01mraise\u001B[39;00m \u001B[38;5;167;01mValueError\u001B[39;00m(error_msg)\n",
      "\u001B[1;31mValueError\u001B[0m: did not find a match in any of xarray's currently installed IO backends ['netcdf4', 'h5netcdf', 'scipy', 'rasterio']. Consider explicitly selecting one of the installed engines via the ``engine`` parameter, or installing additional IO dependencies, see:\nhttps://docs.xarray.dev/en/stable/getting-started-guide/installing.html\nhttps://docs.xarray.dev/en/stable/user-guide/io.html"
     ]
    }
   ],
   "source": [
    "xr.open_dataset(full_file_name)"
   ],
   "metadata": {
    "collapsed": false,
    "ExecuteTime": {
     "end_time": "2025-08-23T10:31:59.341866600Z",
     "start_time": "2025-08-23T10:31:59.121066600Z"
    }
   },
   "id": "30128023bb6d81c3"
  },
  {
   "cell_type": "code",
   "execution_count": null,
   "outputs": [],
   "source": [],
   "metadata": {
    "collapsed": false
   },
   "id": "ff3b2bce2694d92d"
  }
 ],
 "metadata": {
  "kernelspec": {
   "display_name": "Python 3",
   "language": "python",
   "name": "python3"
  },
  "language_info": {
   "codemirror_mode": {
    "name": "ipython",
    "version": 2
   },
   "file_extension": ".py",
   "mimetype": "text/x-python",
   "name": "python",
   "nbconvert_exporter": "python",
   "pygments_lexer": "ipython2",
   "version": "2.7.6"
  }
 },
 "nbformat": 4,
 "nbformat_minor": 5
}
