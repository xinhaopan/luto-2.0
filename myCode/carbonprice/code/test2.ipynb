{
 "cells": [
  {
   "cell_type": "code",
   "execution_count": 1,
   "outputs": [],
   "source": [
    "import tools.config as config\n",
    "from tools.tools import nc_to_tif\n",
    "import xarray as xr\n",
    "import dill\n",
    "import gzip"
   ],
   "metadata": {
    "collapsed": false,
    "ExecuteTime": {
     "end_time": "2025-09-17T11:44:18.978502800Z",
     "start_time": "2025-09-17T11:44:17.903775700Z"
    }
   },
   "id": "6f0683e9e55473f5"
  },
  {
   "cell_type": "code",
   "execution_count": 22,
   "outputs": [],
   "source": [
    "import numpy as np\n",
    "import matplotlib.pyplot as plt\n",
    "import seaborn as sns\n",
    "\n",
    "def plot_violin(arr, title=\"Value Distribution\", save_path=None, value_range=None, logy=False):\n",
    "    \"\"\"\n",
    "    画一个数组值的小提琴图，用于观察分布\n",
    "\n",
    "    参数\n",
    "    ----\n",
    "    arr : numpy.ndarray 或 xarray.DataArray\n",
    "        输入数组\n",
    "    title : str\n",
    "        图表标题\n",
    "    save_path : str or None\n",
    "        保存路径；None 时只显示不保存\n",
    "    value_range : tuple or None\n",
    "        (vmin, vmax)，只画这个范围内的值\n",
    "    logy : bool\n",
    "        是否把 y 轴设为对数坐标\n",
    "    \"\"\"\n",
    "    # 转成 1D 并去掉 nan\n",
    "    values = np.ravel(arr)\n",
    "    values = values[~np.isnan(values)]\n",
    "\n",
    "    # 如果指定范围，过滤\n",
    "    if value_range is not None:\n",
    "        vmin, vmax = value_range\n",
    "        values = values[(values >= vmin) & (values <= vmax)]\n",
    "\n",
    "    plt.figure(figsize=(6, 4))\n",
    "    sns.violinplot(y=values, inner=\"box\", linewidth=1.2)\n",
    "\n",
    "    plt.title(title)\n",
    "    plt.ylabel(\"Value\")\n",
    "\n",
    "    if logy:\n",
    "        plt.yscale(\"log\")\n",
    "\n",
    "    plt.tight_layout()\n",
    "    if save_path:\n",
    "        plt.savefig(save_path, dpi=300)\n",
    "        print(f\"✅ 图已保存: {save_path}\")\n",
    "    else:\n",
    "        plt.show()\n",
    "\n",
    "\n",
    "# ==== 使用示例 ====\n",
    "# arr = np.random.lognormal(mean=1, sigma=0.5, size=1000)\n",
    "# 普通坐标\n",
    "# plot_violin(arr, title=\"普通分布\")\n",
    "# 对数坐标\n",
    "# plot_violin(arr, title=\"对数坐标\", logy=True)\n"
   ],
   "metadata": {
    "collapsed": false,
    "ExecuteTime": {
     "end_time": "2025-09-17T12:04:58.857390300Z",
     "start_time": "2025-09-17T12:04:58.846874Z"
    }
   },
   "id": "49535d82516b0106"
  },
  {
   "cell_type": "code",
   "execution_count": 2,
   "outputs": [],
   "source": [
    "base_dir = f\"../../../output/{config.TASK_NAME}/carbon_price/0_base_data\"\n",
    "tif_dir = f\"../../../output/{config.TASK_NAME}/carbon_price/4_tif\"\n",
    "data_path = f\"../../../output/{config.TASK_NAME}/Run_01_GHG_high_BIO_high_CUT_50/output/2025_09_08__09_33_05_RF5_2010-2050/Data_RES5.gz\""
   ],
   "metadata": {
    "collapsed": false,
    "ExecuteTime": {
     "end_time": "2025-09-17T11:44:20.527858400Z",
     "start_time": "2025-09-17T11:44:18.979503300Z"
    }
   },
   "id": "f4ab916a2eee5a31"
  },
  {
   "cell_type": "code",
   "execution_count": 3,
   "outputs": [],
   "source": [
    "with gzip.open(data_path, 'rb') as f:\n",
    "    data = dill.load(f)"
   ],
   "metadata": {
    "collapsed": false,
    "ExecuteTime": {
     "end_time": "2025-09-17T11:45:47.870416500Z",
     "start_time": "2025-09-17T11:44:20.528858300Z"
    }
   },
   "id": "9269a9dd2e3af935"
  },
  {
   "cell_type": "code",
   "execution_count": 26,
   "outputs": [],
   "source": [
    "env_categorys = config.carbon_names + config.carbon_bio_names\n",
    "file_parts = ['total_cost','cost_ag', 'cost_agricultural_management', 'cost_non_ag', 'cost_transition_ag2ag_diff',\n",
    "                 'transition_cost_ag2non_ag_amortised_diff','total','price']"
   ],
   "metadata": {
    "collapsed": false,
    "ExecuteTime": {
     "end_time": "2025-09-17T12:20:22.332070400Z",
     "start_time": "2025-09-17T12:20:22.269109800Z"
    }
   },
   "id": "cdf50fee44c2b399"
  },
  {
   "cell_type": "code",
   "execution_count": 12,
   "outputs": [],
   "source": [
    "input_path = f\"{base_dir}/carbon_high/2050/xr_total_cost_carbon_high_amortised_2050.nc\"\n",
    "out_tif = f\"{tif_dir}/total_cost_carbon_high_2050.tif\"\n",
    "da = xr.open_dataarray(input_path)\n",
    "\n",
    "# nc_to_tif(data,da,out_tif)"
   ],
   "metadata": {
    "collapsed": false,
    "ExecuteTime": {
     "end_time": "2025-09-17T12:00:55.391777500Z",
     "start_time": "2025-09-17T12:00:55.184863800Z"
    }
   },
   "id": "cbf3f93042f5714a"
  },
  {
   "cell_type": "code",
   "execution_count": 29,
   "outputs": [
    {
     "name": "stdout",
     "output_type": "stream",
     "text": [
      "Processing carbon_low - total_cost\n",
      "✅ 已保存: ../../../output/20250908_Paper2_Results_NCI/carbon_price/4_tif/xr_total_cost_carbon_low_2050.tif\n",
      "Processing carbon_low - cost_ag\n",
      "✅ 已保存: ../../../output/20250908_Paper2_Results_NCI/carbon_price/4_tif/xr_cost_ag_carbon_low_2050.tif\n",
      "Processing carbon_low - cost_agricultural_management\n",
      "✅ 已保存: ../../../output/20250908_Paper2_Results_NCI/carbon_price/4_tif/xr_cost_agricultural_management_carbon_low_2050.tif\n",
      "Processing carbon_low - cost_non_ag\n",
      "✅ 已保存: ../../../output/20250908_Paper2_Results_NCI/carbon_price/4_tif/xr_cost_non_ag_carbon_low_2050.tif\n",
      "Processing carbon_low - cost_transition_ag2ag_diff\n",
      "✅ 已保存: ../../../output/20250908_Paper2_Results_NCI/carbon_price/4_tif/xr_cost_transition_ag2ag_diff_carbon_low_2050.tif\n",
      "Processing carbon_low - transition_cost_ag2non_ag_amortised_diff\n",
      "✅ 已保存: ../../../output/20250908_Paper2_Results_NCI/carbon_price/4_tif/xr_transition_cost_ag2non_ag_amortised_diff_carbon_low_2050.tif\n",
      "Processing carbon_low - total\n",
      "✅ 已保存: ../../../output/20250908_Paper2_Results_NCI/carbon_price/4_tif/xr_total_carbon_low_2050.tif\n",
      "Processing carbon_low - price\n",
      "✅ 已保存: ../../../output/20250908_Paper2_Results_NCI/carbon_price/4_tif/xr_price_carbon_low_2050.tif\n",
      "Processing carbon_high - total_cost\n",
      "✅ 已保存: ../../../output/20250908_Paper2_Results_NCI/carbon_price/4_tif/xr_total_cost_carbon_high_2050.tif\n",
      "Processing carbon_high - cost_ag\n",
      "✅ 已保存: ../../../output/20250908_Paper2_Results_NCI/carbon_price/4_tif/xr_cost_ag_carbon_high_2050.tif\n",
      "Processing carbon_high - cost_agricultural_management\n",
      "✅ 已保存: ../../../output/20250908_Paper2_Results_NCI/carbon_price/4_tif/xr_cost_agricultural_management_carbon_high_2050.tif\n",
      "Processing carbon_high - cost_non_ag\n",
      "✅ 已保存: ../../../output/20250908_Paper2_Results_NCI/carbon_price/4_tif/xr_cost_non_ag_carbon_high_2050.tif\n",
      "Processing carbon_high - cost_transition_ag2ag_diff\n",
      "✅ 已保存: ../../../output/20250908_Paper2_Results_NCI/carbon_price/4_tif/xr_cost_transition_ag2ag_diff_carbon_high_2050.tif\n",
      "Processing carbon_high - transition_cost_ag2non_ag_amortised_diff\n",
      "✅ 已保存: ../../../output/20250908_Paper2_Results_NCI/carbon_price/4_tif/xr_transition_cost_ag2non_ag_amortised_diff_carbon_high_2050.tif\n",
      "Processing carbon_high - total\n",
      "✅ 已保存: ../../../output/20250908_Paper2_Results_NCI/carbon_price/4_tif/xr_total_carbon_high_2050.tif\n",
      "Processing carbon_high - price\n",
      "✅ 已保存: ../../../output/20250908_Paper2_Results_NCI/carbon_price/4_tif/xr_price_carbon_high_2050.tif\n",
      "Processing carbon_low_bio_10 - total_cost\n",
      "✅ 已保存: ../../../output/20250908_Paper2_Results_NCI/carbon_price/4_tif/xr_total_cost_carbon_low_bio_10_2050.tif\n",
      "Processing carbon_low_bio_10 - cost_ag\n",
      "✅ 已保存: ../../../output/20250908_Paper2_Results_NCI/carbon_price/4_tif/xr_cost_ag_carbon_low_bio_10_2050.tif\n",
      "Processing carbon_low_bio_10 - cost_agricultural_management\n",
      "✅ 已保存: ../../../output/20250908_Paper2_Results_NCI/carbon_price/4_tif/xr_cost_agricultural_management_carbon_low_bio_10_2050.tif\n",
      "Processing carbon_low_bio_10 - cost_non_ag\n",
      "✅ 已保存: ../../../output/20250908_Paper2_Results_NCI/carbon_price/4_tif/xr_cost_non_ag_carbon_low_bio_10_2050.tif\n",
      "Processing carbon_low_bio_10 - cost_transition_ag2ag_diff\n",
      "✅ 已保存: ../../../output/20250908_Paper2_Results_NCI/carbon_price/4_tif/xr_cost_transition_ag2ag_diff_carbon_low_bio_10_2050.tif\n",
      "Processing carbon_low_bio_10 - transition_cost_ag2non_ag_amortised_diff\n",
      "✅ 已保存: ../../../output/20250908_Paper2_Results_NCI/carbon_price/4_tif/xr_transition_cost_ag2non_ag_amortised_diff_carbon_low_bio_10_2050.tif\n",
      "Processing carbon_low_bio_10 - total\n",
      "✅ 已保存: ../../../output/20250908_Paper2_Results_NCI/carbon_price/4_tif/xr_total_carbon_low_bio_10_2050.tif\n",
      "Processing carbon_low_bio_10 - price\n",
      "✅ 已保存: ../../../output/20250908_Paper2_Results_NCI/carbon_price/4_tif/xr_price_carbon_low_bio_10_2050.tif\n",
      "Processing carbon_low_bio_20 - total_cost\n",
      "✅ 已保存: ../../../output/20250908_Paper2_Results_NCI/carbon_price/4_tif/xr_total_cost_carbon_low_bio_20_2050.tif\n",
      "Processing carbon_low_bio_20 - cost_ag\n",
      "✅ 已保存: ../../../output/20250908_Paper2_Results_NCI/carbon_price/4_tif/xr_cost_ag_carbon_low_bio_20_2050.tif\n",
      "Processing carbon_low_bio_20 - cost_agricultural_management\n",
      "✅ 已保存: ../../../output/20250908_Paper2_Results_NCI/carbon_price/4_tif/xr_cost_agricultural_management_carbon_low_bio_20_2050.tif\n",
      "Processing carbon_low_bio_20 - cost_non_ag\n",
      "✅ 已保存: ../../../output/20250908_Paper2_Results_NCI/carbon_price/4_tif/xr_cost_non_ag_carbon_low_bio_20_2050.tif\n",
      "Processing carbon_low_bio_20 - cost_transition_ag2ag_diff\n",
      "✅ 已保存: ../../../output/20250908_Paper2_Results_NCI/carbon_price/4_tif/xr_cost_transition_ag2ag_diff_carbon_low_bio_20_2050.tif\n",
      "Processing carbon_low_bio_20 - transition_cost_ag2non_ag_amortised_diff\n",
      "✅ 已保存: ../../../output/20250908_Paper2_Results_NCI/carbon_price/4_tif/xr_transition_cost_ag2non_ag_amortised_diff_carbon_low_bio_20_2050.tif\n",
      "Processing carbon_low_bio_20 - total\n",
      "✅ 已保存: ../../../output/20250908_Paper2_Results_NCI/carbon_price/4_tif/xr_total_carbon_low_bio_20_2050.tif\n",
      "Processing carbon_low_bio_20 - price\n",
      "✅ 已保存: ../../../output/20250908_Paper2_Results_NCI/carbon_price/4_tif/xr_price_carbon_low_bio_20_2050.tif\n",
      "Processing carbon_low_bio_30 - total_cost\n",
      "✅ 已保存: ../../../output/20250908_Paper2_Results_NCI/carbon_price/4_tif/xr_total_cost_carbon_low_bio_30_2050.tif\n",
      "Processing carbon_low_bio_30 - cost_ag\n",
      "✅ 已保存: ../../../output/20250908_Paper2_Results_NCI/carbon_price/4_tif/xr_cost_ag_carbon_low_bio_30_2050.tif\n",
      "Processing carbon_low_bio_30 - cost_agricultural_management\n",
      "✅ 已保存: ../../../output/20250908_Paper2_Results_NCI/carbon_price/4_tif/xr_cost_agricultural_management_carbon_low_bio_30_2050.tif\n",
      "Processing carbon_low_bio_30 - cost_non_ag\n",
      "✅ 已保存: ../../../output/20250908_Paper2_Results_NCI/carbon_price/4_tif/xr_cost_non_ag_carbon_low_bio_30_2050.tif\n",
      "Processing carbon_low_bio_30 - cost_transition_ag2ag_diff\n",
      "✅ 已保存: ../../../output/20250908_Paper2_Results_NCI/carbon_price/4_tif/xr_cost_transition_ag2ag_diff_carbon_low_bio_30_2050.tif\n",
      "Processing carbon_low_bio_30 - transition_cost_ag2non_ag_amortised_diff\n",
      "✅ 已保存: ../../../output/20250908_Paper2_Results_NCI/carbon_price/4_tif/xr_transition_cost_ag2non_ag_amortised_diff_carbon_low_bio_30_2050.tif\n",
      "Processing carbon_low_bio_30 - total\n",
      "✅ 已保存: ../../../output/20250908_Paper2_Results_NCI/carbon_price/4_tif/xr_total_carbon_low_bio_30_2050.tif\n",
      "Processing carbon_low_bio_30 - price\n",
      "✅ 已保存: ../../../output/20250908_Paper2_Results_NCI/carbon_price/4_tif/xr_price_carbon_low_bio_30_2050.tif\n",
      "Processing carbon_low_bio_40 - total_cost\n",
      "✅ 已保存: ../../../output/20250908_Paper2_Results_NCI/carbon_price/4_tif/xr_total_cost_carbon_low_bio_40_2050.tif\n",
      "Processing carbon_low_bio_40 - cost_ag\n",
      "✅ 已保存: ../../../output/20250908_Paper2_Results_NCI/carbon_price/4_tif/xr_cost_ag_carbon_low_bio_40_2050.tif\n",
      "Processing carbon_low_bio_40 - cost_agricultural_management\n",
      "✅ 已保存: ../../../output/20250908_Paper2_Results_NCI/carbon_price/4_tif/xr_cost_agricultural_management_carbon_low_bio_40_2050.tif\n",
      "Processing carbon_low_bio_40 - cost_non_ag\n",
      "✅ 已保存: ../../../output/20250908_Paper2_Results_NCI/carbon_price/4_tif/xr_cost_non_ag_carbon_low_bio_40_2050.tif\n",
      "Processing carbon_low_bio_40 - cost_transition_ag2ag_diff\n",
      "✅ 已保存: ../../../output/20250908_Paper2_Results_NCI/carbon_price/4_tif/xr_cost_transition_ag2ag_diff_carbon_low_bio_40_2050.tif\n",
      "Processing carbon_low_bio_40 - transition_cost_ag2non_ag_amortised_diff\n",
      "✅ 已保存: ../../../output/20250908_Paper2_Results_NCI/carbon_price/4_tif/xr_transition_cost_ag2non_ag_amortised_diff_carbon_low_bio_40_2050.tif\n",
      "Processing carbon_low_bio_40 - total\n",
      "✅ 已保存: ../../../output/20250908_Paper2_Results_NCI/carbon_price/4_tif/xr_total_carbon_low_bio_40_2050.tif\n",
      "Processing carbon_low_bio_40 - price\n",
      "✅ 已保存: ../../../output/20250908_Paper2_Results_NCI/carbon_price/4_tif/xr_price_carbon_low_bio_40_2050.tif\n",
      "Processing carbon_low_bio_50 - total_cost\n",
      "✅ 已保存: ../../../output/20250908_Paper2_Results_NCI/carbon_price/4_tif/xr_total_cost_carbon_low_bio_50_2050.tif\n",
      "Processing carbon_low_bio_50 - cost_ag\n",
      "✅ 已保存: ../../../output/20250908_Paper2_Results_NCI/carbon_price/4_tif/xr_cost_ag_carbon_low_bio_50_2050.tif\n",
      "Processing carbon_low_bio_50 - cost_agricultural_management\n",
      "✅ 已保存: ../../../output/20250908_Paper2_Results_NCI/carbon_price/4_tif/xr_cost_agricultural_management_carbon_low_bio_50_2050.tif\n",
      "Processing carbon_low_bio_50 - cost_non_ag\n",
      "✅ 已保存: ../../../output/20250908_Paper2_Results_NCI/carbon_price/4_tif/xr_cost_non_ag_carbon_low_bio_50_2050.tif\n",
      "Processing carbon_low_bio_50 - cost_transition_ag2ag_diff\n",
      "✅ 已保存: ../../../output/20250908_Paper2_Results_NCI/carbon_price/4_tif/xr_cost_transition_ag2ag_diff_carbon_low_bio_50_2050.tif\n",
      "Processing carbon_low_bio_50 - transition_cost_ag2non_ag_amortised_diff\n",
      "✅ 已保存: ../../../output/20250908_Paper2_Results_NCI/carbon_price/4_tif/xr_transition_cost_ag2non_ag_amortised_diff_carbon_low_bio_50_2050.tif\n",
      "Processing carbon_low_bio_50 - total\n",
      "✅ 已保存: ../../../output/20250908_Paper2_Results_NCI/carbon_price/4_tif/xr_total_carbon_low_bio_50_2050.tif\n",
      "Processing carbon_low_bio_50 - price\n",
      "✅ 已保存: ../../../output/20250908_Paper2_Results_NCI/carbon_price/4_tif/xr_price_carbon_low_bio_50_2050.tif\n",
      "Processing carbon_high_bio_10 - total_cost\n",
      "✅ 已保存: ../../../output/20250908_Paper2_Results_NCI/carbon_price/4_tif/xr_total_cost_carbon_high_bio_10_2050.tif\n",
      "Processing carbon_high_bio_10 - cost_ag\n",
      "✅ 已保存: ../../../output/20250908_Paper2_Results_NCI/carbon_price/4_tif/xr_cost_ag_carbon_high_bio_10_2050.tif\n",
      "Processing carbon_high_bio_10 - cost_agricultural_management\n",
      "✅ 已保存: ../../../output/20250908_Paper2_Results_NCI/carbon_price/4_tif/xr_cost_agricultural_management_carbon_high_bio_10_2050.tif\n",
      "Processing carbon_high_bio_10 - cost_non_ag\n",
      "✅ 已保存: ../../../output/20250908_Paper2_Results_NCI/carbon_price/4_tif/xr_cost_non_ag_carbon_high_bio_10_2050.tif\n",
      "Processing carbon_high_bio_10 - cost_transition_ag2ag_diff\n",
      "✅ 已保存: ../../../output/20250908_Paper2_Results_NCI/carbon_price/4_tif/xr_cost_transition_ag2ag_diff_carbon_high_bio_10_2050.tif\n",
      "Processing carbon_high_bio_10 - transition_cost_ag2non_ag_amortised_diff\n",
      "✅ 已保存: ../../../output/20250908_Paper2_Results_NCI/carbon_price/4_tif/xr_transition_cost_ag2non_ag_amortised_diff_carbon_high_bio_10_2050.tif\n",
      "Processing carbon_high_bio_10 - total\n",
      "✅ 已保存: ../../../output/20250908_Paper2_Results_NCI/carbon_price/4_tif/xr_total_carbon_high_bio_10_2050.tif\n",
      "Processing carbon_high_bio_10 - price\n",
      "✅ 已保存: ../../../output/20250908_Paper2_Results_NCI/carbon_price/4_tif/xr_price_carbon_high_bio_10_2050.tif\n",
      "Processing carbon_high_bio_20 - total_cost\n",
      "✅ 已保存: ../../../output/20250908_Paper2_Results_NCI/carbon_price/4_tif/xr_total_cost_carbon_high_bio_20_2050.tif\n",
      "Processing carbon_high_bio_20 - cost_ag\n",
      "✅ 已保存: ../../../output/20250908_Paper2_Results_NCI/carbon_price/4_tif/xr_cost_ag_carbon_high_bio_20_2050.tif\n",
      "Processing carbon_high_bio_20 - cost_agricultural_management\n",
      "✅ 已保存: ../../../output/20250908_Paper2_Results_NCI/carbon_price/4_tif/xr_cost_agricultural_management_carbon_high_bio_20_2050.tif\n",
      "Processing carbon_high_bio_20 - cost_non_ag\n",
      "✅ 已保存: ../../../output/20250908_Paper2_Results_NCI/carbon_price/4_tif/xr_cost_non_ag_carbon_high_bio_20_2050.tif\n",
      "Processing carbon_high_bio_20 - cost_transition_ag2ag_diff\n",
      "✅ 已保存: ../../../output/20250908_Paper2_Results_NCI/carbon_price/4_tif/xr_cost_transition_ag2ag_diff_carbon_high_bio_20_2050.tif\n",
      "Processing carbon_high_bio_20 - transition_cost_ag2non_ag_amortised_diff\n",
      "✅ 已保存: ../../../output/20250908_Paper2_Results_NCI/carbon_price/4_tif/xr_transition_cost_ag2non_ag_amortised_diff_carbon_high_bio_20_2050.tif\n",
      "Processing carbon_high_bio_20 - total\n",
      "✅ 已保存: ../../../output/20250908_Paper2_Results_NCI/carbon_price/4_tif/xr_total_carbon_high_bio_20_2050.tif\n",
      "Processing carbon_high_bio_20 - price\n",
      "✅ 已保存: ../../../output/20250908_Paper2_Results_NCI/carbon_price/4_tif/xr_price_carbon_high_bio_20_2050.tif\n",
      "Processing carbon_high_bio_30 - total_cost\n",
      "✅ 已保存: ../../../output/20250908_Paper2_Results_NCI/carbon_price/4_tif/xr_total_cost_carbon_high_bio_30_2050.tif\n",
      "Processing carbon_high_bio_30 - cost_ag\n",
      "✅ 已保存: ../../../output/20250908_Paper2_Results_NCI/carbon_price/4_tif/xr_cost_ag_carbon_high_bio_30_2050.tif\n",
      "Processing carbon_high_bio_30 - cost_agricultural_management\n",
      "✅ 已保存: ../../../output/20250908_Paper2_Results_NCI/carbon_price/4_tif/xr_cost_agricultural_management_carbon_high_bio_30_2050.tif\n",
      "Processing carbon_high_bio_30 - cost_non_ag\n",
      "✅ 已保存: ../../../output/20250908_Paper2_Results_NCI/carbon_price/4_tif/xr_cost_non_ag_carbon_high_bio_30_2050.tif\n",
      "Processing carbon_high_bio_30 - cost_transition_ag2ag_diff\n",
      "✅ 已保存: ../../../output/20250908_Paper2_Results_NCI/carbon_price/4_tif/xr_cost_transition_ag2ag_diff_carbon_high_bio_30_2050.tif\n",
      "Processing carbon_high_bio_30 - transition_cost_ag2non_ag_amortised_diff\n",
      "✅ 已保存: ../../../output/20250908_Paper2_Results_NCI/carbon_price/4_tif/xr_transition_cost_ag2non_ag_amortised_diff_carbon_high_bio_30_2050.tif\n",
      "Processing carbon_high_bio_30 - total\n",
      "✅ 已保存: ../../../output/20250908_Paper2_Results_NCI/carbon_price/4_tif/xr_total_carbon_high_bio_30_2050.tif\n",
      "Processing carbon_high_bio_30 - price\n",
      "✅ 已保存: ../../../output/20250908_Paper2_Results_NCI/carbon_price/4_tif/xr_price_carbon_high_bio_30_2050.tif\n",
      "Processing carbon_high_bio_40 - total_cost\n",
      "✅ 已保存: ../../../output/20250908_Paper2_Results_NCI/carbon_price/4_tif/xr_total_cost_carbon_high_bio_40_2050.tif\n",
      "Processing carbon_high_bio_40 - cost_ag\n",
      "✅ 已保存: ../../../output/20250908_Paper2_Results_NCI/carbon_price/4_tif/xr_cost_ag_carbon_high_bio_40_2050.tif\n",
      "Processing carbon_high_bio_40 - cost_agricultural_management\n",
      "✅ 已保存: ../../../output/20250908_Paper2_Results_NCI/carbon_price/4_tif/xr_cost_agricultural_management_carbon_high_bio_40_2050.tif\n",
      "Processing carbon_high_bio_40 - cost_non_ag\n",
      "✅ 已保存: ../../../output/20250908_Paper2_Results_NCI/carbon_price/4_tif/xr_cost_non_ag_carbon_high_bio_40_2050.tif\n",
      "Processing carbon_high_bio_40 - cost_transition_ag2ag_diff\n",
      "✅ 已保存: ../../../output/20250908_Paper2_Results_NCI/carbon_price/4_tif/xr_cost_transition_ag2ag_diff_carbon_high_bio_40_2050.tif\n",
      "Processing carbon_high_bio_40 - transition_cost_ag2non_ag_amortised_diff\n",
      "✅ 已保存: ../../../output/20250908_Paper2_Results_NCI/carbon_price/4_tif/xr_transition_cost_ag2non_ag_amortised_diff_carbon_high_bio_40_2050.tif\n",
      "Processing carbon_high_bio_40 - total\n",
      "✅ 已保存: ../../../output/20250908_Paper2_Results_NCI/carbon_price/4_tif/xr_total_carbon_high_bio_40_2050.tif\n",
      "Processing carbon_high_bio_40 - price\n",
      "✅ 已保存: ../../../output/20250908_Paper2_Results_NCI/carbon_price/4_tif/xr_price_carbon_high_bio_40_2050.tif\n",
      "Processing carbon_high_bio_50 - total_cost\n",
      "✅ 已保存: ../../../output/20250908_Paper2_Results_NCI/carbon_price/4_tif/xr_total_cost_carbon_high_bio_50_2050.tif\n",
      "Processing carbon_high_bio_50 - cost_ag\n",
      "✅ 已保存: ../../../output/20250908_Paper2_Results_NCI/carbon_price/4_tif/xr_cost_ag_carbon_high_bio_50_2050.tif\n",
      "Processing carbon_high_bio_50 - cost_agricultural_management\n",
      "✅ 已保存: ../../../output/20250908_Paper2_Results_NCI/carbon_price/4_tif/xr_cost_agricultural_management_carbon_high_bio_50_2050.tif\n",
      "Processing carbon_high_bio_50 - cost_non_ag\n",
      "✅ 已保存: ../../../output/20250908_Paper2_Results_NCI/carbon_price/4_tif/xr_cost_non_ag_carbon_high_bio_50_2050.tif\n",
      "Processing carbon_high_bio_50 - cost_transition_ag2ag_diff\n",
      "✅ 已保存: ../../../output/20250908_Paper2_Results_NCI/carbon_price/4_tif/xr_cost_transition_ag2ag_diff_carbon_high_bio_50_2050.tif\n",
      "Processing carbon_high_bio_50 - transition_cost_ag2non_ag_amortised_diff\n",
      "✅ 已保存: ../../../output/20250908_Paper2_Results_NCI/carbon_price/4_tif/xr_transition_cost_ag2non_ag_amortised_diff_carbon_high_bio_50_2050.tif\n",
      "Processing carbon_high_bio_50 - total\n",
      "✅ 已保存: ../../../output/20250908_Paper2_Results_NCI/carbon_price/4_tif/xr_total_carbon_high_bio_50_2050.tif\n",
      "Processing carbon_high_bio_50 - price\n",
      "✅ 已保存: ../../../output/20250908_Paper2_Results_NCI/carbon_price/4_tif/xr_price_carbon_high_bio_50_2050.tif\n"
     ]
    }
   ],
   "source": [
    "for env_cat in env_categorys:\n",
    "    for file_part in file_parts:\n",
    "        print(f\"Processing {env_cat} - {file_part}\")\n",
    "        if file_part == 'total_cost':\n",
    "            input_path = f\"{base_dir}/{env_cat}/2050/xr_{file_part}_{env_cat}_amortised_2050.nc\"\n",
    "        else:\n",
    "            input_path = f\"{base_dir}/{env_cat}/2050/xr_{file_part}_{env_cat}_2050.nc\"\n",
    "        out_tif = f\"{tif_dir}/xr_{file_part}_{env_cat}_2050.tif\"\n",
    "        da = xr.open_dataarray(input_path)\n",
    "        da = da.sum(dim=[d for d in da.dims if d != 'cell'])\n",
    "        nc_to_tif(data,da,out_tif)"
   ],
   "metadata": {
    "collapsed": false,
    "ExecuteTime": {
     "end_time": "2025-09-17T14:18:45.921453300Z",
     "start_time": "2025-09-17T12:48:38.517468200Z"
    }
   },
   "id": "bc1f228c60a02e19"
  },
  {
   "cell_type": "code",
   "execution_count": 20,
   "outputs": [
    {
     "data": {
      "text/plain": "<Figure size 600x400 with 1 Axes>",
      "image/png": "[encoded data removed]"
     },
     "metadata": {},
     "output_type": "display_data"
    }
   ],
   "source": [
    "plot_violin(da.to_numpy(),value_range=(0,40000))"
   ],
   "metadata": {
    "collapsed": false,
    "ExecuteTime": {
     "end_time": "2025-09-17T12:03:57.345223900Z",
     "start_time": "2025-09-17T12:03:56.890555900Z"
    }
   },
   "id": "3b2ff5b8e239709a"
  },
  {
   "cell_type": "code",
   "execution_count": 23,
   "outputs": [
    {
     "data": {
      "text/plain": "<Figure size 600x400 with 1 Axes>",
      "image/png": "[encoded data removed]"
     },
     "metadata": {},
     "output_type": "display_data"
    }
   ],
   "source": [
    "plot_violin(da.to_numpy(),logy=True)"
   ],
   "metadata": {
    "collapsed": false,
    "ExecuteTime": {
     "end_time": "2025-09-17T12:05:05.563611Z",
     "start_time": "2025-09-17T12:05:02.964482900Z"
    }
   },
   "id": "8c9cd8c8d1abc3a5"
  },
  {
   "cell_type": "code",
   "execution_count": 35,
   "outputs": [
    {
     "name": "stdout",
     "output_type": "stream",
     "text": [
      "✅ 已保存: ../../../output/20250908_Paper2_Results_NCI/carbon_price/4_tif/CP_BELT_AVG_T_CO2_HA.tif\n"
     ]
    }
   ],
   "source": [
    "out_tif = f\"{tif_dir}/CP_BELT_AVG_T_CO2_HA.tif\"\n",
    "arr = data.CP_BELT_AVG_T_CO2_HA\n",
    "da = xr.DataArray(\n",
    "    arr,\n",
    "    dims=[\"cell\"],              # 维度名\n",
    "    coords={\"cell\": np.arange(len(arr))},  # 坐标\n",
    "    name=\"data\"                 # DataArray 名称\n",
    ")\n",
    "nc_to_tif(data,da,out_tif)\n",
    "          "
   ],
   "metadata": {
    "collapsed": false,
    "ExecuteTime": {
     "end_time": "2025-09-18T03:39:32.467964500Z",
     "start_time": "2025-09-18T03:38:36.353372900Z"
    }
   },
   "id": "fbfb9815c72ecc27"
  },
  {
   "cell_type": "code",
   "execution_count": 41,
   "outputs": [],
   "source": [
    "path = r\"N:\\LUF-Modelling\\LUTO2_XH\\LUTO2\\input\\cp_block_avg_t_co2_ha_yr.h5\"\n",
    "ds = xr.open_dataset(path)\n",
    "out_tif = f\"{tif_dir}/CP_BELT_AVG_T_CO2_HA_raw.tif\"\n"
   ],
   "metadata": {
    "collapsed": false,
    "ExecuteTime": {
     "end_time": "2025-09-18T03:56:43.354567200Z",
     "start_time": "2025-09-18T03:56:43.187715200Z"
    }
   },
   "id": "ac92da45b351ece1"
  },
  {
   "cell_type": "code",
   "execution_count": 42,
   "outputs": [
    {
     "name": "stdout",
     "output_type": "stream",
     "text": [
      "✅ 已保存: ../../../output/20250908_Paper2_Results_NCI/carbon_price/4_tif/CP_BELT_AVG_T_CO2_HA_raw.tif\n"
     ]
    }
   ],
   "source": [
    "nc_to_tif(data,da,out_tif)"
   ],
   "metadata": {
    "collapsed": false,
    "ExecuteTime": {
     "end_time": "2025-09-18T03:57:27.324533400Z",
     "start_time": "2025-09-18T03:56:46.945531200Z"
    }
   },
   "id": "f4509a6a1945db9e"
  },
  {
   "cell_type": "code",
   "execution_count": 44,
   "outputs": [],
   "source": [
    "import rasterio\n",
    "def npy_to_map(input_arr, output_tif, proj_file,\n",
    "               fill_value=np.nan, shift=0,\n",
    "               dtype=rasterio.float32):\n",
    "    \"\"\"\n",
    "    将一维 .npy 数组铺回到栅格地图中。\n",
    "    - input_arr: path to .npy (1D array of length = number of valid pixels in proj_file)\n",
    "    - output_tif: 输出 GeoTIFF 路径\n",
    "    - proj_file: 用于投影和形状参照的已有 GeoTIFF\n",
    "    - fill_value: 初始填充值（默认 np.nan）\n",
    "    - shift: 在写入前对数据统一加的偏移量\n",
    "    - dtype: 输出栅格的数据类型\n",
    "    \"\"\"\n",
    "    # if not input_arr.lower().endswith(\".npy\"):\n",
    "    #     return\n",
    "\n",
    "    # 1) 读取参考栅格\n",
    "    with rasterio.open(proj_file) as src:\n",
    "        mask2D = src.read(1) >= 0\n",
    "        transform = src.transform\n",
    "        crs = src.crs\n",
    "        profile = src.profile.copy()\n",
    "        shape = src.shape\n",
    "\n",
    "    # 2) 加载一维数组\n",
    "    nonzeroes = np.where(mask2D)\n",
    "    lumap = input_arr\n",
    "    if lumap.ndim != 1:\n",
    "        raise ValueError(f\"{input_arr} 中的数组不是一维的\")\n",
    "    if len(lumap) != len(nonzeroes[0]):\n",
    "        print(f\"Warning: {input_arr} 的长度为 {len(lumap)}, proj_file 中有效像元数量为 {len(nonzeroes[0])}.\")\n",
    "        raise ValueError(\"lumap 的长度与 proj_file 中的有效像元数量不一致\")\n",
    "\n",
    "    # 3) 构建全图，并赋值\n",
    "    themap = np.full(shape, fill_value=fill_value, dtype=float)\n",
    "    themap[nonzeroes] = lumap + shift\n",
    "\n",
    "    # 4) 把 +/- inf 都变成 np.nan\n",
    "    themap[~np.isfinite(themap)] = np.nan\n",
    "\n",
    "    # 5) 更新 profile 并写出\n",
    "    profile.update({\n",
    "        'dtype': dtype,\n",
    "        'count': 1,\n",
    "        'compress': 'lzw',\n",
    "        'nodata': fill_value\n",
    "    })\n",
    "    with rasterio.open(output_tif, 'w', **profile) as dst:\n",
    "        dst.write(themap.astype(dtype), 1)\n",
    "\n",
    "    return output_tif"
   ],
   "metadata": {
    "collapsed": false,
    "ExecuteTime": {
     "end_time": "2025-09-18T04:00:13.743684300Z",
     "start_time": "2025-09-18T04:00:13.735169200Z"
    }
   },
   "id": "d1b19236c6be35cc"
  },
  {
   "cell_type": "code",
   "execution_count": 45,
   "outputs": [
    {
     "name": "stdout",
     "output_type": "stream",
     "text": [
      "Warning: [14.472368 11.562856 19.677559 ... 34.444527 34.162083  8.472651] 的长度为 168778, proj_file 中有效像元数量为 13694844.\n"
     ]
    },
    {
     "ename": "ValueError",
     "evalue": "lumap 的长度与 proj_file 中的有效像元数量不一致",
     "output_type": "error",
     "traceback": [
      "\u001B[1;31m---------------------------------------------------------------------------\u001B[0m",
      "\u001B[1;31mValueError\u001B[0m                                Traceback (most recent call last)",
      "Cell \u001B[1;32mIn[45], line 4\u001B[0m\n\u001B[0;32m      2\u001B[0m output_tif \u001B[38;5;241m=\u001B[39m  \u001B[38;5;124mf\u001B[39m\u001B[38;5;124m\"\u001B[39m\u001B[38;5;132;01m{\u001B[39;00mtif_dir\u001B[38;5;132;01m}\u001B[39;00m\u001B[38;5;124m/CP_BELT_AVG_T_CO2_HA_raw_res1.tif\u001B[39m\u001B[38;5;124m\"\u001B[39m\n\u001B[0;32m      3\u001B[0m proj_file \u001B[38;5;241m=\u001B[39m \u001B[38;5;124mr\u001B[39m\u001B[38;5;124m\"\u001B[39m\u001B[38;5;124mN:\u001B[39m\u001B[38;5;124m\\\u001B[39m\u001B[38;5;124mLUF-Modelling\u001B[39m\u001B[38;5;124m\\\u001B[39m\u001B[38;5;124mLUTO2_XH\u001B[39m\u001B[38;5;124m\\\u001B[39m\u001B[38;5;124mLUTO2\u001B[39m\u001B[38;5;124m\\\u001B[39m\u001B[38;5;124minput\u001B[39m\u001B[38;5;124m\\\u001B[39m\u001B[38;5;124mNLUM_2010-11_mask.tif\u001B[39m\u001B[38;5;124m\"\u001B[39m\n\u001B[1;32m----> 4\u001B[0m \u001B[43mnpy_to_map\u001B[49m\u001B[43m(\u001B[49m\u001B[43minput_arr\u001B[49m\u001B[43m,\u001B[49m\u001B[43m \u001B[49m\u001B[43moutput_tif\u001B[49m\u001B[43m,\u001B[49m\u001B[43m \u001B[49m\u001B[43mproj_file\u001B[49m\u001B[43m)\u001B[49m\n",
      "Cell \u001B[1;32mIn[44], line 32\u001B[0m, in \u001B[0;36mnpy_to_map\u001B[1;34m(input_arr, output_tif, proj_file, fill_value, shift, dtype)\u001B[0m\n\u001B[0;32m     30\u001B[0m \u001B[38;5;28;01mif\u001B[39;00m \u001B[38;5;28mlen\u001B[39m(lumap) \u001B[38;5;241m!=\u001B[39m \u001B[38;5;28mlen\u001B[39m(nonzeroes[\u001B[38;5;241m0\u001B[39m]):\n\u001B[0;32m     31\u001B[0m     \u001B[38;5;28mprint\u001B[39m(\u001B[38;5;124mf\u001B[39m\u001B[38;5;124m\"\u001B[39m\u001B[38;5;124mWarning: \u001B[39m\u001B[38;5;132;01m{\u001B[39;00minput_arr\u001B[38;5;132;01m}\u001B[39;00m\u001B[38;5;124m 的长度为 \u001B[39m\u001B[38;5;132;01m{\u001B[39;00m\u001B[38;5;28mlen\u001B[39m(lumap)\u001B[38;5;132;01m}\u001B[39;00m\u001B[38;5;124m, proj_file 中有效像元数量为 \u001B[39m\u001B[38;5;132;01m{\u001B[39;00m\u001B[38;5;28mlen\u001B[39m(nonzeroes[\u001B[38;5;241m0\u001B[39m])\u001B[38;5;132;01m}\u001B[39;00m\u001B[38;5;124m.\u001B[39m\u001B[38;5;124m\"\u001B[39m)\n\u001B[1;32m---> 32\u001B[0m     \u001B[38;5;28;01mraise\u001B[39;00m \u001B[38;5;167;01mValueError\u001B[39;00m(\u001B[38;5;124m\"\u001B[39m\u001B[38;5;124mlumap 的长度与 proj_file 中的有效像元数量不一致\u001B[39m\u001B[38;5;124m\"\u001B[39m)\n\u001B[0;32m     34\u001B[0m \u001B[38;5;66;03m# 3) 构建全图，并赋值\u001B[39;00m\n\u001B[0;32m     35\u001B[0m themap \u001B[38;5;241m=\u001B[39m np\u001B[38;5;241m.\u001B[39mfull(shape, fill_value\u001B[38;5;241m=\u001B[39mfill_value, dtype\u001B[38;5;241m=\u001B[39m\u001B[38;5;28mfloat\u001B[39m)\n",
      "\u001B[1;31mValueError\u001B[0m: lumap 的长度与 proj_file 中的有效像元数量不一致"
     ]
    }
   ],
   "source": [
    "input_arr = da.to_numpy()\n",
    "output_tif =  f\"{tif_dir}/CP_BELT_AVG_T_CO2_HA_raw_res1.tif\"\n",
    "proj_file = r\"N:\\LUF-Modelling\\LUTO2_XH\\LUTO2\\input\\NLUM_2010-11_mask.tif\"\n",
    "npy_to_map(input_arr, output_tif, proj_file)"
   ],
   "metadata": {
    "collapsed": false,
    "ExecuteTime": {
     "end_time": "2025-09-18T04:00:18.121738800Z",
     "start_time": "2025-09-18T04:00:14.213719300Z"
    }
   },
   "id": "70e6d343de5f8144"
  },
  {
   "cell_type": "code",
   "execution_count": 48,
   "outputs": [],
   "source": [
    "\n",
    "ds = xr.open_dataset(path)"
   ],
   "metadata": {
    "collapsed": false,
    "ExecuteTime": {
     "end_time": "2025-09-18T04:01:21.619332400Z",
     "start_time": "2025-09-18T04:01:21.446028500Z"
    }
   },
   "id": "2830fe09e6082c5d"
  },
  {
   "cell_type": "code",
   "execution_count": 51,
   "outputs": [
    {
     "ename": "KeyError",
     "evalue": "\"No variable named 'data'. Variables on the dataset include []\"",
     "output_type": "error",
     "traceback": [
      "\u001B[1;31m---------------------------------------------------------------------------\u001B[0m",
      "\u001B[1;31mKeyError\u001B[0m                                  Traceback (most recent call last)",
      "\u001B[1;32mF:\\xinhao\\miniforge\\envs\\xpluto\\Lib\\site-packages\\xarray\\core\\dataset.py\u001B[0m in \u001B[0;36m?\u001B[1;34m(self, name)\u001B[0m\n\u001B[0;32m   1474\u001B[0m             \u001B[0mvariable\u001B[0m \u001B[1;33m=\u001B[0m \u001B[0mself\u001B[0m\u001B[1;33m.\u001B[0m\u001B[0m_variables\u001B[0m\u001B[1;33m[\u001B[0m\u001B[0mname\u001B[0m\u001B[1;33m]\u001B[0m\u001B[1;33m\u001B[0m\u001B[1;33m\u001B[0m\u001B[0m\n\u001B[0;32m   1475\u001B[0m         \u001B[1;32mexcept\u001B[0m \u001B[0mKeyError\u001B[0m\u001B[1;33m:\u001B[0m\u001B[1;33m\u001B[0m\u001B[1;33m\u001B[0m\u001B[0m\n\u001B[1;32m-> 1476\u001B[1;33m             \u001B[0m_\u001B[0m\u001B[1;33m,\u001B[0m \u001B[0mname\u001B[0m\u001B[1;33m,\u001B[0m \u001B[0mvariable\u001B[0m \u001B[1;33m=\u001B[0m \u001B[0m_get_virtual_variable\u001B[0m\u001B[1;33m(\u001B[0m\u001B[0mself\u001B[0m\u001B[1;33m.\u001B[0m\u001B[0m_variables\u001B[0m\u001B[1;33m,\u001B[0m \u001B[0mname\u001B[0m\u001B[1;33m,\u001B[0m \u001B[0mself\u001B[0m\u001B[1;33m.\u001B[0m\u001B[0msizes\u001B[0m\u001B[1;33m)\u001B[0m\u001B[1;33m\u001B[0m\u001B[1;33m\u001B[0m\u001B[0m\n\u001B[0m\u001B[0;32m   1477\u001B[0m \u001B[1;33m\u001B[0m\u001B[0m\n",
      "\u001B[1;31mKeyError\u001B[0m: 'data'",
      "\nDuring handling of the above exception, another exception occurred:\n",
      "\u001B[1;31mKeyError\u001B[0m                                  Traceback (most recent call last)",
      "\u001B[1;32mF:\\xinhao\\miniforge\\envs\\xpluto\\Lib\\site-packages\\xarray\\core\\dataset.py\u001B[0m in \u001B[0;36m?\u001B[1;34m(self, key)\u001B[0m\n\u001B[0;32m   1573\u001B[0m                 \u001B[1;32mreturn\u001B[0m \u001B[0mself\u001B[0m\u001B[1;33m.\u001B[0m\u001B[0m_construct_dataarray\u001B[0m\u001B[1;33m(\u001B[0m\u001B[0mkey\u001B[0m\u001B[1;33m)\u001B[0m\u001B[1;33m\u001B[0m\u001B[1;33m\u001B[0m\u001B[0m\n\u001B[0;32m   1574\u001B[0m             \u001B[1;32mexcept\u001B[0m \u001B[0mKeyError\u001B[0m \u001B[1;32mas\u001B[0m \u001B[0me\u001B[0m\u001B[1;33m:\u001B[0m\u001B[1;33m\u001B[0m\u001B[1;33m\u001B[0m\u001B[0m\n\u001B[1;32m-> 1575\u001B[1;33m                 raise KeyError(\n\u001B[0m\u001B[0;32m   1576\u001B[0m                     \u001B[1;33mf\"\u001B[0m\u001B[1;33mNo variable named \u001B[0m\u001B[1;33m{\u001B[0m\u001B[0mkey\u001B[0m\u001B[1;33m!\u001B[0m\u001B[0mr\u001B[0m\u001B[1;33m}\u001B[0m\u001B[1;33m. Variables on the dataset include \u001B[0m\u001B[1;33m{\u001B[0m\u001B[0mshorten_list_repr\u001B[0m\u001B[1;33m(\u001B[0m\u001B[0mlist\u001B[0m\u001B[1;33m(\u001B[0m\u001B[0mself\u001B[0m\u001B[1;33m.\u001B[0m\u001B[0mvariables\u001B[0m\u001B[1;33m.\u001B[0m\u001B[0mkeys\u001B[0m\u001B[1;33m(\u001B[0m\u001B[1;33m)\u001B[0m\u001B[1;33m)\u001B[0m\u001B[1;33m,\u001B[0m \u001B[0mmax_items\u001B[0m\u001B[1;33m=\u001B[0m\u001B[1;36m10\u001B[0m\u001B[1;33m)\u001B[0m\u001B[1;33m}\u001B[0m\u001B[1;33m\"\u001B[0m\u001B[1;33m\u001B[0m\u001B[1;33m\u001B[0m\u001B[0m\n",
      "\u001B[1;32mF:\\xinhao\\miniforge\\envs\\xpluto\\Lib\\site-packages\\xarray\\core\\dataset.py\u001B[0m in \u001B[0;36m?\u001B[1;34m(self, name)\u001B[0m\n\u001B[0;32m   1474\u001B[0m             \u001B[0mvariable\u001B[0m \u001B[1;33m=\u001B[0m \u001B[0mself\u001B[0m\u001B[1;33m.\u001B[0m\u001B[0m_variables\u001B[0m\u001B[1;33m[\u001B[0m\u001B[0mname\u001B[0m\u001B[1;33m]\u001B[0m\u001B[1;33m\u001B[0m\u001B[1;33m\u001B[0m\u001B[0m\n\u001B[0;32m   1475\u001B[0m         \u001B[1;32mexcept\u001B[0m \u001B[0mKeyError\u001B[0m\u001B[1;33m:\u001B[0m\u001B[1;33m\u001B[0m\u001B[1;33m\u001B[0m\u001B[0m\n\u001B[1;32m-> 1476\u001B[1;33m             \u001B[0m_\u001B[0m\u001B[1;33m,\u001B[0m \u001B[0mname\u001B[0m\u001B[1;33m,\u001B[0m \u001B[0mvariable\u001B[0m \u001B[1;33m=\u001B[0m \u001B[0m_get_virtual_variable\u001B[0m\u001B[1;33m(\u001B[0m\u001B[0mself\u001B[0m\u001B[1;33m.\u001B[0m\u001B[0m_variables\u001B[0m\u001B[1;33m,\u001B[0m \u001B[0mname\u001B[0m\u001B[1;33m,\u001B[0m \u001B[0mself\u001B[0m\u001B[1;33m.\u001B[0m\u001B[0msizes\u001B[0m\u001B[1;33m)\u001B[0m\u001B[1;33m\u001B[0m\u001B[1;33m\u001B[0m\u001B[0m\n\u001B[0m\u001B[0;32m   1477\u001B[0m \u001B[1;33m\u001B[0m\u001B[0m\n",
      "\u001B[1;32mF:\\xinhao\\miniforge\\envs\\xpluto\\Lib\\site-packages\\xarray\\core\\dataset.py\u001B[0m in \u001B[0;36m?\u001B[1;34m(variables, key, dim_sizes)\u001B[0m\n\u001B[0;32m    207\u001B[0m     \u001B[0msplit_key\u001B[0m \u001B[1;33m=\u001B[0m \u001B[0mkey\u001B[0m\u001B[1;33m.\u001B[0m\u001B[0msplit\u001B[0m\u001B[1;33m(\u001B[0m\u001B[1;34m\".\"\u001B[0m\u001B[1;33m,\u001B[0m \u001B[1;36m1\u001B[0m\u001B[1;33m)\u001B[0m\u001B[1;33m\u001B[0m\u001B[1;33m\u001B[0m\u001B[0m\n\u001B[0;32m    208\u001B[0m     \u001B[1;32mif\u001B[0m \u001B[0mlen\u001B[0m\u001B[1;33m(\u001B[0m\u001B[0msplit_key\u001B[0m\u001B[1;33m)\u001B[0m \u001B[1;33m!=\u001B[0m \u001B[1;36m2\u001B[0m\u001B[1;33m:\u001B[0m\u001B[1;33m\u001B[0m\u001B[1;33m\u001B[0m\u001B[0m\n\u001B[1;32m--> 209\u001B[1;33m         \u001B[1;32mraise\u001B[0m \u001B[0mKeyError\u001B[0m\u001B[1;33m(\u001B[0m\u001B[0mkey\u001B[0m\u001B[1;33m)\u001B[0m\u001B[1;33m\u001B[0m\u001B[1;33m\u001B[0m\u001B[0m\n\u001B[0m\u001B[0;32m    210\u001B[0m \u001B[1;33m\u001B[0m\u001B[0m\n",
      "\u001B[1;31mKeyError\u001B[0m: 'data'",
      "\nThe above exception was the direct cause of the following exception:\n",
      "\u001B[1;31mKeyError\u001B[0m                                  Traceback (most recent call last)",
      "\u001B[1;32m~\\AppData\\Local\\Temp\\57\\ipykernel_220176\\3657211161.py\u001B[0m in \u001B[0;36m?\u001B[1;34m()\u001B[0m\n\u001B[1;32m----> 1\u001B[1;33m \u001B[0mds\u001B[0m\u001B[1;33m[\u001B[0m\u001B[1;34m'data'\u001B[0m\u001B[1;33m]\u001B[0m\u001B[1;33m\u001B[0m\u001B[1;33m\u001B[0m\u001B[0m\n\u001B[0m",
      "\u001B[1;32mF:\\xinhao\\miniforge\\envs\\xpluto\\Lib\\site-packages\\xarray\\core\\dataset.py\u001B[0m in \u001B[0;36m?\u001B[1;34m(self, key)\u001B[0m\n\u001B[0;32m   1571\u001B[0m         \u001B[1;32mif\u001B[0m \u001B[0mutils\u001B[0m\u001B[1;33m.\u001B[0m\u001B[0mhashable\u001B[0m\u001B[1;33m(\u001B[0m\u001B[0mkey\u001B[0m\u001B[1;33m)\u001B[0m\u001B[1;33m:\u001B[0m\u001B[1;33m\u001B[0m\u001B[1;33m\u001B[0m\u001B[0m\n\u001B[0;32m   1572\u001B[0m             \u001B[1;32mtry\u001B[0m\u001B[1;33m:\u001B[0m\u001B[1;33m\u001B[0m\u001B[1;33m\u001B[0m\u001B[0m\n\u001B[0;32m   1573\u001B[0m                 \u001B[1;32mreturn\u001B[0m \u001B[0mself\u001B[0m\u001B[1;33m.\u001B[0m\u001B[0m_construct_dataarray\u001B[0m\u001B[1;33m(\u001B[0m\u001B[0mkey\u001B[0m\u001B[1;33m)\u001B[0m\u001B[1;33m\u001B[0m\u001B[1;33m\u001B[0m\u001B[0m\n\u001B[0;32m   1574\u001B[0m             \u001B[1;32mexcept\u001B[0m \u001B[0mKeyError\u001B[0m \u001B[1;32mas\u001B[0m \u001B[0me\u001B[0m\u001B[1;33m:\u001B[0m\u001B[1;33m\u001B[0m\u001B[1;33m\u001B[0m\u001B[0m\n\u001B[1;32m-> 1575\u001B[1;33m                 raise KeyError(\n\u001B[0m\u001B[0;32m   1576\u001B[0m                     \u001B[1;33mf\"\u001B[0m\u001B[1;33mNo variable named \u001B[0m\u001B[1;33m{\u001B[0m\u001B[0mkey\u001B[0m\u001B[1;33m!\u001B[0m\u001B[0mr\u001B[0m\u001B[1;33m}\u001B[0m\u001B[1;33m. Variables on the dataset include \u001B[0m\u001B[1;33m{\u001B[0m\u001B[0mshorten_list_repr\u001B[0m\u001B[1;33m(\u001B[0m\u001B[0mlist\u001B[0m\u001B[1;33m(\u001B[0m\u001B[0mself\u001B[0m\u001B[1;33m.\u001B[0m\u001B[0mvariables\u001B[0m\u001B[1;33m.\u001B[0m\u001B[0mkeys\u001B[0m\u001B[1;33m(\u001B[0m\u001B[1;33m)\u001B[0m\u001B[1;33m)\u001B[0m\u001B[1;33m,\u001B[0m \u001B[0mmax_items\u001B[0m\u001B[1;33m=\u001B[0m\u001B[1;36m10\u001B[0m\u001B[1;33m)\u001B[0m\u001B[1;33m}\u001B[0m\u001B[1;33m\"\u001B[0m\u001B[1;33m\u001B[0m\u001B[1;33m\u001B[0m\u001B[0m\n\u001B[0;32m   1577\u001B[0m                 \u001B[1;33m)\u001B[0m \u001B[1;32mfrom\u001B[0m \u001B[0me\u001B[0m\u001B[1;33m\u001B[0m\u001B[1;33m\u001B[0m\u001B[0m\n\u001B[0;32m   1578\u001B[0m \u001B[1;33m\u001B[0m\u001B[0m\n",
      "\u001B[1;31mKeyError\u001B[0m: \"No variable named 'data'. Variables on the dataset include []\""
     ]
    }
   ],
   "source": [
    "ds['data']"
   ],
   "metadata": {
    "collapsed": false,
    "ExecuteTime": {
     "end_time": "2025-09-18T04:01:49.572333100Z",
     "start_time": "2025-09-18T04:01:45.956793100Z"
    }
   },
   "id": "b728031b90ec3e55"
  },
  {
   "cell_type": "code",
   "execution_count": 54,
   "outputs": [
    {
     "name": "stdout",
     "output_type": "stream",
     "text": [
      "Keys in file: ['cp_block_avg_t_co2_ha_yr']\n"
     ]
    },
    {
     "ename": "KeyError",
     "evalue": "\"Unable to synchronously open object (object 'data' doesn't exist)\"",
     "output_type": "error",
     "traceback": [
      "\u001B[1;31m---------------------------------------------------------------------------\u001B[0m",
      "\u001B[1;31mKeyError\u001B[0m                                  Traceback (most recent call last)",
      "Cell \u001B[1;32mIn[54], line 8\u001B[0m\n\u001B[0;32m      5\u001B[0m \u001B[38;5;28mprint\u001B[39m(\u001B[38;5;124m\"\u001B[39m\u001B[38;5;124mKeys in file:\u001B[39m\u001B[38;5;124m\"\u001B[39m, \u001B[38;5;28mlist\u001B[39m(f\u001B[38;5;241m.\u001B[39mkeys()))\n\u001B[0;32m      7\u001B[0m \u001B[38;5;66;03m# 假设里面有个叫 \"data\" 的数据集\u001B[39;00m\n\u001B[1;32m----> 8\u001B[0m data \u001B[38;5;241m=\u001B[39m \u001B[43mf\u001B[49m\u001B[43m[\u001B[49m\u001B[38;5;124;43m\"\u001B[39;49m\u001B[38;5;124;43mdata\u001B[39;49m\u001B[38;5;124;43m\"\u001B[39;49m\u001B[43m]\u001B[49m[:]  \n",
      "File \u001B[1;32mh5py\\\\_objects.pyx:54\u001B[0m, in \u001B[0;36mh5py._objects.with_phil.wrapper\u001B[1;34m()\u001B[0m\n",
      "File \u001B[1;32mh5py\\\\_objects.pyx:55\u001B[0m, in \u001B[0;36mh5py._objects.with_phil.wrapper\u001B[1;34m()\u001B[0m\n",
      "File \u001B[1;32mF:\\xinhao\\miniforge\\envs\\xpluto\\Lib\\site-packages\\h5py\\_hl\\group.py:360\u001B[0m, in \u001B[0;36mGroup.__getitem__\u001B[1;34m(self, name)\u001B[0m\n\u001B[0;32m    358\u001B[0m         \u001B[38;5;28;01mraise\u001B[39;00m \u001B[38;5;167;01mValueError\u001B[39;00m(\u001B[38;5;124m\"\u001B[39m\u001B[38;5;124mInvalid HDF5 object reference\u001B[39m\u001B[38;5;124m\"\u001B[39m)\n\u001B[0;32m    359\u001B[0m \u001B[38;5;28;01melif\u001B[39;00m \u001B[38;5;28misinstance\u001B[39m(name, (\u001B[38;5;28mbytes\u001B[39m, \u001B[38;5;28mstr\u001B[39m)):\n\u001B[1;32m--> 360\u001B[0m     oid \u001B[38;5;241m=\u001B[39m \u001B[43mh5o\u001B[49m\u001B[38;5;241;43m.\u001B[39;49m\u001B[43mopen\u001B[49m\u001B[43m(\u001B[49m\u001B[38;5;28;43mself\u001B[39;49m\u001B[38;5;241;43m.\u001B[39;49m\u001B[43mid\u001B[49m\u001B[43m,\u001B[49m\u001B[43m \u001B[49m\u001B[38;5;28;43mself\u001B[39;49m\u001B[38;5;241;43m.\u001B[39;49m\u001B[43m_e\u001B[49m\u001B[43m(\u001B[49m\u001B[43mname\u001B[49m\u001B[43m)\u001B[49m\u001B[43m,\u001B[49m\u001B[43m \u001B[49m\u001B[43mlapl\u001B[49m\u001B[38;5;241;43m=\u001B[39;49m\u001B[38;5;28;43mself\u001B[39;49m\u001B[38;5;241;43m.\u001B[39;49m\u001B[43m_lapl\u001B[49m\u001B[43m)\u001B[49m\n\u001B[0;32m    361\u001B[0m \u001B[38;5;28;01melse\u001B[39;00m:\n\u001B[0;32m    362\u001B[0m     \u001B[38;5;28;01mraise\u001B[39;00m \u001B[38;5;167;01mTypeError\u001B[39;00m(\u001B[38;5;124m\"\u001B[39m\u001B[38;5;124mAccessing a group is done with bytes or str, \u001B[39m\u001B[38;5;124m\"\u001B[39m\n\u001B[0;32m    363\u001B[0m                     \u001B[38;5;124m\"\u001B[39m\u001B[38;5;124mnot \u001B[39m\u001B[38;5;132;01m{}\u001B[39;00m\u001B[38;5;124m\"\u001B[39m\u001B[38;5;241m.\u001B[39mformat(\u001B[38;5;28mtype\u001B[39m(name)))\n",
      "File \u001B[1;32mh5py\\\\_objects.pyx:54\u001B[0m, in \u001B[0;36mh5py._objects.with_phil.wrapper\u001B[1;34m()\u001B[0m\n",
      "File \u001B[1;32mh5py\\\\_objects.pyx:55\u001B[0m, in \u001B[0;36mh5py._objects.with_phil.wrapper\u001B[1;34m()\u001B[0m\n",
      "File \u001B[1;32mh5py\\\\h5o.pyx:257\u001B[0m, in \u001B[0;36mh5py.h5o.open\u001B[1;34m()\u001B[0m\n",
      "\u001B[1;31mKeyError\u001B[0m: \"Unable to synchronously open object (object 'data' doesn't exist)\""
     ]
    }
   ],
   "source": [
    "import h5py\n",
    "path = r\"N:\\LUF-Modelling\\LUTO2_XH\\LUTO2\\input\\cp_block_avg_t_co2_ha_yr.h5\"\n",
    "with h5py.File(path, \"r\") as f:\n",
    "    # 查看文件里有哪些数据集\n",
    "    print(\"Keys in file:\", list(f.keys()))\n",
    "    \n",
    "    # 假设里面有个叫 \"data\" 的数据集\n",
    "    data = f[\"data\"][:]  "
   ],
   "metadata": {
    "collapsed": false,
    "ExecuteTime": {
     "end_time": "2025-09-18T04:03:07.487769Z",
     "start_time": "2025-09-18T04:03:06.238352400Z"
    }
   },
   "id": "8a829b797d6b427d"
  },
  {
   "cell_type": "code",
   "execution_count": 58,
   "outputs": [
    {
     "ename": "KeyError",
     "evalue": "'No object named cp_block_avg_t_co2_ha_yr.h5 in the file'",
     "output_type": "error",
     "traceback": [
      "\u001B[1;31m---------------------------------------------------------------------------\u001B[0m",
      "\u001B[1;31mKeyError\u001B[0m                                  Traceback (most recent call last)",
      "Cell \u001B[1;32mIn[58], line 2\u001B[0m\n\u001B[0;32m      1\u001B[0m \u001B[38;5;28;01mimport\u001B[39;00m\u001B[38;5;250m \u001B[39m\u001B[38;5;21;01mpandas\u001B[39;00m\u001B[38;5;250m \u001B[39m\u001B[38;5;28;01mas\u001B[39;00m\u001B[38;5;250m \u001B[39m\u001B[38;5;21;01mpd\u001B[39;00m\n\u001B[1;32m----> 2\u001B[0m data \u001B[38;5;241m=\u001B[39m  \u001B[43mpd\u001B[49m\u001B[38;5;241;43m.\u001B[39;49m\u001B[43mread_hdf\u001B[49m\u001B[43m(\u001B[49m\u001B[43mpath\u001B[49m\u001B[43m,\u001B[49m\u001B[43m \u001B[49m\u001B[38;5;124;43m\"\u001B[39;49m\u001B[38;5;124;43mcp_block_avg_t_co2_ha_yr.h5\u001B[39;49m\u001B[38;5;124;43m\"\u001B[39;49m\u001B[43m)\u001B[49m\n",
      "File \u001B[1;32mF:\\xinhao\\miniforge\\envs\\xpluto\\Lib\\site-packages\\pandas\\io\\pytables.py:452\u001B[0m, in \u001B[0;36mread_hdf\u001B[1;34m(path_or_buf, key, mode, errors, where, start, stop, columns, iterator, chunksize, **kwargs)\u001B[0m\n\u001B[0;32m    447\u001B[0m                 \u001B[38;5;28;01mraise\u001B[39;00m \u001B[38;5;167;01mValueError\u001B[39;00m(\n\u001B[0;32m    448\u001B[0m                     \u001B[38;5;124m\"\u001B[39m\u001B[38;5;124mkey must be provided when HDF5 \u001B[39m\u001B[38;5;124m\"\u001B[39m\n\u001B[0;32m    449\u001B[0m                     \u001B[38;5;124m\"\u001B[39m\u001B[38;5;124mfile contains multiple datasets.\u001B[39m\u001B[38;5;124m\"\u001B[39m\n\u001B[0;32m    450\u001B[0m                 )\n\u001B[0;32m    451\u001B[0m         key \u001B[38;5;241m=\u001B[39m candidate_only_group\u001B[38;5;241m.\u001B[39m_v_pathname\n\u001B[1;32m--> 452\u001B[0m     \u001B[38;5;28;01mreturn\u001B[39;00m \u001B[43mstore\u001B[49m\u001B[38;5;241;43m.\u001B[39;49m\u001B[43mselect\u001B[49m\u001B[43m(\u001B[49m\n\u001B[0;32m    453\u001B[0m \u001B[43m        \u001B[49m\u001B[43mkey\u001B[49m\u001B[43m,\u001B[49m\n\u001B[0;32m    454\u001B[0m \u001B[43m        \u001B[49m\u001B[43mwhere\u001B[49m\u001B[38;5;241;43m=\u001B[39;49m\u001B[43mwhere\u001B[49m\u001B[43m,\u001B[49m\n\u001B[0;32m    455\u001B[0m \u001B[43m        \u001B[49m\u001B[43mstart\u001B[49m\u001B[38;5;241;43m=\u001B[39;49m\u001B[43mstart\u001B[49m\u001B[43m,\u001B[49m\n\u001B[0;32m    456\u001B[0m \u001B[43m        \u001B[49m\u001B[43mstop\u001B[49m\u001B[38;5;241;43m=\u001B[39;49m\u001B[43mstop\u001B[49m\u001B[43m,\u001B[49m\n\u001B[0;32m    457\u001B[0m \u001B[43m        \u001B[49m\u001B[43mcolumns\u001B[49m\u001B[38;5;241;43m=\u001B[39;49m\u001B[43mcolumns\u001B[49m\u001B[43m,\u001B[49m\n\u001B[0;32m    458\u001B[0m \u001B[43m        \u001B[49m\u001B[43miterator\u001B[49m\u001B[38;5;241;43m=\u001B[39;49m\u001B[43miterator\u001B[49m\u001B[43m,\u001B[49m\n\u001B[0;32m    459\u001B[0m \u001B[43m        \u001B[49m\u001B[43mchunksize\u001B[49m\u001B[38;5;241;43m=\u001B[39;49m\u001B[43mchunksize\u001B[49m\u001B[43m,\u001B[49m\n\u001B[0;32m    460\u001B[0m \u001B[43m        \u001B[49m\u001B[43mauto_close\u001B[49m\u001B[38;5;241;43m=\u001B[39;49m\u001B[43mauto_close\u001B[49m\u001B[43m,\u001B[49m\n\u001B[0;32m    461\u001B[0m \u001B[43m    \u001B[49m\u001B[43m)\u001B[49m\n\u001B[0;32m    462\u001B[0m \u001B[38;5;28;01mexcept\u001B[39;00m (\u001B[38;5;167;01mValueError\u001B[39;00m, \u001B[38;5;167;01mTypeError\u001B[39;00m, \u001B[38;5;167;01mLookupError\u001B[39;00m):\n\u001B[0;32m    463\u001B[0m     \u001B[38;5;28;01mif\u001B[39;00m \u001B[38;5;129;01mnot\u001B[39;00m \u001B[38;5;28misinstance\u001B[39m(path_or_buf, HDFStore):\n\u001B[0;32m    464\u001B[0m         \u001B[38;5;66;03m# if there is an error, close the store if we opened it.\u001B[39;00m\n",
      "File \u001B[1;32mF:\\xinhao\\miniforge\\envs\\xpluto\\Lib\\site-packages\\pandas\\io\\pytables.py:881\u001B[0m, in \u001B[0;36mHDFStore.select\u001B[1;34m(self, key, where, start, stop, columns, iterator, chunksize, auto_close)\u001B[0m\n\u001B[0;32m    879\u001B[0m group \u001B[38;5;241m=\u001B[39m \u001B[38;5;28mself\u001B[39m\u001B[38;5;241m.\u001B[39mget_node(key)\n\u001B[0;32m    880\u001B[0m \u001B[38;5;28;01mif\u001B[39;00m group \u001B[38;5;129;01mis\u001B[39;00m \u001B[38;5;28;01mNone\u001B[39;00m:\n\u001B[1;32m--> 881\u001B[0m     \u001B[38;5;28;01mraise\u001B[39;00m \u001B[38;5;167;01mKeyError\u001B[39;00m(\u001B[38;5;124mf\u001B[39m\u001B[38;5;124m\"\u001B[39m\u001B[38;5;124mNo object named \u001B[39m\u001B[38;5;132;01m{\u001B[39;00mkey\u001B[38;5;132;01m}\u001B[39;00m\u001B[38;5;124m in the file\u001B[39m\u001B[38;5;124m\"\u001B[39m)\n\u001B[0;32m    883\u001B[0m \u001B[38;5;66;03m# create the storer and axes\u001B[39;00m\n\u001B[0;32m    884\u001B[0m where \u001B[38;5;241m=\u001B[39m _ensure_term(where, scope_level\u001B[38;5;241m=\u001B[39m\u001B[38;5;241m1\u001B[39m)\n",
      "\u001B[1;31mKeyError\u001B[0m: 'No object named cp_block_avg_t_co2_ha_yr.h5 in the file'"
     ]
    }
   ],
   "source": [
    "import pandas as pd\n",
    "data =  pd.read_hdf(path, \"cp_block_avg_t_co2_ha_yr.h5\")"
   ],
   "metadata": {
    "collapsed": false,
    "ExecuteTime": {
     "end_time": "2025-09-18T04:04:58.383360Z",
     "start_time": "2025-09-18T04:04:57.951813100Z"
    }
   },
   "id": "59b1afbf0fc6ceb8"
  },
  {
   "cell_type": "code",
   "execution_count": 65,
   "outputs": [],
   "source": [
    "ag_arr = data['CP_BLOCK_AG_AVG_T_CO2_HA_YR'].to_numpy()\n",
    "bg_arr = data['CP_BLOCK_BG_AVG_T_CO2_HA_YR'].to_numpy()"
   ],
   "metadata": {
    "collapsed": false,
    "ExecuteTime": {
     "end_time": "2025-09-18T04:10:07.357137Z",
     "start_time": "2025-09-18T04:10:07.185951200Z"
    }
   },
   "id": "61859b8ad1c22937"
  },
  {
   "cell_type": "code",
   "execution_count": 66,
   "outputs": [],
   "source": [
    "arr = ag_arr + bg_arr"
   ],
   "metadata": {
    "collapsed": false,
    "ExecuteTime": {
     "end_time": "2025-09-18T04:10:23.728165Z",
     "start_time": "2025-09-18T04:10:23.535864100Z"
    }
   },
   "id": "bbcdd22c707800ae"
  },
  {
   "cell_type": "code",
   "execution_count": 71,
   "outputs": [
    {
     "data": {
      "text/plain": "6.3827043"
     },
     "execution_count": 71,
     "metadata": {},
     "output_type": "execute_result"
    }
   ],
   "source": [
    "np.mean(arr)\n"
   ],
   "metadata": {
    "collapsed": false,
    "ExecuteTime": {
     "end_time": "2025-09-18T04:12:11.236767400Z",
     "start_time": "2025-09-18T04:12:11.062726200Z"
    }
   },
   "id": "a08763d93a97fbc0"
  },
  {
   "cell_type": "code",
   "execution_count": 72,
   "outputs": [
    {
     "data": {
      "text/plain": "91.3479"
     },
     "execution_count": 72,
     "metadata": {},
     "output_type": "execute_result"
    }
   ],
   "source": [
    "np.max(arr)"
   ],
   "metadata": {
    "collapsed": false,
    "ExecuteTime": {
     "end_time": "2025-09-18T04:12:12.256585500Z",
     "start_time": "2025-09-18T04:12:12.208677400Z"
    }
   },
   "id": "29d54678c3e99fcb"
  },
  {
   "cell_type": "code",
   "execution_count": 69,
   "outputs": [
    {
     "data": {
      "text/plain": "42.857142857142854"
     },
     "execution_count": 69,
     "metadata": {},
     "output_type": "execute_result"
    }
   ],
   "source": [
    "300/7"
   ],
   "metadata": {
    "collapsed": false,
    "ExecuteTime": {
     "end_time": "2025-09-18T04:11:55.479952500Z",
     "start_time": "2025-09-18T04:11:55.292908600Z"
    }
   },
   "id": "9b3962fc6fa7c843"
  },
  {
   "cell_type": "code",
   "execution_count": null,
   "outputs": [],
   "source": [],
   "metadata": {
    "collapsed": false
   },
   "id": "a6a976ac1474b071"
  },
  {
   "cell_type": "code",
   "execution_count": 63,
   "outputs": [
    {
     "name": "stdout",
     "output_type": "stream",
     "text": [
      "宽度: 4071\n",
      "高度: 3364\n",
      "像元数量: 13694844\n"
     ]
    }
   ],
   "source": [
    "with rasterio.open(proj_file) as src:\n",
    "    width = src.width      # 列数（像元宽度）\n",
    "    height = src.height    # 行数（像元高度）\n",
    "    count = width * height # 总像元数\n",
    "    \n",
    "    print(\"宽度:\", width)\n",
    "    print(\"高度:\", height)\n",
    "    print(\"像元数量:\", count)"
   ],
   "metadata": {
    "collapsed": false,
    "ExecuteTime": {
     "end_time": "2025-09-18T04:08:25.593521900Z",
     "start_time": "2025-09-18T04:08:25.400588700Z"
    }
   },
   "id": "d63adf1b580f8324"
  },
  {
   "cell_type": "code",
   "execution_count": null,
   "outputs": [],
   "source": [],
   "metadata": {
    "collapsed": false
   },
   "id": "9c6858e1d8a819b"
  },
  {
   "cell_type": "code",
   "execution_count": null,
   "outputs": [],
   "source": [],
   "metadata": {
    "collapsed": false
   },
   "id": "163f0ecbdd2e122"
  },
  {
   "cell_type": "code",
   "execution_count": null,
   "outputs": [],
   "source": [],
   "metadata": {
    "collapsed": false
   },
   "id": "795404b0dfd6014f"
  },
  {
   "cell_type": "code",
   "execution_count": null,
   "outputs": [],
   "source": [],
   "metadata": {
    "collapsed": false
   },
   "id": "bd1e8b1382786b0"
  }
 ],
 "metadata": {
  "kernelspec": {
   "display_name": "Python 3",
   "language": "python",
   "name": "python3"
  },
  "language_info": {
   "codemirror_mode": {
    "name": "ipython",
    "version": 2
   },
   "file_extension": ".py",
   "mimetype": "text/x-python",
   "name": "python",
   "nbconvert_exporter": "python",
   "pygments_lexer": "ipython2",
   "version": "2.7.6"
  }
 },
 "nbformat": 4,
 "nbformat_minor": 5
}
