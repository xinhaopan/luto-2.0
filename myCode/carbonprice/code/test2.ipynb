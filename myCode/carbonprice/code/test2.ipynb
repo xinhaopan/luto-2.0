{
 "cells": [
  {
   "cell_type": "code",
   "execution_count": 93,
   "outputs": [],
   "source": [
    "import xarray as xr\n",
    "import tools.config as config\n",
    "import rasterio\n",
    "import numpy as np\n",
    "\n",
    "def create_map_data(base_dir, env_category, env_name, mask=None, q=None):\n",
    "    # 打开数据\n",
    "    xr_data = xr.open_dataset(f\"{base_dir}/{env_category}/2050/{env_name}.nc\")\n",
    "    da_result = xr_data['data'].where(xr_data['data'] > 1)\n",
    "\n",
    "    # 应用 mask\n",
    "    if mask is not None:\n",
    "        xr_mask_datas = xr.open_dataset(f\"{base_dir}/Results/xr_{mask}_masks_scenario_cell.nc\")\n",
    "        xr_mask_data = xr_mask_datas['mask'].sel(env_category=env_category, year=2050)\n",
    "        da_result = da_result.where(xr_mask_data == 1)   # 注意这里用 da_result，而不是 xr_data['data']\n",
    "\n",
    "    # 应用分位数裁剪\n",
    "    if q is not None:\n",
    "        q_value = da_result.quantile(q, dim=\"cell\", skipna=True).item()\n",
    "        da_result = da_result.where(da_result <= q_value, q_value)\n",
    "\n",
    "    return da_result"
   ],
   "metadata": {
    "collapsed": false,
    "ExecuteTime": {
     "end_time": "2025-09-03T02:59:43.398886300Z",
     "start_time": "2025-09-03T02:59:43.335304800Z"
    }
   },
   "id": "128bec1cc9849187"
  },
  {
   "cell_type": "code",
   "execution_count": 90,
   "outputs": [],
   "source": [
    "def xr_to_geotif(input_xr, output_dir, output_name,\n",
    "               fill_value=np.nan, shift=0,\n",
    "               dtype=rasterio.float32):\n",
    "    \"\"\"\n",
    "    将一维 .npy 数组铺回到栅格地图中。\n",
    "    - input_arr: path to .npy (1D array of length = number of valid pixels in proj_file)\n",
    "    - output_tif: 输出 GeoTIFF 路径\n",
    "    - proj_file: 用于投影和形状参照的已有 GeoTIFF\n",
    "    - fill_value: 初始填充值（默认 np.nan）\n",
    "    - shift: 在写入前对数据统一加的偏移量\n",
    "    - dtype: 输出栅格的数据类型\n",
    "    \"\"\"\n",
    "\n",
    "    # 1) 读取参考栅格\n",
    "    proj_file = f\"{output_dir}/ammap_2050.tiff\"\n",
    "    with rasterio.open(proj_file) as src:\n",
    "        mask2D = src.read(1) >= 0\n",
    "        transform = src.transform\n",
    "        crs = src.crs\n",
    "        profile = src.profile.copy()\n",
    "        shape = src.shape\n",
    "\n",
    "    # 2) 加载一维数组\n",
    "    nonzeroes = np.where(mask2D)\n",
    "    input_arr = input_xr.to_numpy()\n",
    "\n",
    "    if input_arr.ndim != 1:\n",
    "        raise ValueError(f\"{input_arr} 中的数组不是一维的\")\n",
    "    if len(input_arr) != len(nonzeroes[0]):\n",
    "        print(f\"Warning: {input_arr} 的长度为 {len(input_arr)}, proj_file 中有效像元数量为 {len(nonzeroes[0])}.\")\n",
    "        raise ValueError(\"lumap 的长度与 proj_file 中的有效像元数量不一致\")\n",
    "\n",
    "    # 3) 构建全图，并赋值\n",
    "    themap = np.full(shape, fill_value=fill_value, dtype=float)\n",
    "    themap[nonzeroes] = input_arr + shift\n",
    "\n",
    "    # 4) 把 +/- inf 都变成 np.nan\n",
    "    themap[~np.isfinite(themap)] = np.nan\n",
    "\n",
    "    # 5) 更新 profile 并写出\n",
    "    profile.update({\n",
    "        'dtype': dtype,\n",
    "        'count': 1,\n",
    "        'compress': 'lzw',\n",
    "        'nodata': fill_value\n",
    "    })\n",
    "    output_tif = f\"{output_dir}/{output_name}.tif\"\n",
    "    with rasterio.open(output_tif, 'w', **profile) as dst:\n",
    "        dst.write(themap.astype(dtype), 1)\n",
    "\n",
    "    return output_tif"
   ],
   "metadata": {
    "collapsed": false,
    "ExecuteTime": {
     "end_time": "2025-09-03T02:58:02.836996900Z",
     "start_time": "2025-09-03T02:58:02.748969Z"
    }
   },
   "id": "583ec5fbc109946b"
  },
  {
   "cell_type": "code",
   "execution_count": 78,
   "outputs": [
    {
     "data": {
      "text/plain": "'../../../output/20250831_Price_Task_NCI/carbon_price/0_base_data/map_data/xr_total_cost_carbon_100_amortised_2050.tif'"
     },
     "execution_count": 78,
     "metadata": {},
     "output_type": "execute_result"
    }
   ],
   "source": [
    "base_dir = f\"../../../output/{config.TASK_NAME}/carbon_price/0_base_data\"\n",
    "env_category = 'carbon_100'\n",
    "env_name = f\"xr_total_cost_{env_category}_amortised_2050\"\n",
    "mask = 'carbon'\n",
    "xr_carbon_cost_map = create_map_data(env_category,env_name, mask)\n",
    "xr_carbon_cost_map.max(skipna=True).item(),xr_carbon_cost_map.min(skipna=True).item()\n",
    "output_tif_dir = f\"{base_dir}/map_data\"\n",
    "xr_to_geotif(xr_carbon_cost_map, output_tif_dir, env_name)"
   ],
   "metadata": {
    "collapsed": false,
    "ExecuteTime": {
     "end_time": "2025-09-03T02:45:19.942887300Z",
     "start_time": "2025-09-03T02:45:19.455062400Z"
    }
   },
   "id": "6224de36f1859f60"
  },
  {
   "cell_type": "code",
   "execution_count": 79,
   "outputs": [
    {
     "data": {
      "text/plain": "<xarray.DataArray 'data' (cell: 168778)> Size: 675kB\narray([30262.105,       nan, 30247.574, ...,       nan,       nan,\n             nan], dtype=float32)\nCoordinates:\n  * cell     (cell) int64 1MB 0 1 2 3 4 5 ... 168773 168774 168775 168776 168777",
      "text/html": "<div><svg style=\"position: absolute; width: 0; height: 0; overflow: hidden\">\n<defs>\n<symbol id=\"icon-database\" viewBox=\"0 0 32 32\">\n<path d=\"M16 0c-8.837 0-16 2.239-16 5v4c0 2.761 7.163 5 16 5s16-2.239 16-5v-4c0-2.761-7.163-5-16-5z\"></path>\n<path d=\"M16 17c-8.837 0-16-2.239-16-5v6c0 2.761 7.163 5 16 5s16-2.239 16-5v-6c0 2.761-7.163 5-16 5z\"></path>\n<path d=\"M16 26c-8.837 0-16-2.239-16-5v6c0 2.761 7.163 5 16 5s16-2.239 16-5v-6c0 2.761-7.163 5-16 5z\"></path>\n</symbol>\n<symbol id=\"icon-file-text2\" viewBox=\"0 0 32 32\">\n<path d=\"M28.681 7.159c-0.694-0.947-1.662-2.053-2.724-3.116s-2.169-2.030-3.116-2.724c-1.612-1.182-2.393-1.319-2.841-1.319h-15.5c-1.378 0-2.5 1.121-2.5 2.5v27c0 1.378 1.122 2.5 2.5 2.5h23c1.378 0 2.5-1.122 2.5-2.5v-19.5c0-0.448-0.137-1.23-1.319-2.841zM24.543 5.457c0.959 0.959 1.712 1.825 2.268 2.543h-4.811v-4.811c0.718 0.556 1.584 1.309 2.543 2.268zM28 29.5c0 0.271-0.229 0.5-0.5 0.5h-23c-0.271 0-0.5-0.229-0.5-0.5v-27c0-0.271 0.229-0.5 0.5-0.5 0 0 15.499-0 15.5 0v7c0 0.552 0.448 1 1 1h7v19.5z\"></path>\n<path d=\"M23 26h-14c-0.552 0-1-0.448-1-1s0.448-1 1-1h14c0.552 0 1 0.448 1 1s-0.448 1-1 1z\"></path>\n<path d=\"M23 22h-14c-0.552 0-1-0.448-1-1s0.448-1 1-1h14c0.552 0 1 0.448 1 1s-0.448 1-1 1z\"></path>\n<path d=\"M23 18h-14c-0.552 0-1-0.448-1-1s0.448-1 1-1h14c0.552 0 1 0.448 1 1s-0.448 1-1 1z\"></path>\n</symbol>\n</defs>\n</svg>\n<style>/* CSS stylesheet for displaying xarray objects in jupyterlab.\n *\n */\n\n:root {\n  --xr-font-color0: var(--jp-content-font-color0, rgba(0, 0, 0, 1));\n  --xr-font-color2: var(--jp-content-font-color2, rgba(0, 0, 0, 0.54));\n  --xr-font-color3: var(--jp-content-font-color3, rgba(0, 0, 0, 0.38));\n  --xr-border-color: var(--jp-border-color2, #e0e0e0);\n  --xr-disabled-color: var(--jp-layout-color3, #bdbdbd);\n  --xr-background-color: var(--jp-layout-color0, white);\n  --xr-background-color-row-even: var(--jp-layout-color1, white);\n  --xr-background-color-row-odd: var(--jp-layout-color2, #eeeeee);\n}\n\nhtml[theme=dark],\nbody[data-theme=dark],\nbody.vscode-dark {\n  --xr-font-color0: rgba(255, 255, 255, 1);\n  --xr-font-color2: rgba(255, 255, 255, 0.54);\n  --xr-font-color3: rgba(255, 255, 255, 0.38);\n  --xr-border-color: #1F1F1F;\n  --xr-disabled-color: #515151;\n  --xr-background-color: #111111;\n  --xr-background-color-row-even: #111111;\n  --xr-background-color-row-odd: #313131;\n}\n\n.xr-wrap {\n  display: block !important;\n  min-width: 300px;\n  max-width: 700px;\n}\n\n.xr-text-repr-fallback {\n  /* fallback to plain text repr when CSS is not injected (untrusted notebook) */\n  display: none;\n}\n\n.xr-header {\n  padding-top: 6px;\n  padding-bottom: 6px;\n  margin-bottom: 4px;\n  border-bottom: solid 1px var(--xr-border-color);\n}\n\n.xr-header > div,\n.xr-header > ul {\n  display: inline;\n  margin-top: 0;\n  margin-bottom: 0;\n}\n\n.xr-obj-type,\n.xr-array-name {\n  margin-left: 2px;\n  margin-right: 10px;\n}\n\n.xr-obj-type {\n  color: var(--xr-font-color2);\n}\n\n.xr-sections {\n  padding-left: 0 !important;\n  display: grid;\n  grid-template-columns: 150px auto auto 1fr 20px 20px;\n}\n\n.xr-section-item {\n  display: contents;\n}\n\n.xr-section-item input {\n  display: none;\n}\n\n.xr-section-item input + label {\n  color: var(--xr-disabled-color);\n}\n\n.xr-section-item input:enabled + label {\n  cursor: pointer;\n  color: var(--xr-font-color2);\n}\n\n.xr-section-item input:enabled + label:hover {\n  color: var(--xr-font-color0);\n}\n\n.xr-section-summary {\n  grid-column: 1;\n  color: var(--xr-font-color2);\n  font-weight: 500;\n}\n\n.xr-section-summary > span {\n  display: inline-block;\n  padding-left: 0.5em;\n}\n\n.xr-section-summary-in:disabled + label {\n  color: var(--xr-font-color2);\n}\n\n.xr-section-summary-in + label:before {\n  display: inline-block;\n  content: '►';\n  font-size: 11px;\n  width: 15px;\n  text-align: center;\n}\n\n.xr-section-summary-in:disabled + label:before {\n  color: var(--xr-disabled-color);\n}\n\n.xr-section-summary-in:checked + label:before {\n  content: '▼';\n}\n\n.xr-section-summary-in:checked + label > span {\n  display: none;\n}\n\n.xr-section-summary,\n.xr-section-inline-details {\n  padding-top: 4px;\n  padding-bottom: 4px;\n}\n\n.xr-section-inline-details {\n  grid-column: 2 / -1;\n}\n\n.xr-section-details {\n  display: none;\n  grid-column: 1 / -1;\n  margin-bottom: 5px;\n}\n\n.xr-section-summary-in:checked ~ .xr-section-details {\n  display: contents;\n}\n\n.xr-array-wrap {\n  grid-column: 1 / -1;\n  display: grid;\n  grid-template-columns: 20px auto;\n}\n\n.xr-array-wrap > label {\n  grid-column: 1;\n  vertical-align: top;\n}\n\n.xr-preview {\n  color: var(--xr-font-color3);\n}\n\n.xr-array-preview,\n.xr-array-data {\n  padding: 0 5px !important;\n  grid-column: 2;\n}\n\n.xr-array-data,\n.xr-array-in:checked ~ .xr-array-preview {\n  display: none;\n}\n\n.xr-array-in:checked ~ .xr-array-data,\n.xr-array-preview {\n  display: inline-block;\n}\n\n.xr-dim-list {\n  display: inline-block !important;\n  list-style: none;\n  padding: 0 !important;\n  margin: 0;\n}\n\n.xr-dim-list li {\n  display: inline-block;\n  padding: 0;\n  margin: 0;\n}\n\n.xr-dim-list:before {\n  content: '(';\n}\n\n.xr-dim-list:after {\n  content: ')';\n}\n\n.xr-dim-list li:not(:last-child):after {\n  content: ',';\n  padding-right: 5px;\n}\n\n.xr-has-index {\n  font-weight: bold;\n}\n\n.xr-var-list,\n.xr-var-item {\n  display: contents;\n}\n\n.xr-var-item > div,\n.xr-var-item label,\n.xr-var-item > .xr-var-name span {\n  background-color: var(--xr-background-color-row-even);\n  margin-bottom: 0;\n}\n\n.xr-var-item > .xr-var-name:hover span {\n  padding-right: 5px;\n}\n\n.xr-var-list > li:nth-child(odd) > div,\n.xr-var-list > li:nth-child(odd) > label,\n.xr-var-list > li:nth-child(odd) > .xr-var-name span {\n  background-color: var(--xr-background-color-row-odd);\n}\n\n.xr-var-name {\n  grid-column: 1;\n}\n\n.xr-var-dims {\n  grid-column: 2;\n}\n\n.xr-var-dtype {\n  grid-column: 3;\n  text-align: right;\n  color: var(--xr-font-color2);\n}\n\n.xr-var-preview {\n  grid-column: 4;\n}\n\n.xr-index-preview {\n  grid-column: 2 / 5;\n  color: var(--xr-font-color2);\n}\n\n.xr-var-name,\n.xr-var-dims,\n.xr-var-dtype,\n.xr-preview,\n.xr-attrs dt {\n  white-space: nowrap;\n  overflow: hidden;\n  text-overflow: ellipsis;\n  padding-right: 10px;\n}\n\n.xr-var-name:hover,\n.xr-var-dims:hover,\n.xr-var-dtype:hover,\n.xr-attrs dt:hover {\n  overflow: visible;\n  width: auto;\n  z-index: 1;\n}\n\n.xr-var-attrs,\n.xr-var-data,\n.xr-index-data {\n  display: none;\n  background-color: var(--xr-background-color) !important;\n  padding-bottom: 5px !important;\n}\n\n.xr-var-attrs-in:checked ~ .xr-var-attrs,\n.xr-var-data-in:checked ~ .xr-var-data,\n.xr-index-data-in:checked ~ .xr-index-data {\n  display: block;\n}\n\n.xr-var-data > table {\n  float: right;\n}\n\n.xr-var-name span,\n.xr-var-data,\n.xr-index-name div,\n.xr-index-data,\n.xr-attrs {\n  padding-left: 25px !important;\n}\n\n.xr-attrs,\n.xr-var-attrs,\n.xr-var-data,\n.xr-index-data {\n  grid-column: 1 / -1;\n}\n\ndl.xr-attrs {\n  padding: 0;\n  margin: 0;\n  display: grid;\n  grid-template-columns: 125px auto;\n}\n\n.xr-attrs dt,\n.xr-attrs dd {\n  padding: 0;\n  margin: 0;\n  float: left;\n  padding-right: 10px;\n  width: auto;\n}\n\n.xr-attrs dt {\n  font-weight: normal;\n  grid-column: 1;\n}\n\n.xr-attrs dt:hover span {\n  display: inline-block;\n  background: var(--xr-background-color);\n  padding-right: 10px;\n}\n\n.xr-attrs dd {\n  grid-column: 2;\n  white-space: pre-wrap;\n  word-break: break-all;\n}\n\n.xr-icon-database,\n.xr-icon-file-text2,\n.xr-no-icon {\n  display: inline-block;\n  vertical-align: middle;\n  width: 1em;\n  height: 1.5em !important;\n  stroke-width: 0;\n  stroke: currentColor;\n  fill: currentColor;\n}\n</style><pre class='xr-text-repr-fallback'>&lt;xarray.DataArray &#x27;data&#x27; (cell: 168778)&gt; Size: 675kB\narray([30262.105,       nan, 30247.574, ...,       nan,       nan,\n             nan], dtype=float32)\nCoordinates:\n  * cell     (cell) int64 1MB 0 1 2 3 4 5 ... 168773 168774 168775 168776 168777</pre><div class='xr-wrap' style='display:none'><div class='xr-header'><div class='xr-obj-type'>xarray.DataArray</div><div class='xr-array-name'>'data'</div><ul class='xr-dim-list'><li><span class='xr-has-index'>cell</span>: 168778</li></ul></div><ul class='xr-sections'><li class='xr-section-item'><div class='xr-array-wrap'><input id='section-a5ab36d8-139f-43c8-a5fb-c71489d8d242' class='xr-array-in' type='checkbox' checked><label for='section-a5ab36d8-139f-43c8-a5fb-c71489d8d242' title='Show/hide data repr'><svg class='icon xr-icon-database'><use xlink:href='#icon-database'></use></svg></label><div class='xr-array-preview xr-preview'><span>3.026e+04 nan 3.025e+04 nan 3.024e+04 nan ... nan nan nan nan nan nan</span></div><div class='xr-array-data'><pre>array([30262.105,       nan, 30247.574, ...,       nan,       nan,\n             nan], dtype=float32)</pre></div></div></li><li class='xr-section-item'><input id='section-49bbd6aa-fc04-45a1-b20c-e382baa6a095' class='xr-section-summary-in' type='checkbox'  checked><label for='section-49bbd6aa-fc04-45a1-b20c-e382baa6a095' class='xr-section-summary' >Coordinates: <span>(1)</span></label><div class='xr-section-inline-details'></div><div class='xr-section-details'><ul class='xr-var-list'><li class='xr-var-item'><div class='xr-var-name'><span class='xr-has-index'>cell</span></div><div class='xr-var-dims'>(cell)</div><div class='xr-var-dtype'>int64</div><div class='xr-var-preview xr-preview'>0 1 2 3 ... 168775 168776 168777</div><input id='attrs-f4e471c2-1bee-4026-9e17-2892bbbdfc37' class='xr-var-attrs-in' type='checkbox' disabled><label for='attrs-f4e471c2-1bee-4026-9e17-2892bbbdfc37' title='Show/Hide attributes'><svg class='icon xr-icon-file-text2'><use xlink:href='#icon-file-text2'></use></svg></label><input id='data-0642dd06-ef5e-419e-b886-6c55cb144122' class='xr-var-data-in' type='checkbox'><label for='data-0642dd06-ef5e-419e-b886-6c55cb144122' title='Show/Hide data repr'><svg class='icon xr-icon-database'><use xlink:href='#icon-database'></use></svg></label><div class='xr-var-attrs'><dl class='xr-attrs'></dl></div><div class='xr-var-data'><pre>array([     0,      1,      2, ..., 168775, 168776, 168777], dtype=int64)</pre></div></li></ul></div></li><li class='xr-section-item'><input id='section-4a9ccfc6-ce58-4204-ab3e-3856bc702cba' class='xr-section-summary-in' type='checkbox'  ><label for='section-4a9ccfc6-ce58-4204-ab3e-3856bc702cba' class='xr-section-summary' >Indexes: <span>(1)</span></label><div class='xr-section-inline-details'></div><div class='xr-section-details'><ul class='xr-var-list'><li class='xr-var-item'><div class='xr-index-name'><div>cell</div></div><div class='xr-index-preview'>PandasIndex</div><div></div><input id='index-a36d7312-2861-4d5c-9719-d676e4e34bb1' class='xr-index-data-in' type='checkbox'/><label for='index-a36d7312-2861-4d5c-9719-d676e4e34bb1' title='Show/Hide index repr'><svg class='icon xr-icon-database'><use xlink:href='#icon-database'></use></svg></label><div class='xr-index-data'><pre>PandasIndex(Index([     0,      1,      2,      3,      4,      5,      6,      7,      8,\n            9,\n       ...\n       168768, 168769, 168770, 168771, 168772, 168773, 168774, 168775, 168776,\n       168777],\n      dtype=&#x27;int64&#x27;, name=&#x27;cell&#x27;, length=168778))</pre></div></li></ul></div></li><li class='xr-section-item'><input id='section-d158cfb1-2739-43d9-bb71-cf13d380d477' class='xr-section-summary-in' type='checkbox' disabled ><label for='section-d158cfb1-2739-43d9-bb71-cf13d380d477' class='xr-section-summary'  title='Expand/collapse section'>Attributes: <span>(0)</span></label><div class='xr-section-inline-details'></div><div class='xr-section-details'><dl class='xr-attrs'></dl></div></li></ul></div></div>"
     },
     "execution_count": 79,
     "metadata": {},
     "output_type": "execute_result"
    }
   ],
   "source": [
    "xr_carbon_cost_map"
   ],
   "metadata": {
    "collapsed": false,
    "ExecuteTime": {
     "end_time": "2025-09-03T02:45:20.605839600Z",
     "start_time": "2025-09-03T02:45:20.534611700Z"
    }
   },
   "id": "d940559d2a62754a"
  },
  {
   "cell_type": "code",
   "execution_count": 104,
   "outputs": [
    {
     "name": "stdout",
     "output_type": "stream",
     "text": [
      "106919440.0 0.0\n",
      "49701568.0 0.0\n",
      "804595.375 0.0\n",
      "72364248.0 0.0\n",
      "3006561.5 0.0\n"
     ]
    }
   ],
   "source": [
    "env_category = 'carbon_100'\n",
    "env_names = [ 'xr_cost_ag','xr_cost_agricultural_management','xr_cost_non_ag','xr_cost_transition_ag2ag_diff','xr_transition_cost_ag2non_ag_amortised_diff']\n",
    "for env_name in env_names:\n",
    "    env_name_full = f\"{env_name}_{env_category}_2050\"\n",
    "    mask = 'carbon'\n",
    "    xr_carbon_cost_map = create_map_data(base_dir, env_category,env_name_full, mask)\n",
    "    xr_carbon_cost_map = xr_carbon_cost_map.sum(dim=[d for d in xr_carbon_cost_map.dims if d != \"cell\"], skipna=True)\n",
    "    print(xr_carbon_cost_map.max(skipna=True).item(),xr_carbon_cost_map.min(skipna=True).item())\n",
    "    output_tif_dir = f\"{base_dir}/map_data\"\n",
    "    xr_to_geotif(xr_carbon_cost_map, output_tif_dir, env_name_full)"
   ],
   "metadata": {
    "collapsed": false,
    "ExecuteTime": {
     "end_time": "2025-09-03T04:24:02.529094300Z",
     "start_time": "2025-09-03T04:23:52.024581700Z"
    }
   },
   "id": "e3e35c740ad6097b"
  },
  {
   "cell_type": "code",
   "execution_count": 102,
   "outputs": [
    {
     "name": "stdout",
     "output_type": "stream",
     "text": [
      "<xarray.DataArray 'data' (cell: 168778, lu: 28)> Size: 19MB\n",
      "array([[nan, nan, nan, ..., nan, nan, nan],\n",
      "       [nan, nan, nan, ..., nan, nan, nan],\n",
      "       [nan, nan, nan, ..., nan, nan, nan],\n",
      "       ...,\n",
      "       [nan, nan, nan, ..., nan, nan, nan],\n",
      "       [nan, nan, nan, ..., nan, nan, nan],\n",
      "       [nan, nan, nan, ..., nan, nan, nan]], dtype=float32)\n",
      "Coordinates:\n",
      "  * cell          (cell) int64 1MB 0 1 2 3 4 ... 168774 168775 168776 168777\n",
      "  * lu            (lu) <U27 3kB 'Apples' ... 'Winter oilseeds'\n",
      "    year          int32 4B 2050\n",
      "    env_category  <U10 40B 'carbon_100'\n"
     ]
    }
   ],
   "source": [
    "print(xr_carbon_cost_map)"
   ],
   "metadata": {
    "collapsed": false,
    "ExecuteTime": {
     "end_time": "2025-09-03T04:21:58.466677900Z",
     "start_time": "2025-09-03T04:21:58.266879500Z"
    }
   },
   "id": "e3bc7a05da9c4323"
  },
  {
   "cell_type": "code",
   "execution_count": 97,
   "outputs": [
    {
     "data": {
      "text/plain": "'../../../output/20250831_Price_Task_NCI/carbon_price/0_base_data/map_data/xr_transition_cost_ag2CP_amortised_diff_carbon_100_2050.tif'"
     },
     "execution_count": 97,
     "metadata": {},
     "output_type": "execute_result"
    }
   ],
   "source": [
    "\n",
    "env_category = 'carbon_100'\n",
    "env_name = f\"xr_transition_cost_ag2non_ag_amortised_diff_{env_category}_2050\"\n",
    "mask = 'carbon'\n",
    "xr_carbon_cost_map = create_map_data(base_dir, env_category,env_name, mask)\n",
    "xr_carbon_cost_map = xr_carbon_cost_map.sum(dim='From land-use').sel({\"To land-use\":'Carbon Plantings (Block)'})\n",
    "xr_carbon_cost_map.max(skipna=True).item(),xr_carbon_cost_map.min(skipna=True).item()\n",
    "output_tif_dir = f\"{base_dir}/map_data\"\n",
    "xr_to_geotif(xr_carbon_cost_map, output_tif_dir, f\"xr_transition_cost_ag2CP_amortised_diff_{env_category}_2050\")"
   ],
   "metadata": {
    "collapsed": false,
    "ExecuteTime": {
     "end_time": "2025-09-03T03:00:39.329611500Z",
     "start_time": "2025-09-03T03:00:36.979355200Z"
    }
   },
   "id": "4f43ced392ded71"
  },
  {
   "cell_type": "code",
   "execution_count": 96,
   "outputs": [
    {
     "data": {
      "text/plain": "array(['BECCS', 'Beef Agroforestry', 'Beef Carbon Plantings (Belt)',\n       'Carbon Plantings (Block)', 'Destocked - natural land',\n       'Environmental Plantings', 'Riparian Plantings',\n       'Sheep Agroforestry', 'Sheep Carbon Plantings (Belt)'],\n      dtype='<U29')"
     },
     "execution_count": 96,
     "metadata": {},
     "output_type": "execute_result"
    }
   ],
   "source": [
    "xr_carbon_cost_map.coords['To land-use'].values"
   ],
   "metadata": {
    "collapsed": false,
    "ExecuteTime": {
     "end_time": "2025-09-03T03:00:19.861465200Z",
     "start_time": "2025-09-03T03:00:19.660274Z"
    }
   },
   "id": "c6043fe21ae34622"
  },
  {
   "cell_type": "code",
   "execution_count": null,
   "outputs": [],
   "source": [],
   "metadata": {
    "collapsed": false
   },
   "id": "6f0683e9e55473f5"
  }
 ],
 "metadata": {
  "kernelspec": {
   "display_name": "Python 3",
   "language": "python",
   "name": "python3"
  },
  "language_info": {
   "codemirror_mode": {
    "name": "ipython",
    "version": 2
   },
   "file_extension": ".py",
   "mimetype": "text/x-python",
   "name": "python",
   "nbconvert_exporter": "python",
   "pygments_lexer": "ipython2",
   "version": "2.7.6"
  }
 },
 "nbformat": 4,
 "nbformat_minor": 5
}
