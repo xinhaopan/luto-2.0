{
 "cells": [
  {
   "cell_type": "code",
   "execution_count": 31,
   "outputs": [],
   "source": [
    "import os\n",
    "import tools.config as config\n",
    "import statsmodels.api as sm\n",
    "import pandas as pd\n",
    "import seaborn as sns\n",
    "import matplotlib.patches as mpatches\n",
    "import matplotlib as mpl\n",
    "from matplotlib.lines import Line2D\n",
    "import xarray as xr\n",
    "\n",
    "import numpy as np\n",
    "import matplotlib.pyplot as plt\n",
    "from matplotlib.ticker import FuncFormatter, MaxNLocator\n",
    "from matplotlib.patches import Patch\n",
    "import re\n",
    "import matplotlib\n",
    "\n",
    "matplotlib.use(\"QtAgg\")\n",
    "\n",
    "sns.set_theme(style=\"darkgrid\")\n",
    "plt.rcParams.update({\n",
    "    \"xtick.bottom\": True, \"ytick.left\": True,   # 打开刻度\n",
    "    \"xtick.top\": False,  \"ytick.right\": False,  # 需要的话也可开\n",
    "    \"xtick.direction\": \"out\", \"ytick.direction\": \"out\",\n",
    "    \"xtick.major.size\": 4, \"ytick.major.size\": 4,\n",
    "    \"xtick.major.width\": 1.2, \"ytick.major.width\": 1.2,\n",
    "})\n",
    "\n",
    "# Function definitions (unchanged from your original code)\n",
    "def stacked_area_pos_neg(\n",
    "    ax, df, colors=None, alpha=0.60,\n",
    "    title_name='', ylabel='',\n",
    "    add_line=True, n_col=1, show_legend=False,bbox_to_anchor=(0.5, -0.25)\n",
    "):\n",
    "    # ---- 可选总和线 ----\n",
    "    if add_line:\n",
    "        total = df.sum(axis=1)\n",
    "        ax.plot(\n",
    "            df.index, total,\n",
    "            linestyle='-', marker='o',\n",
    "            color='black', linewidth=2,\n",
    "            markersize=5, markeredgewidth=1,\n",
    "            markerfacecolor='black', markeredgecolor='black',\n",
    "            label='Sum'\n",
    "        )\n",
    "\n",
    "    # ---- 颜色 ----\n",
    "    if colors is None:\n",
    "        colors = plt.rcParams['axes.prop_cycle'].by_key()['color']\n",
    "    if len(colors) < df.shape[1]:\n",
    "        colors = (colors * (df.shape[1] // len(colors) + 1))[:df.shape[1]]\n",
    "\n",
    "    # ---- 堆叠面积 ----\n",
    "    cum_pos = np.zeros(len(df))\n",
    "    cum_neg = np.zeros(len(df))\n",
    "    for idx, col in enumerate(df.columns):\n",
    "        y = df[col].values\n",
    "        pos = np.clip(y, 0, None)\n",
    "        neg = np.clip(y, None, 0)\n",
    "        colr = colors[idx]\n",
    "        ax.fill_between(df.index, cum_pos, cum_pos + pos,\n",
    "                        facecolor=colr, alpha=alpha, linewidth=0, label=col)\n",
    "        cum_pos += pos\n",
    "        ax.fill_between(df.index, cum_neg, cum_neg + neg,\n",
    "                        facecolor=colr, alpha=alpha, linewidth=0)\n",
    "        cum_neg += neg\n",
    "\n",
    "    # ---- 轴和外观 ----\n",
    "    ax.yaxis.set_major_locator(MaxNLocator(nbins=5))\n",
    "    ax.yaxis.set_major_formatter(FuncFormatter(lambda x, _: f'{x:,.0f}'))\n",
    "    ax.set_xlim(df.index.min(), df.index.max())\n",
    "    ax.set_title(title_name, pad=6)\n",
    "    ax.set_ylabel(ylabel)\n",
    "    ax.set_xlabel('')\n",
    "    ax.tick_params(direction='out')\n",
    "    for spine in ax.spines.values():\n",
    "        spine.set_color('black')\n",
    "        spine.set_linewidth(1.2)\n",
    "\n",
    "    # ---- 图例 ----\n",
    "    handles, labels = ax.get_legend_handles_labels()\n",
    "    unique = {}\n",
    "    for h, l in zip(handles, labels):\n",
    "        if l not in unique:\n",
    "            unique[l] = h\n",
    "    final_labels = list(unique.keys())\n",
    "    final_handles = list(unique.values())\n",
    "\n",
    "    if show_legend:\n",
    "        ax.legend(\n",
    "            handles=final_handles, labels=final_labels,\n",
    "            loc='upper left', bbox_to_anchor=bbox_to_anchor,\n",
    "            frameon=False, ncol=n_col,\n",
    "            handlelength=1.0, handleheight=1.0,\n",
    "            handletextpad=0.4, labelspacing=0.3\n",
    "        )\n",
    "\n",
    "    return ax\n",
    "\n",
    "\n",
    "def set_plot_style(font_size=12, font_family='Arial'):\n",
    "    mpl.rcParams.update({\n",
    "        'font.size': font_size, 'font.family': font_family, 'axes.titlesize': font_size,\n",
    "        'axes.labelsize': font_size, 'xtick.labelsize': font_size, 'ytick.labelsize': font_size,\n",
    "        'legend.fontsize': font_size, 'figure.titlesize': font_size\n",
    "    })\n",
    "\n",
    "\n",
    "def draw_legend(ax, bbox_to_anchor=(0.98, 0.69), ncol=6):\n",
    "    fig = ax.get_figure()\n",
    "    handles, labels = ax.get_legend_handles_labels()\n",
    "    clean_labels = labels\n",
    "    if ax.get_legend() is not None:\n",
    "        ax.get_legend().remove()\n",
    "\n",
    "    new_handles = []\n",
    "    for h in handles:\n",
    "        if isinstance(h, Patch):\n",
    "            fc = h.get_facecolor()[0]\n",
    "            ec = h.get_edgecolor()[0] if h.get_edgecolor().size else 'black'\n",
    "            lw = h.get_linewidth()\n",
    "            new_handles.append(Patch(facecolor=fc, edgecolor=ec, linewidth=lw))\n",
    "        elif isinstance(h, Line2D):\n",
    "            new_handles.append(Line2D([0], [0], color=h.get_color(), linestyle=h.get_linestyle(),\n",
    "                                      linewidth=h.get_linewidth(), marker=h.get_marker(),\n",
    "                                      markersize=h.get_markersize(), markerfacecolor=h.get_markerfacecolor(),\n",
    "                                      markeredgecolor=h.get_markeredgecolor()))\n",
    "        else:\n",
    "            new_handles.append(h)\n",
    "\n",
    "    fig.legend(handles=new_handles, labels=clean_labels, loc='upper left', bbox_to_anchor=bbox_to_anchor,\n",
    "               ncol=ncol, frameon=False, handlelength=1.0, handleheight=1.0, handletextpad=0.4, labelspacing=0.3)\n",
    "\n",
    "\n",
    "# Main script\n",
    "set_plot_style(font_size=12, font_family='Arial')\n",
    "\n",
    "input_dir = f'../../../output/{config.TASK_NAME}/carbon_price/0_base_data/Results'\n",
    "output_dir = f\"../../../output/{config.TASK_NAME}/carbon_price/3_Paper_figure\""
   ],
   "metadata": {
    "collapsed": false,
    "ExecuteTime": {
     "end_time": "2025-09-02T14:45:52.189923900Z",
     "start_time": "2025-09-02T14:45:52.006394900Z"
    }
   },
   "id": "cbe733131ed7d57f"
  },
  {
   "cell_type": "code",
   "execution_count": 32,
   "outputs": [
    {
     "data": {
      "text/plain": "<Axes: title={'center': 'GHG reductions and removals cost'}>"
     },
     "execution_count": 32,
     "metadata": {},
     "output_type": "execute_result"
    }
   ],
   "source": [
    "fig = plt.figure(figsize=(13, 13))\n",
    "ax1 = fig.add_subplot(2, 2, 1)\n",
    "\n",
    "xr_category = xr.open_dataset(f'{input_dir}/xr_carbon_cost_category.nc') / 1e6\n",
    "columns_name = ['Ag','AgMgt','Non-ag','Transition(ag→ag)','Transition(ag→non-ag)']\n",
    "colors=['#f39b8b', '#9A8AB3', '#6eabb1', '#eb9132','#84a374']\n",
    "# Adjust subplot spacing\n",
    "df =  xr_category['data'].to_pandas()\n",
    "# Load data\n",
    "df = df.loc[df.index >= config.START_YEAR].copy()\n",
    "df.columns = columns_name\n",
    "stacked_area_pos_neg(ax1, df, colors=colors,\n",
    "                     title_name='GHG reductions and removals cost', ylabel='',show_legend=True,bbox_to_anchor=(0.01, 0.98))\n"
   ],
   "metadata": {
    "collapsed": false,
    "ExecuteTime": {
     "end_time": "2025-09-02T14:45:52.485396800Z",
     "start_time": "2025-09-02T14:45:52.015383600Z"
    }
   },
   "id": "bc2cb95fe6d156bf"
  },
  {
   "cell_type": "code",
   "execution_count": 33,
   "outputs": [
    {
     "data": {
      "text/plain": "<Axes: title={'center': 'Transition(ag→ag) cost for GHG'}>"
     },
     "execution_count": 33,
     "metadata": {},
     "output_type": "execute_result"
    }
   ],
   "source": [
    "xr_category = xr.open_dataset(f'{input_dir}/xr_carbon_cost_tn.nc') / 1e6\n",
    "df = xr_category['data'].to_pandas().iloc[:, 1:]\n",
    "df_map = pd.read_excel('tools/land use colors.xlsx', sheet_name='non_ag')\n",
    "\n",
    "df_map = df_map.copy()\n",
    "df_map[\"desc_clean\"] = df_map[\"desc\"].str.lower().str.strip()\n",
    "cols = pd.DataFrame({\"desc_original\": df.columns})\n",
    "cols[\"desc_clean\"] = cols[\"desc_original\"].str.lower().str.strip()\n",
    "\n",
    "# 2) 把映射信息（desc_new, color）并到每个原列上\n",
    "joined = cols.merge(\n",
    "    df_map[[\"desc_clean\", \"desc_new\", \"color\"]],\n",
    "    on=\"desc_clean\", how=\"left\"\n",
    ")\n",
    "\n",
    "# 3) 校验是否有匹配不到的列\n",
    "missing = joined[joined[\"desc_new\"].isna()]\n",
    "if not missing.empty:\n",
    "    raise ValueError(f\"映射表里找不到这些列：{missing['desc_original'].tolist()}\")\n",
    "\n",
    "# 4) 按 desc_new 的长度排序（长在前），同长再按字母序\n",
    "joined[\"len\"] = joined[\"desc_new\"].str.len()\n",
    "joined = joined.sort_values([\"len\", \"desc_new\"], ascending=[False, True]).reset_index(drop=True)\n",
    "# 5) 依新顺序重排 df 的列\n",
    "new_order_original = joined[\"desc_original\"].tolist()\n",
    "df_sorted = df[new_order_original].copy()\n",
    "# 6) 重命名为 desc_new\n",
    "rename_map = dict(zip(joined[\"desc_original\"], joined[\"desc_new\"]))\n",
    "df_sorted = df_sorted.rename(columns=rename_map)\n",
    "# 7) 生成与新列顺序一致的列表\n",
    "columns_name = joined[\"desc_new\"].tolist()\n",
    "colors = joined[\"color\"].tolist()\n",
    "\n",
    "df = df_sorted.loc[df.index >= config.START_YEAR].copy()\n",
    "df.columns = columns_name\n",
    "ax2 = fig.add_subplot(2, 2, 2)\n",
    "stacked_area_pos_neg(ax2, df, colors=colors,add_line=False,\n",
    "                     title_name='Transition(ag→ag) cost for GHG', ylabel='',show_legend=True,bbox_to_anchor=(0.01, 0.98))\n"
   ],
   "metadata": {
    "collapsed": false,
    "ExecuteTime": {
     "end_time": "2025-09-02T14:45:52.503222300Z",
     "start_time": "2025-09-02T14:45:52.102903900Z"
    }
   },
   "id": "df523754193b1db9"
  },
  {
   "cell_type": "code",
   "execution_count": 34,
   "outputs": [
    {
     "data": {
      "text/plain": "<Axes: title={'center': 'Biodiversity restoration cost'}>"
     },
     "execution_count": 34,
     "metadata": {},
     "output_type": "execute_result"
    }
   ],
   "source": [
    "xr_category = xr.open_dataset(f'{input_dir}/xr_bio_cost_category.nc') / 1e6\n",
    "columns_name = ['Ag','AgMgt','Non-ag','Transition(ag→ag)','Transition(ag→non-ag)']\n",
    "colors=['#f39b8b', '#9A8AB3', '#6eabb1', '#eb9132','#84a374']\n",
    "# Adjust subplot spacing\n",
    "df =  xr_category['data'].to_pandas()\n",
    "# Load data\n",
    "df = df.loc[df.index >= config.START_YEAR].copy()\n",
    "df.columns = columns_name\n",
    "ax3 = fig.add_subplot(2, 2, 3)\n",
    "stacked_area_pos_neg(ax3, df, colors=colors,\n",
    "                     title_name='Biodiversity restoration cost', ylabel='',show_legend=False,bbox_to_anchor=(0.01, 0.98))"
   ],
   "metadata": {
    "collapsed": false,
    "ExecuteTime": {
     "end_time": "2025-09-02T14:45:52.503222300Z",
     "start_time": "2025-09-02T14:45:52.272171600Z"
    }
   },
   "id": "3d23961029dccf58"
  },
  {
   "cell_type": "code",
   "execution_count": 35,
   "outputs": [
    {
     "data": {
      "text/plain": "<Axes: title={'center': 'Transition(ag→ag) cost for biodiversity'}>"
     },
     "execution_count": 35,
     "metadata": {},
     "output_type": "execute_result"
    }
   ],
   "source": [
    "xr_category = xr.open_dataset(f'{input_dir}/xr_bio_cost_tn.nc') / 1e6\n",
    "df = xr_category['data'].to_pandas().iloc[:, 1:]\n",
    "df_map = pd.read_excel('tools/land use colors.xlsx', sheet_name='non_ag')\n",
    "\n",
    "df_map = df_map.copy()\n",
    "df_map[\"desc_clean\"] = df_map[\"desc\"].str.lower().str.strip()\n",
    "cols = pd.DataFrame({\"desc_original\": df.columns})\n",
    "cols[\"desc_clean\"] = cols[\"desc_original\"].str.lower().str.strip()\n",
    "\n",
    "# 2) 把映射信息（desc_new, color）并到每个原列上\n",
    "joined = cols.merge(\n",
    "    df_map[[\"desc_clean\", \"desc_new\", \"color\"]],\n",
    "    on=\"desc_clean\", how=\"left\"\n",
    ")\n",
    "\n",
    "# 3) 校验是否有匹配不到的列\n",
    "missing = joined[joined[\"desc_new\"].isna()]\n",
    "if not missing.empty:\n",
    "    raise ValueError(f\"映射表里找不到这些列：{missing['desc_original'].tolist()}\")\n",
    "\n",
    "# 4) 按 desc_new 的长度排序（长在前），同长再按字母序\n",
    "joined[\"len\"] = joined[\"desc_new\"].str.len()\n",
    "joined = joined.sort_values([\"len\", \"desc_new\"], ascending=[False, True]).reset_index(drop=True)\n",
    "# 5) 依新顺序重排 df 的列\n",
    "new_order_original = joined[\"desc_original\"].tolist()\n",
    "df_sorted = df[new_order_original].copy()\n",
    "# 6) 重命名为 desc_new\n",
    "rename_map = dict(zip(joined[\"desc_original\"], joined[\"desc_new\"]))\n",
    "df_sorted = df_sorted.rename(columns=rename_map)\n",
    "# 7) 生成与新列顺序一致的列表\n",
    "columns_name = joined[\"desc_new\"].tolist()\n",
    "colors = joined[\"color\"].tolist()\n",
    "\n",
    "df = df_sorted.loc[df.index >= config.START_YEAR].copy()\n",
    "df.columns = columns_name\n",
    "ax4 = fig.add_subplot(2, 2, 4)\n",
    "stacked_area_pos_neg(ax4, df, colors=colors,add_line=False,\n",
    "                     title_name='Transition(ag→ag) cost for biodiversity', ylabel='',show_legend=False,bbox_to_anchor=(0.01, 0.98))\n"
   ],
   "metadata": {
    "collapsed": false,
    "ExecuteTime": {
     "end_time": "2025-09-02T14:45:52.568238300Z",
     "start_time": "2025-09-02T14:45:52.345363700Z"
    }
   },
   "id": "f361c48fec66d439"
  },
  {
   "cell_type": "code",
   "execution_count": 36,
   "outputs": [],
   "source": [
    "plt.subplots_adjust(left=0.1, right=0.95, top=0.9, bottom=0.2, wspace=0.15)\n",
    "fig.text(\n",
    "    0.04, 0.55,                     # x=0.02 靠左，y=0.5 垂直居中\n",
    "    \"MAU$\",                 # 文字内容\n",
    "    va=\"center\", ha=\"center\",      # 垂直水平对齐方式\n",
    "    rotation=\"vertical\",           # 旋转 90 度\n",
    ")\n",
    "\n",
    "# Save and show the figure\n",
    "os.makedirs(output_dir, exist_ok=True)\n",
    "plt.savefig(f\"{output_dir}/02_draw_stackedarea.png\", dpi=300)\n",
    "plt.show()"
   ],
   "metadata": {
    "collapsed": false,
    "ExecuteTime": {
     "end_time": "2025-09-02T14:46:28.422273300Z",
     "start_time": "2025-09-02T14:45:52.494220400Z"
    }
   },
   "id": "ea7ca509fdafc566"
  }
 ],
 "metadata": {
  "kernelspec": {
   "display_name": "Python 3",
   "language": "python",
   "name": "python3"
  },
  "language_info": {
   "codemirror_mode": {
    "name": "ipython",
    "version": 2
   },
   "file_extension": ".py",
   "mimetype": "text/x-python",
   "name": "python",
   "nbconvert_exporter": "python",
   "pygments_lexer": "ipython2",
   "version": "2.7.6"
  }
 },
 "nbformat": 4,
 "nbformat_minor": 5
}
