{
 "cells": [
  {
   "cell_type": "code",
   "execution_count": 2,
   "id": "initial_id",
   "metadata": {
    "collapsed": true,
    "ExecuteTime": {
     "end_time": "2025-09-13T06:56:07.516428400Z",
     "start_time": "2025-09-13T06:56:06.461404200Z"
    }
   },
   "outputs": [],
   "source": [
    "import os\n",
    "import xarray as xr\n",
    "from joblib import Parallel, delayed\n",
    "import pandas as pd\n",
    "from typing import List, Dict, Any\n",
    "from pathlib import Path\n",
    "import math\n",
    "\n",
    "from tools.tools import get_path,get_year,filter_all_from_dims\n",
    "import tools.config as config"
   ]
  },
  {
   "cell_type": "code",
   "execution_count": 3,
   "outputs": [],
   "source": [
    "def summarize_netcdf_to_excel(\n",
    "    input_path: str,\n",
    "    years: List[int],\n",
    "    files: List[str],\n",
    "    n_jobs: int = 41,\n",
    "    excel_type: str = \"all\",\n",
    ") -> None:\n",
    "    \"\"\"\n",
    "    从指定的目录结构中读取单变量NetCDF文件，计算其总和，并将结果保存到Excel。\n",
    "\n",
    "    Args:\n",
    "        input_path (str): 包含 'output_{year}' 子目录的基础路径。\n",
    "        years (List[int]): 需要处理的年份列表。\n",
    "        files (List[str]): 文件的基础名称列表 (不含年份和扩展名)。\n",
    "        output_excel_path (str, optional): 输出的Excel文件名。\n",
    "                                            默认为 \"economic_summary.xlsx\"。\n",
    "    \"\"\"\n",
    "    print(f\"Start {input_path}...\")\n",
    "\n",
    "    def _process_single_year(\n",
    "        year: int, \n",
    "        files: List[str], \n",
    "        input_path: str, \n",
    "        task_name: str,\n",
    "    ) -> Dict[str, Any]:\n",
    "        \"\"\"\n",
    "        Processes all specified files for a single year.\n",
    "        This function is designed to be called in parallel by joblib.\n",
    "        \n",
    "        Returns:\n",
    "            A dictionary containing the results for the given year (e.g., {'Year': 2025, 'file1': 123.4, ...}).\n",
    "        \"\"\"\n",
    "        print(f\"Processing year: {year}\")\n",
    "        year_data = {'Year': year}\n",
    "    \n",
    "        for file in files:\n",
    "            total_sum = None\n",
    "            # Build the full file path based on the file name\n",
    "            file_path = os.path.join(\n",
    "                input_path,\n",
    "                f'{year}',\n",
    "                f'{file}_{year}.nc'\n",
    "            )\n",
    "\n",
    "            # Check for file existence before trying to open\n",
    "            if os.path.exists(file_path):\n",
    "                with xr.open_dataarray(file_path) as da:\n",
    "                    filtered_da = filter_all_from_dims(da)\n",
    "                    total_sum = filtered_da.sum().item()\n",
    "            else:\n",
    "                print(f\"  - WARNING: File '{file_path}' for year {year} does not exist.\")\n",
    "\n",
    "            # Add the result to the dictionary for the current year\n",
    "            year_data[file] = total_sum\n",
    "                \n",
    "        return year_data\n",
    "\n",
    "    all_data = Parallel(n_jobs=n_jobs)(\n",
    "            delayed(_process_single_year)(year, files, input_path, config.TASK_NAME)\n",
    "            for year in sorted(years)\n",
    "        )\n",
    "    # 将结果列表转换为 pandas DataFrame\n",
    "    results_df = pd.DataFrame(all_data)\n",
    "    \n",
    "    # 将 'Year' 列设为索引\n",
    "    results_df = results_df.set_index('Year')\n",
    "    results_df = results_df/1e6\n",
    "    results_df = results_df.rename(columns=config.KEY_TO_COLUMN_MAP)\n",
    "    output_excel_path = os.path.join(\n",
    "                    f'../../../output/{config.TASK_NAME}',\n",
    "                    'carbon_price',\n",
    "                    '1_excel',\n",
    "                    f'0_Origin_{excel_type}_{Path(input_path).parts[5]}.xlsx')\n",
    "    results_df.to_excel(output_excel_path)\n",
    "    return results_df"
   ],
   "metadata": {
    "collapsed": false,
    "ExecuteTime": {
     "end_time": "2025-09-13T06:56:08.842503700Z",
     "start_time": "2025-09-13T06:56:08.791156700Z"
    }
   },
   "id": "1feec2f391f5fe3"
  },
  {
   "cell_type": "code",
   "execution_count": 4,
   "outputs": [],
   "source": [
    "economic_files = ['xr_cost_ag', 'xr_cost_agricultural_management', 'xr_cost_non_ag', 'xr_cost_transition_ag2ag','xr_transition_cost_ag2non_ag','xr_transition_cost_ag2non_ag_amortised','xr_revenue_ag', 'xr_revenue_agricultural_management', 'xr_revenue_non_ag']\n",
    "carbon_files = ['xr_GHG_ag', 'xr_GHG_ag_management', 'xr_GHG_non_ag', 'xr_transition_GHG']\n",
    "bio_files = ['xr_biodiversity_GBF2_priority_ag', 'xr_biodiversity_GBF2_priority_ag_management','xr_biodiversity_GBF2_priority_non_ag']\n",
    "\n",
    "input_files_0 = ['Run_13_GHG_off_BIO_off_CUT_50']\n",
    "input_files_1 = ['Run_06_GHG_high_BIO_off_CUT_50','Run_12_GHG_low_BIO_off_CUT_50']\n",
    "input_files_2 = ['Run_01_GHG_high_BIO_high_CUT_50','Run_02_GHG_high_BIO_high_CUT_40','Run_03_GHG_high_BIO_high_CUT_30','Run_04_GHG_high_BIO_high_CUT_20','Run_05_GHG_high_BIO_high_CUT_10',\n",
    "                     'Run_07_GHG_low_BIO_high_CUT_50', 'Run_08_GHG_low_BIO_high_CUT_40', 'Run_09_GHG_low_BIO_high_CUT_30', 'Run_10_GHG_low_BIO_high_CUT_20', 'Run_11_GHG_low_BIO_high_CUT_10']\n",
    "input_files = input_files_0 + input_files_1 + input_files_2"
   ],
   "metadata": {
    "collapsed": false,
    "ExecuteTime": {
     "end_time": "2025-09-13T06:56:10.172246800Z",
     "start_time": "2025-09-13T06:56:10.163881400Z"
    }
   },
   "id": "dc83cdf468d99413"
  },
  {
   "cell_type": "code",
   "execution_count": 5,
   "outputs": [
    {
     "name": "stdout",
     "output_type": "stream",
     "text": [
      "Start ../../../output/20250908_Paper2_Results_NCI/carbon_price/0_base_data\\Run_13_GHG_off_BIO_off_CUT_50...\n",
      "Start ../../../output/20250908_Paper2_Results_NCI/carbon_price/0_base_data\\Run_06_GHG_high_BIO_off_CUT_50...\n"
     ]
    },
    {
     "ename": "MemoryError",
     "evalue": "Unable to allocate 11.8 GiB for an array with shape (2, 168778, 28, 2, 28, 6) and data type float32",
     "output_type": "error",
     "traceback": [
      "\u001B[1;31m---------------------------------------------------------------------------\u001B[0m",
      "\u001B[1;31m_RemoteTraceback\u001B[0m                          Traceback (most recent call last)",
      "\u001B[1;31m_RemoteTraceback\u001B[0m: \n\"\"\"\nTraceback (most recent call last):\n  File \"F:\\xinhao\\miniforge\\envs\\xpluto\\Lib\\site-packages\\joblib\\externals\\loky\\process_executor.py\", line 463, in _process_worker\n    r = call_item()\n        ^^^^^^^^^^^\n  File \"F:\\xinhao\\miniforge\\envs\\xpluto\\Lib\\site-packages\\joblib\\externals\\loky\\process_executor.py\", line 291, in __call__\n    return self.fn(*self.args, **self.kwargs)\n           ^^^^^^^^^^^^^^^^^^^^^^^^^^^^^^^^^^\n  File \"F:\\xinhao\\miniforge\\envs\\xpluto\\Lib\\site-packages\\joblib\\parallel.py\", line 598, in __call__\n    return [func(*args, **kwargs)\n            ^^^^^^^^^^^^^^^^^^^^^\n  File \"C:\\Users\\s222552331\\AppData\\Local\\Temp\\46\\ipykernel_178256\\1212997651.py\", line 49, in _process_single_year\n  File \"F:\\xinhao\\miniforge\\envs\\xpluto\\Lib\\site-packages\\xarray\\core\\_aggregations.py\", line 1857, in sum\n    return self.reduce(\n           ^^^^^^^^^^^^\n  File \"F:\\xinhao\\miniforge\\envs\\xpluto\\Lib\\site-packages\\xarray\\core\\dataarray.py\", line 3807, in reduce\n    var = self.variable.reduce(func, dim, axis, keep_attrs, keepdims, **kwargs)\n          ^^^^^^^^^^^^^^^^^^^^^^^^^^^^^^^^^^^^^^^^^^^^^^^^^^^^^^^^^^^^^^^^^^^^^\n  File \"F:\\xinhao\\miniforge\\envs\\xpluto\\Lib\\site-packages\\xarray\\core\\variable.py\", line 1662, in reduce\n    result = super().reduce(\n             ^^^^^^^^^^^^^^^\n  File \"F:\\xinhao\\miniforge\\envs\\xpluto\\Lib\\site-packages\\xarray\\namedarray\\core.py\", line 889, in reduce\n    data = func(self.data, **kwargs)\n           ^^^^^^^^^^^^^^^^^^^^^^^^^\n  File \"F:\\xinhao\\miniforge\\envs\\xpluto\\Lib\\site-packages\\xarray\\core\\duck_array_ops.py\", line 428, in f\n    return func(values, axis=axis, **kwargs)\n           ^^^^^^^^^^^^^^^^^^^^^^^^^^^^^^^^^\n  File \"F:\\xinhao\\miniforge\\envs\\xpluto\\Lib\\site-packages\\xarray\\core\\nanops.py\", line 99, in nansum\n    result = sum_where(a, axis=axis, dtype=dtype, where=mask)\n             ^^^^^^^^^^^^^^^^^^^^^^^^^^^^^^^^^^^^^^^^^^^^^^^^\n  File \"F:\\xinhao\\miniforge\\envs\\xpluto\\Lib\\site-packages\\xarray\\core\\duck_array_ops.py\", line 334, in sum_where\n    a = where_method(xp.zeros_like(data), where, data)\n        ^^^^^^^^^^^^^^^^^^^^^^^^^^^^^^^^^^^^^^^^^^^^^^\n  File \"F:\\xinhao\\miniforge\\envs\\xpluto\\Lib\\site-packages\\xarray\\core\\duck_array_ops.py\", line 350, in where_method\n    return where(cond, data, other)\n           ^^^^^^^^^^^^^^^^^^^^^^^^\n  File \"F:\\xinhao\\miniforge\\envs\\xpluto\\Lib\\site-packages\\xarray\\core\\duck_array_ops.py\", line 344, in where\n    return xp.where(condition, *as_shared_dtype([x, y], xp=xp))\n           ^^^^^^^^^^^^^^^^^^^^^^^^^^^^^^^^^^^^^^^^^^^^^^^^^^^^\nnumpy.core._exceptions._ArrayMemoryError: Unable to allocate 11.8 GiB for an array with shape (2, 168778, 28, 2, 28, 6) and data type float32\n\"\"\"",
      "\nThe above exception was the direct cause of the following exception:\n",
      "\u001B[1;31mMemoryError\u001B[0m                               Traceback (most recent call last)",
      "Cell \u001B[1;32mIn[5], line 6\u001B[0m\n\u001B[0;32m      4\u001B[0m \u001B[38;5;28;01mfor\u001B[39;00m input_file \u001B[38;5;129;01min\u001B[39;00m input_files:\n\u001B[0;32m      5\u001B[0m     input_path \u001B[38;5;241m=\u001B[39m os\u001B[38;5;241m.\u001B[39mpath\u001B[38;5;241m.\u001B[39mjoin(task_dir, input_file)\n\u001B[1;32m----> 6\u001B[0m     df \u001B[38;5;241m=\u001B[39m \u001B[43msummarize_netcdf_to_excel\u001B[49m\u001B[43m(\u001B[49m\u001B[43minput_path\u001B[49m\u001B[43m,\u001B[49m\u001B[43m \u001B[49m\u001B[43myears\u001B[49m\u001B[43m,\u001B[49m\u001B[43m \u001B[49m\u001B[43meconomic_files\u001B[49m\u001B[43m,\u001B[49m\u001B[43mnjobs\u001B[49m\u001B[43m,\u001B[49m\u001B[38;5;124;43m'\u001B[39;49m\u001B[38;5;124;43meconomic\u001B[39;49m\u001B[38;5;124;43m'\u001B[39;49m\u001B[43m)\u001B[49m\n\u001B[0;32m      7\u001B[0m \u001B[38;5;28;01mfor\u001B[39;00m input_file \u001B[38;5;129;01min\u001B[39;00m input_files_1:\n\u001B[0;32m      8\u001B[0m     input_path \u001B[38;5;241m=\u001B[39m get_path(config\u001B[38;5;241m.\u001B[39mTASK_NAME, input_file)\n",
      "Cell \u001B[1;32mIn[3], line 58\u001B[0m, in \u001B[0;36msummarize_netcdf_to_excel\u001B[1;34m(input_path, years, files, n_jobs, excel_type)\u001B[0m\n\u001B[0;32m     54\u001B[0m         year_data[file] \u001B[38;5;241m=\u001B[39m total_sum\n\u001B[0;32m     56\u001B[0m     \u001B[38;5;28;01mreturn\u001B[39;00m year_data\n\u001B[1;32m---> 58\u001B[0m all_data \u001B[38;5;241m=\u001B[39m \u001B[43mParallel\u001B[49m\u001B[43m(\u001B[49m\u001B[43mn_jobs\u001B[49m\u001B[38;5;241;43m=\u001B[39;49m\u001B[43mn_jobs\u001B[49m\u001B[43m)\u001B[49m\u001B[43m(\u001B[49m\n\u001B[0;32m     59\u001B[0m \u001B[43m        \u001B[49m\u001B[43mdelayed\u001B[49m\u001B[43m(\u001B[49m\u001B[43m_process_single_year\u001B[49m\u001B[43m)\u001B[49m\u001B[43m(\u001B[49m\u001B[43myear\u001B[49m\u001B[43m,\u001B[49m\u001B[43m \u001B[49m\u001B[43mfiles\u001B[49m\u001B[43m,\u001B[49m\u001B[43m \u001B[49m\u001B[43minput_path\u001B[49m\u001B[43m,\u001B[49m\u001B[43m \u001B[49m\u001B[43mconfig\u001B[49m\u001B[38;5;241;43m.\u001B[39;49m\u001B[43mTASK_NAME\u001B[49m\u001B[43m)\u001B[49m\n\u001B[0;32m     60\u001B[0m \u001B[43m        \u001B[49m\u001B[38;5;28;43;01mfor\u001B[39;49;00m\u001B[43m \u001B[49m\u001B[43myear\u001B[49m\u001B[43m \u001B[49m\u001B[38;5;129;43;01min\u001B[39;49;00m\u001B[43m \u001B[49m\u001B[38;5;28;43msorted\u001B[39;49m\u001B[43m(\u001B[49m\u001B[43myears\u001B[49m\u001B[43m)\u001B[49m\n\u001B[0;32m     61\u001B[0m \u001B[43m    \u001B[49m\u001B[43m)\u001B[49m\n\u001B[0;32m     62\u001B[0m \u001B[38;5;66;03m# 将结果列表转换为 pandas DataFrame\u001B[39;00m\n\u001B[0;32m     63\u001B[0m results_df \u001B[38;5;241m=\u001B[39m pd\u001B[38;5;241m.\u001B[39mDataFrame(all_data)\n",
      "File \u001B[1;32mF:\\xinhao\\miniforge\\envs\\xpluto\\Lib\\site-packages\\joblib\\parallel.py:2007\u001B[0m, in \u001B[0;36mParallel.__call__\u001B[1;34m(self, iterable)\u001B[0m\n\u001B[0;32m   2001\u001B[0m \u001B[38;5;66;03m# The first item from the output is blank, but it makes the interpreter\u001B[39;00m\n\u001B[0;32m   2002\u001B[0m \u001B[38;5;66;03m# progress until it enters the Try/Except block of the generator and\u001B[39;00m\n\u001B[0;32m   2003\u001B[0m \u001B[38;5;66;03m# reaches the first `yield` statement. This starts the asynchronous\u001B[39;00m\n\u001B[0;32m   2004\u001B[0m \u001B[38;5;66;03m# dispatch of the tasks to the workers.\u001B[39;00m\n\u001B[0;32m   2005\u001B[0m \u001B[38;5;28mnext\u001B[39m(output)\n\u001B[1;32m-> 2007\u001B[0m \u001B[38;5;28;01mreturn\u001B[39;00m output \u001B[38;5;28;01mif\u001B[39;00m \u001B[38;5;28mself\u001B[39m\u001B[38;5;241m.\u001B[39mreturn_generator \u001B[38;5;28;01melse\u001B[39;00m \u001B[38;5;28;43mlist\u001B[39;49m\u001B[43m(\u001B[49m\u001B[43moutput\u001B[49m\u001B[43m)\u001B[49m\n",
      "File \u001B[1;32mF:\\xinhao\\miniforge\\envs\\xpluto\\Lib\\site-packages\\joblib\\parallel.py:1650\u001B[0m, in \u001B[0;36mParallel._get_outputs\u001B[1;34m(self, iterator, pre_dispatch)\u001B[0m\n\u001B[0;32m   1647\u001B[0m     \u001B[38;5;28;01myield\u001B[39;00m\n\u001B[0;32m   1649\u001B[0m     \u001B[38;5;28;01mwith\u001B[39;00m \u001B[38;5;28mself\u001B[39m\u001B[38;5;241m.\u001B[39m_backend\u001B[38;5;241m.\u001B[39mretrieval_context():\n\u001B[1;32m-> 1650\u001B[0m         \u001B[38;5;28;01myield from\u001B[39;00m \u001B[38;5;28mself\u001B[39m\u001B[38;5;241m.\u001B[39m_retrieve()\n\u001B[0;32m   1652\u001B[0m \u001B[38;5;28;01mexcept\u001B[39;00m \u001B[38;5;167;01mGeneratorExit\u001B[39;00m:\n\u001B[0;32m   1653\u001B[0m     \u001B[38;5;66;03m# The generator has been garbage collected before being fully\u001B[39;00m\n\u001B[0;32m   1654\u001B[0m     \u001B[38;5;66;03m# consumed. This aborts the remaining tasks if possible and warn\u001B[39;00m\n\u001B[0;32m   1655\u001B[0m     \u001B[38;5;66;03m# the user if necessary.\u001B[39;00m\n\u001B[0;32m   1656\u001B[0m     \u001B[38;5;28mself\u001B[39m\u001B[38;5;241m.\u001B[39m_exception \u001B[38;5;241m=\u001B[39m \u001B[38;5;28;01mTrue\u001B[39;00m\n",
      "File \u001B[1;32mF:\\xinhao\\miniforge\\envs\\xpluto\\Lib\\site-packages\\joblib\\parallel.py:1754\u001B[0m, in \u001B[0;36mParallel._retrieve\u001B[1;34m(self)\u001B[0m\n\u001B[0;32m   1747\u001B[0m \u001B[38;5;28;01mwhile\u001B[39;00m \u001B[38;5;28mself\u001B[39m\u001B[38;5;241m.\u001B[39m_wait_retrieval():\n\u001B[0;32m   1748\u001B[0m \n\u001B[0;32m   1749\u001B[0m     \u001B[38;5;66;03m# If the callback thread of a worker has signaled that its task\u001B[39;00m\n\u001B[0;32m   1750\u001B[0m     \u001B[38;5;66;03m# triggered an exception, or if the retrieval loop has raised an\u001B[39;00m\n\u001B[0;32m   1751\u001B[0m     \u001B[38;5;66;03m# exception (e.g. `GeneratorExit`), exit the loop and surface the\u001B[39;00m\n\u001B[0;32m   1752\u001B[0m     \u001B[38;5;66;03m# worker traceback.\u001B[39;00m\n\u001B[0;32m   1753\u001B[0m     \u001B[38;5;28;01mif\u001B[39;00m \u001B[38;5;28mself\u001B[39m\u001B[38;5;241m.\u001B[39m_aborting:\n\u001B[1;32m-> 1754\u001B[0m         \u001B[38;5;28;43mself\u001B[39;49m\u001B[38;5;241;43m.\u001B[39;49m\u001B[43m_raise_error_fast\u001B[49m\u001B[43m(\u001B[49m\u001B[43m)\u001B[49m\n\u001B[0;32m   1755\u001B[0m         \u001B[38;5;28;01mbreak\u001B[39;00m\n\u001B[0;32m   1757\u001B[0m     \u001B[38;5;66;03m# If the next job is not ready for retrieval yet, we just wait for\u001B[39;00m\n\u001B[0;32m   1758\u001B[0m     \u001B[38;5;66;03m# async callbacks to progress.\u001B[39;00m\n",
      "File \u001B[1;32mF:\\xinhao\\miniforge\\envs\\xpluto\\Lib\\site-packages\\joblib\\parallel.py:1789\u001B[0m, in \u001B[0;36mParallel._raise_error_fast\u001B[1;34m(self)\u001B[0m\n\u001B[0;32m   1785\u001B[0m \u001B[38;5;66;03m# If this error job exists, immediately raise the error by\u001B[39;00m\n\u001B[0;32m   1786\u001B[0m \u001B[38;5;66;03m# calling get_result. This job might not exists if abort has been\u001B[39;00m\n\u001B[0;32m   1787\u001B[0m \u001B[38;5;66;03m# called directly or if the generator is gc'ed.\u001B[39;00m\n\u001B[0;32m   1788\u001B[0m \u001B[38;5;28;01mif\u001B[39;00m error_job \u001B[38;5;129;01mis\u001B[39;00m \u001B[38;5;129;01mnot\u001B[39;00m \u001B[38;5;28;01mNone\u001B[39;00m:\n\u001B[1;32m-> 1789\u001B[0m     \u001B[43merror_job\u001B[49m\u001B[38;5;241;43m.\u001B[39;49m\u001B[43mget_result\u001B[49m\u001B[43m(\u001B[49m\u001B[38;5;28;43mself\u001B[39;49m\u001B[38;5;241;43m.\u001B[39;49m\u001B[43mtimeout\u001B[49m\u001B[43m)\u001B[49m\n",
      "File \u001B[1;32mF:\\xinhao\\miniforge\\envs\\xpluto\\Lib\\site-packages\\joblib\\parallel.py:745\u001B[0m, in \u001B[0;36mBatchCompletionCallBack.get_result\u001B[1;34m(self, timeout)\u001B[0m\n\u001B[0;32m    739\u001B[0m backend \u001B[38;5;241m=\u001B[39m \u001B[38;5;28mself\u001B[39m\u001B[38;5;241m.\u001B[39mparallel\u001B[38;5;241m.\u001B[39m_backend\n\u001B[0;32m    741\u001B[0m \u001B[38;5;28;01mif\u001B[39;00m backend\u001B[38;5;241m.\u001B[39msupports_retrieve_callback:\n\u001B[0;32m    742\u001B[0m     \u001B[38;5;66;03m# We assume that the result has already been retrieved by the\u001B[39;00m\n\u001B[0;32m    743\u001B[0m     \u001B[38;5;66;03m# callback thread, and is stored internally. It's just waiting to\u001B[39;00m\n\u001B[0;32m    744\u001B[0m     \u001B[38;5;66;03m# be returned.\u001B[39;00m\n\u001B[1;32m--> 745\u001B[0m     \u001B[38;5;28;01mreturn\u001B[39;00m \u001B[38;5;28;43mself\u001B[39;49m\u001B[38;5;241;43m.\u001B[39;49m\u001B[43m_return_or_raise\u001B[49m\u001B[43m(\u001B[49m\u001B[43m)\u001B[49m\n\u001B[0;32m    747\u001B[0m \u001B[38;5;66;03m# For other backends, the main thread needs to run the retrieval step.\u001B[39;00m\n\u001B[0;32m    748\u001B[0m \u001B[38;5;28;01mtry\u001B[39;00m:\n",
      "File \u001B[1;32mF:\\xinhao\\miniforge\\envs\\xpluto\\Lib\\site-packages\\joblib\\parallel.py:763\u001B[0m, in \u001B[0;36mBatchCompletionCallBack._return_or_raise\u001B[1;34m(self)\u001B[0m\n\u001B[0;32m    761\u001B[0m \u001B[38;5;28;01mtry\u001B[39;00m:\n\u001B[0;32m    762\u001B[0m     \u001B[38;5;28;01mif\u001B[39;00m \u001B[38;5;28mself\u001B[39m\u001B[38;5;241m.\u001B[39mstatus \u001B[38;5;241m==\u001B[39m TASK_ERROR:\n\u001B[1;32m--> 763\u001B[0m         \u001B[38;5;28;01mraise\u001B[39;00m \u001B[38;5;28mself\u001B[39m\u001B[38;5;241m.\u001B[39m_result\n\u001B[0;32m    764\u001B[0m     \u001B[38;5;28;01mreturn\u001B[39;00m \u001B[38;5;28mself\u001B[39m\u001B[38;5;241m.\u001B[39m_result\n\u001B[0;32m    765\u001B[0m \u001B[38;5;28;01mfinally\u001B[39;00m:\n",
      "\u001B[1;31mMemoryError\u001B[0m: Unable to allocate 11.8 GiB for an array with shape (2, 168778, 28, 2, 28, 6) and data type float32"
     ]
    }
   ],
   "source": [
    "njobs = math.ceil(41 / 4)\n",
    "task_dir = f'../../../output/{config.TASK_NAME}/carbon_price/0_base_data'\n",
    "years = list(range(2020,2051,1))\n",
    "for input_file in input_files:\n",
    "    input_path = os.path.join(task_dir, input_file)\n",
    "    df = summarize_netcdf_to_excel(input_path, years, economic_files,njobs,'economic')\n",
    "for input_file in input_files_1:\n",
    "    input_path = get_path(config.TASK_NAME, input_file)\n",
    "    df = summarize_netcdf_to_excel(input_path, years, carbon_files,njobs,'carbon')\n",
    "for input_file in input_files_2:\n",
    "    input_path = get_path(config.TASK_NAME, input_file)\n",
    "    df = summarize_netcdf_to_excel(input_path, years, bio_files,njobs,'biodiversity')"
   ],
   "metadata": {
    "collapsed": false,
    "ExecuteTime": {
     "end_time": "2025-09-13T07:08:37.184196700Z",
     "start_time": "2025-09-13T06:56:12.048974900Z"
    }
   },
   "id": "68af428ed822d11c"
  },
  {
   "cell_type": "code",
   "execution_count": null,
   "outputs": [],
   "source": [
    "years = list(range(2020,2051,1))"
   ],
   "metadata": {
    "collapsed": false
   },
   "id": "886d474c96998ae0"
  },
  {
   "cell_type": "code",
   "execution_count": null,
   "outputs": [],
   "source": [
    "years"
   ],
   "metadata": {
    "collapsed": false
   },
   "id": "83a4bfa364ed4b1e"
  },
  {
   "cell_type": "code",
   "execution_count": null,
   "outputs": [],
   "source": [],
   "metadata": {
    "collapsed": false
   },
   "id": "5d5410a768d339b6"
  }
 ],
 "metadata": {
  "kernelspec": {
   "display_name": "Python 3",
   "language": "python",
   "name": "python3"
  },
  "language_info": {
   "codemirror_mode": {
    "name": "ipython",
    "version": 2
   },
   "file_extension": ".py",
   "mimetype": "text/x-python",
   "name": "python",
   "nbconvert_exporter": "python",
   "pygments_lexer": "ipython2",
   "version": "2.7.6"
  }
 },
 "nbformat": 4,
 "nbformat_minor": 5
}
