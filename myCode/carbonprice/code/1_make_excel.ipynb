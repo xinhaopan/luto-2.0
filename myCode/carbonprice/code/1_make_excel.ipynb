{
 "cells": [
  {
   "cell_type": "code",
   "execution_count": 2,
   "id": "initial_id",
   "metadata": {
    "collapsed": true,
    "ExecuteTime": {
     "end_time": "2025-09-13T12:09:33.306943300Z",
     "start_time": "2025-09-13T12:09:33.263819900Z"
    }
   },
   "outputs": [],
   "source": [
    "import os\n",
    "import xarray as xr\n",
    "from joblib import Parallel, delayed\n",
    "import pandas as pd\n",
    "from typing import List, Dict, Any\n",
    "from pathlib import Path\n",
    "import math\n",
    "\n",
    "from tools.tools import get_path,get_year,filter_all_from_dims\n",
    "import tools.config as config"
   ]
  },
  {
   "cell_type": "code",
   "execution_count": 3,
   "outputs": [],
   "source": [
    "def summarize_netcdf_to_excel(\n",
    "    input_file: str,\n",
    "    years: List[int],\n",
    "    files: List[str],\n",
    "    n_jobs: int = 41,\n",
    "    excel_type: str = \"all\",\n",
    ") -> None:\n",
    "    \"\"\"\n",
    "    从指定的目录结构中读取单变量NetCDF文件，计算其总和，并将结果保存到Excel。\n",
    "\n",
    "    Args:\n",
    "        input_path (str): 包含 'output_{year}' 子目录的基础路径。\n",
    "        years (List[int]): 需要处理的年份列表。\n",
    "        files (List[str]): 文件的基础名称列表 (不含年份和扩展名)。\n",
    "        output_excel_path (str, optional): 输出的Excel文件名。\n",
    "                                            默认为 \"economic_summary.xlsx\"。\n",
    "    \"\"\"\n",
    "    input_dir = f'../../../output/{config.TASK_NAME}/carbon_price/0_base_data'\n",
    "    input_path = os.path.join(input_dir, input_file)\n",
    "    print(f\"Start {input_path}...\")\n",
    "\n",
    "    def _process_single_year(\n",
    "        year: int, \n",
    "        files: List[str], \n",
    "        input_path: str, \n",
    "    ) -> Dict[str, Any]:\n",
    "        \"\"\"\n",
    "        Processes all specified files for a single year.\n",
    "        This function is designed to be called in parallel by joblib.\n",
    "        \n",
    "        Returns:\n",
    "            A dictionary containing the results for the given year (e.g., {'Year': 2025, 'file1': 123.4, ...}).\n",
    "        \"\"\"\n",
    "        print(f\"Processing year: {year}\")\n",
    "        year_data = {'Year': year}\n",
    "    \n",
    "        for file in files:\n",
    "            total_sum = None\n",
    "            # Build the full file path based on the file name\n",
    "            file_path = os.path.join(\n",
    "                input_path,\n",
    "                f'{year}',\n",
    "                f'{file}_{year}.nc'\n",
    "            )\n",
    "\n",
    "            # Check for file existence before trying to open\n",
    "            if os.path.exists(file_path):\n",
    "                with xr.open_dataarray(file_path) as da:\n",
    "                    filtered_da = filter_all_from_dims(da).load() \n",
    "                    total_sum = filtered_da.sum().item()\n",
    "            else:\n",
    "                print(f\"  - WARNING: File '{file_path}' for year {year} does not exist.\")\n",
    "\n",
    "            # Add the result to the dictionary for the current year\n",
    "            year_data[file] = total_sum\n",
    "                \n",
    "        return year_data\n",
    "\n",
    "    all_data = Parallel(n_jobs=n_jobs)(\n",
    "            delayed(_process_single_year)(year, files, input_path, config.TASK_NAME)\n",
    "            for year in sorted(years)\n",
    "        )\n",
    "    # 将结果列表转换为 pandas DataFrame\n",
    "    results_df = pd.DataFrame(all_data)\n",
    "    \n",
    "    # 将 'Year' 列设为索引\n",
    "    results_df = results_df.set_index('Year')\n",
    "    results_df = results_df/1e6\n",
    "    results_df = results_df.rename(columns=config.KEY_TO_COLUMN_MAP)\n",
    "    output_excel_path = os.path.join(\n",
    "                    f'../../../output/{config.TASK_NAME}',\n",
    "                    'carbon_price',\n",
    "                    '1_excel',\n",
    "                    f'0_Origin_{excel_type}_{input_file}.xlsx')\n",
    "    results_df.to_excel(output_excel_path)\n",
    "    return results_df"
   ],
   "metadata": {
    "collapsed": false,
    "ExecuteTime": {
     "end_time": "2025-09-13T12:09:34.396898400Z",
     "start_time": "2025-09-13T12:09:34.338184300Z"
    }
   },
   "id": "1feec2f391f5fe3"
  },
  {
   "cell_type": "code",
   "execution_count": 4,
   "outputs": [],
   "source": [
    "economic_files = config.economic_files\n",
    "carbon_files = config.carbon_files\n",
    "bio_files = config.bio_files\n",
    "\n",
    "input_files_0 = config.input_files_0\n",
    "input_files_1 = config.input_files_1\n",
    "input_files_2 = config.input_files_2\n",
    "input_files = config.input_files"
   ],
   "metadata": {
    "collapsed": false,
    "ExecuteTime": {
     "end_time": "2025-09-13T12:09:35.520252200Z",
     "start_time": "2025-09-13T12:09:35.509798100Z"
    }
   },
   "id": "dc83cdf468d99413"
  },
  {
   "cell_type": "code",
   "execution_count": 5,
   "outputs": [
    {
     "name": "stdout",
     "output_type": "stream",
     "text": [
      "Start ../../../output/20250908_Paper2_Results_NCI/carbon_price/0_base_data\\Run_13_GHG_off_BIO_off_CUT_50...\n",
      "Start ../../../output/20250908_Paper2_Results_NCI/carbon_price/0_base_data\\Run_06_GHG_high_BIO_off_CUT_50...\n",
      "Start ../../../output/20250908_Paper2_Results_NCI/carbon_price/0_base_data\\Run_12_GHG_low_BIO_off_CUT_50...\n",
      "Start ../../../output/20250908_Paper2_Results_NCI/carbon_price/0_base_data\\Run_01_GHG_high_BIO_high_CUT_50...\n",
      "Start ../../../output/20250908_Paper2_Results_NCI/carbon_price/0_base_data\\Run_02_GHG_high_BIO_high_CUT_40...\n",
      "Start ../../../output/20250908_Paper2_Results_NCI/carbon_price/0_base_data\\Run_03_GHG_high_BIO_high_CUT_30...\n",
      "Start ../../../output/20250908_Paper2_Results_NCI/carbon_price/0_base_data\\Run_04_GHG_high_BIO_high_CUT_20...\n",
      "Start ../../../output/20250908_Paper2_Results_NCI/carbon_price/0_base_data\\Run_05_GHG_high_BIO_high_CUT_10...\n",
      "Start ../../../output/20250908_Paper2_Results_NCI/carbon_price/0_base_data\\Run_07_GHG_low_BIO_high_CUT_50...\n",
      "Start ../../../output/20250908_Paper2_Results_NCI/carbon_price/0_base_data\\Run_08_GHG_low_BIO_high_CUT_40...\n",
      "Start ../../../output/20250908_Paper2_Results_NCI/carbon_price/0_base_data\\Run_09_GHG_low_BIO_high_CUT_30...\n",
      "Start ../../../output/20250908_Paper2_Results_NCI/carbon_price/0_base_data\\Run_10_GHG_low_BIO_high_CUT_20...\n",
      "Start ../../../output/20250908_Paper2_Results_NCI/carbon_price/0_base_data\\Run_11_GHG_low_BIO_high_CUT_10...\n",
      "Start ../../../output/20250908_Paper2_Results_NCI/carbon_price/0_base_data\\Run_06_GHG_high_BIO_off_CUT_50...\n",
      "Start ../../../output/20250908_Paper2_Results_NCI/carbon_price/0_base_data\\Run_12_GHG_low_BIO_off_CUT_50...\n",
      "Start ../../../output/20250908_Paper2_Results_NCI/carbon_price/0_base_data\\Run_01_GHG_high_BIO_high_CUT_50...\n",
      "Start ../../../output/20250908_Paper2_Results_NCI/carbon_price/0_base_data\\Run_02_GHG_high_BIO_high_CUT_40...\n",
      "Start ../../../output/20250908_Paper2_Results_NCI/carbon_price/0_base_data\\Run_03_GHG_high_BIO_high_CUT_30...\n",
      "Start ../../../output/20250908_Paper2_Results_NCI/carbon_price/0_base_data\\Run_04_GHG_high_BIO_high_CUT_20...\n",
      "Start ../../../output/20250908_Paper2_Results_NCI/carbon_price/0_base_data\\Run_05_GHG_high_BIO_high_CUT_10...\n",
      "Start ../../../output/20250908_Paper2_Results_NCI/carbon_price/0_base_data\\Run_07_GHG_low_BIO_high_CUT_50...\n",
      "Start ../../../output/20250908_Paper2_Results_NCI/carbon_price/0_base_data\\Run_08_GHG_low_BIO_high_CUT_40...\n",
      "Start ../../../output/20250908_Paper2_Results_NCI/carbon_price/0_base_data\\Run_09_GHG_low_BIO_high_CUT_30...\n",
      "Start ../../../output/20250908_Paper2_Results_NCI/carbon_price/0_base_data\\Run_10_GHG_low_BIO_high_CUT_20...\n",
      "Start ../../../output/20250908_Paper2_Results_NCI/carbon_price/0_base_data\\Run_11_GHG_low_BIO_high_CUT_10...\n"
     ]
    }
   ],
   "source": [
    "njobs = math.ceil(41 / 10)\n",
    "task_dir = f'../../../output/{config.TASK_NAME}/carbon_price/0_base_data'\n",
    "years = list(range(2010,2051,1))\n",
    "for input_file in input_files_1:\n",
    "    df = summarize_netcdf_to_excel(input_file, years, carbon_files,njobs,'carbon')\n",
    "for input_file in input_files_2:\n",
    "    df = summarize_netcdf_to_excel(input_file, years, bio_files,njobs,'biodiversity')\n",
    "for input_file in input_files:\n",
    "    df = summarize_netcdf_to_excel(input_file, years, economic_files,njobs,'economic')"
   ],
   "metadata": {
    "collapsed": false,
    "ExecuteTime": {
     "end_time": "2025-09-13T16:44:06.545286300Z",
     "start_time": "2025-09-13T12:09:59.555001800Z"
    }
   },
   "id": "68af428ed822d11c"
  },
  {
   "cell_type": "code",
   "execution_count": null,
   "outputs": [],
   "source": [
    "years = list(range(2020,2051,1))"
   ],
   "metadata": {
    "collapsed": false
   },
   "id": "886d474c96998ae0"
  },
  {
   "cell_type": "code",
   "execution_count": null,
   "outputs": [],
   "source": [
    "years"
   ],
   "metadata": {
    "collapsed": false
   },
   "id": "83a4bfa364ed4b1e"
  },
  {
   "cell_type": "code",
   "execution_count": null,
   "outputs": [],
   "source": [],
   "metadata": {
    "collapsed": false
   },
   "id": "5d5410a768d339b6"
  }
 ],
 "metadata": {
  "kernelspec": {
   "display_name": "Python 3",
   "language": "python",
   "name": "python3"
  },
  "language_info": {
   "codemirror_mode": {
    "name": "ipython",
    "version": 2
   },
   "file_extension": ".py",
   "mimetype": "text/x-python",
   "name": "python",
   "nbconvert_exporter": "python",
   "pygments_lexer": "ipython2",
   "version": "2.7.6"
  }
 },
 "nbformat": 4,
 "nbformat_minor": 5
}
