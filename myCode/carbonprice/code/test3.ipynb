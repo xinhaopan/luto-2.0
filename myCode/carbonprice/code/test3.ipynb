{
 "cells": [
  {
   "cell_type": "code",
   "execution_count": 7,
   "outputs": [],
   "source": [
    "\n",
    "import xarray as xr\n",
    "import rasterio\n",
    "import numpy as np"
   ],
   "metadata": {
    "collapsed": false
   },
   "id": "initial_id"
  },
  {
   "cell_type": "code",
   "execution_count": 8,
   "outputs": [],
   "source": [
    "def npy_to_map(input_arr, output_tif, proj_file,\n",
    "               fill_value=np.nan, shift=0,\n",
    "               dtype=rasterio.float32):\n",
    "    \"\"\"\n",
    "    将一维 .npy 数组铺回到栅格地图中。\n",
    "    - input_arr: path to .npy (1D array of length = number of valid pixels in proj_file)\n",
    "    - output_tif: 输出 GeoTIFF 路径\n",
    "    - proj_file: 用于投影和形状参照的已有 GeoTIFF\n",
    "    - fill_value: 初始填充值（默认 np.nan）\n",
    "    - shift: 在写入前对数据统一加的偏移量\n",
    "    - dtype: 输出栅格的数据类型\n",
    "    \"\"\"\n",
    "    # if not input_arr.lower().endswith(\".npy\"):\n",
    "    #     return\n",
    "\n",
    "    # 1) 读取参考栅格\n",
    "    with rasterio.open(proj_file) as src:\n",
    "        mask2D = src.read(1) >= 0\n",
    "        transform = src.transform\n",
    "        crs = src.crs\n",
    "        profile = src.profile.copy()\n",
    "        shape = src.shape\n",
    "\n",
    "    # 2) 加载一维数组\n",
    "    nonzeroes = np.where(mask2D)\n",
    "    lumap = input_arr\n",
    "    if lumap.ndim != 1:\n",
    "        raise ValueError(f\"{input_arr} 中的数组不是一维的\")\n",
    "    if len(lumap) != len(nonzeroes[0]):\n",
    "        print(f\"Warning: {input_arr} 的长度为 {len(lumap)}, proj_file 中有效像元数量为 {len(nonzeroes[0])}.\")\n",
    "        raise ValueError(\"lumap 的长度与 proj_file 中的有效像元数量不一致\")\n",
    "\n",
    "    # 3) 构建全图，并赋值\n",
    "    themap = np.full(shape, fill_value=fill_value, dtype=float)\n",
    "    themap[nonzeroes] = lumap + shift\n",
    "\n",
    "    # 4) 把 +/- inf 都变成 np.nan\n",
    "    themap[~np.isfinite(themap)] = np.nan\n",
    "\n",
    "    # 5) 更新 profile 并写出\n",
    "    profile.update({\n",
    "        'dtype': dtype,\n",
    "        'count': 1,\n",
    "        'compress': 'lzw',\n",
    "        'nodata': fill_value\n",
    "    })\n",
    "    with rasterio.open(output_tif, 'w', **profile) as dst:\n",
    "        dst.write(themap.astype(dtype), 1)\n",
    "\n",
    "    return output_tif"
   ],
   "metadata": {
    "collapsed": false
   },
   "id": "48ef4a4f1ef0696d"
  },
  {
   "cell_type": "code",
   "execution_count": 2,
   "outputs": [],
   "source": [
    "proj_file = r\"N:\\LUF-Modelling\\LUTO2_XH\\LUTO2\\output\\20250831_Price_Task_NCI\\Run_002_GHG_high_PERCENT_20_BIO_high_CUT_20\\output\\2025_09_01__21_48_14_RF5_2010-2050\\out_2013\\ammap_2013.tiff\"\n"
   ],
   "metadata": {
    "collapsed": false
   },
   "id": "6cc1497b344b9299"
  },
  {
   "cell_type": "code",
   "execution_count": 14,
   "outputs": [
    {
     "data": {
      "text/plain": "'N:\\\\LUF-Modelling\\\\LUTO2_XH\\\\LUTO2\\\\output\\\\20250908_Paper2_Results_NCI\\\\carbon_price\\\\4_tif\\\\total_cost.tif'"
     },
     "execution_count": 14,
     "metadata": {},
     "output_type": "execute_result"
    }
   ],
   "source": [
    "input_path = r\"N:\\LUF-Modelling\\LUTO2_XH\\LUTO2\\output\\20250908_Paper2_Results_NCI\\carbon_price\\0_base_data\\carbon_high\\2050\\xr_total_cost_carbon_high_amortised_2050.nc\"\n",
    "input_xr = xr.open_dataarray(input_path)\n",
    "input_arr = input_xr.to_numpy()\n",
    "output_tif = r\"N:\\LUF-Modelling\\LUTO2_XH\\LUTO2\\output\\20250908_Paper2_Results_NCI\\carbon_price\\4_tif\\total_cost.tif\"\n",
    "npy_to_map(input_arr, output_tif, proj_file)"
   ],
   "metadata": {
    "collapsed": false
   },
   "id": "5b9556c396ace31c"
  },
  {
   "cell_type": "code",
   "execution_count": 13,
   "outputs": [
    {
     "data": {
      "text/plain": "'N:\\\\LUF-Modelling\\\\LUTO2_XH\\\\LUTO2\\\\output\\\\20250908_Paper2_Results_NCI\\\\carbon_price\\\\4_tif\\\\carbon.tif'"
     },
     "execution_count": 13,
     "metadata": {},
     "output_type": "execute_result"
    }
   ],
   "source": [
    "input_path = r\"N:\\LUF-Modelling\\LUTO2_XH\\LUTO2\\output\\20250908_Paper2_Results_NCI\\carbon_price\\0_base_data\\carbon_high\\2050\\xr_total_carbon_high_2050.nc\"\n",
    "input_xr = xr.open_dataarray(input_path)\n",
    "input_arr = input_xr.to_numpy()\n",
    "output_tif = r\"N:\\LUF-Modelling\\LUTO2_XH\\LUTO2\\output\\20250908_Paper2_Results_NCI\\carbon_price\\4_tif\\carbon.tif\"\n",
    "npy_to_map(input_arr, output_tif, proj_file)"
   ],
   "metadata": {
    "collapsed": false
   },
   "id": "d788245012c006ee"
  },
  {
   "cell_type": "code",
   "execution_count": 29,
   "outputs": [
    {
     "data": {
      "text/plain": "'N:\\\\LUF-Modelling\\\\LUTO2_XH\\\\LUTO2\\\\output\\\\20250908_Paper2_Results_NCI\\\\carbon_price\\\\4_tif\\\\ag_cost.tif'"
     },
     "execution_count": 29,
     "metadata": {},
     "output_type": "execute_result"
    }
   ],
   "source": [
    "input_path = r\"N:\\LUF-Modelling\\LUTO2_XH\\LUTO2\\output\\20250908_Paper2_Results_NCI\\carbon_price\\0_base_data\\carbon_high\\2050\\xr_cost_ag_carbon_high_2050.nc\"\n",
    "input_xr = xr.open_dataarray(input_path)\n",
    "input_arr = input_xr.sum(dim=['lm','lu']).to_numpy()\n",
    "output_tif = r\"N:\\LUF-Modelling\\LUTO2_XH\\LUTO2\\output\\20250908_Paper2_Results_NCI\\carbon_price\\4_tif\\ag_cost.tif\"\n",
    "npy_to_map(input_arr, output_tif, proj_file)"
   ],
   "metadata": {
    "collapsed": false
   },
   "id": "85f361ba0cfce75d"
  },
  {
   "cell_type": "code",
   "execution_count": 30,
   "outputs": [
    {
     "ename": "CPLE_AppDefinedError",
     "evalue": "Deleting N:/LUF-Modelling/LUTO2_XH/LUTO2/output/20250908_Paper2_Results_NCI/carbon_price/4_tif/non_ag.tif failed: Permission denied",
     "output_type": "error",
     "traceback": [
      "\u001B[1;31m---------------------------------------------------------------------------\u001B[0m",
      "\u001B[1;31mCPLE_AppDefinedError\u001B[0m                      Traceback (most recent call last)",
      "Cell \u001B[1;32mIn[30], line 5\u001B[0m\n\u001B[0;32m      3\u001B[0m input_arr \u001B[38;5;241m=\u001B[39m input_xr\u001B[38;5;241m.\u001B[39msum(dim\u001B[38;5;241m=\u001B[39m[d \u001B[38;5;28;01mfor\u001B[39;00m d \u001B[38;5;129;01min\u001B[39;00m input_xr\u001B[38;5;241m.\u001B[39mdims \u001B[38;5;28;01mif\u001B[39;00m d \u001B[38;5;241m!=\u001B[39m \u001B[38;5;124m\"\u001B[39m\u001B[38;5;124mcell\u001B[39m\u001B[38;5;124m\"\u001B[39m])\u001B[38;5;241m.\u001B[39mto_numpy()\n\u001B[0;32m      4\u001B[0m output_tif \u001B[38;5;241m=\u001B[39m \u001B[38;5;124mr\u001B[39m\u001B[38;5;124m\"\u001B[39m\u001B[38;5;124mN:\u001B[39m\u001B[38;5;124m\\\u001B[39m\u001B[38;5;124mLUF-Modelling\u001B[39m\u001B[38;5;124m\\\u001B[39m\u001B[38;5;124mLUTO2_XH\u001B[39m\u001B[38;5;124m\\\u001B[39m\u001B[38;5;124mLUTO2\u001B[39m\u001B[38;5;124m\\\u001B[39m\u001B[38;5;124moutput\u001B[39m\u001B[38;5;124m\\\u001B[39m\u001B[38;5;124m20250908_Paper2_Results_NCI\u001B[39m\u001B[38;5;124m\\\u001B[39m\u001B[38;5;124mcarbon_price\u001B[39m\u001B[38;5;124m\\\u001B[39m\u001B[38;5;124m4_tif\u001B[39m\u001B[38;5;124m\\\u001B[39m\u001B[38;5;124mnon_ag.tif\u001B[39m\u001B[38;5;124m\"\u001B[39m\n\u001B[1;32m----> 5\u001B[0m \u001B[43mnpy_to_map\u001B[49m\u001B[43m(\u001B[49m\u001B[43minput_arr\u001B[49m\u001B[43m,\u001B[49m\u001B[43m \u001B[49m\u001B[43moutput_tif\u001B[49m\u001B[43m,\u001B[49m\u001B[43m \u001B[49m\u001B[43mproj_file\u001B[49m\u001B[43m)\u001B[49m\n",
      "Cell \u001B[1;32mIn[8], line 47\u001B[0m, in \u001B[0;36mnpy_to_map\u001B[1;34m(input_arr, output_tif, proj_file, fill_value, shift, dtype)\u001B[0m\n\u001B[0;32m     40\u001B[0m \u001B[38;5;66;03m# 5) 更新 profile 并写出\u001B[39;00m\n\u001B[0;32m     41\u001B[0m profile\u001B[38;5;241m.\u001B[39mupdate({\n\u001B[0;32m     42\u001B[0m     \u001B[38;5;124m'\u001B[39m\u001B[38;5;124mdtype\u001B[39m\u001B[38;5;124m'\u001B[39m: dtype,\n\u001B[0;32m     43\u001B[0m     \u001B[38;5;124m'\u001B[39m\u001B[38;5;124mcount\u001B[39m\u001B[38;5;124m'\u001B[39m: \u001B[38;5;241m1\u001B[39m,\n\u001B[0;32m     44\u001B[0m     \u001B[38;5;124m'\u001B[39m\u001B[38;5;124mcompress\u001B[39m\u001B[38;5;124m'\u001B[39m: \u001B[38;5;124m'\u001B[39m\u001B[38;5;124mlzw\u001B[39m\u001B[38;5;124m'\u001B[39m,\n\u001B[0;32m     45\u001B[0m     \u001B[38;5;124m'\u001B[39m\u001B[38;5;124mnodata\u001B[39m\u001B[38;5;124m'\u001B[39m: fill_value\n\u001B[0;32m     46\u001B[0m })\n\u001B[1;32m---> 47\u001B[0m \u001B[38;5;28;01mwith\u001B[39;00m \u001B[43mrasterio\u001B[49m\u001B[38;5;241;43m.\u001B[39;49m\u001B[43mopen\u001B[49m\u001B[43m(\u001B[49m\u001B[43moutput_tif\u001B[49m\u001B[43m,\u001B[49m\u001B[43m \u001B[49m\u001B[38;5;124;43m'\u001B[39;49m\u001B[38;5;124;43mw\u001B[39;49m\u001B[38;5;124;43m'\u001B[39;49m\u001B[43m,\u001B[49m\u001B[43m \u001B[49m\u001B[38;5;241;43m*\u001B[39;49m\u001B[38;5;241;43m*\u001B[39;49m\u001B[43mprofile\u001B[49m\u001B[43m)\u001B[49m \u001B[38;5;28;01mas\u001B[39;00m dst:\n\u001B[0;32m     48\u001B[0m     dst\u001B[38;5;241m.\u001B[39mwrite(themap\u001B[38;5;241m.\u001B[39mastype(dtype), \u001B[38;5;241m1\u001B[39m)\n\u001B[0;32m     50\u001B[0m \u001B[38;5;28;01mreturn\u001B[39;00m output_tif\n",
      "File \u001B[1;32mF:\\xinhao\\miniforge\\envs\\xpluto\\Lib\\site-packages\\rasterio\\env.py:451\u001B[0m, in \u001B[0;36mensure_env_with_credentials.<locals>.wrapper\u001B[1;34m(*args, **kwds)\u001B[0m\n\u001B[0;32m    448\u001B[0m     session \u001B[38;5;241m=\u001B[39m DummySession()\n\u001B[0;32m    450\u001B[0m \u001B[38;5;28;01mwith\u001B[39;00m env_ctor(session\u001B[38;5;241m=\u001B[39msession):\n\u001B[1;32m--> 451\u001B[0m     \u001B[38;5;28;01mreturn\u001B[39;00m \u001B[43mf\u001B[49m\u001B[43m(\u001B[49m\u001B[38;5;241;43m*\u001B[39;49m\u001B[43margs\u001B[49m\u001B[43m,\u001B[49m\u001B[43m \u001B[49m\u001B[38;5;241;43m*\u001B[39;49m\u001B[38;5;241;43m*\u001B[39;49m\u001B[43mkwds\u001B[49m\u001B[43m)\u001B[49m\n",
      "File \u001B[1;32mF:\\xinhao\\miniforge\\envs\\xpluto\\Lib\\site-packages\\rasterio\\__init__.py:314\u001B[0m, in \u001B[0;36mopen\u001B[1;34m(fp, mode, driver, width, height, count, crs, transform, dtype, nodata, sharing, **kwargs)\u001B[0m\n\u001B[0;32m    312\u001B[0m writer \u001B[38;5;241m=\u001B[39m get_writer_for_driver(driver)\n\u001B[0;32m    313\u001B[0m \u001B[38;5;28;01mif\u001B[39;00m writer \u001B[38;5;129;01mis\u001B[39;00m \u001B[38;5;129;01mnot\u001B[39;00m \u001B[38;5;28;01mNone\u001B[39;00m:\n\u001B[1;32m--> 314\u001B[0m     dataset \u001B[38;5;241m=\u001B[39m \u001B[43mwriter\u001B[49m\u001B[43m(\u001B[49m\n\u001B[0;32m    315\u001B[0m \u001B[43m        \u001B[49m\u001B[43mpath\u001B[49m\u001B[43m,\u001B[49m\n\u001B[0;32m    316\u001B[0m \u001B[43m        \u001B[49m\u001B[43mmode\u001B[49m\u001B[43m,\u001B[49m\n\u001B[0;32m    317\u001B[0m \u001B[43m        \u001B[49m\u001B[43mdriver\u001B[49m\u001B[38;5;241;43m=\u001B[39;49m\u001B[43mdriver\u001B[49m\u001B[43m,\u001B[49m\n\u001B[0;32m    318\u001B[0m \u001B[43m        \u001B[49m\u001B[43mwidth\u001B[49m\u001B[38;5;241;43m=\u001B[39;49m\u001B[43mwidth\u001B[49m\u001B[43m,\u001B[49m\n\u001B[0;32m    319\u001B[0m \u001B[43m        \u001B[49m\u001B[43mheight\u001B[49m\u001B[38;5;241;43m=\u001B[39;49m\u001B[43mheight\u001B[49m\u001B[43m,\u001B[49m\n\u001B[0;32m    320\u001B[0m \u001B[43m        \u001B[49m\u001B[43mcount\u001B[49m\u001B[38;5;241;43m=\u001B[39;49m\u001B[43mcount\u001B[49m\u001B[43m,\u001B[49m\n\u001B[0;32m    321\u001B[0m \u001B[43m        \u001B[49m\u001B[43mcrs\u001B[49m\u001B[38;5;241;43m=\u001B[39;49m\u001B[43mcrs\u001B[49m\u001B[43m,\u001B[49m\n\u001B[0;32m    322\u001B[0m \u001B[43m        \u001B[49m\u001B[43mtransform\u001B[49m\u001B[38;5;241;43m=\u001B[39;49m\u001B[43mtransform\u001B[49m\u001B[43m,\u001B[49m\n\u001B[0;32m    323\u001B[0m \u001B[43m        \u001B[49m\u001B[43mdtype\u001B[49m\u001B[38;5;241;43m=\u001B[39;49m\u001B[43mdtype\u001B[49m\u001B[43m,\u001B[49m\n\u001B[0;32m    324\u001B[0m \u001B[43m        \u001B[49m\u001B[43mnodata\u001B[49m\u001B[38;5;241;43m=\u001B[39;49m\u001B[43mnodata\u001B[49m\u001B[43m,\u001B[49m\n\u001B[0;32m    325\u001B[0m \u001B[43m        \u001B[49m\u001B[43msharing\u001B[49m\u001B[38;5;241;43m=\u001B[39;49m\u001B[43msharing\u001B[49m\u001B[43m,\u001B[49m\n\u001B[0;32m    326\u001B[0m \u001B[43m        \u001B[49m\u001B[38;5;241;43m*\u001B[39;49m\u001B[38;5;241;43m*\u001B[39;49m\u001B[43mkwargs\u001B[49m\n\u001B[0;32m    327\u001B[0m \u001B[43m    \u001B[49m\u001B[43m)\u001B[49m\n\u001B[0;32m    328\u001B[0m \u001B[38;5;28;01melse\u001B[39;00m:\n\u001B[0;32m    329\u001B[0m     \u001B[38;5;28;01mraise\u001B[39;00m DriverCapabilityError(\n\u001B[0;32m    330\u001B[0m         \u001B[38;5;124m\"\u001B[39m\u001B[38;5;124mWriter does not exist for driver: \u001B[39m\u001B[38;5;132;01m%s\u001B[39;00m\u001B[38;5;124m\"\u001B[39m \u001B[38;5;241m%\u001B[39m \u001B[38;5;28mstr\u001B[39m(driver)\n\u001B[0;32m    331\u001B[0m     )\n",
      "File \u001B[1;32mrasterio\\\\_io.pyx:1464\u001B[0m, in \u001B[0;36mrasterio._io.DatasetWriterBase.__init__\u001B[1;34m()\u001B[0m\n",
      "File \u001B[1;32mrasterio\\\\_io.pyx:330\u001B[0m, in \u001B[0;36mrasterio._io._delete_dataset_if_exists\u001B[1;34m()\u001B[0m\n",
      "File \u001B[1;32mrasterio\\\\_err.pyx:195\u001B[0m, in \u001B[0;36mrasterio._err.exc_wrap_int\u001B[1;34m()\u001B[0m\n",
      "\u001B[1;31mCPLE_AppDefinedError\u001B[0m: Deleting N:/LUF-Modelling/LUTO2_XH/LUTO2/output/20250908_Paper2_Results_NCI/carbon_price/4_tif/non_ag.tif failed: Permission denied"
     ]
    }
   ],
   "source": [
    "input_path = r\"N:\\LUF-Modelling\\LUTO2_XH\\LUTO2\\output\\20250908_Paper2_Results_NCI\\carbon_price\\0_base_data\\carbon_high\\2050\\xr_cost_non_ag_carbon_high_2050.nc\"\n",
    "input_xr = xr.open_dataarray(input_path)\n",
    "input_arr = input_xr.sum(dim=[d for d in input_xr.dims if d != \"cell\"]).to_numpy()\n",
    "output_tif = r\"N:\\LUF-Modelling\\LUTO2_XH\\LUTO2\\output\\20250908_Paper2_Results_NCI\\carbon_price\\4_tif\\non_ag.tif\"\n",
    "npy_to_map(input_arr, output_tif, proj_file)"
   ],
   "metadata": {
    "collapsed": false
   },
   "id": "11bc4b791e85435b"
  },
  {
   "cell_type": "code",
   "execution_count": null,
   "outputs": [],
   "source": [
    "input_path = r\"N:\\LUF-Modelling\\LUTO2_XH\\LUTO2\\output\\20250908_Paper2_Results_NCI\\carbon_price\\0_base_data\\carbon_high\\2050\\xr_cost_transition_ag2ag_diff_carbon_high_2050.nc\"\n",
    "input_xr = xr.open_dataarray(input_path)\n",
    "input_arr = input_xr.sum(dim=[d for d in input_xr.dims if d != \"cell\"]).to_numpy()\n",
    "output_tif = r\"N:\\LUF-Modelling\\LUTO2_XH\\LUTO2\\output\\20250908_Paper2_Results_NCI\\carbon_price\\4_tif\\transition_ag2ag.tif\"\n",
    "npy_to_map(input_arr, output_tif, proj_file)"
   ],
   "metadata": {
    "collapsed": false
   },
   "id": "8365ad5a373d3d9c"
  },
  {
   "cell_type": "code",
   "execution_count": null,
   "outputs": [],
   "source": [
    "input_path = r\"N:\\LUF-Modelling\\LUTO2_XH\\LUTO2\\output\\20250908_Paper2_Results_NCI\\carbon_price\\0_base_data\\carbon_high\\2050\\xr_transition_cost_ag2non_ag_amortised_diff_carbon_high_2050.nc\"\n",
    "input_xr = xr.open_dataarray(input_path)\n",
    "input_arr = input_xr.sum(dim=[d for d in input_xr.dims if d != \"cell\"]).to_numpy()\n",
    "output_tif = r\"N:\\LUF-Modelling\\LUTO2_XH\\LUTO2\\output\\20250908_Paper2_Results_NCI\\carbon_price\\4_tif\\transition_ag2non_ag.tif\"\n",
    "npy_to_map(input_arr, output_tif, proj_file)"
   ],
   "metadata": {
    "collapsed": false
   },
   "id": "a8fb808871e78ec9"
  },
  {
   "cell_type": "code",
   "execution_count": 31,
   "outputs": [
    {
     "data": {
      "text/plain": "'N:\\\\LUF-Modelling\\\\LUTO2_XH\\\\LUTO2\\\\output\\\\20250908_Paper2_Results_NCI\\\\carbon_price\\\\4_tif\\\\price.tif'"
     },
     "execution_count": 31,
     "metadata": {},
     "output_type": "execute_result"
    }
   ],
   "source": [
    "input_path = r\"N:\\LUF-Modelling\\LUTO2_XH\\LUTO2\\output\\20250908_Paper2_Results_NCI\\carbon_price\\0_base_data\\carbon_high\\2050\\xr_carbon_high_price_2050.nc\"\n",
    "input_xr = xr.open_dataarray(input_path)\n",
    "input_arr = input_xr.sum(dim=[d for d in input_xr.dims if d != \"cell\"]).to_numpy()\n",
    "output_tif = r\"N:\\LUF-Modelling\\LUTO2_XH\\LUTO2\\output\\20250908_Paper2_Results_NCI\\carbon_price\\4_tif\\price.tif\"\n",
    "npy_to_map(input_arr, output_tif, proj_file)"
   ],
   "metadata": {
    "collapsed": false
   },
   "id": "c13a367020e07440"
  },
  {
   "cell_type": "code",
   "execution_count": null,
   "outputs": [],
   "source": [],
   "metadata": {
    "collapsed": false
   },
   "id": "d0e15f3cdd399ee1"
  }
 ],
 "metadata": {
  "kernelspec": {
   "display_name": "Python 3",
   "language": "python",
   "name": "python3"
  },
  "language_info": {
   "codemirror_mode": {
    "name": "ipython",
    "version": 2
   },
   "file_extension": ".py",
   "mimetype": "text/x-python",
   "name": "python",
   "nbconvert_exporter": "python",
   "pygments_lexer": "ipython2",
   "version": "2.7.6"
  }
 },
 "nbformat": 4,
 "nbformat_minor": 5
}
