{
 "cells": [
  {
   "cell_type": "code",
   "execution_count": 3,
   "outputs": [],
   "source": [
    "import os\n",
    "import pandas as pd\n",
    "\n",
    "import os\n",
    "import zipfile\n",
    "import shutil\n",
    "\n",
    "def clean_and_recompress(root_path, archive_root=True):\n",
    "    # 1. 找到所有Run_Archive.zip\n",
    "    run_zip_paths = []\n",
    "    for dirpath, dirnames, filenames in os.walk(root_path):\n",
    "        for filename in filenames:\n",
    "            if filename == \"Run_Archive.zip\":\n",
    "                run_zip_paths.append(os.path.join(dirpath, filename))\n",
    "\n",
    "    # 2. 处理每个Run_Archive.zip，只保留DATA_REPORT相关内容\n",
    "    for zip_path in run_zip_paths:\n",
    "        print(f\"Processing {zip_path}\")\n",
    "        # 收集需要保留的文件内容\n",
    "        with zipfile.ZipFile(zip_path, \"r\") as zf:\n",
    "            names_to_keep = [name for name in zf.namelist() if \"DATA_REPORT\" in os.path.basename(name)]\n",
    "            keep_files = {}\n",
    "            for name in names_to_keep:\n",
    "                keep_files[name] = zf.read(name)\n",
    "\n",
    "        # 覆盖原zip，只写保留文件\n",
    "        with zipfile.ZipFile(zip_path, \"w\", zipfile.ZIP_DEFLATED) as zf:\n",
    "            for name, data in keep_files.items():\n",
    "                zf.writestr(name, data)\n",
    "\n",
    "    # 3. 可选：压缩整个root_path到上一级目录\n",
    "    if archive_root:\n",
    "        parent_dir = os.path.dirname(root_path)\n",
    "        base_name = os.path.basename(root_path)\n",
    "        archive_path = os.path.join(parent_dir, base_name)\n",
    "        shutil.make_archive(archive_path, \"zip\", root_path)\n",
    "        print(f\"Recompressed whole directory to {archive_path}.zip\")\n",
    "\n",
    "def find_missing_reports_by_col(path):\n",
    "    # 读取csv列名\n",
    "    csv_path = os.path.join(path, \"grid_search_template.csv\")\n",
    "    df = pd.read_csv(csv_path)\n",
    "    col_names = df.columns.tolist()\n",
    "\n",
    "    missing_cols = []\n",
    "    for col_name in col_names:\n",
    "        new_path = os.path.join(path, str(col_name))\n",
    "        zip_path = os.path.join(new_path, \"DATA_REPORT.zip\")\n",
    "        if not os.path.exists(zip_path):\n",
    "            missing_cols.append(col_name)\n",
    "    return missing_cols"
   ],
   "metadata": {
    "collapsed": false,
    "ExecuteTime": {
     "end_time": "2025-10-03T11:52:02.326057100Z",
     "start_time": "2025-10-03T11:52:01.688396700Z"
    }
   },
   "id": "1cac93ebf69d9ba"
  },
  {
   "cell_type": "code",
   "execution_count": 6,
   "outputs": [
    {
     "name": "stdout",
     "output_type": "stream",
     "text": [
      "N:\\LUF-Modelling\\LUTO2_XH\\LUTO2\\myCode\\tasks_run\n"
     ]
    }
   ],
   "source": [
    "print(os.getcwd())"
   ],
   "metadata": {
    "collapsed": false,
    "ExecuteTime": {
     "end_time": "2025-10-03T11:52:45.846527500Z",
     "start_time": "2025-10-03T11:52:45.498446100Z"
    }
   },
   "id": "3ab47c2c8bc90aa"
  },
  {
   "cell_type": "code",
   "execution_count": 4,
   "outputs": [
    {
     "name": "stdout",
     "output_type": "stream",
     "text": [
      "['Name', 'Run_01_GBF2_high_CUT_50_CarbonPrice_0', 'Run_02_GBF2_high_CUT_50_CarbonPrice_8.92', 'Run_03_GBF2_high_CUT_50_CarbonPrice_17.85', 'Run_05_GBF2_high_CUT_50_CarbonPrice_35.69', 'Run_06_GBF2_high_CUT_50_CarbonPrice_44.61', 'Run_07_GBF2_high_CUT_50_CarbonPrice_53.54', 'Run_08_GBF2_high_CUT_50_CarbonPrice_62.46', 'Run_09_GBF2_high_CUT_50_CarbonPrice_75.84', 'Run_10_GBF2_high_CUT_50_CarbonPrice_89.23', 'Run_11_GBF2_high_CUT_50_CarbonPrice_133.84', 'Run_12_GBF2_high_CUT_50_CarbonPrice_178.46', 'Run_13_GBF2_high_CUT_50_CarbonPrice_233.07', 'Run_14_GBF2_high_CUT_50_CarbonPrice_267.69', 'Run_15_GBF2_high_CUT_50_CarbonPrice_312.3', 'Run_16_GBF2_high_CUT_50_CarbonPrice_356.92', 'Run_17_GBF2_high_CUT_40_CarbonPrice_0', 'Run_18_GBF2_high_CUT_40_CarbonPrice_8.92', 'Run_19_GBF2_high_CUT_40_CarbonPrice_17.85', 'Run_20_GBF2_high_CUT_40_CarbonPrice_26.77', 'Run_21_GBF2_high_CUT_40_CarbonPrice_35.69', 'Run_22_GBF2_high_CUT_40_CarbonPrice_44.61', 'Run_23_GBF2_high_CUT_40_CarbonPrice_53.54', 'Run_24_GBF2_high_CUT_40_CarbonPrice_62.46', 'Run_25_GBF2_high_CUT_40_CarbonPrice_75.84', 'Run_26_GBF2_high_CUT_40_CarbonPrice_89.23', 'Run_27_GBF2_high_CUT_40_CarbonPrice_133.84', 'Run_28_GBF2_high_CUT_40_CarbonPrice_178.46', 'Run_29_GBF2_high_CUT_40_CarbonPrice_233.07', 'Run_30_GBF2_high_CUT_40_CarbonPrice_267.69', 'Run_31_GBF2_high_CUT_40_CarbonPrice_312.3', 'Run_32_GBF2_high_CUT_40_CarbonPrice_356.92', 'Run_33_GBF2_high_CUT_30_CarbonPrice_0', 'Run_34_GBF2_high_CUT_30_CarbonPrice_8.92', 'Run_35_GBF2_high_CUT_30_CarbonPrice_17.85', 'Run_36_GBF2_high_CUT_30_CarbonPrice_26.77', 'Run_37_GBF2_high_CUT_30_CarbonPrice_35.69', 'Run_38_GBF2_high_CUT_30_CarbonPrice_44.61', 'Run_39_GBF2_high_CUT_30_CarbonPrice_53.54', 'Run_40_GBF2_high_CUT_30_CarbonPrice_62.46', 'Run_41_GBF2_high_CUT_30_CarbonPrice_75.84', 'Run_42_GBF2_high_CUT_30_CarbonPrice_89.23', 'Run_43_GBF2_high_CUT_30_CarbonPrice_133.84', 'Run_44_GBF2_high_CUT_30_CarbonPrice_178.46', 'Run_45_GBF2_high_CUT_30_CarbonPrice_233.07', 'Run_46_GBF2_high_CUT_30_CarbonPrice_267.69', 'Run_47_GBF2_high_CUT_30_CarbonPrice_312.3', 'Run_48_GBF2_high_CUT_30_CarbonPrice_356.92', 'Run_49_GBF2_high_CUT_20_CarbonPrice_0', 'Run_50_GBF2_high_CUT_20_CarbonPrice_8.92', 'Run_51_GBF2_high_CUT_20_CarbonPrice_17.85', 'Run_52_GBF2_high_CUT_20_CarbonPrice_26.77', 'Run_53_GBF2_high_CUT_20_CarbonPrice_35.69', 'Run_54_GBF2_high_CUT_20_CarbonPrice_44.61', 'Run_55_GBF2_high_CUT_20_CarbonPrice_53.54', 'Run_56_GBF2_high_CUT_20_CarbonPrice_62.46', 'Run_57_GBF2_high_CUT_20_CarbonPrice_75.84', 'Run_58_GBF2_high_CUT_20_CarbonPrice_89.23', 'Run_59_GBF2_high_CUT_20_CarbonPrice_133.84', 'Run_60_GBF2_high_CUT_20_CarbonPrice_178.46', 'Run_61_GBF2_high_CUT_20_CarbonPrice_233.07', 'Run_62_GBF2_high_CUT_20_CarbonPrice_267.69', 'Run_63_GBF2_high_CUT_20_CarbonPrice_312.3', 'Run_64_GBF2_high_CUT_20_CarbonPrice_356.92', 'Run_65_GBF2_high_CUT_10_CarbonPrice_0', 'Run_66_GBF2_high_CUT_10_CarbonPrice_8.92', 'Run_67_GBF2_high_CUT_10_CarbonPrice_17.85', 'Run_68_GBF2_high_CUT_10_CarbonPrice_26.77', 'Run_69_GBF2_high_CUT_10_CarbonPrice_35.69', 'Run_70_GBF2_high_CUT_10_CarbonPrice_44.61', 'Run_71_GBF2_high_CUT_10_CarbonPrice_53.54', 'Run_72_GBF2_high_CUT_10_CarbonPrice_62.46', 'Run_73_GBF2_high_CUT_10_CarbonPrice_75.84', 'Run_74_GBF2_high_CUT_10_CarbonPrice_89.23', 'Run_75_GBF2_high_CUT_10_CarbonPrice_133.84', 'Run_76_GBF2_high_CUT_10_CarbonPrice_178.46', 'Run_77_GBF2_high_CUT_10_CarbonPrice_233.07', 'Run_78_GBF2_high_CUT_10_CarbonPrice_267.69', 'Run_79_GBF2_high_CUT_10_CarbonPrice_312.3', 'Run_80_GBF2_high_CUT_10_CarbonPrice_356.92', 'Run_81_GBF2_off_CUT_50_CarbonPrice_0', 'Run_82_GBF2_off_CUT_50_CarbonPrice_8.92', 'Run_83_GBF2_off_CUT_50_CarbonPrice_17.85', 'Run_84_GBF2_off_CUT_50_CarbonPrice_26.77', 'Run_85_GBF2_off_CUT_50_CarbonPrice_35.69', 'Run_86_GBF2_off_CUT_50_CarbonPrice_44.61', 'Run_87_GBF2_off_CUT_50_CarbonPrice_53.54', 'Run_88_GBF2_off_CUT_50_CarbonPrice_62.46', 'Run_89_GBF2_off_CUT_50_CarbonPrice_75.84', 'Run_90_GBF2_off_CUT_50_CarbonPrice_89.23', 'Run_91_GBF2_off_CUT_50_CarbonPrice_133.84', 'Run_92_GBF2_off_CUT_50_CarbonPrice_178.46', 'Run_93_GBF2_off_CUT_50_CarbonPrice_233.07', 'Run_94_GBF2_off_CUT_50_CarbonPrice_267.69', 'Run_95_GBF2_off_CUT_50_CarbonPrice_312.3', 'Run_96_GBF2_off_CUT_50_CarbonPrice_356.92']\n"
     ]
    }
   ],
   "source": [
    "path = \"../../output/20251002_Cost_curve_task\"\n",
    "print(find_missing_reports_by_col(path))"
   ],
   "metadata": {
    "collapsed": false,
    "ExecuteTime": {
     "end_time": "2025-10-03T11:52:06.297043300Z",
     "start_time": "2025-10-03T11:52:05.817572800Z"
    }
   },
   "id": "eab9b909aec744aa"
  },
  {
   "cell_type": "code",
   "execution_count": null,
   "outputs": [],
   "source": [
    "clean_and_recompress(path, archive_root=True)"
   ],
   "metadata": {
    "collapsed": false
   },
   "id": "6ce7b9859b1d9c7a"
  }
 ],
 "metadata": {
  "kernelspec": {
   "display_name": "Python 3",
   "language": "python",
   "name": "python3"
  },
  "language_info": {
   "codemirror_mode": {
    "name": "ipython",
    "version": 2
   },
   "file_extension": ".py",
   "mimetype": "text/x-python",
   "name": "python",
   "nbconvert_exporter": "python",
   "pygments_lexer": "ipython2",
   "version": "2.7.6"
  }
 },
 "nbformat": 4,
 "nbformat_minor": 5
}
