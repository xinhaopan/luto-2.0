{
 "cells": [
  {
   "cell_type": "code",
   "execution_count": 1,
   "id": "1cac93ebf69d9ba",
   "metadata": {
    "collapsed": false,
    "ExecuteTime": {
     "end_time": "2025-10-04T20:32:33.519344600Z",
     "start_time": "2025-10-04T20:32:31.633387800Z"
    }
   },
   "outputs": [],
   "source": [
    "import os\n",
    "import pandas as pd\n",
    "from joblib import Parallel, delayed\n",
    "import zipfile\n",
    "import shutil\n",
    "import tempfile\n",
    "\n",
    "def clean_and_recompress(root_path, njobs=-1, archive_root=True):\n",
    "    # 1. 找到所有Run_Archive.zip\n",
    "    run_zip_paths = []\n",
    "    for dirpath, dirnames, filenames in os.walk(root_path):\n",
    "        for filename in filenames:\n",
    "            if filename == \"Run_Archive.zip\":\n",
    "                run_zip_paths.append(os.path.join(dirpath, filename))\n",
    "    \n",
    "    def _process_zip(zip_path):\n",
    "        print(f\"Processing {zip_path}\")\n",
    "        with zipfile.ZipFile(zip_path, \"r\") as zf:\n",
    "            names_to_keep = [name for name in zf.namelist() if name.startswith(\"DATA_REPORT/\")]\n",
    "            keep_files = {name: zf.read(name) for name in names_to_keep if not name.endswith('/')}\n",
    "        # 在目标目录创建临时文件\n",
    "        target_dir = os.path.dirname(zip_path)\n",
    "        with tempfile.NamedTemporaryFile(delete=False, dir=target_dir) as tmp:\n",
    "            tmp_zip_path = tmp.name\n",
    "        with zipfile.ZipFile(tmp_zip_path, \"w\", zipfile.ZIP_DEFLATED) as zf:\n",
    "            for name, data in keep_files.items():\n",
    "                zf.writestr(name, data)\n",
    "        os.replace(tmp_zip_path, zip_path)\n",
    "            \n",
    "    # 2. 并行处理每个Run_Archive.zip\n",
    "    Parallel(n_jobs=njobs)(delayed(_process_zip)(zip_path) for zip_path in run_zip_paths)\n",
    "\n",
    "    # 3. 可选：压缩整个root_path到上一级目录\n",
    "    if archive_root:\n",
    "        parent_dir = os.path.dirname(root_path)\n",
    "        base_name = os.path.basename(root_path)\n",
    "        archive_path = os.path.join(parent_dir, base_name)\n",
    "        with zipfile.ZipFile(f\"{archive_path}.zip\", 'w', zipfile.ZIP_DEFLATED, compresslevel=3) as zipf:\n",
    "            for root, dirs, files in os.walk(root_path):\n",
    "                for file in files:\n",
    "                    file_path = os.path.join(root, file)\n",
    "                    arcname = os.path.relpath(file_path, root_path)\n",
    "                    zipf.write(file_path, arcname)\n",
    "        print(f\"Recompressed whole directory to {archive_path}.zip\")\n",
    "\n",
    "def find_missing_reports_by_col(path):\n",
    "    # 读取csv列名\n",
    "    csv_path = os.path.join(path, \"grid_search_template.csv\")\n",
    "    df = pd.read_csv(csv_path,index_col=0)\n",
    "    col_names = df.columns.tolist()\n",
    "\n",
    "    missing_cols = []\n",
    "    for col_name in col_names:\n",
    "        new_path = os.path.join(path, str(col_name))\n",
    "        zip_path = os.path.join(new_path, \"Run_Archive.zip\")\n",
    "        if not os.path.exists(zip_path):\n",
    "            missing_cols.append(col_name)\n",
    "    return missing_cols "
   ]
  },
  {
   "cell_type": "markdown",
   "source": [],
   "metadata": {
    "collapsed": false
   },
   "id": "69ebbb3d62770bcb"
  },
  {
   "cell_type": "code",
   "execution_count": 2,
   "id": "eab9b909aec744aa",
   "metadata": {
    "collapsed": false,
    "ExecuteTime": {
     "end_time": "2025-10-04T20:32:40.523040800Z",
     "start_time": "2025-10-04T20:32:40.178959500Z"
    }
   },
   "outputs": [
    {
     "name": "stdout",
     "output_type": "stream",
     "text": [
      "['Run_91_GBF2_off_CUT_50_CarbonPrice_133.84', 'Run_92_GBF2_off_CUT_50_CarbonPrice_178.46', 'Run_93_GBF2_off_CUT_50_CarbonPrice_233.07', 'Run_94_GBF2_off_CUT_50_CarbonPrice_267.69', 'Run_95_GBF2_off_CUT_50_CarbonPrice_312.3', 'Run_96_GBF2_off_CUT_50_CarbonPrice_356.92']\n"
     ]
    }
   ],
   "source": [
    "path = \"../../output/20251004_Cost_curve_task\"\n",
    "print(find_missing_reports_by_col(path))"
   ]
  },
  {
   "cell_type": "code",
   "execution_count": 3,
   "id": "6ce7b9859b1d9c7a",
   "metadata": {
    "collapsed": false,
    "ExecuteTime": {
     "end_time": "2025-10-04T20:50:08.053204600Z",
     "start_time": "2025-10-04T20:32:47.850815900Z"
    }
   },
   "outputs": [
    {
     "name": "stdout",
     "output_type": "stream",
     "text": [
      "Processing ../../output/20251004_Cost_curve_task/Run_85_GBF2_off_CUT_50_CarbonPrice_35.69/Run_Archive.zip\n",
      "Processing ../../output/20251004_Cost_curve_task/Run_29_GBF2_high_CUT_40_CarbonPrice_233.07/Run_Archive.zip\n",
      "Processing ../../output/20251004_Cost_curve_task/Run_90_GBF2_off_CUT_50_CarbonPrice_89.23/Run_Archive.zip\n",
      "Processing ../../output/20251004_Cost_curve_task/Run_72_GBF2_high_CUT_10_CarbonPrice_62.46/Run_Archive.zip\n",
      "Processing ../../output/20251004_Cost_curve_task/Run_79_GBF2_high_CUT_10_CarbonPrice_312.3/Run_Archive.zip\n",
      "Processing ../../output/20251004_Cost_curve_task/Run_70_GBF2_high_CUT_10_CarbonPrice_44.61/Run_Archive.zip\n",
      "Processing ../../output/20251004_Cost_curve_task/Run_87_GBF2_off_CUT_50_CarbonPrice_53.54/Run_Archive.zip\n",
      "Processing ../../output/20251004_Cost_curve_task/Run_71_GBF2_high_CUT_10_CarbonPrice_53.54/Run_Archive.zip\n",
      "Processing ../../output/20251004_Cost_curve_task/Run_63_GBF2_high_CUT_20_CarbonPrice_312.3/Run_Archive.zip\n",
      "Processing ../../output/20251004_Cost_curve_task/Run_06_GBF2_high_CUT_50_CarbonPrice_44.61/Run_Archive.zip\n",
      "Processing ../../output/20251004_Cost_curve_task/Run_16_GBF2_high_CUT_50_CarbonPrice_356.92/Run_Archive.zip\n",
      "Processing ../../output/20251004_Cost_curve_task/Run_31_GBF2_high_CUT_40_CarbonPrice_312.3/Run_Archive.zip\n",
      "Processing ../../output/20251004_Cost_curve_task/Run_59_GBF2_high_CUT_20_CarbonPrice_133.84/Run_Archive.zip\n",
      "Processing ../../output/20251004_Cost_curve_task/Run_51_GBF2_high_CUT_20_CarbonPrice_17.85/Run_Archive.zip\n",
      "Processing ../../output/20251004_Cost_curve_task/Run_15_GBF2_high_CUT_50_CarbonPrice_312.3/Run_Archive.zip\n",
      "Processing ../../output/20251004_Cost_curve_task/Run_82_GBF2_off_CUT_50_CarbonPrice_8.92/Run_Archive.zip\n",
      "Processing ../../output/20251004_Cost_curve_task/Run_20_GBF2_high_CUT_40_CarbonPrice_26.77/Run_Archive.zip\n",
      "Processing ../../output/20251004_Cost_curve_task/Run_32_GBF2_high_CUT_40_CarbonPrice_356.92/Run_Archive.zip\n",
      "Processing ../../output/20251004_Cost_curve_task/Run_11_GBF2_high_CUT_50_CarbonPrice_133.84/Run_Archive.zip\n",
      "Processing ../../output/20251004_Cost_curve_task/Run_45_GBF2_high_CUT_30_CarbonPrice_233.07/Run_Archive.zip\n",
      "Processing ../../output/20251004_Cost_curve_task/Run_13_GBF2_high_CUT_50_CarbonPrice_233.07/Run_Archive.zip\n",
      "Processing ../../output/20251004_Cost_curve_task/Run_81_GBF2_off_CUT_50_CarbonPrice_0/Run_Archive.zip\n",
      "Processing ../../output/20251004_Cost_curve_task/Run_44_GBF2_high_CUT_30_CarbonPrice_178.46/Run_Archive.zip\n",
      "Processing ../../output/20251004_Cost_curve_task/Run_53_GBF2_high_CUT_20_CarbonPrice_35.69/Run_Archive.zip\n",
      "Processing ../../output/20251004_Cost_curve_task/Run_41_GBF2_high_CUT_30_CarbonPrice_75.84/Run_Archive.zip\n",
      "Processing ../../output/20251004_Cost_curve_task/Run_64_GBF2_high_CUT_20_CarbonPrice_356.92/Run_Archive.zip\n",
      "Processing ../../output/20251004_Cost_curve_task/Run_08_GBF2_high_CUT_50_CarbonPrice_62.46/Run_Archive.zip\n",
      "Processing ../../output/20251004_Cost_curve_task/Run_76_GBF2_high_CUT_10_CarbonPrice_178.46/Run_Archive.zip\n",
      "Processing ../../output/20251004_Cost_curve_task/Run_69_GBF2_high_CUT_10_CarbonPrice_35.69/Run_Archive.zip\n",
      "Processing ../../output/20251004_Cost_curve_task/Run_83_GBF2_off_CUT_50_CarbonPrice_17.85/Run_Archive.zip\n",
      "Processing ../../output/20251004_Cost_curve_task/Run_67_GBF2_high_CUT_10_CarbonPrice_17.85/Run_Archive.zip\n",
      "Processing ../../output/20251004_Cost_curve_task/Run_49_GBF2_high_CUT_20_CarbonPrice_0/Run_Archive.zip\n",
      "Processing ../../output/20251004_Cost_curve_task/Run_09_GBF2_high_CUT_50_CarbonPrice_75.84/Run_Archive.zip\n",
      "Processing ../../output/20251004_Cost_curve_task/Run_50_GBF2_high_CUT_20_CarbonPrice_8.92/Run_Archive.zip\n",
      "Processing ../../output/20251004_Cost_curve_task/Run_48_GBF2_high_CUT_30_CarbonPrice_356.92/Run_Archive.zip\n",
      "Processing ../../output/20251004_Cost_curve_task/Run_54_GBF2_high_CUT_20_CarbonPrice_44.61/Run_Archive.zip\n",
      "Processing ../../output/20251004_Cost_curve_task/Run_55_GBF2_high_CUT_20_CarbonPrice_53.54/Run_Archive.zip\n",
      "Processing ../../output/20251004_Cost_curve_task/Run_07_GBF2_high_CUT_50_CarbonPrice_53.54/Run_Archive.zip\n",
      "Processing ../../output/20251004_Cost_curve_task/Run_43_GBF2_high_CUT_30_CarbonPrice_133.84/Run_Archive.zip\n",
      "Processing ../../output/20251004_Cost_curve_task/Run_14_GBF2_high_CUT_50_CarbonPrice_267.69/Run_Archive.zip\n",
      "Processing ../../output/20251004_Cost_curve_task/Run_35_GBF2_high_CUT_30_CarbonPrice_17.85/Run_Archive.zip\n",
      "Processing ../../output/20251004_Cost_curve_task/Run_57_GBF2_high_CUT_20_CarbonPrice_75.84/Run_Archive.zip\n",
      "Processing ../../output/20251004_Cost_curve_task/Run_28_GBF2_high_CUT_40_CarbonPrice_178.46/Run_Archive.zip\n",
      "Processing ../../output/20251004_Cost_curve_task/Run_33_GBF2_high_CUT_30_CarbonPrice_0/Run_Archive.zip\n",
      "Processing ../../output/20251004_Cost_curve_task/Run_01_GBF2_high_CUT_50_CarbonPrice_0/Run_Archive.zip\n",
      "Processing ../../output/20251004_Cost_curve_task/Run_46_GBF2_high_CUT_30_CarbonPrice_267.69/Run_Archive.zip\n",
      "Processing ../../output/20251004_Cost_curve_task/Run_25_GBF2_high_CUT_40_CarbonPrice_75.84/Run_Archive.zip\n",
      "Processing ../../output/20251004_Cost_curve_task/Run_21_GBF2_high_CUT_40_CarbonPrice_35.69/Run_Archive.zip\n",
      "Processing ../../output/20251004_Cost_curve_task/Run_66_GBF2_high_CUT_10_CarbonPrice_8.92/Run_Archive.zip\n",
      "Processing ../../output/20251004_Cost_curve_task/Run_86_GBF2_off_CUT_50_CarbonPrice_44.61/Run_Archive.zip\n",
      "Processing ../../output/20251004_Cost_curve_task/Run_02_GBF2_high_CUT_50_CarbonPrice_8.92/Run_Archive.zip\n",
      "Processing ../../output/20251004_Cost_curve_task/Run_39_GBF2_high_CUT_30_CarbonPrice_53.54/Run_Archive.zip\n",
      "Processing ../../output/20251004_Cost_curve_task/Run_61_GBF2_high_CUT_20_CarbonPrice_233.07/Run_Archive.zip\n",
      "Processing ../../output/20251004_Cost_curve_task/Run_60_GBF2_high_CUT_20_CarbonPrice_178.46/Run_Archive.zip\n",
      "Processing ../../output/20251004_Cost_curve_task/Run_58_GBF2_high_CUT_20_CarbonPrice_89.23/Run_Archive.zip\n",
      "Processing ../../output/20251004_Cost_curve_task/Run_40_GBF2_high_CUT_30_CarbonPrice_62.46/Run_Archive.zip\n",
      "Processing ../../output/20251004_Cost_curve_task/Run_62_GBF2_high_CUT_20_CarbonPrice_267.69/Run_Archive.zip\n",
      "Processing ../../output/20251004_Cost_curve_task/Run_84_GBF2_off_CUT_50_CarbonPrice_26.77/Run_Archive.zip\n",
      "Processing ../../output/20251004_Cost_curve_task/Run_38_GBF2_high_CUT_30_CarbonPrice_44.61/Run_Archive.zip\n",
      "Processing ../../output/20251004_Cost_curve_task/Run_80_GBF2_high_CUT_10_CarbonPrice_356.92/Run_Archive.zip\n",
      "Processing ../../output/20251004_Cost_curve_task/Run_27_GBF2_high_CUT_40_CarbonPrice_133.84/Run_Archive.zip\n",
      "Processing ../../output/20251004_Cost_curve_task/Run_89_GBF2_off_CUT_50_CarbonPrice_75.84/Run_Archive.zip\n",
      "Processing ../../output/20251004_Cost_curve_task/Run_36_GBF2_high_CUT_30_CarbonPrice_26.77/Run_Archive.zip\n",
      "Processing ../../output/20251004_Cost_curve_task/Run_75_GBF2_high_CUT_10_CarbonPrice_133.84/Run_Archive.zip\n",
      "Processing ../../output/20251004_Cost_curve_task/Run_34_GBF2_high_CUT_30_CarbonPrice_8.92/Run_Archive.zip\n",
      "Processing ../../output/20251004_Cost_curve_task/Run_47_GBF2_high_CUT_30_CarbonPrice_312.3/Run_Archive.zip\n",
      "Processing ../../output/20251004_Cost_curve_task/Run_65_GBF2_high_CUT_10_CarbonPrice_0/Run_Archive.zip\n",
      "Processing ../../output/20251004_Cost_curve_task/Run_74_GBF2_high_CUT_10_CarbonPrice_89.23/Run_Archive.zip\n",
      "Processing ../../output/20251004_Cost_curve_task/Run_30_GBF2_high_CUT_40_CarbonPrice_267.69/Run_Archive.zip\n",
      "Processing ../../output/20251004_Cost_curve_task/Run_78_GBF2_high_CUT_10_CarbonPrice_267.69/Run_Archive.zip\n",
      "Processing ../../output/20251004_Cost_curve_task/Run_22_GBF2_high_CUT_40_CarbonPrice_44.61/Run_Archive.zip\n",
      "Processing ../../output/20251004_Cost_curve_task/Run_88_GBF2_off_CUT_50_CarbonPrice_62.46/Run_Archive.zip\n",
      "Processing ../../output/20251004_Cost_curve_task/Run_23_GBF2_high_CUT_40_CarbonPrice_53.54/Run_Archive.zip\n",
      "Processing ../../output/20251004_Cost_curve_task/Run_24_GBF2_high_CUT_40_CarbonPrice_62.46/Run_Archive.zip\n",
      "Processing ../../output/20251004_Cost_curve_task/Run_77_GBF2_high_CUT_10_CarbonPrice_233.07/Run_Archive.zip\n",
      "Processing ../../output/20251004_Cost_curve_task/Run_56_GBF2_high_CUT_20_CarbonPrice_62.46/Run_Archive.zip\n",
      "Processing ../../output/20251004_Cost_curve_task/Run_73_GBF2_high_CUT_10_CarbonPrice_75.84/Run_Archive.zip\n",
      "Processing ../../output/20251004_Cost_curve_task/Run_26_GBF2_high_CUT_40_CarbonPrice_89.23/Run_Archive.zip\n",
      "Processing ../../output/20251004_Cost_curve_task/Run_03_GBF2_high_CUT_50_CarbonPrice_17.85/Run_Archive.zip\n",
      "Processing ../../output/20251004_Cost_curve_task/Run_18_GBF2_high_CUT_40_CarbonPrice_8.92/Run_Archive.zip\n",
      "Processing ../../output/20251004_Cost_curve_task/Run_52_GBF2_high_CUT_20_CarbonPrice_26.77/Run_Archive.zip\n",
      "Processing ../../output/20251004_Cost_curve_task/Run_42_GBF2_high_CUT_30_CarbonPrice_89.23/Run_Archive.zip\n",
      "Processing ../../output/20251004_Cost_curve_task/Run_37_GBF2_high_CUT_30_CarbonPrice_35.69/Run_Archive.zip\n",
      "Processing ../../output/20251004_Cost_curve_task/Run_17_GBF2_high_CUT_40_CarbonPrice_0/Run_Archive.zip\n",
      "Processing ../../output/20251004_Cost_curve_task/Run_04_GBF2_high_CUT_50_CarbonPrice_26.77/Run_Archive.zip\n",
      "Processing ../../output/20251004_Cost_curve_task/Run_10_GBF2_high_CUT_50_CarbonPrice_89.23/Run_Archive.zip\n",
      "Processing ../../output/20251004_Cost_curve_task/Run_12_GBF2_high_CUT_50_CarbonPrice_178.46/Run_Archive.zip\n",
      "Processing ../../output/20251004_Cost_curve_task/Run_19_GBF2_high_CUT_40_CarbonPrice_17.85/Run_Archive.zip\n",
      "Processing ../../output/20251004_Cost_curve_task/Run_68_GBF2_high_CUT_10_CarbonPrice_26.77/Run_Archive.zip\n",
      "Processing ../../output/20251004_Cost_curve_task/Run_05_GBF2_high_CUT_50_CarbonPrice_35.69/Run_Archive.zip\n",
      "Recompressed whole directory to ../../output/20251004_Cost_curve_task.zip\n"
     ]
    }
   ],
   "source": [
    "clean_and_recompress(path, archive_root=True)"
   ]
  },
  {
   "cell_type": "code",
   "execution_count": null,
   "outputs": [],
   "source": [],
   "metadata": {
    "collapsed": false
   },
   "id": "8c556dee3d9ae778"
  }
 ],
 "metadata": {
  "kernelspec": {
   "display_name": "Python 3 (ipykernel)",
   "language": "python",
   "name": "python3"
  },
  "language_info": {
   "codemirror_mode": {
    "name": "ipython",
    "version": 3
   },
   "file_extension": ".py",
   "mimetype": "text/x-python",
   "name": "python",
   "nbconvert_exporter": "python",
   "pygments_lexer": "ipython3",
   "version": "3.8.19"
  }
 },
 "nbformat": 4,
 "nbformat_minor": 5
}
