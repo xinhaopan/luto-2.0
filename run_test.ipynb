{
 "cells": [
  {
   "cell_type": "code",
   "execution_count": 1,
   "id": "initial_id",
   "metadata": {
    "collapsed": true,
    "ExecuteTime": {
     "end_time": "2024-06-24T02:44:45.436650600Z",
     "start_time": "2024-06-24T02:44:27.968308400Z"
    }
   },
   "outputs": [
    {
     "name": "stdout",
     "output_type": "stream",
     "text": [
      "MODE = timeseries,RESFACTOR = 5,GHGs = 1.5C (67%) excl. avoided emis\n",
      "Set parameter CSQueueTimeout to value 1800\n",
      "Set parameter CSIdleTimeout to value 1800\n",
      "Set parameter ServerTimeout to value 1800\n",
      "Set parameter TokenServer to value \"gurobi.licensing.its.deakin.edu.au\"\n",
      "Set parameter FeasibilityTol to value 0.01\n",
      "Set parameter OptimalityTol to value 0.01\n",
      "Set parameter Method to value 2\n",
      "Set parameter BarConvTol to value 1e-06\n",
      "Set parameter Crossover to value 0\n",
      "Set parameter Aggregate to value 0\n",
      "Set parameter LogFile to value \"gurobi.log\"\n",
      "Set parameter Presolve to value 0\n",
      "Set parameter Threads to value 50\n",
      "\n",
      "2024-06-24 12:44:42 - Beginning data initialisation...\n",
      "2024-06-24 12:44:42 - \tSetting up masking and spatial course graining data...\n"
     ]
    },
    {
     "name": "stderr",
     "output_type": "stream",
     "text": [
      "2024-06-24 12:44:43 - Traceback (most recent call last):\n",
      "  File \"F:\\xinhao\\miniforge3\\envs\\luto\\Lib\\site-packages\\pandas\\compat\\_optional.py\", line 135, in import_optional_dependency\n",
      "    module = importlib.import_module(name)\n",
      "             ^^^^^^^^^^^^^^^^^^^^^^^^^^^^^\n",
      "  File \"F:\\xinhao\\miniforge3\\envs\\luto\\Lib\\importlib\\__init__.py\", line 90, in import_module\n",
      "    return _bootstrap._gcd_import(name[level:], package, level)\n",
      "           ^^^^^^^^^^^^^^^^^^^^^^^^^^^^^^^^^^^^^^^^^^^^^^^^^^^^\n",
      "  File \"<frozen importlib._bootstrap>\", line 1381, in _gcd_import\n",
      "  File \"<frozen importlib._bootstrap>\", line 1354, in _find_and_load\n",
      "  File \"<frozen importlib._bootstrap>\", line 1325, in _find_and_load_unlocked\n",
      "  File \"<frozen importlib._bootstrap>\", line 929, in _load_unlocked\n",
      "  File \"<frozen importlib._bootstrap_external>\", line 994, in exec_module\n",
      "  File \"<frozen importlib._bootstrap>\", line 488, in _call_with_frames_removed\n",
      "  File \"F:\\xinhao\\miniforge3\\envs\\luto\\Lib\\site-packages\\tables\\__init__.py\", line 81, in <module>\n",
      "    from .file import File, open_file, copy_file\n",
      "  File \"F:\\xinhao\\miniforge3\\envs\\luto\\Lib\\site-packages\\tables\\file.py\", line 22, in <module>\n",
      "    from . import hdf5extension\n",
      "ImportError: DLL load failed while importing hdf5extension: The specified procedure could not be found.\n",
      "\n",
      "During handling of the above exception, another exception occurred:\n",
      "\n",
      "Traceback (most recent call last):\n",
      "  File \"Z:\\LUF-Modelling\\LUTO2_XH\\LUTO2\\luto\\tools\\__init__.py\", line 554, in wrapper\n",
      "    return func(*args, **kwargs)\n",
      "           ^^^^^^^^^^^^^^^^^^^^^\n",
      "  File \"Z:\\LUF-Modelling\\LUTO2_XH\\LUTO2\\luto\\simulation.py\", line 41, in load_data\n",
      "    return Data(timestamp=timestamp)\n",
      "           ^^^^^^^^^^^^^^^^^^^^^^^^^\n",
      "  File \"Z:\\LUF-Modelling\\LUTO2_XH\\LUTO2\\luto\\data.py\", line 151, in __init__\n",
      "    self.LUMAP_NO_RESFACTOR = pd.read_hdf(os.path.join(INPUT_DIR, \"lumap.h5\")).to_numpy()                   # 1D (ij flattend),  0-27 for land uses; -1 for non-agricultural land uses; All cells in Australia (land only)\n",
      "                              ^^^^^^^^^^^^^^^^^^^^^^^^^^^^^^^^^^^^^^^^^^^^^^^^\n",
      "  File \"F:\\xinhao\\miniforge3\\envs\\luto\\Lib\\site-packages\\pandas\\io\\pytables.py\", line 426, in read_hdf\n",
      "    store = HDFStore(path_or_buf, mode=mode, errors=errors, **kwargs)\n",
      "            ^^^^^^^^^^^^^^^^^^^^^^^^^^^^^^^^^^^^^^^^^^^^^^^^^^^^^^^^^\n",
      "  File \"F:\\xinhao\\miniforge3\\envs\\luto\\Lib\\site-packages\\pandas\\io\\pytables.py\", line 566, in __init__\n",
      "    tables = import_optional_dependency(\"tables\")\n",
      "             ^^^^^^^^^^^^^^^^^^^^^^^^^^^^^^^^^^^^\n",
      "  File \"F:\\xinhao\\miniforge3\\envs\\luto\\Lib\\site-packages\\pandas\\compat\\_optional.py\", line 138, in import_optional_dependency\n",
      "    raise ImportError(msg)\n",
      "ImportError: Missing optional dependency 'pytables'.  Use pip or conda to install pytables.\n",
      "\n"
     ]
    },
    {
     "ename": "ImportError",
     "evalue": "Missing optional dependency 'pytables'.  Use pip or conda to install pytables.",
     "output_type": "error",
     "traceback": [
      "\u001B[1;31m---------------------------------------------------------------------------\u001B[0m",
      "\u001B[1;31mImportError\u001B[0m                               Traceback (most recent call last)",
      "File \u001B[1;32mF:\\xinhao\\miniforge3\\envs\\luto\\Lib\\site-packages\\pandas\\compat\\_optional.py:135\u001B[0m, in \u001B[0;36mimport_optional_dependency\u001B[1;34m(name, extra, errors, min_version)\u001B[0m\n\u001B[0;32m    134\u001B[0m \u001B[38;5;28;01mtry\u001B[39;00m:\n\u001B[1;32m--> 135\u001B[0m     module \u001B[38;5;241m=\u001B[39m \u001B[43mimportlib\u001B[49m\u001B[38;5;241;43m.\u001B[39;49m\u001B[43mimport_module\u001B[49m\u001B[43m(\u001B[49m\u001B[43mname\u001B[49m\u001B[43m)\u001B[49m\n\u001B[0;32m    136\u001B[0m \u001B[38;5;28;01mexcept\u001B[39;00m \u001B[38;5;167;01mImportError\u001B[39;00m:\n",
      "File \u001B[1;32mF:\\xinhao\\miniforge3\\envs\\luto\\Lib\\importlib\\__init__.py:90\u001B[0m, in \u001B[0;36mimport_module\u001B[1;34m(name, package)\u001B[0m\n\u001B[0;32m     89\u001B[0m         level \u001B[38;5;241m+\u001B[39m\u001B[38;5;241m=\u001B[39m \u001B[38;5;241m1\u001B[39m\n\u001B[1;32m---> 90\u001B[0m \u001B[38;5;28;01mreturn\u001B[39;00m \u001B[43m_bootstrap\u001B[49m\u001B[38;5;241;43m.\u001B[39;49m\u001B[43m_gcd_import\u001B[49m\u001B[43m(\u001B[49m\u001B[43mname\u001B[49m\u001B[43m[\u001B[49m\u001B[43mlevel\u001B[49m\u001B[43m:\u001B[49m\u001B[43m]\u001B[49m\u001B[43m,\u001B[49m\u001B[43m \u001B[49m\u001B[43mpackage\u001B[49m\u001B[43m,\u001B[49m\u001B[43m \u001B[49m\u001B[43mlevel\u001B[49m\u001B[43m)\u001B[49m\n",
      "File \u001B[1;32m<frozen importlib._bootstrap>:1381\u001B[0m, in \u001B[0;36m_gcd_import\u001B[1;34m(name, package, level)\u001B[0m\n",
      "File \u001B[1;32m<frozen importlib._bootstrap>:1354\u001B[0m, in \u001B[0;36m_find_and_load\u001B[1;34m(name, import_)\u001B[0m\n",
      "File \u001B[1;32m<frozen importlib._bootstrap>:1325\u001B[0m, in \u001B[0;36m_find_and_load_unlocked\u001B[1;34m(name, import_)\u001B[0m\n",
      "File \u001B[1;32m<frozen importlib._bootstrap>:929\u001B[0m, in \u001B[0;36m_load_unlocked\u001B[1;34m(spec)\u001B[0m\n",
      "File \u001B[1;32m<frozen importlib._bootstrap_external>:994\u001B[0m, in \u001B[0;36mexec_module\u001B[1;34m(self, module)\u001B[0m\n",
      "File \u001B[1;32m<frozen importlib._bootstrap>:488\u001B[0m, in \u001B[0;36m_call_with_frames_removed\u001B[1;34m(f, *args, **kwds)\u001B[0m\n",
      "File \u001B[1;32mF:\\xinhao\\miniforge3\\envs\\luto\\Lib\\site-packages\\tables\\__init__.py:81\u001B[0m\n\u001B[0;32m     80\u001B[0m \u001B[38;5;28;01mfrom\u001B[39;00m \u001B[38;5;21;01m.\u001B[39;00m\u001B[38;5;21;01mexceptions\u001B[39;00m \u001B[38;5;28;01mimport\u001B[39;00m \u001B[38;5;241m*\u001B[39m\n\u001B[1;32m---> 81\u001B[0m \u001B[38;5;28;01mfrom\u001B[39;00m \u001B[38;5;21;01m.\u001B[39;00m\u001B[38;5;21;01mfile\u001B[39;00m \u001B[38;5;28;01mimport\u001B[39;00m File, open_file, copy_file\n\u001B[0;32m     82\u001B[0m \u001B[38;5;28;01mfrom\u001B[39;00m \u001B[38;5;21;01m.\u001B[39;00m\u001B[38;5;21;01mnode\u001B[39;00m \u001B[38;5;28;01mimport\u001B[39;00m Node\n",
      "File \u001B[1;32mF:\\xinhao\\miniforge3\\envs\\luto\\Lib\\site-packages\\tables\\file.py:22\u001B[0m\n\u001B[0;32m     20\u001B[0m \u001B[38;5;28;01mimport\u001B[39;00m \u001B[38;5;21;01mnumpy\u001B[39;00m \u001B[38;5;28;01mas\u001B[39;00m \u001B[38;5;21;01mnp\u001B[39;00m\n\u001B[1;32m---> 22\u001B[0m \u001B[38;5;28;01mfrom\u001B[39;00m \u001B[38;5;21;01m.\u001B[39;00m \u001B[38;5;28;01mimport\u001B[39;00m hdf5extension\n\u001B[0;32m     23\u001B[0m \u001B[38;5;28;01mfrom\u001B[39;00m \u001B[38;5;21;01m.\u001B[39;00m \u001B[38;5;28;01mimport\u001B[39;00m utilsextension\n",
      "\u001B[1;31mImportError\u001B[0m: DLL load failed while importing hdf5extension: The specified procedure could not be found.",
      "\nDuring handling of the above exception, another exception occurred:\n",
      "\u001B[1;31mImportError\u001B[0m                               Traceback (most recent call last)",
      "Cell \u001B[1;32mIn[1], line 26\u001B[0m\n\u001B[0;32m     23\u001B[0m \u001B[38;5;28;01mimport\u001B[39;00m \u001B[38;5;21;01mluto\u001B[39;00m\u001B[38;5;21;01m.\u001B[39;00m\u001B[38;5;21;01msimulation\u001B[39;00m \u001B[38;5;28;01mas\u001B[39;00m \u001B[38;5;21;01msim\u001B[39;00m\n\u001B[0;32m     24\u001B[0m \u001B[38;5;28;01mimport\u001B[39;00m \u001B[38;5;21;01mluto\u001B[39;00m\u001B[38;5;21;01m.\u001B[39;00m\u001B[38;5;21;01mtools\u001B[39;00m\u001B[38;5;21;01m.\u001B[39;00m\u001B[38;5;21;01mwrite\u001B[39;00m \u001B[38;5;28;01mas\u001B[39;00m \u001B[38;5;21;01mwrite\u001B[39;00m\n\u001B[1;32m---> 26\u001B[0m data \u001B[38;5;241m=\u001B[39m \u001B[43msim\u001B[49m\u001B[38;5;241;43m.\u001B[39;49m\u001B[43mload_data\u001B[49m\u001B[43m(\u001B[49m\u001B[43m)\u001B[49m\n\u001B[0;32m     27\u001B[0m sim\u001B[38;5;241m.\u001B[39mrun(data\u001B[38;5;241m=\u001B[39mdata, base\u001B[38;5;241m=\u001B[39mstart_year, target\u001B[38;5;241m=\u001B[39mend_year)\n",
      "File \u001B[1;32mZ:\\LUF-Modelling\\LUTO2_XH\\LUTO2\\luto\\tools\\__init__.py:554\u001B[0m, in \u001B[0;36mLogToFile.__call__.<locals>.wrapper\u001B[1;34m(*args, **kwargs)\u001B[0m\n\u001B[0;32m    552\u001B[0m     sys\u001B[38;5;241m.\u001B[39mstdout \u001B[38;5;241m=\u001B[39m \u001B[38;5;28mself\u001B[39m\u001B[38;5;241m.\u001B[39mStreamToLogger(file_stdout, original_stdout)\n\u001B[0;32m    553\u001B[0m     sys\u001B[38;5;241m.\u001B[39mstderr \u001B[38;5;241m=\u001B[39m \u001B[38;5;28mself\u001B[39m\u001B[38;5;241m.\u001B[39mStreamToLogger(file_stderr, original_stderr)\n\u001B[1;32m--> 554\u001B[0m     \u001B[38;5;28;01mreturn\u001B[39;00m \u001B[43mfunc\u001B[49m\u001B[43m(\u001B[49m\u001B[38;5;241;43m*\u001B[39;49m\u001B[43margs\u001B[49m\u001B[43m,\u001B[49m\u001B[43m \u001B[49m\u001B[38;5;241;43m*\u001B[39;49m\u001B[38;5;241;43m*\u001B[39;49m\u001B[43mkwargs\u001B[49m\u001B[43m)\u001B[49m\n\u001B[0;32m    555\u001B[0m \u001B[38;5;28;01mexcept\u001B[39;00m \u001B[38;5;167;01mException\u001B[39;00m \u001B[38;5;28;01mas\u001B[39;00m e:\n\u001B[0;32m    556\u001B[0m     \u001B[38;5;66;03m# Capture the full traceback\u001B[39;00m\n\u001B[0;32m    557\u001B[0m     exc_info \u001B[38;5;241m=\u001B[39m traceback\u001B[38;5;241m.\u001B[39mformat_exc()\n",
      "File \u001B[1;32mZ:\\LUF-Modelling\\LUTO2_XH\\LUTO2\\luto\\simulation.py:41\u001B[0m, in \u001B[0;36mload_data\u001B[1;34m()\u001B[0m\n\u001B[0;32m     36\u001B[0m \u001B[38;5;129m@tools\u001B[39m\u001B[38;5;241m.\u001B[39mLogToFile(\u001B[38;5;124mf\u001B[39m\u001B[38;5;124m\"\u001B[39m\u001B[38;5;132;01m{\u001B[39;00msettings\u001B[38;5;241m.\u001B[39mOUTPUT_DIR\u001B[38;5;132;01m}\u001B[39;00m\u001B[38;5;124m/run_\u001B[39m\u001B[38;5;132;01m{\u001B[39;00mtimestamp\u001B[38;5;132;01m}\u001B[39;00m\u001B[38;5;124m\"\u001B[39m)\n\u001B[0;32m     37\u001B[0m \u001B[38;5;28;01mdef\u001B[39;00m \u001B[38;5;21mload_data\u001B[39m() \u001B[38;5;241m-\u001B[39m\u001B[38;5;241m>\u001B[39m Data:\n\u001B[0;32m     38\u001B[0m \u001B[38;5;250m    \u001B[39m\u001B[38;5;124;03m\"\"\"\u001B[39;00m\n\u001B[0;32m     39\u001B[0m \u001B[38;5;124;03m    Load the Data object containing all required data to run a LUTO simulation.\u001B[39;00m\n\u001B[0;32m     40\u001B[0m \u001B[38;5;124;03m    \"\"\"\u001B[39;00m\n\u001B[1;32m---> 41\u001B[0m     \u001B[38;5;28;01mreturn\u001B[39;00m \u001B[43mData\u001B[49m\u001B[43m(\u001B[49m\u001B[43mtimestamp\u001B[49m\u001B[38;5;241;43m=\u001B[39;49m\u001B[43mtimestamp\u001B[49m\u001B[43m)\u001B[49m\n",
      "File \u001B[1;32mZ:\\LUF-Modelling\\LUTO2_XH\\LUTO2\\luto\\data.py:151\u001B[0m, in \u001B[0;36mData.__init__\u001B[1;34m(self, timestamp)\u001B[0m\n\u001B[0;32m    148\u001B[0m \u001B[38;5;28mself\u001B[39m\u001B[38;5;241m.\u001B[39mMASK_LU_CODE \u001B[38;5;241m=\u001B[39m \u001B[38;5;241m-\u001B[39m\u001B[38;5;241m1\u001B[39m\n\u001B[0;32m    150\u001B[0m \u001B[38;5;66;03m# Load LUMAP without resfactor\u001B[39;00m\n\u001B[1;32m--> 151\u001B[0m \u001B[38;5;28mself\u001B[39m\u001B[38;5;241m.\u001B[39mLUMAP_NO_RESFACTOR \u001B[38;5;241m=\u001B[39m \u001B[43mpd\u001B[49m\u001B[38;5;241;43m.\u001B[39;49m\u001B[43mread_hdf\u001B[49m\u001B[43m(\u001B[49m\u001B[43mos\u001B[49m\u001B[38;5;241;43m.\u001B[39;49m\u001B[43mpath\u001B[49m\u001B[38;5;241;43m.\u001B[39;49m\u001B[43mjoin\u001B[49m\u001B[43m(\u001B[49m\u001B[43mINPUT_DIR\u001B[49m\u001B[43m,\u001B[49m\u001B[43m \u001B[49m\u001B[38;5;124;43m\"\u001B[39;49m\u001B[38;5;124;43mlumap.h5\u001B[39;49m\u001B[38;5;124;43m\"\u001B[39;49m\u001B[43m)\u001B[49m\u001B[43m)\u001B[49m\u001B[38;5;241m.\u001B[39mto_numpy()                   \u001B[38;5;66;03m# 1D (ij flattend),  0-27 for land uses; -1 for non-agricultural land uses; All cells in Australia (land only)\u001B[39;00m\n\u001B[0;32m    153\u001B[0m \u001B[38;5;66;03m# NLUM mask.\u001B[39;00m\n\u001B[0;32m    154\u001B[0m \u001B[38;5;28;01mwith\u001B[39;00m rasterio\u001B[38;5;241m.\u001B[39mopen(os\u001B[38;5;241m.\u001B[39mpath\u001B[38;5;241m.\u001B[39mjoin(INPUT_DIR, \u001B[38;5;124m\"\u001B[39m\u001B[38;5;124mNLUM_2010-11_mask.tif\u001B[39m\u001B[38;5;124m\"\u001B[39m)) \u001B[38;5;28;01mas\u001B[39;00m rst:\n",
      "File \u001B[1;32mF:\\xinhao\\miniforge3\\envs\\luto\\Lib\\site-packages\\pandas\\io\\pytables.py:426\u001B[0m, in \u001B[0;36mread_hdf\u001B[1;34m(path_or_buf, key, mode, errors, where, start, stop, columns, iterator, chunksize, **kwargs)\u001B[0m\n\u001B[0;32m    423\u001B[0m \u001B[38;5;28;01mif\u001B[39;00m \u001B[38;5;129;01mnot\u001B[39;00m exists:\n\u001B[0;32m    424\u001B[0m     \u001B[38;5;28;01mraise\u001B[39;00m \u001B[38;5;167;01mFileNotFoundError\u001B[39;00m(\u001B[38;5;124mf\u001B[39m\u001B[38;5;124m\"\u001B[39m\u001B[38;5;124mFile \u001B[39m\u001B[38;5;132;01m{\u001B[39;00mpath_or_buf\u001B[38;5;132;01m}\u001B[39;00m\u001B[38;5;124m does not exist\u001B[39m\u001B[38;5;124m\"\u001B[39m)\n\u001B[1;32m--> 426\u001B[0m store \u001B[38;5;241m=\u001B[39m \u001B[43mHDFStore\u001B[49m\u001B[43m(\u001B[49m\u001B[43mpath_or_buf\u001B[49m\u001B[43m,\u001B[49m\u001B[43m \u001B[49m\u001B[43mmode\u001B[49m\u001B[38;5;241;43m=\u001B[39;49m\u001B[43mmode\u001B[49m\u001B[43m,\u001B[49m\u001B[43m \u001B[49m\u001B[43merrors\u001B[49m\u001B[38;5;241;43m=\u001B[39;49m\u001B[43merrors\u001B[49m\u001B[43m,\u001B[49m\u001B[43m \u001B[49m\u001B[38;5;241;43m*\u001B[39;49m\u001B[38;5;241;43m*\u001B[39;49m\u001B[43mkwargs\u001B[49m\u001B[43m)\u001B[49m\n\u001B[0;32m    427\u001B[0m \u001B[38;5;66;03m# can't auto open/close if we are using an iterator\u001B[39;00m\n\u001B[0;32m    428\u001B[0m \u001B[38;5;66;03m# so delegate to the iterator\u001B[39;00m\n\u001B[0;32m    429\u001B[0m auto_close \u001B[38;5;241m=\u001B[39m \u001B[38;5;28;01mTrue\u001B[39;00m\n",
      "File \u001B[1;32mF:\\xinhao\\miniforge3\\envs\\luto\\Lib\\site-packages\\pandas\\io\\pytables.py:566\u001B[0m, in \u001B[0;36mHDFStore.__init__\u001B[1;34m(self, path, mode, complevel, complib, fletcher32, **kwargs)\u001B[0m\n\u001B[0;32m    563\u001B[0m \u001B[38;5;28;01mif\u001B[39;00m \u001B[38;5;124m\"\u001B[39m\u001B[38;5;124mformat\u001B[39m\u001B[38;5;124m\"\u001B[39m \u001B[38;5;129;01min\u001B[39;00m kwargs:\n\u001B[0;32m    564\u001B[0m     \u001B[38;5;28;01mraise\u001B[39;00m \u001B[38;5;167;01mValueError\u001B[39;00m(\u001B[38;5;124m\"\u001B[39m\u001B[38;5;124mformat is not a defined argument for HDFStore\u001B[39m\u001B[38;5;124m\"\u001B[39m)\n\u001B[1;32m--> 566\u001B[0m tables \u001B[38;5;241m=\u001B[39m \u001B[43mimport_optional_dependency\u001B[49m\u001B[43m(\u001B[49m\u001B[38;5;124;43m\"\u001B[39;49m\u001B[38;5;124;43mtables\u001B[39;49m\u001B[38;5;124;43m\"\u001B[39;49m\u001B[43m)\u001B[49m\n\u001B[0;32m    568\u001B[0m \u001B[38;5;28;01mif\u001B[39;00m complib \u001B[38;5;129;01mis\u001B[39;00m \u001B[38;5;129;01mnot\u001B[39;00m \u001B[38;5;28;01mNone\u001B[39;00m \u001B[38;5;129;01mand\u001B[39;00m complib \u001B[38;5;129;01mnot\u001B[39;00m \u001B[38;5;129;01min\u001B[39;00m tables\u001B[38;5;241m.\u001B[39mfilters\u001B[38;5;241m.\u001B[39mall_complibs:\n\u001B[0;32m    569\u001B[0m     \u001B[38;5;28;01mraise\u001B[39;00m \u001B[38;5;167;01mValueError\u001B[39;00m(\n\u001B[0;32m    570\u001B[0m         \u001B[38;5;124mf\u001B[39m\u001B[38;5;124m\"\u001B[39m\u001B[38;5;124mcomplib only supports \u001B[39m\u001B[38;5;132;01m{\u001B[39;00mtables\u001B[38;5;241m.\u001B[39mfilters\u001B[38;5;241m.\u001B[39mall_complibs\u001B[38;5;132;01m}\u001B[39;00m\u001B[38;5;124m compression.\u001B[39m\u001B[38;5;124m\"\u001B[39m\n\u001B[0;32m    571\u001B[0m     )\n",
      "File \u001B[1;32mF:\\xinhao\\miniforge3\\envs\\luto\\Lib\\site-packages\\pandas\\compat\\_optional.py:138\u001B[0m, in \u001B[0;36mimport_optional_dependency\u001B[1;34m(name, extra, errors, min_version)\u001B[0m\n\u001B[0;32m    136\u001B[0m \u001B[38;5;28;01mexcept\u001B[39;00m \u001B[38;5;167;01mImportError\u001B[39;00m:\n\u001B[0;32m    137\u001B[0m     \u001B[38;5;28;01mif\u001B[39;00m errors \u001B[38;5;241m==\u001B[39m \u001B[38;5;124m\"\u001B[39m\u001B[38;5;124mraise\u001B[39m\u001B[38;5;124m\"\u001B[39m:\n\u001B[1;32m--> 138\u001B[0m         \u001B[38;5;28;01mraise\u001B[39;00m \u001B[38;5;167;01mImportError\u001B[39;00m(msg)\n\u001B[0;32m    139\u001B[0m     \u001B[38;5;28;01mreturn\u001B[39;00m \u001B[38;5;28;01mNone\u001B[39;00m\n\u001B[0;32m    141\u001B[0m \u001B[38;5;66;03m# Handle submodules: if we have submodule, grab parent module from sys.modules\u001B[39;00m\n",
      "\u001B[1;31mImportError\u001B[0m: Missing optional dependency 'pytables'.  Use pip or conda to install pytables."
     ]
    }
   ],
   "source": [
    "start_year = 2010\n",
    "end_year = 2012\n",
    "nums = [0]\n",
    "MODEs = ['timeseries', 'timeseries', 'timeseries', 'snapshot', 'snapshot', 'snapshot']\n",
    "RESFACTORs = [5, 3, 3, 1, 1, 1]\n",
    "GHGs = ['1.5C (67%) excl. avoided emis','1.5C (50%) excl. avoided emis','1.8C (67%) excl. avoided emis','1.5C (67%) excl. avoided emis','1.5C (50%) excl. avoided emis','1.8C (67%) excl. avoided emis']\n",
    "CARBON_PRICEs = [588,506,435,588,506,435]\n",
    "\n",
    "for i in nums:\n",
    "    print(f\"MODE = {MODEs[i]},RESFACTOR = {RESFACTORs[i]},GHGs = {GHGs[i]}\")\n",
    "\n",
    "    import luto.settings as settings\n",
    "    # if RESFACTORs[i] == 1:\n",
    "    #     settings.WRITE_OUTPUT_GEOTIFFS = True\n",
    "    # else:\n",
    "    #     settings.WRITE_OUTPUT_GEOTIFFS = False\n",
    "    settings.OBJECTIVE = 'mincost'\n",
    "    settings.MODE = MODEs[i]  # 'snapshot''timeseries'\n",
    "    settings.RESFACTOR = RESFACTORs[i]\n",
    "    settings.GHG_LIMITS_FIELD = GHGs[i]\n",
    "    # settings.CARBON_PRICE_PER_TONNE = CARBON_PRICEs[i]\n",
    "\n",
    "    import luto.simulation as sim\n",
    "    import luto.tools.write as write\n",
    "\n",
    "    data = sim.load_data()\n",
    "    sim.run(data=data, base=start_year, target=end_year)\n"
   ]
  },
  {
   "cell_type": "code",
   "execution_count": null,
   "outputs": [],
   "source": [
    "write.write_outputs(data)"
   ],
   "metadata": {
    "collapsed": false,
    "ExecuteTime": {
     "start_time": "2024-06-24T02:44:45.430650600Z"
    }
   },
   "id": "e16784aba6e99e2d"
  },
  {
   "cell_type": "code",
   "execution_count": null,
   "outputs": [],
   "source": [],
   "metadata": {
    "collapsed": false,
    "ExecuteTime": {
     "start_time": "2024-06-24T02:44:45.433650Z"
    }
   },
   "id": "793a6f4252333c33"
  }
 ],
 "metadata": {
  "kernelspec": {
   "display_name": "Python 3",
   "language": "python",
   "name": "python3"
  },
  "language_info": {
   "codemirror_mode": {
    "name": "ipython",
    "version": 2
   },
   "file_extension": ".py",
   "mimetype": "text/x-python",
   "name": "python",
   "nbconvert_exporter": "python",
   "pygments_lexer": "ipython2",
   "version": "2.7.6"
  }
 },
 "nbformat": 4,
 "nbformat_minor": 5
}
