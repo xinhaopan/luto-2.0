{
 "cells": [
  {
   "cell_type": "code",
   "execution_count": 3,
   "id": "initial_id",
   "metadata": {
    "collapsed": true,
    "ExecuteTime": {
     "end_time": "2025-09-17T05:56:56.878181700Z",
     "start_time": "2025-09-17T05:56:56.868147400Z"
    }
   },
   "outputs": [],
   "source": [
    "import xarray as xr"
   ]
  },
  {
   "cell_type": "code",
   "execution_count": 4,
   "outputs": [],
   "source": [
    "file_name =  [\n",
    "        'xr_cost_ag',\n",
    "        'xr_cost_agricultural_management',\n",
    "        'xr_cost_non_ag',\n",
    "        'xr_cost_transition_ag2ag_diff',\n",
    "        'xr_transition_cost_ag2non_ag_amortised_diff'\n",
    "    ]\n",
    "input_dir = r\"N:\\LUF-Modelling\\LUTO2_XH\\LUTO2\\output\\20250908_Paper2_Results_NCI\\carbon_price\\0_base_data\\carbon_high\\2050\""
   ],
   "metadata": {
    "collapsed": false,
    "ExecuteTime": {
     "end_time": "2025-09-17T05:56:57.513868500Z",
     "start_time": "2025-09-17T05:56:57.158503300Z"
    }
   },
   "id": "c7dec8d146f26b3d"
  },
  {
   "cell_type": "code",
   "execution_count": 9,
   "outputs": [
    {
     "name": "stdout",
     "output_type": "stream",
     "text": [
      "xr_cost_ag: 979266240.00\n",
      "xr_cost_agricultural_management: 1265681024.00\n",
      "xr_cost_non_ag: 731030784.00\n",
      "xr_cost_transition_ag2ag_diff: 728369280.00\n",
      "xr_transition_cost_ag2non_ag_amortised_diff: 2980467456.00\n"
     ]
    },
    {
     "data": {
      "text/plain": "6684814784.0"
     },
     "execution_count": 9,
     "metadata": {},
     "output_type": "execute_result"
    }
   ],
   "source": [
    "values = []\n",
    "for f in file_name:\n",
    "    da = xr.open_dataarray(f\"{input_dir}/{f}_carbon_high_2050.nc\")\n",
    "    value = da.sum(dim=[d for d in da.dims]).values \n",
    "    values.append(value)\n",
    "    print(f\"{f}: {value:.2f}\")\n",
    "sum(values)"
   ],
   "metadata": {
    "collapsed": false,
    "ExecuteTime": {
     "end_time": "2025-09-17T06:02:50.365834200Z",
     "start_time": "2025-09-17T06:00:32.583881900Z"
    }
   },
   "id": "45b8ac2355cefa80"
  },
  {
   "cell_type": "code",
   "execution_count": 11,
   "outputs": [],
   "source": [
    "total_sum_ds = None\n",
    "for f in file_name:\n",
    "    file_path = f\"{input_dir}/{f}_carbon_high_2050.nc\"\n",
    "    with xr.open_dataset(file_path,chunks='auto') as ds:\n",
    "        # 将除 'cell' 外的维度全部求和\n",
    "        sum_dims = [d for d in ds.dims if d != 'cell']\n",
    "        summed_single_ds = ds.sum(dim=sum_dims) if sum_dims else ds\n",
    "\n",
    "        if total_sum_ds is None:\n",
    "            total_sum_ds = summed_single_ds\n",
    "        else:\n",
    "            total_sum_ds = total_sum_ds + summed_single_ds"
   ],
   "metadata": {
    "collapsed": false,
    "ExecuteTime": {
     "end_time": "2025-09-17T06:03:26.464600600Z",
     "start_time": "2025-09-17T06:03:23.516763300Z"
    }
   },
   "id": "ac0180bda230120d"
  },
  {
   "cell_type": "code",
   "execution_count": 12,
   "outputs": [
    {
     "data": {
      "text/plain": "<bound method Mapping.values of <xarray.Dataset> Size: 4B\nDimensions:  ()\nData variables:\n    data     float32 4B dask.array<chunksize=(), meta=np.ndarray>>"
     },
     "execution_count": 12,
     "metadata": {},
     "output_type": "execute_result"
    }
   ],
   "source": [
    "total_sum_ds.sum().compute().values"
   ],
   "metadata": {
    "collapsed": false,
    "ExecuteTime": {
     "end_time": "2025-09-17T06:03:29.729171500Z",
     "start_time": "2025-09-17T06:03:29.678529200Z"
    }
   },
   "id": "926e436cd7f880a2"
  },
  {
   "cell_type": "code",
   "execution_count": null,
   "outputs": [],
   "source": [],
   "metadata": {
    "collapsed": false
   },
   "id": "f43683759a3bedf2"
  }
 ],
 "metadata": {
  "kernelspec": {
   "display_name": "Python 3",
   "language": "python",
   "name": "python3"
  },
  "language_info": {
   "codemirror_mode": {
    "name": "ipython",
    "version": 2
   },
   "file_extension": ".py",
   "mimetype": "text/x-python",
   "name": "python",
   "nbconvert_exporter": "python",
   "pygments_lexer": "ipython2",
   "version": "2.7.6"
  }
 },
 "nbformat": 4,
 "nbformat_minor": 5
}
