{
 "cells": [
  {
   "cell_type": "code",
   "execution_count": 4,
   "outputs": [],
   "source": [
    "import os\n",
    "import pandas as pd\n",
    "\n",
    "def find_missing_reports_by_col(A):\n",
    "    # 读取csv列名\n",
    "    csv_path = os.path.join(A, \"grid_search_template.csv\")\n",
    "    df = pd.read_csv(csv_path)\n",
    "    col_names = df.columns.tolist()\n",
    "\n",
    "    missing_cols = []\n",
    "    for col_name in col_names:\n",
    "        new_path = os.path.join(A, str(col_name))\n",
    "        zip_path = os.path.join(new_path, \"DATA_REPORT.zip\")\n",
    "        if not os.path.exists(zip_path):\n",
    "            missing_cols.append(col_name)\n",
    "    return missing_cols"
   ],
   "metadata": {
    "collapsed": false,
    "ExecuteTime": {
     "end_time": "2025-10-02T15:52:33.536220400Z",
     "start_time": "2025-10-02T15:52:33.287649400Z"
    }
   },
   "id": "1cac93ebf69d9ba"
  },
  {
   "cell_type": "code",
   "execution_count": 7,
   "outputs": [
    {
     "name": "stdout",
     "output_type": "stream",
     "text": [
      "['Name', 'Run_58_GBF2_high_CUT_20_CarbonPrice_89.23', 'Run_92_GBF2_off_CUT_50_CarbonPrice_178.46', 'Run_93_GBF2_off_CUT_50_CarbonPrice_233.07', 'Run_94_GBF2_off_CUT_50_CarbonPrice_267.69', 'Run_95_GBF2_off_CUT_50_CarbonPrice_312.3', 'Run_96_GBF2_off_CUT_50_CarbonPrice_356.92']\n"
     ]
    }
   ],
   "source": [
    "A = r\"output\\20251002_Cost_curve_task\"\n",
    "print(find_missing_reports_by_col(A))"
   ],
   "metadata": {
    "collapsed": false,
    "ExecuteTime": {
     "end_time": "2025-10-02T15:52:51.180024600Z",
     "start_time": "2025-10-02T15:52:50.003745700Z"
    }
   },
   "id": "eab9b909aec744aa"
  },
  {
   "cell_type": "code",
   "execution_count": null,
   "outputs": [],
   "source": [],
   "metadata": {
    "collapsed": false
   },
   "id": "6ce7b9859b1d9c7a"
  }
 ],
 "metadata": {
  "kernelspec": {
   "display_name": "Python 3",
   "language": "python",
   "name": "python3"
  },
  "language_info": {
   "codemirror_mode": {
    "name": "ipython",
    "version": 2
   },
   "file_extension": ".py",
   "mimetype": "text/x-python",
   "name": "python",
   "nbconvert_exporter": "python",
   "pygments_lexer": "ipython2",
   "version": "2.7.6"
  }
 },
 "nbformat": 4,
 "nbformat_minor": 5
}
